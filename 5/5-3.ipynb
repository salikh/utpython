{
 "cells": [
  {
   "cell_type": "markdown",
   "metadata": {
    "colab_type": "text",
    "id": "z_5wyy6mvymx"
   },
   "source": [
    "# 5-3. NumPyライブラリ\n",
    "NumPyについて説明します。\n",
    "\n",
    "参考\n",
    "- https://docs.scipy.org/doc/numpy/user/quickstart.html\n",
    "- https://docs.scipy.org/doc/numpy/user/basics.html\n",
    "\n",
    "**NumPy**とは、多次元配列を効率的に扱うライブラリです。\n",
    "Pythonの標準ライブラリではありませんが、科学技術計算や機械学習など、ベクトルや行列の演算が多用される分野では、事実上の標準ライブラリとしての地位を確立しています。\n",
    "\n",
    "NumPyを用いるには、まず、**`numpy`** モジュールをインポートする必要があります。\n",
    "慣習として、`np` と別名をつけて利用されます。"
   ]
  },
  {
   "cell_type": "code",
   "execution_count": null,
   "metadata": {
    "colab": {},
    "colab_type": "code",
    "id": "P3bRB8govym0"
   },
   "outputs": [],
   "source": [
    "import numpy as np"
   ]
  },
  {
   "cell_type": "markdown",
   "metadata": {
    "colab_type": "text",
    "id": "ue9sjoZevym5"
   },
   "source": [
    "NumPyでは、Python標準の数値やリストの代わりに、特別な数値や配列を用いることで、格段に効率的な配列演算を実現します。\n",
    "以下では、配列の基本的な操作や機能を説明します。"
   ]
  },
  {
   "cell_type": "markdown",
   "metadata": {
    "colab_type": "text",
    "id": "904_KCwQvym6"
   },
   "source": [
    "## 配列の構築\n",
    "\n",
    "**配列**とは、特定の型の値の並びです。\n",
    "**`numpy.array()`** 関数で構築できます。\n",
    "このとき、配列の要素はPython標準のリストやタプルで指定します。\n",
    "どちらを用いて作成しても全く同じ配列を作成できます。"
   ]
  },
  {
   "cell_type": "code",
   "execution_count": null,
   "metadata": {
    "colab": {
     "base_uri": "https://localhost:8080/",
     "height": 50
    },
    "colab_type": "code",
    "executionInfo": {
     "elapsed": 1100,
     "status": "ok",
     "timestamp": 1583485406870,
     "user": {
      "displayName": "Junichiro Mori",
      "photoUrl": "",
      "userId": "01008898198902510619"
     },
     "user_tz": -540
    },
    "id": "um2a6BoPvym7",
    "outputId": "723c8d90-ab46-433f-ea89-d1eabf628ffe"
   },
   "outputs": [],
   "source": [
    "a = np.array([1,2,3]) # リストから配列作成\n",
    "print(a)\n",
    "b = np.array((1,2,3)) # タプルからの配列作成\n",
    "print(b)"
   ]
  },
  {
   "cell_type": "markdown",
   "metadata": {
    "colab_type": "text",
    "id": "gpoLKTgkvym_"
   },
   "source": [
    "`print` の結果はリストと似ていますが、要素が `,` ではなく空白で区切られているに注意してください。\n",
    "`print` ではなく、式の評価結果の場合、より違いが明示されます。"
   ]
  },
  {
   "cell_type": "code",
   "execution_count": null,
   "metadata": {
    "colab": {
     "base_uri": "https://localhost:8080/",
     "height": 34
    },
    "colab_type": "code",
    "executionInfo": {
     "elapsed": 1273,
     "status": "ok",
     "timestamp": 1583485414360,
     "user": {
      "displayName": "Junichiro Mori",
      "photoUrl": "",
      "userId": "01008898198902510619"
     },
     "user_tz": -540
    },
    "id": "tIjB6UpMvynA",
    "outputId": "e73aedc5-3de5-4e19-e4c7-100bb152b4eb"
   },
   "outputs": [],
   "source": [
    "a"
   ]
  },
  {
   "cell_type": "markdown",
   "metadata": {
    "colab_type": "text",
    "id": "lRdmJUECvynD"
   },
   "source": [
    "配列は **`numpy.ndarray`** というデータ型によって実現されています。\n",
    "組み込み関数 `type()` を使うと、データ型を調べられます。"
   ]
  },
  {
   "cell_type": "code",
   "execution_count": null,
   "metadata": {
    "colab": {
     "base_uri": "https://localhost:8080/",
     "height": 34
    },
    "colab_type": "code",
    "executionInfo": {
     "elapsed": 1146,
     "status": "ok",
     "timestamp": 1583485419363,
     "user": {
      "displayName": "Junichiro Mori",
      "photoUrl": "",
      "userId": "01008898198902510619"
     },
     "user_tz": -540
    },
    "id": "CQD8e6RNvynE",
    "outputId": "f5927cd3-903f-4aa7-d7a5-2f8d53a02d21"
   },
   "outputs": [],
   "source": [
    "type(np.array([1,2,3,4,5])) # 配列の型 "
   ]
  },
  {
   "cell_type": "code",
   "execution_count": null,
   "metadata": {
    "colab": {},
    "colab_type": "code",
    "id": "Y0ey4qS7vynI"
   },
   "outputs": [],
   "source": [
    "type([1,2,3,4,5])"
   ]
  },
  {
   "cell_type": "markdown",
   "metadata": {
    "colab_type": "text",
    "id": "xqep86dYvynM"
   },
   "source": [
    "`array()` が、リストではなく `ndarray` を返していることがわかります。\n",
    "\n",
    "### 要素型\n",
    "\n",
    "配列の要素を構成する値には幾つかの型がありますが、次の4つの型を知っていればとりあえずは十分です。\n",
    "\n",
    "| 型名       | 説明           |\n",
    "|---         |---             |\n",
    "| **`numpy.int32`**      | 整数（32-bit）を表す型   |\n",
    "| **`numpy.float64`**    | 実数（64-bit）を表す型   |\n",
    "| **`numpy.complex128`** | 複素数（64-bit実数の組）を表す型 |\n",
    "| **`numpy.bool`**       | 真理値を表す型 |\n",
    "\n",
    "配列は、リストと異なり、型の異なる要素を混在させることはできません。\n",
    "\n",
    "`array()` の `dtype` 引数に、要素型を表すオブジェクトや文字列値を与えることで、指定された要素型の配列を構築できます。"
   ]
  },
  {
   "cell_type": "code",
   "execution_count": null,
   "metadata": {
    "colab": {
     "base_uri": "https://localhost:8080/",
     "height": 34
    },
    "colab_type": "code",
    "executionInfo": {
     "elapsed": 715,
     "status": "ok",
     "timestamp": 1583485428053,
     "user": {
      "displayName": "Junichiro Mori",
      "photoUrl": "",
      "userId": "01008898198902510619"
     },
     "user_tz": -540
    },
    "id": "PAqwh5nMvynN",
    "outputId": "337cbe03-7735-499f-a63d-298d6fc50280"
   },
   "outputs": [],
   "source": [
    "print(np.array([-1,0,1], dtype=np.int32)) # np.int32の代わりに'int32'でも同じ"
   ]
  },
  {
   "cell_type": "markdown",
   "metadata": {
    "colab_type": "text",
    "id": "CK8qhu7qvynQ"
   },
   "source": [
    "実数には、小数点が付与されて印字されます。"
   ]
  },
  {
   "cell_type": "code",
   "execution_count": null,
   "metadata": {
    "colab": {
     "base_uri": "https://localhost:8080/",
     "height": 34
    },
    "colab_type": "code",
    "executionInfo": {
     "elapsed": 744,
     "status": "ok",
     "timestamp": 1583485430835,
     "user": {
      "displayName": "Junichiro Mori",
      "photoUrl": "",
      "userId": "01008898198902510619"
     },
     "user_tz": -540
    },
    "id": "yxMAesRtvynR",
    "outputId": "1ea86991-6d5a-409b-f296-49dcd041f87c"
   },
   "outputs": [],
   "source": [
    "print(np.array([-1,0,1], dtype=np.float64)) # np.float64の代わりに'float64'でも同じ"
   ]
  },
  {
   "cell_type": "markdown",
   "metadata": {
    "colab_type": "text",
    "id": "A2m_qB74vynU"
   },
   "source": [
    "複素数は実部と虚部を表す実数の組であり、虚部には `j` が付与されて印字されます。"
   ]
  },
  {
   "cell_type": "code",
   "execution_count": null,
   "metadata": {
    "colab": {
     "base_uri": "https://localhost:8080/",
     "height": 34
    },
    "colab_type": "code",
    "executionInfo": {
     "elapsed": 773,
     "status": "ok",
     "timestamp": 1583485433767,
     "user": {
      "displayName": "Junichiro Mori",
      "photoUrl": "",
      "userId": "01008898198902510619"
     },
     "user_tz": -540
    },
    "id": "pIy-HbL0vynV",
    "outputId": "1f29e757-28b2-4847-b66a-57418b2ee927"
   },
   "outputs": [],
   "source": [
    "print(np.array([-1,0,1], dtype=np.complex128)) # np.complex128の代わりに'complex128'でも同じ"
   ]
  },
  {
   "cell_type": "markdown",
   "metadata": {
    "colab_type": "text",
    "id": "h8zYW1yqvynY"
   },
   "source": [
    "数値から真理値への変換では、0 が `False` で、0 以外が `True` になります。"
   ]
  },
  {
   "cell_type": "code",
   "execution_count": null,
   "metadata": {
    "colab": {
     "base_uri": "https://localhost:8080/",
     "height": 34
    },
    "colab_type": "code",
    "executionInfo": {
     "elapsed": 858,
     "status": "ok",
     "timestamp": 1583485437404,
     "user": {
      "displayName": "Junichiro Mori",
      "photoUrl": "",
      "userId": "01008898198902510619"
     },
     "user_tz": -540
    },
    "id": "NP4mNas4vynZ",
    "outputId": "22380367-cf85-462a-d019-00ecc6ce2cb0"
   },
   "outputs": [],
   "source": [
    "print(np.array([-1,0,1], dtype=np.bool)) # np.boolの代わりに'bool'でも同じ"
   ]
  },
  {
   "cell_type": "markdown",
   "metadata": {
    "colab_type": "text",
    "id": "Lqj3mrYZvync"
   },
   "source": [
    "### 多次元配列\n",
    "\n",
    "**多次元配列**は、配列の中に配列がある入れ子の配列です。\n",
    "入れ子のリストやタプルを `numpy.array()` に渡すことで構築できます。"
   ]
  },
  {
   "cell_type": "code",
   "execution_count": null,
   "metadata": {
    "colab": {
     "base_uri": "https://localhost:8080/",
     "height": 50
    },
    "colab_type": "code",
    "executionInfo": {
     "elapsed": 669,
     "status": "ok",
     "timestamp": 1583485442160,
     "user": {
      "displayName": "Junichiro Mori",
      "photoUrl": "",
      "userId": "01008898198902510619"
     },
     "user_tz": -540
    },
    "id": "qAzbjEkVvynd",
    "outputId": "69836bd2-7bd1-443e-e6da-79c15cbeccd0"
   },
   "outputs": [],
   "source": [
    "print(np.array([[1,2],[3,4]])) # 2次元配列の構築"
   ]
  },
  {
   "cell_type": "code",
   "execution_count": null,
   "metadata": {
    "colab": {
     "base_uri": "https://localhost:8080/",
     "height": 101
    },
    "colab_type": "code",
    "executionInfo": {
     "elapsed": 718,
     "status": "ok",
     "timestamp": 1583485447886,
     "user": {
      "displayName": "Junichiro Mori",
      "photoUrl": "",
      "userId": "01008898198902510619"
     },
     "user_tz": -540
    },
    "id": "EjCoYLn0vyng",
    "outputId": "204bf4c7-55a7-4806-faaa-84ccbc669f66"
   },
   "outputs": [],
   "source": [
    "print(np.array([[[1,2],[3,4]],[[5,6],[7,8]]])) # 3次元配列の構築"
   ]
  },
  {
   "cell_type": "markdown",
   "metadata": {
    "colab_type": "text",
    "id": "yEdP8gi9vyni"
   },
   "source": [
    "上の例からわかるように、2次元配列は行列のように、3次元配列は行列の配列のように印字されます。\n",
    "\n",
    "多次元配列は、要素となる配列の長さが等しいことが想定されます。\n",
    "つまり、2次元配列は、行列のように各行の長さが等しくなければなりません。"
   ]
  },
  {
   "cell_type": "code",
   "execution_count": null,
   "metadata": {
    "colab": {
     "base_uri": "https://localhost:8080/",
     "height": 34
    },
    "colab_type": "code",
    "executionInfo": {
     "elapsed": 781,
     "status": "ok",
     "timestamp": 1583485478126,
     "user": {
      "displayName": "Junichiro Mori",
      "photoUrl": "",
      "userId": "01008898198902510619"
     },
     "user_tz": -540
    },
    "id": "zIiHTM4Gvynj",
    "outputId": "2142196b-ba44-4300-989a-8867bbbee646"
   },
   "outputs": [],
   "source": [
    "print(np.array([[1,2],[3]])) # 行の長さが異なる場合"
   ]
  },
  {
   "cell_type": "markdown",
   "metadata": {
    "colab_type": "text",
    "id": "GnBnpiQ9vyno"
   },
   "source": [
    "このように行の長さが異なる場合は、多次元配列とは見做されず、リストの配列と見做されます。\n",
    "本教材では、このようなデータは扱いません。\n",
    "\n",
    "多次元配列の各次元の長さの組を、多次元配列の**形** (shape) と呼びます。\n",
    "特に2次元配列の場合、行列と同様に、行数（内側にある配列の数）と列数（内側にある配列の要素数）の組を使って、行数×列数で形を表記します。\n",
    "\n",
    "1次元配列に対して **`reshape()`** メソッドを使うと、引数で指定された形の多次元配列に変換することができます。"
   ]
  },
  {
   "cell_type": "code",
   "execution_count": null,
   "metadata": {
    "colab": {
     "base_uri": "https://localhost:8080/",
     "height": 50
    },
    "colab_type": "code",
    "executionInfo": {
     "elapsed": 621,
     "status": "ok",
     "timestamp": 1583485488858,
     "user": {
      "displayName": "Junichiro Mori",
      "photoUrl": "",
      "userId": "01008898198902510619"
     },
     "user_tz": -540
    },
    "id": "6JfEDaWJvynp",
    "outputId": "231bdd44-5944-4b77-dbff-9f35583e8fd3"
   },
   "outputs": [],
   "source": [
    "a1 = np.array([0, 1, 2, 3, 4, 5]) # 1次元配列\n",
    "a2 = a1.reshape(2,3)              # 2×3の2次元配列\n",
    "a2"
   ]
  },
  {
   "cell_type": "markdown",
   "metadata": {
    "colab_type": "text",
    "id": "ATW6PTXmvyns"
   },
   "source": [
    "ここで、`reshape()` を適用する前後の配列（ここでは `a1` と `a2`）は、内部的にデータを共有していることに注意してください。\n",
    "つまり、`a1` の要素を更新すると、`a2` にも影響を及ぼします。"
   ]
  },
  {
   "cell_type": "code",
   "execution_count": null,
   "metadata": {
    "colab": {
     "base_uri": "https://localhost:8080/",
     "height": 67
    },
    "colab_type": "code",
    "executionInfo": {
     "elapsed": 579,
     "status": "ok",
     "timestamp": 1583485495573,
     "user": {
      "displayName": "Junichiro Mori",
      "photoUrl": "",
      "userId": "01008898198902510619"
     },
     "user_tz": -540
    },
    "id": "RPJ8R_Gfvynt",
    "outputId": "06f9d42a-f7df-4c57-e917-1eab67f03892"
   },
   "outputs": [],
   "source": [
    "a1[1] = 6\n",
    "print(a1)\n",
    "print(a2)"
   ]
  },
  {
   "cell_type": "markdown",
   "metadata": {
    "colab_type": "text",
    "id": "N7ycDYTVvynw"
   },
   "source": [
    "**`ravel()`** メソッドを使うと、多次元配列を1次元配列に戻すことができます。"
   ]
  },
  {
   "cell_type": "code",
   "execution_count": null,
   "metadata": {
    "colab": {
     "base_uri": "https://localhost:8080/",
     "height": 67
    },
    "colab_type": "code",
    "executionInfo": {
     "elapsed": 599,
     "status": "ok",
     "timestamp": 1583485499973,
     "user": {
      "displayName": "Junichiro Mori",
      "photoUrl": "",
      "userId": "01008898198902510619"
     },
     "user_tz": -540
    },
    "id": "-y4XebsIvynx",
    "outputId": "acf6ac60-4151-4931-e993-aee4a44d86b8"
   },
   "outputs": [],
   "source": [
    "a = np.array([0, 1, 2, 3, 4, 5]).reshape(2,3)\n",
    "print(a)\n",
    "print(a.ravel())"
   ]
  },
  {
   "cell_type": "markdown",
   "metadata": {
    "colab_type": "text",
    "id": "njnHWOzAvyn0"
   },
   "source": [
    "`ravel()`の結果も、`reshape()`と同様に、元の配列と要素を共有します。"
   ]
  },
  {
   "cell_type": "code",
   "execution_count": null,
   "metadata": {
    "colab": {
     "base_uri": "https://localhost:8080/",
     "height": 34
    },
    "colab_type": "code",
    "executionInfo": {
     "elapsed": 642,
     "status": "ok",
     "timestamp": 1583485512544,
     "user": {
      "displayName": "Junichiro Mori",
      "photoUrl": "",
      "userId": "01008898198902510619"
     },
     "user_tz": -540
    },
    "id": "XGxxvfrwvyn1",
    "outputId": "03d1aeaf-f44a-4862-a63f-486fe2b981ef"
   },
   "outputs": [],
   "source": [
    "elems = np.array([0, 1, 2, 3, 4, 5])\n",
    "a = elems.reshape(2,3).ravel() # ravel()は要素をelemsと共有\n",
    "elems[1] = 6\n",
    "print(a)"
   ]
  },
  {
   "cell_type": "markdown",
   "metadata": {
    "colab_type": "text",
    "id": "MNU4WBJWvyn6"
   },
   "source": [
    "尚、要素をコピーして変換する **`flatten()`** メソッドもありますが、コピーしない `ravel()` の方が効率的です。"
   ]
  },
  {
   "cell_type": "markdown",
   "metadata": {
    "colab_type": "text",
    "id": "TcopXws1vyn7"
   },
   "source": [
    "### ▲**配列のデータ属性**\n",
    "\n",
    "配列はオブジェクトであり、その配列に関する様々な情報を属性として保持します。\n",
    "配列が持つ代表的なデータ属性（メソッド以外の属性）を次の表にまとめます。\n",
    "\n",
    "| 属性 | 意味 |\n",
    "|---   |---   |\n",
    "| `a.dtype` | 配列`a`の要素型 |\n",
    "| `a.shape` | 配列`a`の形（各次元の長さのタプル）|\n",
    "| `a.ndim` | 配列`a`の次元数（`len(a.shape)`と等しい）|\n",
    "| `a.size` | 配列`a`の要素数（`a.shape`の総乗と等しい）|\n",
    "| `a.flat` | 配列`a`の1次元表現（`a.ravel()`と等しい）|\n",
    "| `a.T` | 配列`a`を転置した配列（`a`と要素を共有）|"
   ]
  },
  {
   "cell_type": "markdown",
   "metadata": {
    "colab_type": "text",
    "id": "Szu4RZHyvyn8"
   },
   "source": [
    "## 配列要素を生成する構築関数\n",
    "\n",
    "要素を生成して配列を構築する代表的な関数を紹介します。\n",
    "特に断りが無い場合、ここで紹介する関数は、`array()` と同様に `dtype` 引数で要素型を指定可能です。\n",
    "\n",
    "### `arange`\n",
    "\n",
    "**`numpy.arange()`** は、組み込み関数 `range()` の配列版です（`arange` はarray rangeの略）。\n",
    "開始値・終了値・刻み幅を引数にとります。\n",
    "デフォルトの開始値は0、刻み幅は1です。\n",
    "`range()` と違って、引数の値は整数に限定されません。\n"
   ]
  },
  {
   "cell_type": "code",
   "execution_count": null,
   "metadata": {
    "colab": {
     "base_uri": "https://localhost:8080/",
     "height": 50
    },
    "colab_type": "code",
    "executionInfo": {
     "elapsed": 650,
     "status": "ok",
     "timestamp": 1583485545290,
     "user": {
      "displayName": "Junichiro Mori",
      "photoUrl": "",
      "userId": "01008898198902510619"
     },
     "user_tz": -540
    },
    "id": "YlErlUFKvyn9",
    "outputId": "a6f1e062-fc99-4503-f727-254da1642134"
   },
   "outputs": [],
   "source": [
    "print(np.arange(3)) # range(3)に対応する配列\n",
    "print(np.arange(0, 1, 0.2)) # 0を開始値として0.2刻みで1未満の要素を生成"
   ]
  },
  {
   "cell_type": "markdown",
   "metadata": {
    "colab_type": "text",
    "id": "CacDD-OJvyoA"
   },
   "source": [
    "### `linspace`\n",
    "**`numpy.linspace()`**関数は、範囲を等分割した値からなる配列を生成します。\n",
    "第1引数と第2引数には、それぞれ範囲の開始値と終了値、第3引数には分割数を指定します。"
   ]
  },
  {
   "cell_type": "code",
   "execution_count": null,
   "metadata": {
    "colab": {
     "base_uri": "https://localhost:8080/",
     "height": 34
    },
    "colab_type": "code",
    "executionInfo": {
     "elapsed": 700,
     "status": "ok",
     "timestamp": 1583485554820,
     "user": {
      "displayName": "Junichiro Mori",
      "photoUrl": "",
      "userId": "01008898198902510619"
     },
     "user_tz": -540
    },
    "id": "b1q022LHvyoB",
    "outputId": "ee13376d-6048-4403-bdee-5cbcdaa410ae"
   },
   "outputs": [],
   "source": [
    "print(np.linspace(0, 1, 4)) # 0から1の値を4分割した値を要素に持つ配列"
   ]
  },
  {
   "cell_type": "markdown",
   "metadata": {
    "colab_type": "text",
    "id": "papiPOMovyoF"
   },
   "source": [
    "### `zeros` と `ones`\n",
    "**`numpy.zeros()`** 関数は、0 からなる配列を生成します。\n",
    "同様に、**`numpy.ones()`** 関数は、1 からなる配列を生成します。\n",
    "どちらも、生成される形を第1引数に取ります。\n",
    "デフォルトの要素型は、実数です。"
   ]
  },
  {
   "cell_type": "code",
   "execution_count": null,
   "metadata": {
    "colab": {
     "base_uri": "https://localhost:8080/",
     "height": 118
    },
    "colab_type": "code",
    "executionInfo": {
     "elapsed": 596,
     "status": "ok",
     "timestamp": 1583485562784,
     "user": {
      "displayName": "Junichiro Mori",
      "photoUrl": "",
      "userId": "01008898198902510619"
     },
     "user_tz": -540
    },
    "id": "A7CcBofIvyoG",
    "outputId": "df2e9a1d-332d-4038-dae3-d8363065adcb"
   },
   "outputs": [],
   "source": [
    "print(np.zeros(4))     # 長さ4の1次元配列\n",
    "print(np.zeros((2,3))) # 2×3の2次元配列を生成\n",
    "print(np.ones(4))     # 長さ4の1次元配列\n",
    "print(np.ones((2,3))) # 2×3の2次元配列を生成"
   ]
  },
  {
   "cell_type": "markdown",
   "metadata": {
    "colab_type": "text",
    "id": "cLz5WdVnvyoJ"
   },
   "source": [
    "### `random.rand`\n",
    "**`numpy.random.rand()`** 関数は、0 以上 1 未満の乱数からなる配列を生成します。\n",
    "引数には生成される配列の形を指定します。\n",
    "要素型は実数に限定されます。"
   ]
  },
  {
   "cell_type": "code",
   "execution_count": null,
   "metadata": {
    "colab": {},
    "colab_type": "code",
    "id": "iVDeaFcTvyoJ"
   },
   "outputs": [],
   "source": [
    "print(np.random.rand(4))   # 長さ4の1次元配列\n",
    "print(np.random.rand(2,3)) # 2×3の2次元配列を生成"
   ]
  },
  {
   "cell_type": "markdown",
   "metadata": {
    "colab_type": "text",
    "id": "j4ACcy11vyoM"
   },
   "source": [
    "この他にも、**`numpy.random.randn()`**・**`numpy.random.binomial()`**・**`numpy.random.poisson()`** は、それぞれ、正規分布・二項分布・ポアソン分布の乱数からなる配列を生成します。"
   ]
  },
  {
   "cell_type": "markdown",
   "metadata": {
    "colab_type": "text",
    "id": "VQYGhdNUvyoN"
   },
   "source": [
    "## 練習\n",
    "\n",
    "引数に整数 $n$ を取り、$i$ から始まる連番の整数からなる配列を$i$番目 ($i\\ge 0$) の行として持つ $n\\times n$ の2次元配列を返す関数 `range_square_matrix()` を、`arange()` を用いて定義してください。\n",
    "\n",
    "たとえば、`range_square_matrix(3)`は、\n",
    "```\n",
    "[[0 1 2]\n",
    " [1 2 3]\n",
    " [2 3 4]]\n",
    "```\n",
    "と印字されるような2次元配列を返します。"
   ]
  },
  {
   "cell_type": "markdown",
   "metadata": {
    "colab_type": "text",
    "id": "C5zt62zxvyoP"
   },
   "source": [
    "## 配列要素の操作\n",
    "\n",
    "### インデックスアクセス\n",
    "\n",
    "配列の要素には、リストの場合と同様に、0 から始まるインデックスを使ってアクセスできます。\n",
    "リストと同じく、配列の先頭要素のインデックスは 0、最後の要素のインデックスは -1 となります。"
   ]
  },
  {
   "cell_type": "code",
   "execution_count": null,
   "metadata": {
    "colab": {
     "base_uri": "https://localhost:8080/",
     "height": 34
    },
    "colab_type": "code",
    "executionInfo": {
     "elapsed": 841,
     "status": "ok",
     "timestamp": 1583485594370,
     "user": {
      "displayName": "Junichiro Mori",
      "photoUrl": "",
      "userId": "01008898198902510619"
     },
     "user_tz": -540
    },
    "id": "R_7NinmCvyoQ",
    "outputId": "c9274db1-435e-4be4-9c2a-affd54d7c303"
   },
   "outputs": [],
   "source": [
    "a = np.arange(3)\n",
    "print(a)"
   ]
  },
  {
   "cell_type": "code",
   "execution_count": null,
   "metadata": {
    "colab": {
     "base_uri": "https://localhost:8080/",
     "height": 34
    },
    "colab_type": "code",
    "executionInfo": {
     "elapsed": 671,
     "status": "ok",
     "timestamp": 1583485596618,
     "user": {
      "displayName": "Junichiro Mori",
      "photoUrl": "",
      "userId": "01008898198902510619"
     },
     "user_tz": -540
    },
    "id": "D8ssuVylvyoV",
    "outputId": "2b1fda02-5706-4b05-872d-3a1c440f0960"
   },
   "outputs": [],
   "source": [
    "a[0]"
   ]
  },
  {
   "cell_type": "code",
   "execution_count": null,
   "metadata": {
    "colab": {
     "base_uri": "https://localhost:8080/",
     "height": 34
    },
    "colab_type": "code",
    "executionInfo": {
     "elapsed": 738,
     "status": "ok",
     "timestamp": 1583485599029,
     "user": {
      "displayName": "Junichiro Mori",
      "photoUrl": "",
      "userId": "01008898198902510619"
     },
     "user_tz": -540
    },
    "id": "MczjruZpvyoY",
    "outputId": "b6bdec60-0159-4a85-b586-c4272cd0c976"
   },
   "outputs": [],
   "source": [
    "a[-1]"
   ]
  },
  {
   "cell_type": "code",
   "execution_count": null,
   "metadata": {
    "colab": {
     "base_uri": "https://localhost:8080/",
     "height": 34
    },
    "colab_type": "code",
    "executionInfo": {
     "elapsed": 476,
     "status": "ok",
     "timestamp": 1583485600850,
     "user": {
      "displayName": "Junichiro Mori",
      "photoUrl": "",
      "userId": "01008898198902510619"
     },
     "user_tz": -540
    },
    "id": "VzUQiL0svyoc",
    "outputId": "719ef937-0ce6-4689-b03e-2ec0a596ce56"
   },
   "outputs": [],
   "source": [
    "a[-1] = 3 # 要素への代入もできる\n",
    "print(a)"
   ]
  },
  {
   "cell_type": "markdown",
   "metadata": {
    "colab_type": "text",
    "id": "i-Db78C7vyok"
   },
   "source": [
    "多次元配列では、高次元（入れ子の外側）から順にインデックスを指定します。\n",
    "特に2次元配列、すなわち行列の場合は、行インデックスと列インデックスを順に指定します。"
   ]
  },
  {
   "cell_type": "code",
   "execution_count": null,
   "metadata": {
    "colab": {
     "base_uri": "https://localhost:8080/",
     "height": 50
    },
    "colab_type": "code",
    "executionInfo": {
     "elapsed": 889,
     "status": "ok",
     "timestamp": 1583485608063,
     "user": {
      "displayName": "Junichiro Mori",
      "photoUrl": "",
      "userId": "01008898198902510619"
     },
     "user_tz": -540
    },
    "id": "uecfT9dgvyol",
    "outputId": "581896c8-d343-4bf5-a390-bedac1086563"
   },
   "outputs": [],
   "source": [
    "a = np.arange(6).reshape(2,3)\n",
    "print(a)"
   ]
  },
  {
   "cell_type": "code",
   "execution_count": null,
   "metadata": {
    "colab": {
     "base_uri": "https://localhost:8080/",
     "height": 34
    },
    "colab_type": "code",
    "executionInfo": {
     "elapsed": 1004,
     "status": "ok",
     "timestamp": 1583485618732,
     "user": {
      "displayName": "Junichiro Mori",
      "photoUrl": "",
      "userId": "01008898198902510619"
     },
     "user_tz": -540
    },
    "id": "KlipKf-mvyoo",
    "outputId": "f50f60dd-0b2d-41f7-b0c0-e9d85ecf3318"
   },
   "outputs": [],
   "source": [
    "a[1,2] # 行と列のインデックスをまとめて指定"
   ]
  },
  {
   "cell_type": "code",
   "execution_count": null,
   "metadata": {
    "colab": {
     "base_uri": "https://localhost:8080/",
     "height": 50
    },
    "colab_type": "code",
    "executionInfo": {
     "elapsed": 626,
     "status": "ok",
     "timestamp": 1583485620916,
     "user": {
      "displayName": "Junichiro Mori",
      "photoUrl": "",
      "userId": "01008898198902510619"
     },
     "user_tz": -540
    },
    "id": "jBbAp_Vbvyoq",
    "outputId": "ade9ed81-75b0-4dc7-ecc2-4a3ae5d2bf26"
   },
   "outputs": [],
   "source": [
    "a[1,2] = 6 # 要素への代入もできる\n",
    "print(a)"
   ]
  },
  {
   "cell_type": "markdown",
   "metadata": {
    "colab_type": "text",
    "id": "jh9fQmhuvyou"
   },
   "source": [
    "### スライス\n",
    "\n",
    "リストと同様に、配列のスライスを構築できます。"
   ]
  },
  {
   "cell_type": "code",
   "execution_count": null,
   "metadata": {
    "colab": {
     "base_uri": "https://localhost:8080/",
     "height": 118
    },
    "colab_type": "code",
    "executionInfo": {
     "elapsed": 761,
     "status": "ok",
     "timestamp": 1583485628088,
     "user": {
      "displayName": "Junichiro Mori",
      "photoUrl": "",
      "userId": "01008898198902510619"
     },
     "user_tz": -540
    },
    "id": "WNmrihidvyov",
    "outputId": "defa0334-30cb-41d7-f779-e51b1eab8734"
   },
   "outputs": [],
   "source": [
    "a = np.arange(5)\n",
    "print(a)\n",
    "print(a[1:4])\n",
    "print(a[1:])\n",
    "print(a[:-2])\n",
    "print(a[::2])\n",
    "print(a[::-1])"
   ]
  },
  {
   "cell_type": "markdown",
   "metadata": {
    "colab_type": "text",
    "id": "tZetM044vyox"
   },
   "source": [
    "配列のスライスに対して代入すると、右辺の値がコピーされて、スライス元の配列にまとめて代入されます。"
   ]
  },
  {
   "cell_type": "code",
   "execution_count": null,
   "metadata": {
    "colab": {
     "base_uri": "https://localhost:8080/",
     "height": 67
    },
    "colab_type": "code",
    "executionInfo": {
     "elapsed": 593,
     "status": "ok",
     "timestamp": 1583485635478,
     "user": {
      "displayName": "Junichiro Mori",
      "photoUrl": "",
      "userId": "01008898198902510619"
     },
     "user_tz": -540
    },
    "id": "tDcxch8Bvyoy",
    "outputId": "7d0ec13b-1529-4d80-875f-b0aa63d51572"
   },
   "outputs": [],
   "source": [
    "a = np.arange(5)\n",
    "print(a)\n",
    "a[1:4] = 6\n",
    "print(a)\n",
    "a = np.arange(5)\n",
    "a[::2] = 6\n",
    "print(a)"
   ]
  },
  {
   "cell_type": "markdown",
   "metadata": {
    "colab_type": "text",
    "id": "CfRZa4xcvyo1"
   },
   "source": [
    "このようなスライスに対する代入の振舞いは、リストの場合と異なることに注意してください。\n",
    "\n",
    "多次元配列に対しては、インデックスアクセスと同様に、高い次元のスライスから順に並べて指定します。"
   ]
  },
  {
   "cell_type": "code",
   "execution_count": null,
   "metadata": {
    "colab": {
     "base_uri": "https://localhost:8080/",
     "height": 134
    },
    "colab_type": "code",
    "executionInfo": {
     "elapsed": 602,
     "status": "ok",
     "timestamp": 1583485658910,
     "user": {
      "displayName": "Junichiro Mori",
      "photoUrl": "",
      "userId": "01008898198902510619"
     },
     "user_tz": -540
    },
    "id": "7MpgkvfXvyo2",
    "outputId": "275feb83-7f4c-4f65-fa22-f99326400940"
   },
   "outputs": [],
   "source": [
    "a = np.arange(9).reshape(3,3)\n",
    "print(a)\n",
    "print(a[:2,:2])\n",
    "print(a[1:,1:])"
   ]
  },
  {
   "cell_type": "markdown",
   "metadata": {
    "colab_type": "text",
    "id": "o7v6J9YCvyo4"
   },
   "source": [
    "多次元配列に対するスライスは、入れ子リストに対するスライスとは意味が異なることに注意してください。"
   ]
  },
  {
   "cell_type": "markdown",
   "metadata": {
    "colab_type": "text",
    "id": "2V1oB0OQvyo5"
   },
   "source": [
    "### for文\n",
    "\n",
    "リストと同様に、for文を用いて、配列要素への反復処理を記述できます。"
   ]
  },
  {
   "cell_type": "code",
   "execution_count": null,
   "metadata": {
    "colab": {
     "base_uri": "https://localhost:8080/",
     "height": 67
    },
    "colab_type": "code",
    "executionInfo": {
     "elapsed": 790,
     "status": "ok",
     "timestamp": 1583485687439,
     "user": {
      "displayName": "Junichiro Mori",
      "photoUrl": "",
      "userId": "01008898198902510619"
     },
     "user_tz": -540
    },
    "id": "vbYPqJzWvyo5",
    "outputId": "54691284-8bc4-416b-8e54-8df2a21f015f"
   },
   "outputs": [],
   "source": [
    "for v in np.arange(3):\n",
    "    print(v)"
   ]
  },
  {
   "cell_type": "markdown",
   "metadata": {
    "colab_type": "text",
    "id": "Ny_jtDzTvyo7"
   },
   "source": [
    "多次元配列の場合は、最外の配列に対して反復します。\n",
    "つまり、2次元配列の場合、行の配列に対する反復処理となります。"
   ]
  },
  {
   "cell_type": "code",
   "execution_count": null,
   "metadata": {
    "colab": {
     "base_uri": "https://localhost:8080/",
     "height": 50
    },
    "colab_type": "code",
    "executionInfo": {
     "elapsed": 723,
     "status": "ok",
     "timestamp": 1583485694905,
     "user": {
      "displayName": "Junichiro Mori",
      "photoUrl": "",
      "userId": "01008898198902510619"
     },
     "user_tz": -540
    },
    "id": "7DIse6scvyo9",
    "outputId": "3a16409c-67e3-41e7-dc17-f5b1519c98a5",
    "scrolled": true
   },
   "outputs": [],
   "source": [
    "for row in np.arange(6).reshape(2,3):\n",
    "    print(row)"
   ]
  },
  {
   "cell_type": "markdown",
   "metadata": {
    "colab_type": "text",
    "id": "73-GfZdxvypA"
   },
   "source": [
    "for文と併用される `enumerate()` の多次元配列版として、`numpy.ndenumerate()` 関数が提供されています。\n",
    "`numpy.ndenumerate()` は、（多次元）インデックスと要素の組を列挙します。"
   ]
  },
  {
   "cell_type": "code",
   "execution_count": null,
   "metadata": {
    "colab": {
     "base_uri": "https://localhost:8080/",
     "height": 118
    },
    "colab_type": "code",
    "executionInfo": {
     "elapsed": 2364,
     "status": "ok",
     "timestamp": 1583485702411,
     "user": {
      "displayName": "Junichiro Mori",
      "photoUrl": "",
      "userId": "01008898198902510619"
     },
     "user_tz": -540
    },
    "id": "-8GGRCASvypB",
    "outputId": "cbcc7090-f0c5-4f01-e4aa-f9eeb769b8bd"
   },
   "outputs": [],
   "source": [
    "for idx, e in np.ndenumerate(np.arange(6).reshape(2,3)):\n",
    "    print(idx, e)"
   ]
  },
  {
   "cell_type": "code",
   "execution_count": null,
   "metadata": {
    "colab": {
     "base_uri": "https://localhost:8080/",
     "height": 67
    },
    "colab_type": "code",
    "executionInfo": {
     "elapsed": 865,
     "status": "ok",
     "timestamp": 1583485705141,
     "user": {
      "displayName": "Junichiro Mori",
      "photoUrl": "",
      "userId": "01008898198902510619"
     },
     "user_tz": -540
    },
    "id": "4pHAgmm5vypE",
    "outputId": "c7138e96-92f7-434c-fe5f-4b3acca37436"
   },
   "outputs": [],
   "source": [
    "for idx, e in np.ndenumerate(np.arange(3)):\n",
    "    print(idx, e)"
   ]
  },
  {
   "cell_type": "markdown",
   "metadata": {
    "colab_type": "text",
    "id": "R-cjtxV1vypG"
   },
   "source": [
    "## 要素毎の演算\n",
    "\n",
    "配列に対する要素毎の演算は、簡潔に記述できます。\n",
    "しかも、for文で記述するより、効率が良いです。\n",
    "要素毎の演算を上手く使えるかどうかが、NumPyプログラミングの肝と言っても過言ではないでしょう。\n",
    "\n",
    "### **配列のスカラ―演算**\n",
    "\n",
    "配列とスカラーとの算術演算を記述すると、要素毎のスカラー演算となります。\n",
    "演算結果として、新しい配列が返ります。"
   ]
  },
  {
   "cell_type": "code",
   "execution_count": null,
   "metadata": {
    "colab": {
     "base_uri": "https://localhost:8080/",
     "height": 235
    },
    "colab_type": "code",
    "executionInfo": {
     "elapsed": 811,
     "status": "ok",
     "timestamp": 1583485723843,
     "user": {
      "displayName": "Junichiro Mori",
      "photoUrl": "",
      "userId": "01008898198902510619"
     },
     "user_tz": -540
    },
    "id": "zEBRsuQLvypJ",
    "outputId": "6b5cb4d6-3a3a-461f-c5ed-c44330eaaa39"
   },
   "outputs": [],
   "source": [
    "a = np.arange(4)\n",
    "print(a)\n",
    "\n",
    "print(a + 1) # 各要素に1を加算\n",
    "print(a - 1) # 各要素に1を減算\n",
    "print(a * 2) # 各要素に2を乗算\n",
    "print(a / 2) # 各要素を2で除算\n",
    "print(a // 2) # 各要素を2で整数除算\n",
    "print(a % 2) # 各要素に2の剰余演算\n",
    "print(a ** 2) # 各要素を2乗\n",
    "\n",
    "print(1 + a) # 左側がスカラーでもよい\n",
    "print(1 - a) # 左側がスカラーでもよい\n",
    "print(2 * a) # 左側がスカラーでもよい\n",
    "b = a + 1\n",
    "print(1 / b) # 左側がスカラーでもよい\n",
    "print(9 // b) # 左側がスカラーでもよい"
   ]
  },
  {
   "cell_type": "markdown",
   "metadata": {
    "colab_type": "text",
    "id": "SD5W-bZgvypM"
   },
   "source": [
    "### **配列同士の演算**\n",
    "\n",
    "形が同じ配列同士の算術演算は、同じ位置の要素同士の演算となります。\n",
    "演算結果として、新しい配列が返ります。"
   ]
  },
  {
   "cell_type": "code",
   "execution_count": null,
   "metadata": {
    "colab": {
     "base_uri": "https://localhost:8080/",
     "height": 319
    },
    "colab_type": "code",
    "executionInfo": {
     "elapsed": 741,
     "status": "ok",
     "timestamp": 1583485743361,
     "user": {
      "displayName": "Junichiro Mori",
      "photoUrl": "",
      "userId": "01008898198902510619"
     },
     "user_tz": -540
    },
    "id": "OtGmwS1CvypM",
    "outputId": "2a0439e1-a08d-4fba-ff78-bf384047b4c7"
   },
   "outputs": [],
   "source": [
    "a = np.arange(4).reshape(2,2)\n",
    "b = np.arange(1,5).reshape(2,2)\n",
    "print(a)\n",
    "print(b)\n",
    "print(a + b) \n",
    "print(a - b)\n",
    "print(a * b)\n",
    "print(a / b)\n",
    "c = 3 * a\n",
    "print(c // b)\n",
    "print(a % b)\n",
    "print(a ** b)"
   ]
  },
  {
   "cell_type": "markdown",
   "metadata": {
    "colab_type": "text",
    "id": "AWo3fSL8vypO"
   },
   "source": [
    "実は、形が同じでない配列同士の算術演算も可能ですが、振舞いが複雑なので間違いやすいです。\n",
    "配列同士の算術演算は、形が同じ配列に限定する方が賢明です。"
   ]
  },
  {
   "cell_type": "markdown",
   "metadata": {
    "colab_type": "text",
    "id": "dTjrfBzSvypP"
   },
   "source": [
    "### ユニバーサル関数\n",
    "\n",
    "NumPyには**ユニバーサル関数**と呼ばれる、任意の形の配列を取り、各要素に所定の演算を与えた結果を返す関数があります。\n",
    "その代表例は、**`numpy.sqrt()`** 関数です。"
   ]
  },
  {
   "cell_type": "code",
   "execution_count": null,
   "metadata": {
    "colab": {
     "base_uri": "https://localhost:8080/",
     "height": 101
    },
    "colab_type": "code",
    "executionInfo": {
     "elapsed": 776,
     "status": "ok",
     "timestamp": 1583485783096,
     "user": {
      "displayName": "Junichiro Mori",
      "photoUrl": "",
      "userId": "01008898198902510619"
     },
     "user_tz": -540
    },
    "id": "KYjn2sfnvypQ",
    "outputId": "101c9159-1787-48f2-dfa3-19976e4ef125"
   },
   "outputs": [],
   "source": [
    "a = np.zeros(3) + 2\n",
    "print(a)\n",
    "print(np.sqrt(a)) # 各要素はsqrt(2)\n",
    "b = np.zeros((2,2)) + 2\n",
    "print(np.sqrt(b)) # 各要素はsqrt(2)\n",
    "print(np.sqrt(2)) # スカラー（0次元配列）も扱える"
   ]
  },
  {
   "cell_type": "markdown",
   "metadata": {
    "colab_type": "text",
    "id": "Wq6tdfqCvypT"
   },
   "source": [
    "この他にも、多数のユニバーサル関数が提供されています。\n",
    "詳しくは、[ユニバーサル関数の一覧](https://docs.scipy.org/doc/numpy-1.14.0/reference/ufuncs.html#available-ufuncs)を参照してください。"
   ]
  },
  {
   "cell_type": "markdown",
   "metadata": {
    "colab_type": "text",
    "id": "lgyIH-REvypU"
   },
   "source": [
    "## よく使われる配列操作\n",
    "### `dot`\n",
    "\n",
    "**`numpy.dot()`** は、2つの配列を引数に取り、そのドット積を返します。\n",
    "両者が1次元配列のときは、ベクトル内積と等しいです。"
   ]
  },
  {
   "cell_type": "code",
   "execution_count": null,
   "metadata": {
    "colab": {
     "base_uri": "https://localhost:8080/",
     "height": 34
    },
    "colab_type": "code",
    "executionInfo": {
     "elapsed": 628,
     "status": "ok",
     "timestamp": 1583485797330,
     "user": {
      "displayName": "Junichiro Mori",
      "photoUrl": "",
      "userId": "01008898198902510619"
     },
     "user_tz": -540
    },
    "id": "vrcXToznvypV",
    "outputId": "cb17a2a8-ecab-4d41-cb49-ce03e7074106"
   },
   "outputs": [],
   "source": [
    "np.dot(np.arange(4), np.arange(1,5)) # 0*1 + 1*2 + 2*3 + 3*4"
   ]
  },
  {
   "cell_type": "markdown",
   "metadata": {
    "colab_type": "text",
    "id": "XUHMYH2nvypX"
   },
   "source": [
    "2次元配列同士だと、行列乗算と等しいです。"
   ]
  },
  {
   "cell_type": "code",
   "execution_count": null,
   "metadata": {
    "colab": {
     "base_uri": "https://localhost:8080/",
     "height": 50
    },
    "colab_type": "code",
    "executionInfo": {
     "elapsed": 2438,
     "status": "ok",
     "timestamp": 1583485801638,
     "user": {
      "displayName": "Junichiro Mori",
      "photoUrl": "",
      "userId": "01008898198902510619"
     },
     "user_tz": -540
    },
    "id": "geqYB0NivypY",
    "outputId": "f0ccc723-c85b-4c11-8561-dd40cd56756b"
   },
   "outputs": [],
   "source": [
    "# [[0 1]     [[1 2]\n",
    "#  [2 3]] と  [3 4]] の行列積\n",
    "print(np.dot(np.arange(4).reshape(2,2), np.arange(1,5).reshape(2,2)))"
   ]
  },
  {
   "cell_type": "markdown",
   "metadata": {
    "colab_type": "text",
    "id": "hlIFZwkxvypb"
   },
   "source": [
    "### `sort`\n",
    "\n",
    "**`numpy.sort()`** 関数は、昇順でソートされた新しい配列を返します。\n",
    "これは、組み込み関数 `sorted()` の配列版です。"
   ]
  },
  {
   "cell_type": "code",
   "execution_count": null,
   "metadata": {
    "colab": {
     "base_uri": "https://localhost:8080/",
     "height": 50
    },
    "colab_type": "code",
    "executionInfo": {
     "elapsed": 765,
     "status": "ok",
     "timestamp": 1583485814609,
     "user": {
      "displayName": "Junichiro Mori",
      "photoUrl": "",
      "userId": "01008898198902510619"
     },
     "user_tz": -540
    },
    "id": "jfqA_w5nvypb",
    "outputId": "29a5ec2e-6c08-4c2b-ea11-7bd40e0bdc97"
   },
   "outputs": [],
   "source": [
    "a = np.array([3, 4, -1, 0, 2])\n",
    "print(a)\n",
    "print(np.sort(a))"
   ]
  },
  {
   "cell_type": "markdown",
   "metadata": {
    "colab_type": "text",
    "id": "xg3nUuOuvypf"
   },
   "source": [
    "一方、配列の **`sort()`** メソッドは、配列を破壊的に（インプレースで）ソートします。\n",
    "これは、リストの `sort()` メソッドの配列版です。"
   ]
  },
  {
   "cell_type": "code",
   "execution_count": null,
   "metadata": {
    "colab": {
     "base_uri": "https://localhost:8080/",
     "height": 50
    },
    "colab_type": "code",
    "executionInfo": {
     "elapsed": 809,
     "status": "ok",
     "timestamp": 1583485830595,
     "user": {
      "displayName": "Junichiro Mori",
      "photoUrl": "",
      "userId": "01008898198902510619"
     },
     "user_tz": -540
    },
    "id": "Ueu2Z__Xvypg",
    "outputId": "02fcdf90-f086-4052-8aef-d1d6990cabb5"
   },
   "outputs": [],
   "source": [
    "a = np.array([3, 4, -1, 0, 2])\n",
    "print(a)\n",
    "a.sort()\n",
    "print(a)"
   ]
  },
  {
   "cell_type": "markdown",
   "metadata": {
    "colab_type": "text",
    "id": "LOoMKkHmvypi"
   },
   "source": [
    "### `sum`, `max`, `min`, `mean`\n",
    "\n",
    "配列のメソッド **`sum()`**・**`max()`**・**`min()`**・**`mean()`** は、それぞれ総和・最大値・最小値・算術平均を返します。\n",
    "これらのメソッドは、引数が与えられない場合、全要素を集計した結果を返します。\n",
    "多次元配列の場合、集計する次元を指定できます。\n",
    "具体的には、2次元配列の場合、0 を指定すると各列に、1 を指定すると各行に、対応するメソッドを適用した結果が返されます。"
   ]
  },
  {
   "cell_type": "code",
   "execution_count": null,
   "metadata": {
    "colab": {
     "base_uri": "https://localhost:8080/",
     "height": 101
    },
    "colab_type": "code",
    "executionInfo": {
     "elapsed": 644,
     "status": "ok",
     "timestamp": 1583485842047,
     "user": {
      "displayName": "Junichiro Mori",
      "photoUrl": "",
      "userId": "01008898198902510619"
     },
     "user_tz": -540
    },
    "id": "F6Vv6T2Bvypj",
    "outputId": "ddd9caae-5392-4590-e496-1feed3945cd6"
   },
   "outputs": [],
   "source": [
    "a = np.arange(6).reshape(2,3)\n",
    "print(a)\n",
    "print(a.sum())\n",
    "print(a.sum(0))\n",
    "print(a.sum(1))"
   ]
  },
  {
   "cell_type": "markdown",
   "metadata": {
    "colab_type": "text",
    "id": "ifni7zeKvypk"
   },
   "source": [
    "この他にも、多数の数学・統計関連のメソッドや関数が提供されています。\n",
    "詳しくは、[数学関数](https://docs.scipy.org/doc/numpy/reference/routines.math.html)や[統計関数](https://docs.scipy.org/doc/numpy/reference/routines.statistics.html)を参照してください。"
   ]
  },
  {
   "cell_type": "markdown",
   "metadata": {
    "colab_type": "text",
    "id": "_5ufe0mMvypl"
   },
   "source": [
    "## 配列の保存と復元\n",
    "\n",
    "配列は、ファイルに保存したり、ファイルからしたりすることが、簡単にできます。\n",
    "\n",
    "**`numpy.savetxt()`** 関数は、与えられた配列を指定されたファイル名をつけてテキスト形式で保存します。"
   ]
  },
  {
   "cell_type": "code",
   "execution_count": null,
   "metadata": {
    "colab": {},
    "colab_type": "code",
    "id": "EykjySnPvypl"
   },
   "outputs": [],
   "source": [
    "np.savetxt('arange3.txt', np.arange(3))"
   ]
  },
  {
   "cell_type": "markdown",
   "metadata": {
    "colab_type": "text",
    "id": "qWvGTFm5vypn"
   },
   "source": [
    "この `arange3.txt` は、次のような内容になっているはずです。\n",
    "```\n",
    "0.000000000000000000e+00\n",
    "1.000000000000000000e+00\n",
    "2.000000000000000000e+00\n",
    "```\n",
    "2次元配列は、列が空白区切りで保存されます"
   ]
  },
  {
   "cell_type": "code",
   "execution_count": null,
   "metadata": {
    "colab": {},
    "colab_type": "code",
    "id": "qsSxHSVFvypn"
   },
   "outputs": [],
   "source": [
    "np.savetxt('arange2x3.txt', np.arange(6).reshape(2,3))"
   ]
  },
  {
   "cell_type": "markdown",
   "metadata": {
    "colab_type": "text",
    "id": "xdAVfpgivypp"
   },
   "source": [
    "この `arange2x3.txt` は、次のような内容になっているはずです。\n",
    "```\n",
    "0.000000000000000000e+00 1.000000000000000000e+00 2.000000000000000000e+00\n",
    "3.000000000000000000e+00 4.000000000000000000e+00 5.000000000000000000e+00\n",
    "```\n",
    "\n",
    "一方、**`numpy.loadtxt()`** 関数は、与えられた名前のファイルに保存された配列を復元します。"
   ]
  },
  {
   "cell_type": "code",
   "execution_count": null,
   "metadata": {
    "colab": {
     "base_uri": "https://localhost:8080/",
     "height": 50
    },
    "colab_type": "code",
    "executionInfo": {
     "elapsed": 805,
     "status": "ok",
     "timestamp": 1583485871439,
     "user": {
      "displayName": "Junichiro Mori",
      "photoUrl": "",
      "userId": "01008898198902510619"
     },
     "user_tz": -540
    },
    "id": "fJYJ3aBYvypq",
    "outputId": "24f8e4b6-aba8-42a8-eff1-cdd05cf5d10a"
   },
   "outputs": [],
   "source": [
    "a = np.loadtxt('arange2x3.txt')\n",
    "print(a)"
   ]
  },
  {
   "cell_type": "markdown",
   "metadata": {
    "colab_type": "text",
    "id": "pPFB8iqyvypr"
   },
   "source": [
    "保存するときに、列の区切り文字をデフォルトの `' '` 以外にしたい場合、`savetxt()` の `delimiter` 引数に区切り文字（列）を指定します。これを復元するときには、`loadtxt()` の `delimiter` 引数に同じ値を指定する必要があります。\n",
    "ただし、区切り文字列はASCII（正確にはLatin-1）で解釈可能でなければなりません。\n",
    "\n",
    "大規模な配列をテキスト形式で保存すると、ファイルサイズがとても大きくなります。\n",
    "そういう場合、圧縮保存が有用です。\n",
    "\n",
    "保存するファイル名の拡張子を `.gz` とすることで、`savetxt()` は自動的にGZip形式で圧縮して保存します。\n",
    "復元するファイル名の拡張子が `.gz` であれば、`loadtxt()` はGZip形式だと判断して、自動的に解凍して復元します。"
   ]
  },
  {
   "cell_type": "markdown",
   "metadata": {
    "colab_type": "text",
    "id": "iHK-LW5Svyps"
   },
   "source": [
    "## ▲**真理値配列によるインデックスアクセス**\n",
    "\n",
    "配列に対して、比較演算を適用すると、算術演算と同様に要素毎に演算されて、真理値の配列が返ります。"
   ]
  },
  {
   "cell_type": "code",
   "execution_count": null,
   "metadata": {
    "colab": {
     "base_uri": "https://localhost:8080/",
     "height": 50
    },
    "colab_type": "code",
    "executionInfo": {
     "elapsed": 627,
     "status": "ok",
     "timestamp": 1583485897400,
     "user": {
      "displayName": "Junichiro Mori",
      "photoUrl": "",
      "userId": "01008898198902510619"
     },
     "user_tz": -540
    },
    "id": "Z9Cpdioavyps",
    "outputId": "10438060-29d1-4f08-f10c-2ac626e77a96"
   },
   "outputs": [],
   "source": [
    "a = np.arange(6)\n",
    "print(a)\n",
    "print(a < 3)"
   ]
  },
  {
   "cell_type": "markdown",
   "metadata": {
    "colab_type": "text",
    "id": "h2q1UsI-vypw"
   },
   "source": [
    "このように作られた真理値配列は、インデックスとして利用することができます。\n",
    "これによって、条件を満たす範囲を取り出すような記述が可能になります。\n",
    "次の具体例を見てみましょう。"
   ]
  },
  {
   "cell_type": "code",
   "execution_count": null,
   "metadata": {
    "colab": {
     "base_uri": "https://localhost:8080/",
     "height": 84
    },
    "colab_type": "code",
    "executionInfo": {
     "elapsed": 685,
     "status": "ok",
     "timestamp": 1583485910364,
     "user": {
      "displayName": "Junichiro Mori",
      "photoUrl": "",
      "userId": "01008898198902510619"
     },
     "user_tz": -540
    },
    "id": "5HgMt9Aovypw",
    "outputId": "8ba3f9b6-300b-4c7b-f47c-7a404ac6ef84"
   },
   "outputs": [],
   "source": [
    "a = np.array([0,1,2,-3,-4,5,-6,-7])\n",
    "print(a)\n",
    "print(a[a < 0]) # 負の要素を取り出し\n",
    "print(a[(a < 0) & (a % 2 == 0)]) # 負で偶数の要素を取り出し\n",
    "a[a < 0] = 8 # 負の要素を8に上書き\n",
    "print(a)"
   ]
  },
  {
   "cell_type": "markdown",
   "metadata": {
    "colab_type": "text",
    "id": "ivDr3ek3vypy"
   },
   "source": [
    "一見すると単なる条件式のように見えますが、インデックスとなるのは真理値ではなく真理値の配列です。\n",
    "したがって、真理値を返す `and`・`or`・`not` の代わりに、要素毎の演算を行う `&`・`|`・`~` を用いる必要があります。\n",
    "\n",
    "同様の記法は、7-1 で扱うpandasライブラリでも利用されます。"
   ]
  },
  {
   "cell_type": "markdown",
   "metadata": {
    "colab_type": "text",
    "id": "o_tkbTRHvypz"
   },
   "source": [
    "## ▲線形代数の演算\n",
    "\n",
    "`numpy.dot()` は、2次元配列を与えたときには、行列積となりました。\n",
    "それだけでなく、行列積専用の **`numpy.matmul()`** も提供されています。\n",
    "\n",
    "また、単位行列は **`numpy.identity()`** 関数で作成することができます。\n",
    "引数に行列のサイズを指定します。"
   ]
  },
  {
   "cell_type": "code",
   "execution_count": null,
   "metadata": {
    "colab": {
     "base_uri": "https://localhost:8080/",
     "height": 168
    },
    "colab_type": "code",
    "executionInfo": {
     "elapsed": 668,
     "status": "ok",
     "timestamp": 1583485932883,
     "user": {
      "displayName": "Junichiro Mori",
      "photoUrl": "",
      "userId": "01008898198902510619"
     },
     "user_tz": -540
    },
    "id": "fuOVsLNPvypz",
    "outputId": "cc4aaa25-8f2f-44c3-c2e9-ebffd6123d79"
   },
   "outputs": [],
   "source": [
    "I = np.identity(3)\n",
    "print(I)\n",
    "a = np.arange(9).reshape(3,3)\n",
    "print(a)\n",
    "print(np.matmul(a, I))"
   ]
  },
  {
   "cell_type": "markdown",
   "metadata": {
    "colab_type": "text",
    "id": "baTYhyLNvyp1"
   },
   "source": [
    "**`numpy.linalg.norm()`** 関数は、与えられたベクトル（1次元配列）もしくは行列（2次元配列）のノルムを返します。"
   ]
  },
  {
   "cell_type": "code",
   "execution_count": null,
   "metadata": {
    "colab": {
     "base_uri": "https://localhost:8080/",
     "height": 34
    },
    "colab_type": "code",
    "executionInfo": {
     "elapsed": 730,
     "status": "ok",
     "timestamp": 1583485937305,
     "user": {
      "displayName": "Junichiro Mori",
      "photoUrl": "",
      "userId": "01008898198902510619"
     },
     "user_tz": -540
    },
    "id": "KfEarCWKvyp1",
    "outputId": "7dbdf7eb-95cf-41f8-b5b0-43cf956e4190"
   },
   "outputs": [],
   "source": [
    "np.linalg.norm(np.ones(3)) # ユークリッドノルムを計算するのでsqrt(3)と等しい"
   ]
  },
  {
   "cell_type": "markdown",
   "metadata": {
    "colab_type": "text",
    "id": "Suiz3e-1vyp3"
   },
   "source": [
    "NumPyでは、行列の分解、転置、行列式などの計算を含む線形代数の演算は、**`numpy.linalg`** モジュールで提供されています。\n",
    "詳しくは、[線形代数関連関数](https://docs.scipy.org/doc/numpy/reference/routines.linalg.html)を参照してください。"
   ]
  },
  {
   "cell_type": "markdown",
   "metadata": {
    "colab_type": "text",
    "id": "NX8DIxC8vyp4"
   },
   "source": [
    "## 練習の解答"
   ]
  },
  {
   "cell_type": "code",
   "execution_count": null,
   "metadata": {
    "colab": {},
    "colab_type": "code",
    "id": "pBA-G4B9vyp6"
   },
   "outputs": [],
   "source": [
    "def arange_square_matrix(n):\n",
    "    return np.array([np.arange(i, n+i) for i in range(n)])"
   ]
  }
 ],
 "metadata": {
  "colab": {
   "collapsed_sections": [
    "TcopXws1vyn7"
   ],
   "name": "5-3.ipynb",
   "provenance": [],
   "toc_visible": true
  },
  "kernelspec": {
   "display_name": "Python 3",
   "language": "python",
   "name": "python3"
  },
  "language_info": {
   "codemirror_mode": {
    "name": "ipython",
    "version": 3
   },
   "file_extension": ".py",
   "mimetype": "text/x-python",
   "name": "python",
   "nbconvert_exporter": "python",
   "pygments_lexer": "ipython3",
   "version": "3.7.3"
  }
 },
 "nbformat": 4,
 "nbformat_minor": 1
}
