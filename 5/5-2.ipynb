{
 "cells": [
  {
   "cell_type": "markdown",
   "metadata": {
    "colab_type": "text",
    "id": "JpPt-QbSrOxe"
   },
   "source": [
    "# 5-2. モジュールの作り方\n",
    "モジュールの作り方について説明します。\n",
    "\n",
    "参考\n",
    "\n",
    "- https://docs.python.org/ja/3/tutorial/interpreter.html\n",
    "- https://docs.python.org/ja/3/tutorial/modules.html\n",
    "- https://docs.python.org/ja/3/reference/import.html\n",
    "\n",
    "Pythonではプログラムを**モジュール**という単位で、複数のファイルに分割することができます。\n",
    "通例、一度定義した便利な関数・クラスを別のプログラムで再利用するときには、再利用される部分をモジュールとして切り出します。\n",
    "プログラムが大きくなると、このように複数のファイルに分割した方が開発や保守が簡単になります。\n",
    "\n",
    "## モジュールファイル\n",
    "\n",
    "本授業で扱ってきた Jupyter Notebook ファイル（拡張子`.ipynb`）は、コードセル（Codeセル）にPythonソースコード、Markdownセルに文書を持ち、内部的に出力結果も保存しています。 一方、モジュールファイル（拡張子`.py`）は、Pythonソースコードのみを含んだファイルです。\n",
    "\n",
    "モジュールファイルを作るときには、Jupyter Notebook におけるコードセルの内容のみをファイルに記述することになります。\n",
    "\n",
    "モジュールファイルの文字コードはutf-8であることが[公式に推奨されています](https://www.python.org/dev/peps/pep-0008/#source-file-encoding)。\n",
    "原則としてutf-8でエンコードして保存してください。"
   ]
  },
  {
   "cell_type": "markdown",
   "metadata": {
    "colab_type": "text",
    "id": "PO6IyKhQrOxi"
   },
   "source": [
    "## Jupyter Notebook でモジュールを扱う\n",
    "\n",
    "Jupyter Notebook でモジュールファイルを扱うには大きく二種類の方法があります。\n",
    "\n",
    "1. Jupyter Notebook で直接モジュールファイルを開く\n",
    "2. Jupyter Notebook ファイルをモジュールファイルに変換する"
   ]
  },
  {
   "cell_type": "markdown",
   "metadata": {
    "colab_type": "text",
    "id": "ODmbzQCUrOxj"
   },
   "source": [
    "### Jupyter Notebook でモジュールファイルを開く\n",
    "Jupyter Notebook で直接モジュールファイルを作成するには、（Jupyter Notebook 起動時に表示される）ファイルマネージャ画面で、\n",
    "\n",
    "    New ⇒ Text File\n",
    "\n",
    "を選択して、エディタ画面を表示させます。\n",
    "\n",
    "![textfile](https://raw.githubusercontent.com/UTokyo-IPP/utpython/master/5/fig/py_open_1.png)\n",
    "\n",
    "その後、\n",
    "\n",
    "    File ⇒ Rename\n",
    "\n",
    "![rename](https://raw.githubusercontent.com/UTokyo-IPP/utpython/master/5/fig/py_open_2.png)\n",
    "\n",
    "\n",
    "を選択するか、ファイル名を直接クリックして `.py` 拡張子を持つファイル名として保存します。\n",
    "実際には、コードセルの上で動作を確認したプログラムをクリップボードにコピーして、このエディタにペーストするという方法が現実的と思われます。"
   ]
  },
  {
   "cell_type": "markdown",
   "metadata": {
    "colab_type": "text",
    "id": "ItsfRDVkrOxk"
   },
   "source": [
    "### Jupyter Notebookファイルをモジュールファイルに変換する\n",
    "本授業で利用している Jupyter Notebook ファイルを `.py` としてColaboratoryからセーブするには、\n",
    "\n",
    "    ファイル ⇒ .pyをダウンロード\n",
    "\n",
    "を選択します。\n",
    "\n",
    "そうすると、コードセルだけがプログラム行として有効になり、その他の行は `#` でコメントアウトされたモジュールファイルがダウンロードできます。\n",
    "\n",
    "環境によっては、`.py` ではなく `.html` ファイルとして保存されるかもしれませんが、ファイル名を変更すればモジュールファイルとして利用できます。\n",
    "\n",
    "この方法では、全てのコードセルの内容を一度に実行するプログラムとして保存されます。\n",
    "Jupyter Notebook のようにセル単位の実行するわけではないことに注意する必要があります。"
   ]
  },
  {
   "cell_type": "markdown",
   "metadata": {
    "colab_type": "text",
    "id": "gwmcHsQbrOxl"
   },
   "source": [
    "ここでは Jupyter Notebook でモジュールファイルを作成する方法を紹介しましたが、\n",
    "使い慣れているエディタがあればそちらを使ってもかまいません。"
   ]
  },
  {
   "cell_type": "markdown",
   "metadata": {
    "colab_type": "text",
    "id": "qToRxVjRrOxm"
   },
   "source": [
    "## 自作モジュールの使い方\n",
    "\n",
    "モジュールで定義されている関数を利用するには、**`import`文** を用いて `import モジュール名` と書きます。\n",
    "**モジュール名**は、モジュールファイル名から拡張子 `.py` を除いたものです。\n",
    "\n",
    "すると、モジュールで定義されている関数は `モジュール名.関数名` によって参照できます。\n",
    "\n",
    "次の関数が記述された `factorial.py` というモジュールを読み込む場合を説明します。\n",
    "ただし、読込み元と同じディレクトリに `factorial.py` が存在すると仮定します。\n",
    "\n",
    "---\n",
    "\n",
    "factorial.py:\n",
    "\n",
    "```Python\n",
    "# 階乗n!を返す\n",
    "def fact(n):\n",
    "    prod = 1\n",
    "    for i in range(1, n + 1):\n",
    "        prod *= i\n",
    "    return prod\n",
    "```\n",
    "\n",
    "---"
   ]
  },
  {
   "cell_type": "code",
   "execution_count": null,
   "metadata": {
    "colab": {
     "base_uri": "https://localhost:8080/",
     "height": 202
    },
    "colab_type": "code",
    "executionInfo": {
     "elapsed": 4346,
     "status": "ok",
     "timestamp": 1583479534240,
     "user": {
      "displayName": "Junichiro Mori",
      "photoUrl": "",
      "userId": "01008898198902510619"
     },
     "user_tz": -540
    },
    "id": "673syGikuyB-",
    "outputId": "60b12409-c1b2-49db-b400-096a79e4de9e"
   },
   "outputs": [],
   "source": [
    "!wget https://raw.githubusercontent.com/UTokyo-IPP/utpython/master/5/factorial.py"
   ]
  },
  {
   "cell_type": "code",
   "execution_count": null,
   "metadata": {
    "colab": {
     "base_uri": "https://localhost:8080/",
     "height": 34
    },
    "colab_type": "code",
    "executionInfo": {
     "elapsed": 976,
     "status": "ok",
     "timestamp": 1583479539694,
     "user": {
      "displayName": "Junichiro Mori",
      "photoUrl": "",
      "userId": "01008898198902510619"
     },
     "user_tz": -540
    },
    "id": "DRw1-1JIrOxo",
    "outputId": "37e8cf7d-70f9-47be-e487-de660e6ae395"
   },
   "outputs": [],
   "source": [
    "import factorial\n",
    "\n",
    "factorial.fact(6)"
   ]
  },
  {
   "cell_type": "markdown",
   "metadata": {
    "colab_type": "text",
    "id": "nD6ns1p2rOxt"
   },
   "source": [
    "`from` や `as` の使い方も既存のモジュールと全く同じです。\n",
    "\n",
    "モジュール内で定義されている名前を読込み元のプログラムでそのまま使いたい場合は、**`from`** を用いて以下のように書くことができます。"
   ]
  },
  {
   "cell_type": "code",
   "execution_count": null,
   "metadata": {
    "colab": {
     "base_uri": "https://localhost:8080/",
     "height": 34
    },
    "colab_type": "code",
    "executionInfo": {
     "elapsed": 649,
     "status": "ok",
     "timestamp": 1583479549063,
     "user": {
      "displayName": "Junichiro Mori",
      "photoUrl": "",
      "userId": "01008898198902510619"
     },
     "user_tz": -540
    },
    "id": "ldb6NM_PrOxv",
    "outputId": "16c2d9dc-957a-4ace-9174-9615fe3863cd"
   },
   "outputs": [],
   "source": [
    "from factorial import fact\n",
    "\n",
    "fact(6)"
   ]
  },
  {
   "cell_type": "markdown",
   "metadata": {
    "colab_type": "text",
    "id": "b0xXvfV4rOxy"
   },
   "source": [
    "ワイルドカード **`*`** を利用する方法もありますが、推奨されていません。\n",
    "読み込まれるモジュール内の未知の名前と、読込み元のプログラム中の名前が衝突する可能性があるためです。"
   ]
  },
  {
   "cell_type": "code",
   "execution_count": null,
   "metadata": {
    "colab": {},
    "colab_type": "code",
    "id": "otbyNkkzrOxz"
   },
   "outputs": [],
   "source": [
    "from factorial import *"
   ]
  },
  {
   "cell_type": "markdown",
   "metadata": {
    "colab_type": "text",
    "id": "zxRRv4RhrOx3"
   },
   "source": [
    "モジュール名が長すぎるなどの理由から別の名前としたい場合は、**`as`** を利用する方法もあります。"
   ]
  },
  {
   "cell_type": "code",
   "execution_count": null,
   "metadata": {
    "colab": {
     "base_uri": "https://localhost:8080/",
     "height": 34
    },
    "colab_type": "code",
    "executionInfo": {
     "elapsed": 460,
     "status": "ok",
     "timestamp": 1583479554748,
     "user": {
      "displayName": "Junichiro Mori",
      "photoUrl": "",
      "userId": "01008898198902510619"
     },
     "user_tz": -540
    },
    "id": "Iuieui8brOx4",
    "outputId": "2dbcbf8b-49bf-4816-ab32-e07c4c50c81f"
   },
   "outputs": [],
   "source": [
    "import factorial as f\n",
    "\n",
    "f.fact(6)"
   ]
  }
 ],
 "metadata": {
  "colab": {
   "collapsed_sections": [],
   "name": "5-2.ipynb",
   "provenance": [],
   "toc_visible": true
  },
  "kernelspec": {
   "display_name": "Python 3",
   "language": "python",
   "name": "python3"
  },
  "language_info": {
   "codemirror_mode": {
    "name": "ipython",
    "version": 3
   },
   "file_extension": ".py",
   "mimetype": "text/x-python",
   "name": "python",
   "nbconvert_exporter": "python",
   "pygments_lexer": "ipython3",
   "version": "3.7.3"
  }
 },
 "nbformat": 4,
 "nbformat_minor": 1
}
