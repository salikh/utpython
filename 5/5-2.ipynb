{
 "cells": [
  {
   "cell_type": "code",
   "execution_count": null,
   "metadata": {},
   "outputs": [],
   "source": [
    "##====================================================\n",
    "## このセルを最初に実行せよ---Run this cell initially.\n",
    "##====================================================\n",
    "import sys\n",
    "if 'google.colab' in sys.modules:\n",
    "    !wget -P . https://raw.githubusercontent.com/UTokyo-IPP/utpython/master/5/factorial.py"
   ]
  },
  {
   "cell_type": "markdown",
   "metadata": {
    "slideshow": {
     "slide_type": "slide"
    }
   },
   "source": [
    "# 5-2. モジュールの作り方\n",
    "モジュールの作り方について説明します。\n",
    "\n",
    "参考\n",
    "\n",
    "- https://docs.python.org/ja/3/tutorial/modules.html\n",
    "- https://docs.python.org/ja/3/reference/import.html\n",
    "\n",
    "Pythonではプログラムを**モジュール**という単位で、複数のファイルに分割することができます。\n",
    "通例、一度定義した便利な関数などを別のプログラムで再利用するときには、再利用される部分をモジュールとして切り出します。\n",
    "プログラムが大きくなると、このように複数のファイルに分割した方が開発や保守が簡単になります。\n",
    "\n",
    "## モジュールファイル\n",
    "\n",
    "本授業で扱ってきた Jupyter Notebook ファイル（拡張子`.ipynb`）は、コードセル（Codeセル）にPythonソースコード、Markdownセルに文書を持ち、内部的に出力結果も保存しています。 一方、モジュールファイル（拡張子`.py`）は、Pythonソースコードのみを含んだファイルです。\n",
    "\n",
    "モジュールファイルを作るときには、Jupyter Notebook におけるコードセルの内容のみをファイルに記述することになります。\n",
    "\n",
    "モジュールファイルの文字コードはUTF-8であることが[公式に推奨されています](https://www.python.org/dev/peps/pep-0008/#source-file-encoding)。\n",
    "原則としてUTF-8でエンコードして保存してください。"
   ]
  },
  {
   "cell_type": "markdown",
   "metadata": {
    "slideshow": {
     "slide_type": "slide"
    }
   },
   "source": [
    "## Jupyter Notebook でモジュールを扱う\n",
    "\n",
    "Jupyter Notebook でモジュールファイルを扱うには大きく2種類の方法があります。\n",
    "\n",
    "1. Jupyter Notebook で直接モジュールファイルを開く\n",
    "2. Jupyter Notebook ファイルをモジュールファイルに変換する"
   ]
  },
  {
   "cell_type": "markdown",
   "metadata": {
    "slideshow": {
     "slide_type": "subslide"
    }
   },
   "source": [
    "### Jupyter Notebook でモジュールファイルを開く\n",
    "Jupyter Notebook で直接モジュールファイルを作成するには、（Jupyter Notebook 起動時に表示される）ファイルマネージャ画面で、\n",
    "\n",
    "    New ⇒ Text File\n",
    "\n",
    "を選択して、エディタ画面を表示させます。\n",
    "\n",
    "<img src=\"fig/py_open_1.png\" width=\"400\">\n",
    "\n",
    "その後、\n",
    "\n",
    "    File ⇒ Rename\n",
    "\n",
    "<img src=\"fig/py_open_2.png\" width=\"400\">\n",
    "\n",
    "を選択するか、ファイル名を直接クリックして `.py` 拡張子を持つファイル名として保存します。\n",
    "実際には、コードセルの上で動作を確認したプログラムをクリップボードにコピーして、このエディタにペーストするという方法が現実的と思われます。"
   ]
  },
  {
   "cell_type": "markdown",
   "metadata": {
    "slideshow": {
     "slide_type": "subslide"
    }
   },
   "source": [
    "### Jupyter Notebookファイルをモジュールファイルに変換する\n",
    "本授業で利用している Jupyter Notebook ファイルを `.py` としてセーブするには、\n",
    "\n",
    "    File ⇒ Download as ⇒ Python(.py)\n",
    "\n",
    "を選択します。\n",
    "\n",
    "<img src=\"fig/py_conv_1.png\" width=\"400\">\n",
    "\n",
    "<img src=\"fig/py_conv_2.png\" width=\"400\">\n",
    "\n",
    "そうすると、コードセルだけがプログラム行として有効になり、その他の行は `#` でコメントアウトされたモジュールファイルがダウンロードできます。\n",
    "\n",
    "環境によっては、`.py` ではなく `.html` ファイルとして保存されるかもしれませんが、ファイル名を変更すればモジュールファイルとして利用できます。\n",
    "\n",
    "この方法では、全てのコードセルの内容を一度に実行するプログラムとして保存されます。\n",
    "Jupyter Notebook のようにセル単位の実行するわけではないことに注意する必要があります。"
   ]
  },
  {
   "cell_type": "markdown",
   "metadata": {
    "slideshow": {
     "slide_type": "subslide"
    }
   },
   "source": [
    "ここでは Jupyter Notebook でモジュールファイルを作成する方法を紹介しましたが、\n",
    "使い慣れているエディタがあればそちらを使ってもかまいません。"
   ]
  },
  {
   "cell_type": "markdown",
   "metadata": {
    "slideshow": {
     "slide_type": "slide"
    }
   },
   "source": [
    "## 自作モジュールの使い方\n",
    "\n",
    "モジュールで定義されている関数を利用するには、**`import`** を用いて `import モジュール名` と書きます。\n",
    "**モジュール名**は、モジュールファイル名から拡張子 `.py` を除いたものです。\n",
    "\n",
    "すると、モジュールで定義されている関数は `モジュール名.関数名` によって参照できます。\n",
    "\n",
    "次の関数が記述された `factorial.py` というモジュールを読み込む場合を説明します。\n",
    "ただし、読み込み元と同じディレクトリに `factorial.py` が存在すると仮定します。\n",
    "\n",
    "---\n",
    "\n",
    "factorial.py:\n",
    "\n",
    "```Python\n",
    "# 階乗n!を返す\n",
    "def fact(n):\n",
    "    prod = 1\n",
    "    for i in range(1, n + 1):\n",
    "        prod *= i\n",
    "    return prod\n",
    "```\n",
    "\n",
    "---"
   ]
  },
  {
   "cell_type": "code",
   "execution_count": null,
   "metadata": {
    "slideshow": {
     "slide_type": "-"
    }
   },
   "outputs": [],
   "source": [
    "import factorial\n",
    "\n",
    "factorial.fact(6)"
   ]
  },
  {
   "cell_type": "markdown",
   "metadata": {
    "slideshow": {
     "slide_type": "subslide"
    }
   },
   "source": [
    "`from` や `as` の使い方も既存のモジュールと全く同じです。\n",
    "\n",
    "モジュール内で定義されている名前を読み込み元のプログラムでそのまま使いたい場合は、**`from`** を用いて以下のように書くことができます。"
   ]
  },
  {
   "cell_type": "code",
   "execution_count": null,
   "metadata": {},
   "outputs": [],
   "source": [
    "from factorial import fact\n",
    "\n",
    "fact(6)"
   ]
  },
  {
   "cell_type": "markdown",
   "metadata": {
    "slideshow": {
     "slide_type": "subslide"
    }
   },
   "source": [
    "ワイルドカード **`*`** を利用する方法もありますが、推奨されていません。\n",
    "読み込まれるモジュール内の未知の名前と、読み込み元のプログラム中の名前が衝突する可能性があるためです。"
   ]
  },
  {
   "cell_type": "code",
   "execution_count": null,
   "metadata": {},
   "outputs": [],
   "source": [
    "from factorial import *"
   ]
  },
  {
   "cell_type": "markdown",
   "metadata": {
    "slideshow": {
     "slide_type": "subslide"
    }
   },
   "source": [
    "モジュール名が長すぎるなどの理由から別の名前としたい場合は、**`as`** を利用する方法もあります。"
   ]
  },
  {
   "cell_type": "code",
   "execution_count": null,
   "metadata": {},
   "outputs": [],
   "source": [
    "import factorial as f\n",
    "\n",
    "f.fact(6)"
   ]
  }
 ],
 "metadata": {
  "kernelspec": {
   "display_name": "Python 3",
   "language": "python",
   "name": "python3"
  },
  "language_info": {
   "codemirror_mode": {
    "name": "ipython",
    "version": 3
   },
   "file_extension": ".py",
   "mimetype": "text/x-python",
   "name": "python",
   "nbconvert_exporter": "python",
   "pygments_lexer": "ipython3",
   "version": "3.7.3"
  }
 },
 "nbformat": 4,
 "nbformat_minor": 2
}
