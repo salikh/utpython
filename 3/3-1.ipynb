{
 "cells": [
  {
   "cell_type": "markdown",
   "metadata": {
    "colab_type": "text",
    "id": "zqKMbkgjU7Oz"
   },
   "source": [
    "# 3-1. 辞書 (dictionary)\n",
    "キーと値を対応させるデータ構造である辞書について説明します。\n",
    "\n",
    "参考\n",
    "\n",
    "- https://docs.python.org/ja/3/tutorial/datastructures.html#dictionaries\n",
    "\n",
    "**辞書**は、**キー** (**key**) と**値** (**value**) を対応づけるデータです。\n",
    "キーとしては、文字列・数値・タプルなどの変更不可能なデータを使うことができますが、\n",
    "変更可能なデータであるリスト・辞書を使うことはできません。\n",
    "（辞書も変更可能なデータです。）\n",
    "一方、値としては、変更の可否にかかわらずあらゆる種類のデータを指定できます。\n",
    "\n",
    "たとえば、文字列 `'apple'` をキーとし値として数値 `3` を、`'pen'` をキーとして `5` を対応付けた辞書は、\n",
    "次のように作成します。"
   ]
  },
  {
   "cell_type": "code",
   "execution_count": null,
   "metadata": {
    "colab": {
     "base_uri": "https://localhost:8080/",
     "height": 34
    },
    "colab_type": "code",
    "executionInfo": {
     "elapsed": 1942,
     "status": "ok",
     "timestamp": 1583472720450,
     "user": {
      "displayName": "Junichiro Mori",
      "photoUrl": "",
      "userId": "01008898198902510619"
     },
     "user_tz": -540
    },
    "id": "R8IgFbS5U7O3",
    "outputId": "fca3769c-7e6b-4466-c354-a2d58cc2ef41"
   },
   "outputs": [],
   "source": [
    "ppap = {'apple' : 3, 'pen' : 5}\n",
    "ppap"
   ]
  },
  {
   "cell_type": "code",
   "execution_count": null,
   "metadata": {
    "colab": {
     "base_uri": "https://localhost:8080/",
     "height": 34
    },
    "colab_type": "code",
    "executionInfo": {
     "elapsed": 1940,
     "status": "ok",
     "timestamp": 1583472720455,
     "user": {
      "displayName": "Junichiro Mori",
      "photoUrl": "",
      "userId": "01008898198902510619"
     },
     "user_tz": -540
    },
    "id": "CIJu9BVpU7O8",
    "outputId": "5a84fcd5-e006-4fbe-ed10-e58fc1ed0e63"
   },
   "outputs": [],
   "source": [
    "type(ppap)"
   ]
  },
  {
   "cell_type": "markdown",
   "metadata": {
    "colab_type": "text",
    "id": "FqPde4txU7PB"
   },
   "source": [
    "辞書の `キー1` に対応する値を得るには、リストにおけるインデックスと同様に、\n",
    "\n",
    "---\n",
    "```Python\n",
    " 辞書[キー1]\n",
    "```\n",
    "---\n",
    "\n",
    "とします。"
   ]
  },
  {
   "cell_type": "code",
   "execution_count": null,
   "metadata": {
    "colab": {
     "base_uri": "https://localhost:8080/",
     "height": 34
    },
    "colab_type": "code",
    "executionInfo": {
     "elapsed": 954,
     "status": "ok",
     "timestamp": 1583472728781,
     "user": {
      "displayName": "Junichiro Mori",
      "photoUrl": "",
      "userId": "01008898198902510619"
     },
     "user_tz": -540
    },
    "id": "otZ6jTr0U7PC",
    "outputId": "cfee7533-b07a-4fcc-f474-b5f8900cb520"
   },
   "outputs": [],
   "source": [
    "ppap = {'apple' : 3, 'pen' : 5}\n",
    "ppap['apple']"
   ]
  },
  {
   "cell_type": "markdown",
   "metadata": {
    "colab_type": "text",
    "id": "qjjPuRpIU7PG"
   },
   "source": [
    "辞書に登録されていないキーを指定すると、エラーになります。"
   ]
  },
  {
   "cell_type": "code",
   "execution_count": null,
   "metadata": {
    "colab": {
     "base_uri": "https://localhost:8080/",
     "height": 166
    },
    "colab_type": "code",
    "executionInfo": {
     "elapsed": 1027,
     "status": "error",
     "timestamp": 1583472731716,
     "user": {
      "displayName": "Junichiro Mori",
      "photoUrl": "",
      "userId": "01008898198902510619"
     },
     "user_tz": -540
    },
    "id": "wiWyUDQ3U7PI",
    "outputId": "0aa8a34d-3b79-4c36-abf4-4eed94f784ac",
    "scrolled": false,
    "tags": [
     "raises-exception"
    ]
   },
   "outputs": [],
   "source": [
    "ppap['orange']"
   ]
  },
  {
   "cell_type": "markdown",
   "metadata": {
    "colab_type": "text",
    "id": "TKFeoHL5U7PS"
   },
   "source": [
    "キーに対する値を変更したり、新たなキーと値を登録するには代入文を用います。"
   ]
  },
  {
   "cell_type": "code",
   "execution_count": null,
   "metadata": {
    "colab": {
     "base_uri": "https://localhost:8080/",
     "height": 34
    },
    "colab_type": "code",
    "executionInfo": {
     "elapsed": 1163,
     "status": "ok",
     "timestamp": 1583472739432,
     "user": {
      "displayName": "Junichiro Mori",
      "photoUrl": "",
      "userId": "01008898198902510619"
     },
     "user_tz": -540
    },
    "id": "q6R9MbLlU7PT",
    "outputId": "e535ead3-8074-48bb-894e-0ef886044370"
   },
   "outputs": [],
   "source": [
    "ppap = {'apple' : 3, 'pen' : 5}\n",
    "ppap['apple'] = 10\n",
    "ppap['pinapple'] = 7\n",
    "ppap"
   ]
  },
  {
   "cell_type": "markdown",
   "metadata": {
    "colab_type": "text",
    "id": "ipbctMeUU7PX"
   },
   "source": [
    "上のようにキーから値は取り出せますが、値からキーを直接取り出すことは出来ません。\n",
    "また、リストのようにインデックスを指定して値を取得することは出来ません。"
   ]
  },
  {
   "cell_type": "code",
   "execution_count": null,
   "metadata": {
    "colab": {
     "base_uri": "https://localhost:8080/",
     "height": 166
    },
    "colab_type": "code",
    "executionInfo": {
     "elapsed": 634,
     "status": "error",
     "timestamp": 1583472746624,
     "user": {
      "displayName": "Junichiro Mori",
      "photoUrl": "",
      "userId": "01008898198902510619"
     },
     "user_tz": -540
    },
    "id": "Yx0C15-QU7PY",
    "outputId": "b68a91f0-3cbd-4f8e-a164-1bc3d0b657dd",
    "tags": [
     "raises-exception"
    ]
   },
   "outputs": [],
   "source": [
    "ppap[1]"
   ]
  },
  {
   "cell_type": "markdown",
   "metadata": {
    "colab_type": "text",
    "id": "RUrQdbKMU7Pb"
   },
   "source": [
    "キーが辞書に登録されているかどうかは、演算子 **`in`** を用いて調べることができます。"
   ]
  },
  {
   "cell_type": "code",
   "execution_count": null,
   "metadata": {
    "colab": {
     "base_uri": "https://localhost:8080/",
     "height": 34
    },
    "colab_type": "code",
    "executionInfo": {
     "elapsed": 471,
     "status": "ok",
     "timestamp": 1583472749795,
     "user": {
      "displayName": "Junichiro Mori",
      "photoUrl": "",
      "userId": "01008898198902510619"
     },
     "user_tz": -540
    },
    "id": "afBCd8JmU7Pc",
    "outputId": "b79c5980-927b-4a24-f2c6-ce36c1e7b8ec"
   },
   "outputs": [],
   "source": [
    "ppap = {'apple': 3, 'pen': 5}\n",
    "'apple' in ppap"
   ]
  },
  {
   "cell_type": "code",
   "execution_count": null,
   "metadata": {
    "colab": {
     "base_uri": "https://localhost:8080/",
     "height": 34
    },
    "colab_type": "code",
    "executionInfo": {
     "elapsed": 510,
     "status": "ok",
     "timestamp": 1583472752010,
     "user": {
      "displayName": "Junichiro Mori",
      "photoUrl": "",
      "userId": "01008898198902510619"
     },
     "user_tz": -540
    },
    "id": "vkxmW7LJU7Pg",
    "outputId": "a116b17e-fe1d-402c-8274-b4cb6b7e30a2"
   },
   "outputs": [],
   "source": [
    "'banana' in ppap"
   ]
  },
  {
   "cell_type": "markdown",
   "metadata": {
    "colab_type": "text",
    "id": "i0_UC2CMU7Pj"
   },
   "source": [
    "組み込み関数 **`len`** によって、辞書に登録されている要素、キーと値のペア、の数が得られます。"
   ]
  },
  {
   "cell_type": "code",
   "execution_count": null,
   "metadata": {
    "colab": {
     "base_uri": "https://localhost:8080/",
     "height": 34
    },
    "colab_type": "code",
    "executionInfo": {
     "elapsed": 490,
     "status": "ok",
     "timestamp": 1583472755543,
     "user": {
      "displayName": "Junichiro Mori",
      "photoUrl": "",
      "userId": "01008898198902510619"
     },
     "user_tz": -540
    },
    "id": "wOdvbUrAU7Pk",
    "outputId": "00aff685-3341-4168-8040-097551b9292f"
   },
   "outputs": [],
   "source": [
    "ppap = {'apple': 3, 'pen': 5}\n",
    "len(ppap)"
   ]
  },
  {
   "cell_type": "markdown",
   "metadata": {
    "colab_type": "text",
    "id": "3CLus5XBU7Pn"
   },
   "source": [
    "**`del`** 文によって、登録されているキーの要素を削除することが出来ます。具体的には、次のように削除します。\n",
    "\n",
    "---\n",
    "```Python\n",
    "del 辞書[削除したいキー]\n",
    "```\n",
    "---"
   ]
  },
  {
   "cell_type": "code",
   "execution_count": null,
   "metadata": {
    "colab": {
     "base_uri": "https://localhost:8080/",
     "height": 34
    },
    "colab_type": "code",
    "executionInfo": {
     "elapsed": 476,
     "status": "ok",
     "timestamp": 1583472759456,
     "user": {
      "displayName": "Junichiro Mori",
      "photoUrl": "",
      "userId": "01008898198902510619"
     },
     "user_tz": -540
    },
    "id": "L6KpMzQhU7Po",
    "outputId": "d4ceebdf-2993-44f9-d7e3-ad99ce582a75"
   },
   "outputs": [],
   "source": [
    "ppap = {'apple' : 3, 'pen' : 5}\n",
    "del ppap['pen']\n",
    "ppap"
   ]
  },
  {
   "cell_type": "markdown",
   "metadata": {
    "colab_type": "text",
    "id": "UJm0RKHgU7Pr"
   },
   "source": [
    "空のリストと同様に空の辞書を作ることもできます。このような空のデータは繰り返し処理でしばしば使われます。"
   ]
  },
  {
   "cell_type": "code",
   "execution_count": null,
   "metadata": {
    "colab": {
     "base_uri": "https://localhost:8080/",
     "height": 34
    },
    "colab_type": "code",
    "executionInfo": {
     "elapsed": 480,
     "status": "ok",
     "timestamp": 1583472762296,
     "user": {
      "displayName": "Junichiro Mori",
      "photoUrl": "",
      "userId": "01008898198902510619"
     },
     "user_tz": -540
    },
    "id": "gtRRlLjyU7Ps",
    "outputId": "b86bdd62-f543-4991-936c-591e0e50c8e7"
   },
   "outputs": [],
   "source": [
    "empty_d = {}\n",
    "empty_d"
   ]
  },
  {
   "cell_type": "markdown",
   "metadata": {
    "colab_type": "text",
    "id": "6e90guS3U7Pv"
   },
   "source": [
    "## 練習\n",
    "\n",
    "リスト `list1` が引数として与えられたとき、`list1` の各要素 `value` をキー、` value` の `list1` におけるインデックスをキーに対応する値とした辞書を返す関数 `reverse_lookup` を作成してください。\n",
    "\n",
    "以下のセルの `...` のところを書き換えて `reverse_lookup(list1)` を作成してください。"
   ]
  },
  {
   "cell_type": "code",
   "execution_count": null,
   "metadata": {
    "colab": {},
    "colab_type": "code",
    "id": "Dk85PngQU7Pw"
   },
   "outputs": [],
   "source": [
    "def reverse_lookup(list1):\n",
    "    ..."
   ]
  },
  {
   "cell_type": "markdown",
   "metadata": {
    "colab_type": "text",
    "id": "6TynBJI3U7P0"
   },
   "source": [
    "上のセルで解答を作成した後、以下のセルを実行し、実行結果が `True` になることを確認してください。"
   ]
  },
  {
   "cell_type": "code",
   "execution_count": null,
   "metadata": {
    "colab": {},
    "colab_type": "code",
    "id": "llZ3rbdtU7P1"
   },
   "outputs": [],
   "source": [
    "print(reverse_lookup(['apple', 'pen', 'orange']) == {'apple': 0, 'orange': 2, 'pen': 1})"
   ]
  },
  {
   "cell_type": "markdown",
   "metadata": {
    "colab_type": "text",
    "id": "Xsabx0liU7P4"
   },
   "source": [
    "## 辞書のメソッド\n",
    "辞書のメソッドを紹介しておきます。"
   ]
  },
  {
   "cell_type": "markdown",
   "metadata": {
    "colab_type": "text",
    "id": "KTgZhcHxU7P5"
   },
   "source": [
    "### キーを指定して値を得るメソッド\n",
    "\n",
    "**`get`** メソッドは、引数として指定したキーが辞書に含まれてる場合にはその値を取得し、\n",
    "指定したキーが含まれていない場合には `None` を返します。\n",
    "`get` を利用することで、エラーを回避し、登録されているかどうか分からないキーを使うことができます。\n",
    "先に説明したキーを括弧、`[...]`、で指定する方法では、\n",
    "辞書にキーが存在しないとエラーとなりプログラムの実行が停止してしまいます。"
   ]
  },
  {
   "cell_type": "code",
   "execution_count": null,
   "metadata": {
    "colab": {
     "base_uri": "https://localhost:8080/",
     "height": 234
    },
    "colab_type": "code",
    "executionInfo": {
     "elapsed": 507,
     "status": "error",
     "timestamp": 1583472817232,
     "user": {
      "displayName": "Junichiro Mori",
      "photoUrl": "",
      "userId": "01008898198902510619"
     },
     "user_tz": -540
    },
    "id": "IP5vpXEnU7P6",
    "outputId": "9bea7153-734a-4e04-cc92-618a9d62540b",
    "tags": [
     "raises-exception"
    ]
   },
   "outputs": [],
   "source": [
    "ppap = {'apple' : 3, 'pen' : 5}\n",
    "print('キーappleに対応する値 = ', ppap.get('apple'))\n",
    "print('キーorangeに対応する値 = ', ppap.get('orange'))\n",
    "print('キーorangeに対応する値（エラー） = ', ppap['orange'])"
   ]
  },
  {
   "cell_type": "markdown",
   "metadata": {
    "colab_type": "text",
    "id": "aOpckjZwU7P8"
   },
   "source": [
    "また、`get` に2番目の引数を与えると、その値を「指定したキーが含まれていない場合」に返る値とすることができます。"
   ]
  },
  {
   "cell_type": "code",
   "execution_count": null,
   "metadata": {
    "colab": {
     "base_uri": "https://localhost:8080/",
     "height": 50
    },
    "colab_type": "code",
    "executionInfo": {
     "elapsed": 449,
     "status": "ok",
     "timestamp": 1583472830656,
     "user": {
      "displayName": "Junichiro Mori",
      "photoUrl": "",
      "userId": "01008898198902510619"
     },
     "user_tz": -540
    },
    "id": "lDIe6rYuU7P9",
    "outputId": "186d02f7-c754-4a7f-9246-1646d836d461"
   },
   "outputs": [],
   "source": [
    "ppap = {'apple' : 3, 'pen' : 5}\n",
    "print('キーappleに対応する値 = ', ppap.get('apple', -1))\n",
    "print('キーorangeに対応する値 = ', ppap.get('orange', -1))"
   ]
  },
  {
   "cell_type": "markdown",
   "metadata": {
    "colab_type": "text",
    "id": "yxKT5j1bU7P_"
   },
   "source": [
    "### ▲キーがない場合に登録を行う\n",
    "\n",
    "**`setdefault`** メソッドは、\n",
    "指定したキーが辞書に含まれてる場合には、対応する値を返します。 \n",
    "キーが含まれていない場合には、2番目の引数として指定した値を返すと同時に、キーに対応する値として登録します。"
   ]
  },
  {
   "cell_type": "code",
   "execution_count": null,
   "metadata": {
    "colab": {
     "base_uri": "https://localhost:8080/",
     "height": 84
    },
    "colab_type": "code",
    "executionInfo": {
     "elapsed": 469,
     "status": "ok",
     "timestamp": 1583472849797,
     "user": {
      "displayName": "Junichiro Mori",
      "photoUrl": "",
      "userId": "01008898198902510619"
     },
     "user_tz": -540
    },
    "id": "AXmPHhhlU7QA",
    "outputId": "02fb24d0-a2e9-40e4-e963-d7f9ba1674a3"
   },
   "outputs": [],
   "source": [
    "ppap = {'apple' : 3, 'pen' : 5}\n",
    "print('キーappleに対応する値 = ', ppap.setdefault('apple', 7))\n",
    "print('setdefault(\"apple\", 7)を実行後の辞書 = ', ppap)\n",
    "print('キーorangeに対応する値 = ', ppap.setdefault('orange', 7))\n",
    "print('setdefault(\"orange\", 7)を実行後の辞書 = ', ppap)"
   ]
  },
  {
   "cell_type": "markdown",
   "metadata": {
    "colab_type": "text",
    "id": "Ft5R-Q2HU7QE"
   },
   "source": [
    "### ▲キーを指定した削除\n",
    "\n",
    "**`pop`** メソッドは指定したキーおよびそれに対応する値を削除し、削除されるキーに対応付けられた値を返します。"
   ]
  },
  {
   "cell_type": "code",
   "execution_count": null,
   "metadata": {
    "colab": {
     "base_uri": "https://localhost:8080/",
     "height": 50
    },
    "colab_type": "code",
    "executionInfo": {
     "elapsed": 446,
     "status": "ok",
     "timestamp": 1583472854602,
     "user": {
      "displayName": "Junichiro Mori",
      "photoUrl": "",
      "userId": "01008898198902510619"
     },
     "user_tz": -540
    },
    "id": "iAiJKJu7U7QF",
    "outputId": "82358ee7-b578-4003-fe0d-385dc3dd74ac"
   },
   "outputs": [],
   "source": [
    "ppap = {'apple' : 3, 'pen' : 5}\n",
    "print(ppap.pop('pen'))\n",
    "print(ppap)"
   ]
  },
  {
   "cell_type": "markdown",
   "metadata": {
    "colab_type": "text",
    "id": "uUQVJR0IU7QH"
   },
   "source": [
    "### ▲全てのキーと値の削除\n",
    "**`clear`** メソッドは全てのキーと値を削除します。その結果、辞書は空となります。"
   ]
  },
  {
   "cell_type": "code",
   "execution_count": null,
   "metadata": {
    "colab": {
     "base_uri": "https://localhost:8080/",
     "height": 34
    },
    "colab_type": "code",
    "executionInfo": {
     "elapsed": 436,
     "status": "ok",
     "timestamp": 1583472857605,
     "user": {
      "displayName": "Junichiro Mori",
      "photoUrl": "",
      "userId": "01008898198902510619"
     },
     "user_tz": -540
    },
    "id": "rFzylvwqU7QI",
    "outputId": "d123a4b2-1600-4d1c-9e04-6cc2b4cb3e69"
   },
   "outputs": [],
   "source": [
    "ppap = {'apple' : 3, 'pen' : 5}\n",
    "ppap.clear()\n",
    "ppap"
   ]
  },
  {
   "cell_type": "markdown",
   "metadata": {
    "colab_type": "text",
    "id": "UVDorv-QU7QK"
   },
   "source": [
    "### キーの一覧を得る\n",
    "**`keys`** メソッドはキーの一覧を返します。これはリストのようなものとして扱うことができ、\n",
    "`for` ループと組み合わせて繰り返し処理で利用されます（3-2 を参照してください）。\n",
    "以下のように、**`keys`** メソッドが返した結果に関数 `list` を適用すると、\n",
    "通常のリストになります。"
   ]
  },
  {
   "cell_type": "code",
   "execution_count": null,
   "metadata": {
    "colab": {
     "base_uri": "https://localhost:8080/",
     "height": 34
    },
    "colab_type": "code",
    "executionInfo": {
     "elapsed": 469,
     "status": "ok",
     "timestamp": 1583472868596,
     "user": {
      "displayName": "Junichiro Mori",
      "photoUrl": "",
      "userId": "01008898198902510619"
     },
     "user_tz": -540
    },
    "id": "QTB_gs9bU7QL",
    "outputId": "47c94cb8-b003-4454-9fd8-34d097e48fe4"
   },
   "outputs": [],
   "source": [
    "ppap = {'apple' : 3, 'pen' : 5}\n",
    "list(ppap.keys())"
   ]
  },
  {
   "cell_type": "markdown",
   "metadata": {
    "colab_type": "text",
    "id": "jloVO_ZxU7QN"
   },
   "source": [
    "### 値の一覧を得る\n",
    "**`values`** メソッドはキーに対応する全ての値の一覧を返します。これもリストのようなものとして扱うことができます。"
   ]
  },
  {
   "cell_type": "code",
   "execution_count": null,
   "metadata": {
    "colab": {
     "base_uri": "https://localhost:8080/",
     "height": 34
    },
    "colab_type": "code",
    "executionInfo": {
     "elapsed": 462,
     "status": "ok",
     "timestamp": 1583472871634,
     "user": {
      "displayName": "Junichiro Mori",
      "photoUrl": "",
      "userId": "01008898198902510619"
     },
     "user_tz": -540
    },
    "id": "gQvwFFAoU7QO",
    "outputId": "4fe60779-1222-4154-dbcf-47a10a541be9"
   },
   "outputs": [],
   "source": [
    "list(ppap.values())"
   ]
  },
  {
   "cell_type": "markdown",
   "metadata": {
    "colab_type": "text",
    "id": "2haU9nhwU7QR"
   },
   "source": [
    "### キーと値の一覧を得る\n",
    "**`items`** メソッドはキーとそれに対応する値をタプルにした一覧を返します。 これもタプルを要素とするリストのようなものとして扱うことができ、forループなどで活用します（3-2 を参照してください）。"
   ]
  },
  {
   "cell_type": "code",
   "execution_count": null,
   "metadata": {
    "colab": {
     "base_uri": "https://localhost:8080/",
     "height": 34
    },
    "colab_type": "code",
    "executionInfo": {
     "elapsed": 542,
     "status": "ok",
     "timestamp": 1583472881157,
     "user": {
      "displayName": "Junichiro Mori",
      "photoUrl": "",
      "userId": "01008898198902510619"
     },
     "user_tz": -540
    },
    "id": "xnI7sRRWU7QS",
    "outputId": "601f7dcc-18a9-467a-b78d-fa84ee91d779"
   },
   "outputs": [],
   "source": [
    "list(ppap.items())"
   ]
  },
  {
   "cell_type": "markdown",
   "metadata": {
    "colab_type": "text",
    "id": "rKWYhErGU7QV"
   },
   "source": [
    "### ▲辞書を複製する\n",
    "**`copy`** メソッドは辞書を複製します。リストの場合と同様に一方の辞書を変更してももう一方の辞書は影響を受けません。"
   ]
  },
  {
   "cell_type": "code",
   "execution_count": null,
   "metadata": {
    "colab": {
     "base_uri": "https://localhost:8080/",
     "height": 50
    },
    "colab_type": "code",
    "executionInfo": {
     "elapsed": 481,
     "status": "ok",
     "timestamp": 1583472892856,
     "user": {
      "displayName": "Junichiro Mori",
      "photoUrl": "",
      "userId": "01008898198902510619"
     },
     "user_tz": -540
    },
    "id": "PLYrnA23U7QW",
    "outputId": "a7d36355-9c2d-4703-bea1-3124071a72d9"
   },
   "outputs": [],
   "source": [
    "ppap = {'apple': 3, 'pen': 5, 'orange': 7}\n",
    "ppap2 = ppap.copy()\n",
    "ppap['banana'] = 9\n",
    "print(ppap)\n",
    "print(ppap2)"
   ]
  },
  {
   "cell_type": "markdown",
   "metadata": {
    "colab_type": "text",
    "id": "0HfVW7-TU7QZ"
   },
   "source": [
    "### ▲` keys`, `values`, `items` の返り値\n",
    "`keys`, `values`, `items` メソッドの一連の説明では、返り値を「リストのようなもの」と表現してきました。\n",
    "通常のリストとどう違うのでしょうか？\n",
    "\n",
    "次の例では、`ppap` の `keys`, `values`, `items` メソッドの返り値をそれぞれ `ks`, `vs`, `itms` に代入し、\n",
    "`print` でそれぞれの内容を表示させています。\n",
    "\n",
    "次いで、`ppap` に新たな要素を加えたのちに、同じ変数の内容を表示させています。 \n",
    "一、二回目の `print` で内容が異なることに注意してください。\n",
    "もとの辞書が更新されると、これらの内容も動的に変わります。  "
   ]
  },
  {
   "cell_type": "code",
   "execution_count": null,
   "metadata": {
    "colab": {
     "base_uri": "https://localhost:8080/",
     "height": 118
    },
    "colab_type": "code",
    "executionInfo": {
     "elapsed": 522,
     "status": "ok",
     "timestamp": 1583472912403,
     "user": {
      "displayName": "Junichiro Mori",
      "photoUrl": "",
      "userId": "01008898198902510619"
     },
     "user_tz": -540
    },
    "id": "puKDl33cU7Qa",
    "outputId": "b899c9aa-1547-4c29-e40d-ab119297cadd"
   },
   "outputs": [],
   "source": [
    "ppap = {'apple': 3, 'pen': 5, 'orange': 7}\n",
    "ks = ppap.keys()\n",
    "vs = ppap.values()\n",
    "itms = ppap.items()\n",
    "print(list(ks))\n",
    "print(list(vs))\n",
    "print(list(itms))\n",
    "ppap['kiwi'] = 9\n",
    "print(list(ks))\n",
    "print(list(vs))\n",
    "print(list(itms))"
   ]
  },
  {
   "cell_type": "markdown",
   "metadata": {
    "colab_type": "text",
    "id": "lXmz6vpVU7Qd"
   },
   "source": [
    "## 辞書とリスト"
   ]
  },
  {
   "cell_type": "markdown",
   "metadata": {
    "colab_type": "text",
    "id": "DGEB6E-aU7Qd"
   },
   "source": [
    "冒頭で述べたように、辞書では値としてあらゆる型のデータを使用できます。\n",
    "すなわち、次のように値としてリストを使用する辞書を作成可能です。\n",
    "リストの要素にアクセスするには数字インデックスをさらに指定します。"
   ]
  },
  {
   "cell_type": "code",
   "execution_count": null,
   "metadata": {
    "colab": {
     "base_uri": "https://localhost:8080/",
     "height": 50
    },
    "colab_type": "code",
    "executionInfo": {
     "elapsed": 497,
     "status": "ok",
     "timestamp": 1583472940856,
     "user": {
      "displayName": "Junichiro Mori",
      "photoUrl": "",
      "userId": "01008898198902510619"
     },
     "user_tz": -540
    },
    "id": "9rolNz8DU7Qe",
    "outputId": "db090d00-eb37-4d58-a2f4-f583c4f4395f"
   },
   "outputs": [],
   "source": [
    "numbers = {'dozens': [10, 20, 40], 'hundreds': [100, 101, 120, 140]}\n",
    "print(numbers['dozens'])\n",
    "print(numbers['dozens'][1])"
   ]
  },
  {
   "cell_type": "markdown",
   "metadata": {
    "colab_type": "text",
    "id": "Tn54ETvAU7Qi"
   },
   "source": [
    "逆に、辞書を要素とするリストを作成することもできます。"
   ]
  },
  {
   "cell_type": "code",
   "execution_count": null,
   "metadata": {
    "colab": {
     "base_uri": "https://localhost:8080/",
     "height": 50
    },
    "colab_type": "code",
    "executionInfo": {
     "elapsed": 592,
     "status": "ok",
     "timestamp": 1583472945737,
     "user": {
      "displayName": "Junichiro Mori",
      "photoUrl": "",
      "userId": "01008898198902510619"
     },
     "user_tz": -540
    },
    "id": "yPXrNb38U7Qj",
    "outputId": "50adb477-412b-4639-bb15-074d018cf138"
   },
   "outputs": [],
   "source": [
    "ppap = {'apple': 3, 'pen': 5}\n",
    "pets = {'cat': 3, 'dog': 3, 'elephant': 8}\n",
    "ld = [ppap, pets]\n",
    "print(ld[1])\n",
    "print(ld[1]['dog'])"
   ]
  },
  {
   "cell_type": "markdown",
   "metadata": {
    "colab_type": "text",
    "id": "dDIPrF5-U7Qm"
   },
   "source": [
    "## 練習\n",
    "\n",
    "辞書 `dic1` と文字列 `str1` が引数として与えられたとき、\n",
    "以下のように `dic1` を変更する関数 `handle_collision` を作成してください。\n",
    "ただし、`dic1` のキーは整数、キーに対応する値は文字列を要素とするリストとします。\n",
    "1. `dic1` に `str1` の長さ `n` がキーとして登録されていない場合、`str1` のみを要素とするリスト `ls` を作成し、 `dic1` にキー `n`、`n` に対応する値 `ls` を登録します。\n",
    "2. `dic1` に `str1` の長さ `n` がキーとして登録されている場合、そのキーに対応する値（リスト）に `str1` を追加します。\n",
    "\n",
    "以下のセルの `...` のところを書き換えて `handle_collision(dic1, str1)` を作成してください。"
   ]
  },
  {
   "cell_type": "code",
   "execution_count": null,
   "metadata": {
    "colab": {},
    "colab_type": "code",
    "id": "-1YKZGXXU7Qn"
   },
   "outputs": [],
   "source": [
    "def handle_collision(dic1, str1):\n",
    "    ..."
   ]
  },
  {
   "cell_type": "markdown",
   "metadata": {
    "colab_type": "text",
    "id": "6QRJC28QU7Qq"
   },
   "source": [
    "上のセルで解答を作成した後、以下のセルを実行し、実行結果が `True` になることを確認してください。"
   ]
  },
  {
   "cell_type": "code",
   "execution_count": null,
   "metadata": {
    "colab": {},
    "colab_type": "code",
    "id": "unA2QDBQU7Qs"
   },
   "outputs": [],
   "source": [
    "dic1_orig = {3: ['ham', 'egg'], 6: ['coffee', 'brandy'], 9: ['port wine'], 15: ['curried chicken']}\n",
    "dic1_result = {3: ['ham', 'egg', 'tea'], 6: ['coffee', 'brandy'], 9: ['port wine'], 15: ['curried chicken']}\n",
    "handle_collision(dic1_orig, 'tea')\n",
    "print(dic1_orig == dic1_result)"
   ]
  },
  {
   "cell_type": "markdown",
   "metadata": {
    "colab_type": "text",
    "id": "T4U-Xj9KU7Qv"
   },
   "source": [
    "## 練習の解答"
   ]
  },
  {
   "cell_type": "code",
   "execution_count": null,
   "metadata": {
    "colab": {},
    "colab_type": "code",
    "id": "o840XdZDU7Qw"
   },
   "outputs": [],
   "source": [
    "def reverse_lookup(list1):\n",
    "    dic1 = {}  # 空の辞書を作成する\n",
    "    for value in list1:\n",
    "        dic1[value] = list1.index(value)\n",
    "    return dic1\n",
    "#reverse_lookup(['apple', 'pen', 'orange'])"
   ]
  },
  {
   "cell_type": "code",
   "execution_count": null,
   "metadata": {
    "colab": {},
    "colab_type": "code",
    "id": "sg2aX8cQU7Qz"
   },
   "outputs": [],
   "source": [
    "def handle_collision(dic1, str1):\n",
    "    if dic1.get(len(str1)) is None:\n",
    "        ls = [str1]\n",
    "    else:\n",
    "        ls = dic1[len(str1)]\n",
    "        ls.append(str1)\n",
    "    dic1[len(str1)] = ls\n",
    "#handle_collision({3: ['ham', 'egg'], 6: ['coffee', 'brandy'], 9: ['port wine'], 15: ['curried chicken']}, 'tea')"
   ]
  },
  {
   "cell_type": "code",
   "execution_count": null,
   "metadata": {
    "colab": {},
    "colab_type": "code",
    "id": "v4GZ9f5vU7Q2"
   },
   "outputs": [],
   "source": []
  }
 ],
 "metadata": {
  "colab": {
   "collapsed_sections": [],
   "name": "3-1.ipynb",
   "provenance": [],
   "toc_visible": true
  },
  "kernelspec": {
   "display_name": "Python 3",
   "language": "python",
   "name": "python3"
  },
  "language_info": {
   "codemirror_mode": {
    "name": "ipython",
    "version": 3
   },
   "file_extension": ".py",
   "mimetype": "text/x-python",
   "name": "python",
   "nbconvert_exporter": "python",
   "pygments_lexer": "ipython3",
   "version": "3.7.3"
  }
 },
 "nbformat": 4,
 "nbformat_minor": 1
}
