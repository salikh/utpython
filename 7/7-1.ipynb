{
 "cells": [
  {
   "cell_type": "markdown",
   "metadata": {
    "colab_type": "text",
    "id": "5ZGwP31spVSS"
   },
   "source": [
    "# 7-1. pandasライブラリ\n",
    "pandasライブラリについて説明します。\n",
    "\n",
    "参考\n",
    "- http://pandas.pydata.org/pandas-docs/stable/getting_started/index.html\n",
    "- http://pandas.pydata.org/pandas-docs/stable/\n",
    "\n",
    "**pandas**ライブラリにはデータ分析作業を支援するためのモジュールが含まれています。以下では、pandasライブラリのモジュールの基本的な使い方について説明します。\n",
    "\n",
    "pandasライブラリを使用するには、まず`pandas` モジュールをインポートします。慣例として、同モジュールを `pd` と別名をつけてコードの中で使用します。データの生成に用いるため、ここでは `numpy` モジュールも併せてインポートします。\n"
   ]
  },
  {
   "cell_type": "code",
   "execution_count": null,
   "metadata": {
    "colab": {},
    "colab_type": "code",
    "id": "gXfyvRVepVSV"
   },
   "outputs": [],
   "source": [
    "import pandas as pd\n",
    "import numpy as np"
   ]
  },
  {
   "cell_type": "markdown",
   "metadata": {
    "colab_type": "text",
    "id": "vxYrtx-RpVSa"
   },
   "source": [
    "## シリーズとデータフレーム\n",
    "`pandas` モジュールは、リスト、配列や辞書などのデータを**シリーズ** (**`Series`**) あるいは**データフレーム** (**`DataFrame`**) のオブジェクトとして保持します。シリーズは列、データフレームは複数の列で構成されます。シリーズやデータフレームの行は**インデックス** `index` で管理され、インデックスには 0 から始まる番号、または任意のラベルが付けられています。インデックスが番号の場合は、シリーズやデータフレームはそれぞれNumPyの配列、2次元配列とみなすことができます。また、インデックスがラベルの場合は、ラベルをキー、各行を値とした辞書としてシリーズやデータフレームをみなすことができます。"
   ]
  },
  {
   "cell_type": "markdown",
   "metadata": {
    "colab_type": "text",
    "id": "vYevgL6upVSb"
   },
   "source": [
    "## シリーズ (`Series`) の作成\n",
    "シリーズのオブジェクトは、以下のように、リスト、配列や辞書から作成することができます。"
   ]
  },
  {
   "cell_type": "code",
   "execution_count": null,
   "metadata": {
    "colab": {
     "base_uri": "https://localhost:8080/",
     "height": 218
    },
    "colab_type": "code",
    "executionInfo": {
     "elapsed": 952,
     "status": "ok",
     "timestamp": 1583561982996,
     "user": {
      "displayName": "Junichiro Mori",
      "photoUrl": "",
      "userId": "01008898198902510619"
     },
     "user_tz": -540
    },
    "id": "u7wyUVv4pVSc",
    "outputId": "131cef4f-47d0-49dd-8cf8-87c4aa9b0988"
   },
   "outputs": [],
   "source": [
    "# リストからシリーズの作成\n",
    "s1 = pd.Series([0,1,2])\n",
    "print(s1)\n",
    "\n",
    "# 配列からシリーズの作成\n",
    "s2 = pd.Series(np.random.rand(3))\n",
    "print(s2)\n",
    "\n",
    "# 辞書からシリーズの作成\n",
    "s3 = pd.Series({0:'boo',1:'foo',2:'woo'})\n",
    "print(s3)"
   ]
  },
  {
   "cell_type": "markdown",
   "metadata": {
    "colab_type": "text",
    "id": "xDx1IKIhpVSg"
   },
   "source": [
    "以下では、シリーズ（列）より一般的なデータフレームの操作と機能について説明していきますが、データフレームオブジェクトの多くの操作や機能はシリーズオブジェクトにも適用できます。"
   ]
  },
  {
   "cell_type": "markdown",
   "metadata": {
    "colab_type": "text",
    "id": "h3teJ4SApVSh"
   },
   "source": [
    "## データフレーム (`DataFrame`) の作成\n",
    "データフレームのオブジェクトは、以下のように、リスト、配列や辞書から作成することができます。行のラベルは、`DataFrame` の `index` 引数で指定できますが、以下のデータフレーム作成の例、`d2`, `d3`、 では同インデックスを省略しているため、0 から始まるインデックス番号がラベルとして行に自動的に付けられます。列のラベルは `columns` 引数で指定します。辞書からデータフレームを作成する際は、`columns` 引数で列の順番を指定することになります。"
   ]
  },
  {
   "cell_type": "code",
   "execution_count": null,
   "metadata": {
    "colab": {
     "base_uri": "https://localhost:8080/",
     "height": 252
    },
    "colab_type": "code",
    "executionInfo": {
     "elapsed": 989,
     "status": "ok",
     "timestamp": 1583561992226,
     "user": {
      "displayName": "Junichiro Mori",
      "photoUrl": "",
      "userId": "01008898198902510619"
     },
     "user_tz": -540
    },
    "id": "i9sgysd9pVSj",
    "outputId": "68245c5e-d10d-4730-822e-c99ea4b525b6"
   },
   "outputs": [],
   "source": [
    "# 多次元リストからデータフレームの作成\n",
    "d1 = pd.DataFrame([[0,1,2],[3,4,5],[6,7,8],[9,10,11]], index=[10,11,12,13], columns=['c1','c2','c3'])\n",
    "print(d1)\n",
    "\n",
    "# 多次元配列からデータフレームの作成\n",
    "d2 = pd.DataFrame(np.random.rand(12).reshape(4,3), columns=['c1','c2','c3'])\n",
    "print(d2)\n",
    "\n",
    "# 辞書からデータフレームの作成\n",
    "d3 = pd.DataFrame({'Initial':['B','F','W'], 'Name':['boo', 'foo', 'woo']}, columns=['Name','Initial'])\n",
    "print(d3)"
   ]
  },
  {
   "cell_type": "markdown",
   "metadata": {
    "colab_type": "text",
    "id": "mwMDdFUPpVSm"
   },
   "source": [
    "## CSVファイルからのデータフレームの作成\n",
    "`pandas` モジュールの **`read_csv()`** 関数を用いて、以下のように**CSVファイル**を読み込んで、データフレームのオブジェクトを作成することができます。`read_csv()` 関数の `encoding` 引数にはファイルの文字コードを指定します。CSVファイル `iris.csv` には、以下のようにアヤメの種類 (species) と花弁 (petal)・がく片 (sepal) の長さ (length) と幅 (width) のデータが含まれています。\n",
    "```Python\n",
    "sepal_length, sepal_width, petal_length, petal_width, species\n",
    "5.1, 3.5, 1.4, 0.2, setosa\n",
    "4.9, 3.0, 1.4, 0.2, setosa\n",
    "4.7, 3.2, 1.3, 0.2, setosa\n",
    "...\n",
    "```\n",
    "`head()` 関数を使うとデータフレームの先頭の複数行を表示させることができます。引数には表示させたい行数を指定し、行数を指定しない場合は、5行分のデータが表示されます。"
   ]
  },
  {
   "cell_type": "code",
   "execution_count": null,
   "metadata": {
    "colab": {
     "base_uri": "https://localhost:8080/",
     "height": 202
    },
    "colab_type": "code",
    "executionInfo": {
     "elapsed": 4008,
     "status": "ok",
     "timestamp": 1583562122659,
     "user": {
      "displayName": "Junichiro Mori",
      "photoUrl": "",
      "userId": "01008898198902510619"
     },
     "user_tz": -540
    },
    "id": "wNtvZaFYqELt",
    "outputId": "0e28f3e1-29b1-4c55-f0b1-38bd19c326f4"
   },
   "outputs": [],
   "source": [
    "!wget https://raw.githubusercontent.com/UTokyo-IPP/utpython/master/7/iris.csv"
   ]
  },
  {
   "cell_type": "code",
   "execution_count": null,
   "metadata": {
    "colab": {
     "base_uri": "https://localhost:8080/",
     "height": 343
    },
    "colab_type": "code",
    "executionInfo": {
     "elapsed": 487,
     "status": "ok",
     "timestamp": 1583562125146,
     "user": {
      "displayName": "Junichiro Mori",
      "photoUrl": "",
      "userId": "01008898198902510619"
     },
     "user_tz": -540
    },
    "id": "cSKBo9oNpVSo",
    "outputId": "cea97471-9526-4e61-d27b-d9e446f0ad2f"
   },
   "outputs": [],
   "source": [
    "# CSVファイルの読み込み\n",
    "iris_d = pd.read_csv('iris.csv')\n",
    "\n",
    "# 先頭10行のデータを表示\n",
    "iris_d.head(10)"
   ]
  },
  {
   "cell_type": "markdown",
   "metadata": {
    "colab_type": "text",
    "id": "1BtVQHLDpVSs"
   },
   "source": [
    "データフレームオブジェクトの `index` 属性により、データフレームのインデックスの情報が確認できます。`len()` 関数を用いると、データフレームの行数が取得できます。"
   ]
  },
  {
   "cell_type": "code",
   "execution_count": null,
   "metadata": {
    "colab": {
     "base_uri": "https://localhost:8080/",
     "height": 50
    },
    "colab_type": "code",
    "executionInfo": {
     "elapsed": 480,
     "status": "ok",
     "timestamp": 1583562130032,
     "user": {
      "displayName": "Junichiro Mori",
      "photoUrl": "",
      "userId": "01008898198902510619"
     },
     "user_tz": -540
    },
    "id": "R83AJXE6pVSt",
    "outputId": "f82ae3ad-c4ff-4af9-8507-2eff26ee5833"
   },
   "outputs": [],
   "source": [
    "print(iris_d.index) #インデックスの情報\n",
    "len(iris_d.index) #インデックスの長さ"
   ]
  },
  {
   "cell_type": "markdown",
   "metadata": {
    "colab_type": "text",
    "id": "TrWxXw5rpVSw"
   },
   "source": [
    "## データの参照\n",
    "シリーズやデータフレームでは、行の位置（行は 0 から始まります）を**スライス**として指定することで任意の行を抽出することができます。"
   ]
  },
  {
   "cell_type": "code",
   "execution_count": null,
   "metadata": {
    "colab": {
     "base_uri": "https://localhost:8080/",
     "height": 195
    },
    "colab_type": "code",
    "executionInfo": {
     "elapsed": 469,
     "status": "ok",
     "timestamp": 1583562135875,
     "user": {
      "displayName": "Junichiro Mori",
      "photoUrl": "",
      "userId": "01008898198902510619"
     },
     "user_tz": -540
    },
    "id": "m7Zo84Q3pVSx",
    "outputId": "1293edfb-d5bc-42d6-a0e0-88b060328703"
   },
   "outputs": [],
   "source": [
    "# データフレームの先頭5行のデータ\n",
    "iris_d[:5]"
   ]
  },
  {
   "cell_type": "code",
   "execution_count": null,
   "metadata": {
    "colab": {
     "base_uri": "https://localhost:8080/",
     "height": 195
    },
    "colab_type": "code",
    "executionInfo": {
     "elapsed": 479,
     "status": "ok",
     "timestamp": 1583562139066,
     "user": {
      "displayName": "Junichiro Mori",
      "photoUrl": "",
      "userId": "01008898198902510619"
     },
     "user_tz": -540
    },
    "id": "ew4KuzAcpVS0",
    "outputId": "acca614d-12c8-4e45-bb8f-50173f9322d1"
   },
   "outputs": [],
   "source": [
    "# データフレームの終端5行のデータ\n",
    "iris_d[-5:]"
   ]
  },
  {
   "cell_type": "markdown",
   "metadata": {
    "colab_type": "text",
    "id": "wTYMOv0apVS4"
   },
   "source": [
    "データフレームから任意の列を抽出するには、`DataFrame.列名` のように、データフレームオブジェクトに `.` で列名をつなげることで、その列を指定してシリーズオブジェクトとして抽出することができます。なお、列名を文字列として、`DataFrame['列名']` のように添字指定しても同様です。"
   ]
  },
  {
   "cell_type": "code",
   "execution_count": null,
   "metadata": {
    "colab": {
     "base_uri": "https://localhost:8080/",
     "height": 202
    },
    "colab_type": "code",
    "executionInfo": {
     "elapsed": 478,
     "status": "ok",
     "timestamp": 1583562150720,
     "user": {
      "displayName": "Junichiro Mori",
      "photoUrl": "",
      "userId": "01008898198902510619"
     },
     "user_tz": -540
    },
    "id": "30j49UD8pVS5",
    "outputId": "f0ff5633-8636-4608-efde-d8d9afd736e3"
   },
   "outputs": [],
   "source": [
    "# データフレームの'species'の列の先頭１０行のデータ\n",
    "iris_d['species'].head(10)"
   ]
  },
  {
   "cell_type": "markdown",
   "metadata": {
    "colab_type": "text",
    "id": "RBGnDF-YpVS8"
   },
   "source": [
    "データフレームの添字として、列名のリストを指定すると複数の列をデータフレームオブジェクトとして抽出することができます。"
   ]
  },
  {
   "cell_type": "code",
   "execution_count": null,
   "metadata": {
    "colab": {
     "base_uri": "https://localhost:8080/",
     "height": 343
    },
    "colab_type": "code",
    "executionInfo": {
     "elapsed": 506,
     "status": "ok",
     "timestamp": 1583562159908,
     "user": {
      "displayName": "Junichiro Mori",
      "photoUrl": "",
      "userId": "01008898198902510619"
     },
     "user_tz": -540
    },
    "id": "V7XTf_DLpVS9",
    "outputId": "82855d1e-9b58-49a4-fd12-9529cd85059a"
   },
   "outputs": [],
   "source": [
    "# データフレームの'sepal_length'とspecies'の列の先頭１０行のデータ\n",
    "iris_d[['sepal_length','species']].head(10)"
   ]
  },
  {
   "cell_type": "markdown",
   "metadata": {
    "colab_type": "text",
    "id": "MEFGTeT-pVTB"
   },
   "source": [
    "### `iloc` と `loc`\n",
    "データフレームオブジェクトの **`iloc`** 属性を用いると、NumPyの多次元配列のスライスと同様に、行と列の位置を指定して任意の行と列を抽出することができます。"
   ]
  },
  {
   "cell_type": "code",
   "execution_count": null,
   "metadata": {
    "colab": {
     "base_uri": "https://localhost:8080/",
     "height": 118
    },
    "colab_type": "code",
    "executionInfo": {
     "elapsed": 477,
     "status": "ok",
     "timestamp": 1583562167763,
     "user": {
      "displayName": "Junichiro Mori",
      "photoUrl": "",
      "userId": "01008898198902510619"
     },
     "user_tz": -540
    },
    "id": "0vKDY-orpVTC",
    "outputId": "f7387d24-5cf9-471e-c971-084a73aa74d3"
   },
   "outputs": [],
   "source": [
    "# データフレームの2行のデータ\n",
    "iris_d.iloc[1]"
   ]
  },
  {
   "cell_type": "code",
   "execution_count": null,
   "metadata": {
    "colab": {
     "base_uri": "https://localhost:8080/",
     "height": 34
    },
    "colab_type": "code",
    "executionInfo": {
     "elapsed": 459,
     "status": "ok",
     "timestamp": 1583562171086,
     "user": {
      "displayName": "Junichiro Mori",
      "photoUrl": "",
      "userId": "01008898198902510619"
     },
     "user_tz": -540
    },
    "id": "9OCSZGNGpVTF",
    "outputId": "fa4cb35c-10fe-4f3d-e070-9ecd3337ca16"
   },
   "outputs": [],
   "source": [
    "# データフレームの2行,2列目のデータ\n",
    "iris_d.iloc[1, 1]"
   ]
  },
  {
   "cell_type": "code",
   "execution_count": null,
   "metadata": {
    "colab": {
     "base_uri": "https://localhost:8080/",
     "height": 195
    },
    "colab_type": "code",
    "executionInfo": {
     "elapsed": 601,
     "status": "ok",
     "timestamp": 1583562175067,
     "user": {
      "displayName": "Junichiro Mori",
      "photoUrl": "",
      "userId": "01008898198902510619"
     },
     "user_tz": -540
    },
    "id": "K_kgargJpVTI",
    "outputId": "138dbe72-6d71-4a2b-9ee3-9aa57fa1e684"
   },
   "outputs": [],
   "source": [
    "# データフレームの1から5行目と1から2列目のデータ\n",
    "iris_d.iloc[0:5, 0:2]"
   ]
  },
  {
   "cell_type": "markdown",
   "metadata": {
    "colab_type": "text",
    "id": "XzrpIgwJpVTN"
   },
   "source": [
    "データフレームオブジェクトの **`loc`** 属性を用いると、抽出したい行のインデックス・ラベルや列のラベルを指定して任意の行と列を抽出することができます。複数のラベルはリストで指定します。行のインデックスは各行に割当てられた番号で、`iloc` で指定する行の位置とは必ずしも一致しないことに注意してください。"
   ]
  },
  {
   "cell_type": "code",
   "execution_count": null,
   "metadata": {
    "colab": {
     "base_uri": "https://localhost:8080/",
     "height": 118
    },
    "colab_type": "code",
    "executionInfo": {
     "elapsed": 503,
     "status": "ok",
     "timestamp": 1583562200706,
     "user": {
      "displayName": "Junichiro Mori",
      "photoUrl": "",
      "userId": "01008898198902510619"
     },
     "user_tz": -540
    },
    "id": "GF068xjjpVTO",
    "outputId": "29c0c887-f4c2-4e11-d274-c868140df33e"
   },
   "outputs": [],
   "source": [
    "# データフレームの行インデックス5のデータ\n",
    "iris_d.loc[5]"
   ]
  },
  {
   "cell_type": "code",
   "execution_count": null,
   "metadata": {
    "colab": {
     "base_uri": "https://localhost:8080/",
     "height": 34
    },
    "colab_type": "code",
    "executionInfo": {
     "elapsed": 514,
     "status": "ok",
     "timestamp": 1583562204791,
     "user": {
      "displayName": "Junichiro Mori",
      "photoUrl": "",
      "userId": "01008898198902510619"
     },
     "user_tz": -540
    },
    "id": "Yks1eKiBpVTR",
    "outputId": "12fd56e0-bbfe-46f8-d5ff-7d903fceac05"
   },
   "outputs": [],
   "source": [
    "# データフレームの行インデックス5と'sepal_length'と列のデータ\n",
    "iris_d.loc[5, 'sepal_length']"
   ]
  },
  {
   "cell_type": "code",
   "execution_count": null,
   "metadata": {
    "colab": {
     "base_uri": "https://localhost:8080/",
     "height": 195
    },
    "colab_type": "code",
    "executionInfo": {
     "elapsed": 578,
     "status": "ok",
     "timestamp": 1583562207669,
     "user": {
      "displayName": "Junichiro Mori",
      "photoUrl": "",
      "userId": "01008898198902510619"
     },
     "user_tz": -540
    },
    "id": "6je_-XRbpVTT",
    "outputId": "f259ac16-5493-46f8-c360-ded6157787b0"
   },
   "outputs": [],
   "source": [
    "# データフレームの行インデックス1から5と'sepal_length'とspecies'の列のデータ\n",
    "iris_d.loc[1:5, ['sepal_length','species']]"
   ]
  },
  {
   "cell_type": "markdown",
   "metadata": {
    "colab_type": "text",
    "id": "DhqSIHWzpVTW"
   },
   "source": [
    "## データの条件取り出し\n",
    "データフレームの列の指定と併せて条件を指定することで、条件にあった行からなるデータフレームを抽出することができます。NumPyの多次元配列の**真理値配列によるインデックスアクセス**と同様に、条件式のブール演算では、`and`、`or`、`not` の代わりに `&`、`|`、`~` を用います。"
   ]
  },
  {
   "cell_type": "code",
   "execution_count": null,
   "metadata": {
    "colab": {
     "base_uri": "https://localhost:8080/",
     "height": 166
    },
    "colab_type": "code",
    "executionInfo": {
     "elapsed": 487,
     "status": "ok",
     "timestamp": 1583562221468,
     "user": {
      "displayName": "Junichiro Mori",
      "photoUrl": "",
      "userId": "01008898198902510619"
     },
     "user_tz": -540
    },
    "id": "ADB5NJcspVTX",
    "outputId": "3f0614b2-27dd-42c1-812a-6fe8ce29d444"
   },
   "outputs": [],
   "source": [
    "# データフレームの'sepal_length'列の値が7より大きく、'species'列の値が3より小さいデータ\n",
    "iris_d[(iris_d['sepal_length'] > 7.0) & (iris_d['sepal_width'] < 3.0)]"
   ]
  },
  {
   "cell_type": "markdown",
   "metadata": {
    "colab_type": "text",
    "id": "F6--Evw_pVTZ"
   },
   "source": [
    "## 列の追加と削除\n",
    "データフレームに列を追加する場合は、以下のように、追加したい新たな列名を指定し、値を代入すると新たな列を追加できます。"
   ]
  },
  {
   "cell_type": "code",
   "execution_count": null,
   "metadata": {
    "colab": {
     "base_uri": "https://localhost:8080/",
     "height": 343
    },
    "colab_type": "code",
    "executionInfo": {
     "elapsed": 482,
     "status": "ok",
     "timestamp": 1583562231121,
     "user": {
      "displayName": "Junichiro Mori",
      "photoUrl": "",
      "userId": "01008898198902510619"
     },
     "user_tz": -540
    },
    "id": "qASug_O_pVTa",
    "outputId": "b27dc35c-4863-4d4f-d33b-441826e3588f"
   },
   "outputs": [],
   "source": [
    "# データフレームに'mycolumn'という列を追加\n",
    "iris_d['mycolumn']=np.random.rand(len(iris_d.index))\n",
    "iris_d.head(10)"
   ]
  },
  {
   "cell_type": "markdown",
   "metadata": {
    "colab_type": "text",
    "id": "i7N0LaMTpVTd"
   },
   "source": [
    "**`del`** 文を用いると、以下のようにデータフレームから任意の列を削除できます。"
   ]
  },
  {
   "cell_type": "code",
   "execution_count": null,
   "metadata": {
    "colab": {
     "base_uri": "https://localhost:8080/",
     "height": 343
    },
    "colab_type": "code",
    "executionInfo": {
     "elapsed": 516,
     "status": "ok",
     "timestamp": 1583562240343,
     "user": {
      "displayName": "Junichiro Mori",
      "photoUrl": "",
      "userId": "01008898198902510619"
     },
     "user_tz": -540
    },
    "id": "ZjY0hByvpVTe",
    "outputId": "c3954e9c-b2d4-4a7e-f872-709f36149ad3"
   },
   "outputs": [],
   "source": [
    "# データフレームから'mycolumn'という列を削除\n",
    "del iris_d['mycolumn']\n",
    "iris_d.head(10)"
   ]
  },
  {
   "cell_type": "markdown",
   "metadata": {
    "colab_type": "text",
    "id": "PeRwCngQpVTh"
   },
   "source": [
    "**`assign()`** メソッドを用いると、追加したい列名とその値を指定することで、以下のように新たな列を追加したデータフレームを新たに作成することができます。この際、元のデータフレームは変更されないことに注意してください。"
   ]
  },
  {
   "cell_type": "code",
   "execution_count": null,
   "metadata": {
    "colab": {
     "base_uri": "https://localhost:8080/",
     "height": 195
    },
    "colab_type": "code",
    "executionInfo": {
     "elapsed": 532,
     "status": "ok",
     "timestamp": 1583562251447,
     "user": {
      "displayName": "Junichiro Mori",
      "photoUrl": "",
      "userId": "01008898198902510619"
     },
     "user_tz": -540
    },
    "id": "TOYNATCUpVTi",
    "outputId": "0573fd5c-9178-4193-fe13-ea2f3501e8e3"
   },
   "outputs": [],
   "source": [
    "# データフレームに'mycolumn'という列を追加し新しいデータフレームを作成\n",
    "myiris1 = iris_d.assign(mycolumn=np.random.rand(len(iris_d.index)))\n",
    "myiris1.head(5)"
   ]
  },
  {
   "cell_type": "markdown",
   "metadata": {
    "colab_type": "text",
    "id": "ctgsgFyWpVTl"
   },
   "source": [
    "**`drop()`** メソッドを用いると、削除したい列名を指定することで、以下のように任意の列を削除したデータフレームを新たに作成することができます。列を削除する場合は、`axis` 引数に 1 を指定します。この際、元のデータフレームは変更されないことに注意してください。"
   ]
  },
  {
   "cell_type": "code",
   "execution_count": null,
   "metadata": {
    "colab": {
     "base_uri": "https://localhost:8080/",
     "height": 195
    },
    "colab_type": "code",
    "executionInfo": {
     "elapsed": 493,
     "status": "ok",
     "timestamp": 1583562263640,
     "user": {
      "displayName": "Junichiro Mori",
      "photoUrl": "",
      "userId": "01008898198902510619"
     },
     "user_tz": -540
    },
    "id": "gRHdjbtcpVTm",
    "outputId": "455b0182-0fa1-41f1-caab-bfb04bfbe117"
   },
   "outputs": [],
   "source": [
    "# データフレームから'mycolumn'という列を削除し、新しいデータフレームを作成\n",
    "myiris2 = myiris1.drop('mycolumn',axis=1)\n",
    "myiris2.head(5)"
   ]
  },
  {
   "cell_type": "markdown",
   "metadata": {
    "colab_type": "text",
    "id": "RU8CZmvRpVTp"
   },
   "source": [
    "## 行の追加と削除\n",
    "`pandas` モジュールの **`append()`** メソッドを用いると、データフレームに新たな行を追加することができます。以下では、`iris_d` データフレームの最終行に新たな行を追加しています。`ignore_index` 引数を `True` にすると追加した行に新たなインデックス番号がつけられます。"
   ]
  },
  {
   "cell_type": "code",
   "execution_count": null,
   "metadata": {
    "colab": {
     "base_uri": "https://localhost:8080/",
     "height": 106
    },
    "colab_type": "code",
    "executionInfo": {
     "elapsed": 528,
     "status": "ok",
     "timestamp": 1583562280753,
     "user": {
      "displayName": "Junichiro Mori",
      "photoUrl": "",
      "userId": "01008898198902510619"
     },
     "user_tz": -540
    },
    "id": "P6WLAgZvpVTq",
    "outputId": "e9b32de1-4937-4238-802b-7e2a7e9f96f7"
   },
   "outputs": [],
   "source": [
    "# 追加する行のデータフレーム\n",
    "row = pd.DataFrame([[1,1,1,1, 'setosa']], columns=iris_d.columns)\n",
    "\n",
    "# データフレームに行を追加し新しいデータフレームを作成\n",
    "myiris4 = iris_d.append(row, ignore_index=True)\n",
    "myiris4[-2:]"
   ]
  },
  {
   "cell_type": "markdown",
   "metadata": {
    "colab_type": "text",
    "id": "6C61TQq_pVTu"
   },
   "source": [
    "**`drop()`** メソッドを用いると、行のインデックスまたはラベルを指定することで行を削除することもできます。この時に、`axis` 引数は省略することができます。"
   ]
  },
  {
   "cell_type": "code",
   "execution_count": null,
   "metadata": {
    "colab": {
     "base_uri": "https://localhost:8080/",
     "height": 106
    },
    "colab_type": "code",
    "executionInfo": {
     "elapsed": 505,
     "status": "ok",
     "timestamp": 1583562301453,
     "user": {
      "displayName": "Junichiro Mori",
      "photoUrl": "",
      "userId": "01008898198902510619"
     },
     "user_tz": -540
    },
    "id": "OBIvK6l-pVTv",
    "outputId": "8a839575-7603-4d16-8daf-ce49896bb93f"
   },
   "outputs": [],
   "source": [
    "# データフレームから行インデックス150の行を削除し、新しいデータフレームを作成\n",
    "myiris4 = myiris4.drop(150)\n",
    "myiris4[-2:]"
   ]
  },
  {
   "cell_type": "markdown",
   "metadata": {
    "colab_type": "text",
    "id": "JBYIVT5XpVTz"
   },
   "source": [
    "## データの並び替え\n",
    "データフレームオブジェクトの **`sort_index()`** メソッドで、データフレームのインデックスに基づくソートができます。また、**`sort_values()`** メソッドで、任意の列の値によるソートができます。列は複数指定することもできます。いずれのメソッドでも、`inplace` 引数により、ソートにより新しいデータフレームを作成する (`False`) か、元のデータフレームを更新する (`True`) を指定できます。デフォルトは `inplace` は `False` になっており、これらのメソッドは新しいデータフレームを作成します。"
   ]
  },
  {
   "cell_type": "code",
   "execution_count": null,
   "metadata": {
    "colab": {
     "base_uri": "https://localhost:8080/",
     "height": 343
    },
    "colab_type": "code",
    "executionInfo": {
     "elapsed": 495,
     "status": "ok",
     "timestamp": 1583562418974,
     "user": {
      "displayName": "Junichiro Mori",
      "photoUrl": "",
      "userId": "01008898198902510619"
     },
     "user_tz": -540
    },
    "id": "DaGEGVjypVT0",
    "outputId": "381892c4-6ec3-44d7-f547-92ce233de067"
   },
   "outputs": [],
   "source": [
    "# iris_dデータフレームの4つ列の値に基づいて昇順にソート\n",
    "sorted_iris = iris_d.sort_values(['sepal_length', 'sepal_width', 'petal_length', 'petal_width'])\n",
    "sorted_iris.head(10)"
   ]
  },
  {
   "cell_type": "markdown",
   "metadata": {
    "colab_type": "text",
    "id": "PyYUFYyOpVT4"
   },
   "source": [
    "列の値で降順にソートする場合は、`sort_values()` メソッドの `ascending` 引数を `False` にしてください。"
   ]
  },
  {
   "cell_type": "code",
   "execution_count": null,
   "metadata": {
    "colab": {
     "base_uri": "https://localhost:8080/",
     "height": 343
    },
    "colab_type": "code",
    "executionInfo": {
     "elapsed": 491,
     "status": "ok",
     "timestamp": 1583562422166,
     "user": {
      "displayName": "Junichiro Mori",
      "photoUrl": "",
      "userId": "01008898198902510619"
     },
     "user_tz": -540
    },
    "id": "16JBUulbpVT6",
    "outputId": "926dfe6d-12fb-49c3-eb21-f71c978470cb"
   },
   "outputs": [],
   "source": [
    "# iris_dデータフレームの4つ列の値に基づいて降順にソート\n",
    "sorted_iris = iris_d.sort_values(['sepal_length', 'sepal_width', 'petal_length', 'petal_width'],ascending=False)\n",
    "sorted_iris.head(10)"
   ]
  },
  {
   "cell_type": "markdown",
   "metadata": {
    "colab_type": "text",
    "id": "kpcbQfLwpVT9"
   },
   "source": [
    "## データの統計量\n",
    "データフレームオブジェクトの **`describe()`** メソッドで、データフレームの各列の要約統計量を求めることができます。要約統計量には平均、標準偏差、最大値、最小値などが含まれます。その他の統計量を求める `pandas` モジュールのメソッドは以下を参照してください。\n",
    "\n",
    "[pandasでの統計量計算](https://pandas.pydata.org/pandas-docs/stable/reference/frame.html#computations-descriptive-stats)"
   ]
  },
  {
   "cell_type": "code",
   "execution_count": null,
   "metadata": {
    "colab": {
     "base_uri": "https://localhost:8080/",
     "height": 284
    },
    "colab_type": "code",
    "executionInfo": {
     "elapsed": 657,
     "status": "ok",
     "timestamp": 1583562437903,
     "user": {
      "displayName": "Junichiro Mori",
      "photoUrl": "",
      "userId": "01008898198902510619"
     },
     "user_tz": -540
    },
    "id": "4HwPYkgXpVT-",
    "outputId": "c2573272-ad0b-43a9-a4fa-3861850a149c"
   },
   "outputs": [],
   "source": [
    "# iris_dデータフレームの各数値列の要約統計量を表示\n",
    "iris_d.describe()"
   ]
  },
  {
   "cell_type": "markdown",
   "metadata": {
    "colab_type": "text",
    "id": "6uRkFF3GpVUC"
   },
   "source": [
    "## ▲データの連結\n",
    "`pandas` モジュールの **`concat()`** 関数を用いると、データフレームを連結して新たなデータフレームを作成することができます。以下では、`iris_d` データフレームの先頭5行と最終5行を連結して、新しいデータフレームを作成しています。"
   ]
  },
  {
   "cell_type": "code",
   "execution_count": null,
   "metadata": {
    "colab": {
     "base_uri": "https://localhost:8080/",
     "height": 343
    },
    "colab_type": "code",
    "executionInfo": {
     "elapsed": 506,
     "status": "ok",
     "timestamp": 1583562446166,
     "user": {
      "displayName": "Junichiro Mori",
      "photoUrl": "",
      "userId": "01008898198902510619"
     },
     "user_tz": -540
    },
    "id": "NN_cDj0npVUC",
    "outputId": "a4cdbc2c-04d4-4bcf-d834-9b7553049eeb"
   },
   "outputs": [],
   "source": [
    "# iris_dデータフレームの先頭5行と最終5行を連結\n",
    "concat_iris = pd.concat([iris_d[:5],iris_d[-5:]])\n",
    "concat_iris"
   ]
  },
  {
   "cell_type": "markdown",
   "metadata": {
    "colab_type": "text",
    "id": "A4BhUCNdpVUF"
   },
   "source": [
    "`concat()` 関数の `axis` 引数に 1 を指定すると、以下のように、データフレームを列方向に連結することができます。"
   ]
  },
  {
   "cell_type": "code",
   "execution_count": null,
   "metadata": {
    "colab": {
     "base_uri": "https://localhost:8080/",
     "height": 343
    },
    "colab_type": "code",
    "executionInfo": {
     "elapsed": 589,
     "status": "ok",
     "timestamp": 1583562458506,
     "user": {
      "displayName": "Junichiro Mori",
      "photoUrl": "",
      "userId": "01008898198902510619"
     },
     "user_tz": -540
    },
    "id": "rfMsFWnYpVUG",
    "outputId": "c4ed8dd7-3966-4563-dd50-d3150278e50c"
   },
   "outputs": [],
   "source": [
    "# iris_dデータフレームの'sepal_length'列と'species'列を連結\n",
    "sepal_len = pd.concat([iris_d.loc[:, ['sepal_length']],iris_d.loc[:, ['species']]], axis=1)\n",
    "sepal_len.head(10)"
   ]
  },
  {
   "cell_type": "markdown",
   "metadata": {
    "colab_type": "text",
    "id": "OAJPohzzpVUI"
   },
   "source": [
    "## ▲データの結合\n",
    "`pandas` モジュールの **`merge()`** 関数を用いると、任意の列の値をキーとして異なるデータフレームを結合することができます。結合のキーとする列名は `on` 引数で指定します。以下では、`species` の列の値をキーに、二つのデータフレーム、`sepal_len`, `sepal_wid`、を結合して新しいデータフレーム `sepal` を作成しています。"
   ]
  },
  {
   "cell_type": "code",
   "execution_count": null,
   "metadata": {
    "colab": {
     "base_uri": "https://localhost:8080/",
     "height": 136
    },
    "colab_type": "code",
    "executionInfo": {
     "elapsed": 522,
     "status": "ok",
     "timestamp": 1583562490958,
     "user": {
      "displayName": "Junichiro Mori",
      "photoUrl": "",
      "userId": "01008898198902510619"
     },
     "user_tz": -540
    },
    "id": "EZnYR7WrpVUJ",
    "outputId": "c3f71370-8bf5-4bf8-bcb6-11ba4947154c"
   },
   "outputs": [],
   "source": [
    "# 'sepal_length'と'species'列からなる3行のデータ\n",
    "sepal_len = pd.concat([iris_d.loc[[0,51,101],['sepal_length']],iris_d.loc[[0,51,101], ['species']]], axis=1)\n",
    "# 'sepal_width'と'species'列からなる3行のデータ\n",
    "sepal_wid = pd.concat([iris_d.loc[[0,51,101],['sepal_width']],iris_d.loc[[0,51,101], ['species']]], axis=1)\n",
    "\n",
    "# sepal_lenとsepal_widを'species'をキーにして結合\n",
    "sepal = pd.merge(sepal_len, sepal_wid, on='species')\n",
    "sepal"
   ]
  },
  {
   "cell_type": "markdown",
   "metadata": {
    "colab_type": "text",
    "id": "v5o9EYb5pVUL"
   },
   "source": [
    "## ▲データのグループ化\n",
    "データフレームオブジェクトの **`groupby()`** メソッドを使うと、データフレームの任意の列の値に基づいて、同じ値を持つ行をグループにまとめることができます。列は複数指定することもできます。`groupby()` メソッドを適用するとグループ化オブジェクト (`DataFrameGroupBy`) が作成されますが、データフレームと同様の操作を多く適用することができます。"
   ]
  },
  {
   "cell_type": "code",
   "execution_count": null,
   "metadata": {
    "colab": {
     "base_uri": "https://localhost:8080/",
     "height": 34
    },
    "colab_type": "code",
    "executionInfo": {
     "elapsed": 377,
     "status": "ok",
     "timestamp": 1583562573793,
     "user": {
      "displayName": "Junichiro Mori",
      "photoUrl": "",
      "userId": "01008898198902510619"
     },
     "user_tz": -540
    },
    "id": "otHkyikypVUM",
    "outputId": "b427d8e3-ee3a-4250-ddd8-2cc5f7abc7ad"
   },
   "outputs": [],
   "source": [
    "# iris_dデータフレームの'species'の値で行をグループ化\n",
    "iris_d.groupby('species')"
   ]
  },
  {
   "cell_type": "code",
   "execution_count": null,
   "metadata": {
    "colab": {
     "base_uri": "https://localhost:8080/",
     "height": 491
    },
    "colab_type": "code",
    "executionInfo": {
     "elapsed": 678,
     "status": "ok",
     "timestamp": 1583562577440,
     "user": {
      "displayName": "Junichiro Mori",
      "photoUrl": "",
      "userId": "01008898198902510619"
     },
     "user_tz": -540
    },
    "id": "J2-bypbWpVUQ",
    "outputId": "bef24ce5-2e04-4fd2-87a7-a529f000fef8"
   },
   "outputs": [],
   "source": [
    "# グループごとの先頭5行を表示\n",
    "iris_d.groupby('species').head(5)"
   ]
  },
  {
   "cell_type": "code",
   "execution_count": null,
   "metadata": {
    "colab": {
     "base_uri": "https://localhost:8080/",
     "height": 166
    },
    "colab_type": "code",
    "executionInfo": {
     "elapsed": 485,
     "status": "ok",
     "timestamp": 1583562586029,
     "user": {
      "displayName": "Junichiro Mori",
      "photoUrl": "",
      "userId": "01008898198902510619"
     },
     "user_tz": -540
    },
    "id": "zfdmRuUApVUS",
    "outputId": "96f2f347-fb7d-4eb4-bded-ddaf8cf54b43"
   },
   "outputs": [],
   "source": [
    "# グループごとの'sepal_length'列,'sepal_width'列の値の平均を表示\n",
    "iris_d.groupby('species')[['sepal_length','sepal_width']].mean()"
   ]
  },
  {
   "cell_type": "markdown",
   "metadata": {
    "colab_type": "text",
    "id": "lX0MJSjBpVUV"
   },
   "source": [
    "## ▲欠損値、時系列データの処理\n",
    "pandasでは、データ分析における欠損値、時系列データの処理を支援するための便利な機能が提供されています。詳細は以下を参照してください。\n",
    "\n",
    "[欠損値の処理](https://pandas.pydata.org/pandas-docs/stable/missing_data.html#missing-data)\n",
    "\n",
    "[時系列データの処理](https://pandas.pydata.org/pandas-docs/stable/timeseries.html)"
   ]
  }
 ],
 "metadata": {
  "colab": {
   "collapsed_sections": [],
   "name": "7-1.ipynb",
   "provenance": [],
   "toc_visible": true
  },
  "kernelspec": {
   "display_name": "Python 3",
   "language": "python",
   "name": "python3"
  },
  "language_info": {
   "codemirror_mode": {
    "name": "ipython",
    "version": 3
   },
   "file_extension": ".py",
   "mimetype": "text/x-python",
   "name": "python",
   "nbconvert_exporter": "python",
   "pygments_lexer": "ipython3",
   "version": "3.7.3"
  }
 },
 "nbformat": 4,
 "nbformat_minor": 1
}
