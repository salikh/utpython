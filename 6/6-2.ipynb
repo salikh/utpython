{
 "cells": [
  {
   "cell_type": "markdown",
   "metadata": {
    "colab_type": "text",
    "id": "zxJnY2u8JZVZ"
   },
   "source": [
    "# 6-2. 高階関数\n",
    "Pythonにおける高階関数について説明します。\n",
    "\n",
    "参考\n",
    "- https://docs.python.org/ja/3/howto/functional.html"
   ]
  },
  {
   "cell_type": "markdown",
   "metadata": {
    "colab_type": "text",
    "id": "wJBIdm03JZVb"
   },
   "source": [
    "## `max`\n",
    "\n",
    "例として、関数 **`max`** について考察します。`max` は与えられたリストの要素のうち、最大のものを返します。"
   ]
  },
  {
   "cell_type": "code",
   "execution_count": null,
   "metadata": {
    "colab": {
     "base_uri": "https://localhost:8080/",
     "height": 34
    },
    "colab_type": "code",
    "executionInfo": {
     "elapsed": 1967,
     "status": "ok",
     "timestamp": 1583561132095,
     "user": {
      "displayName": "Junichiro Mori",
      "photoUrl": "",
      "userId": "01008898198902510619"
     },
     "user_tz": -540
    },
    "id": "CVoatfh1JZVc",
    "outputId": "55e2d2aa-dc54-4255-f024-a1a6ae05991b"
   },
   "outputs": [],
   "source": [
    "ls = [3,-8,1,0,7,-5]\n",
    "max(ls)"
   ]
  },
  {
   "cell_type": "markdown",
   "metadata": {
    "colab_type": "text",
    "id": "N8bN8sefJZVg"
   },
   "source": [
    "`max` に **`key`** というキーワード引数として、たとえば関数 `abs` を与えることができます。\n",
    "（キーワード引数について詳しくは、3-3 を参照してください。）"
   ]
  },
  {
   "cell_type": "code",
   "execution_count": null,
   "metadata": {
    "colab": {
     "base_uri": "https://localhost:8080/",
     "height": 34
    },
    "colab_type": "code",
    "executionInfo": {
     "elapsed": 1136,
     "status": "ok",
     "timestamp": 1583486549562,
     "user": {
      "displayName": "Junichiro Mori",
      "photoUrl": "",
      "userId": "01008898198902510619"
     },
     "user_tz": -540
    },
    "id": "O5D5jvT1JZVh",
    "outputId": "a70a3d63-60bd-4960-fadc-92363e6a6bd0"
   },
   "outputs": [],
   "source": [
    "max(ls, key=abs)"
   ]
  },
  {
   "cell_type": "markdown",
   "metadata": {
    "colab_type": "text",
    "id": "UJHWAtpZJZVn"
   },
   "source": [
    "すなわち、各要素に関数 `abs` が適用されて、その結果が最も大きい要素が返ります。\n",
    "（`abs` の結果の最大値が返るわけではないことに注意してください。）\n",
    "なお、`abs(x)` は `x` の絶対値を返します。\n",
    "\n",
    "この場合、`max` という関数は、関数を引数として受け取っています。\n",
    "\n",
    "一般に、関数を引数として受け取ったり返値として返したりする関数を**高階関数**といいます。"
   ]
  },
  {
   "cell_type": "markdown",
   "metadata": {
    "colab_type": "text",
    "id": "xU7hs83GJZVo"
   },
   "source": [
    "## `sorted`\n",
    "\n",
    "**`sorted`** も高階関数で、`max` と同様に **`key`** というキーワード引数を取ります。"
   ]
  },
  {
   "cell_type": "code",
   "execution_count": null,
   "metadata": {
    "colab": {
     "base_uri": "https://localhost:8080/",
     "height": 34
    },
    "colab_type": "code",
    "executionInfo": {
     "elapsed": 1455,
     "status": "ok",
     "timestamp": 1583486564511,
     "user": {
      "displayName": "Junichiro Mori",
      "photoUrl": "",
      "userId": "01008898198902510619"
     },
     "user_tz": -540
    },
    "id": "iumzR0YFJZVq",
    "outputId": "54b9534c-cbdf-4ef4-9cb8-cea97b19b73e"
   },
   "outputs": [],
   "source": [
    "sorted(ls, key=abs)"
   ]
  },
  {
   "cell_type": "markdown",
   "metadata": {
    "colab_type": "text",
    "id": "YCyYqQI1JZVt"
   },
   "source": [
    "このように、各要素に関数 `abs` を適用した結果によって、各要素をソートします。\n",
    "\n",
    "リストの降順にソートするには、次のような関数を用いればよいです。"
   ]
  },
  {
   "cell_type": "code",
   "execution_count": null,
   "metadata": {
    "colab": {},
    "colab_type": "code",
    "id": "6GgI0SDMJZVv"
   },
   "outputs": [],
   "source": [
    "def invert(x):\n",
    "    return -x"
   ]
  },
  {
   "cell_type": "code",
   "execution_count": null,
   "metadata": {
    "colab": {
     "base_uri": "https://localhost:8080/",
     "height": 34
    },
    "colab_type": "code",
    "executionInfo": {
     "elapsed": 1161,
     "status": "ok",
     "timestamp": 1583486579465,
     "user": {
      "displayName": "Junichiro Mori",
      "photoUrl": "",
      "userId": "01008898198902510619"
     },
     "user_tz": -540
    },
    "id": "j4g67kNNJZV1",
    "outputId": "7794d876-6574-4d24-f6c2-7bcd18758560"
   },
   "outputs": [],
   "source": [
    "sorted(ls, key=invert)"
   ]
  },
  {
   "cell_type": "markdown",
   "metadata": {
    "colab_type": "text",
    "id": "VaYUR_MLJZV5"
   },
   "source": [
    "なお、リストを降順にソートするには、**`reverse`** というキーワード引数に `True` を指定するという方法もあります。"
   ]
  },
  {
   "cell_type": "code",
   "execution_count": null,
   "metadata": {
    "colab": {
     "base_uri": "https://localhost:8080/",
     "height": 34
    },
    "colab_type": "code",
    "executionInfo": {
     "elapsed": 1154,
     "status": "ok",
     "timestamp": 1583486603361,
     "user": {
      "displayName": "Junichiro Mori",
      "photoUrl": "",
      "userId": "01008898198902510619"
     },
     "user_tz": -540
    },
    "id": "12DL4DV_JZV6",
    "outputId": "53260f4f-8d9a-49f9-fe94-2e282d2e8695"
   },
   "outputs": [],
   "source": [
    "sorted(ls, reverse=True)"
   ]
  },
  {
   "cell_type": "markdown",
   "metadata": {
    "colab_type": "text",
    "id": "IkrVu_GOJZV9"
   },
   "source": [
    "## ラムダ式\n",
    "\n",
    "上の `invert` のような簡単な関数の場合、\n",
    "いちいち `def` で定義するのは面倒と思いませんか。\n",
    "\n",
    "そのようなときは、**`lambda`** を使った**ラムダ式**（または**無名関数**）を用いることができます。\n",
    "上の例は、以下のように書くことができます。"
   ]
  },
  {
   "cell_type": "code",
   "execution_count": null,
   "metadata": {
    "colab": {
     "base_uri": "https://localhost:8080/",
     "height": 34
    },
    "colab_type": "code",
    "executionInfo": {
     "elapsed": 1091,
     "status": "ok",
     "timestamp": 1583486614003,
     "user": {
      "displayName": "Junichiro Mori",
      "photoUrl": "",
      "userId": "01008898198902510619"
     },
     "user_tz": -540
    },
    "id": "fC43CKL4JZV-",
    "outputId": "2486a8de-aada-41c7-9009-13295e70635b"
   },
   "outputs": [],
   "source": [
    "sorted(ls, key=lambda x: -x)"
   ]
  },
  {
   "cell_type": "markdown",
   "metadata": {
    "colab_type": "text",
    "id": "Pb9ut6suJZWB"
   },
   "source": [
    "`lambda x: -x` という式は、`x` をもらって `-x` を返す関数を表します。\n",
    "`return` は書かないことに注意してください。\n",
    "\n",
    "さて、ここまで関数と呼んでいたものは、Pythonでは、オブジェクトの一種に他なりません。\n",
    "実際に、`abs` や `lambda x: -x` という式を評価してみてください。"
   ]
  },
  {
   "cell_type": "code",
   "execution_count": null,
   "metadata": {
    "colab": {
     "base_uri": "https://localhost:8080/",
     "height": 34
    },
    "colab_type": "code",
    "executionInfo": {
     "elapsed": 1111,
     "status": "ok",
     "timestamp": 1583486621348,
     "user": {
      "displayName": "Junichiro Mori",
      "photoUrl": "",
      "userId": "01008898198902510619"
     },
     "user_tz": -540
    },
    "id": "gsRPYEtnJZWC",
    "outputId": "510b6bad-2ba0-4023-b1f8-5d09d8aeb52d"
   },
   "outputs": [],
   "source": [
    "abs"
   ]
  },
  {
   "cell_type": "code",
   "execution_count": null,
   "metadata": {
    "colab": {
     "base_uri": "https://localhost:8080/",
     "height": 34
    },
    "colab_type": "code",
    "executionInfo": {
     "elapsed": 1093,
     "status": "ok",
     "timestamp": 1583486624518,
     "user": {
      "displayName": "Junichiro Mori",
      "photoUrl": "",
      "userId": "01008898198902510619"
     },
     "user_tz": -540
    },
    "id": "McaAaoLQJZWI",
    "outputId": "729c30d9-45fa-48c4-e069-51b9c56dd938"
   },
   "outputs": [],
   "source": [
    "lambda x: -x"
   ]
  },
  {
   "cell_type": "markdown",
   "metadata": {
    "colab_type": "text",
    "id": "RYS85dnsJZWM"
   },
   "source": [
    "したがって、Pythonでは、関数を他の種類のデータ（数やリストや文字列など）と同様に、\n",
    "関数の引数にしたり、リストの要素にしたり、することができます。"
   ]
  },
  {
   "cell_type": "markdown",
   "metadata": {
    "colab_type": "text",
    "id": "9ZbavGAlJZWN"
   },
   "source": [
    "## リストからイテラブルへ\n",
    "\n",
    "以上の例では、`max` や `sorted` はリストを受け取っていましたが、\n",
    "リストではなく、タプルでもいいですし、文字列でも構いません。"
   ]
  },
  {
   "cell_type": "code",
   "execution_count": null,
   "metadata": {
    "colab": {
     "base_uri": "https://localhost:8080/",
     "height": 34
    },
    "colab_type": "code",
    "executionInfo": {
     "elapsed": 1236,
     "status": "ok",
     "timestamp": 1583486637011,
     "user": {
      "displayName": "Junichiro Mori",
      "photoUrl": "",
      "userId": "01008898198902510619"
     },
     "user_tz": -540
    },
    "id": "ARl6yJSWJZWO",
    "outputId": "791643cd-2fa8-424b-85c6-3c12ecf3ddfc"
   },
   "outputs": [],
   "source": [
    "max((3,-8,1,0,7,-5))"
   ]
  },
  {
   "cell_type": "code",
   "execution_count": null,
   "metadata": {
    "colab": {
     "base_uri": "https://localhost:8080/",
     "height": 34
    },
    "colab_type": "code",
    "executionInfo": {
     "elapsed": 687,
     "status": "ok",
     "timestamp": 1583486639013,
     "user": {
      "displayName": "Junichiro Mori",
      "photoUrl": "",
      "userId": "01008898198902510619"
     },
     "user_tz": -540
    },
    "id": "Wp5wlPjpJZWR",
    "outputId": "de7c33d6-3a2d-4b0b-fd5c-3f4a9295667b"
   },
   "outputs": [],
   "source": [
    "sorted((3,-8,1,0,7,-5))"
   ]
  },
  {
   "cell_type": "code",
   "execution_count": null,
   "metadata": {
    "colab": {
     "base_uri": "https://localhost:8080/",
     "height": 34
    },
    "colab_type": "code",
    "executionInfo": {
     "elapsed": 570,
     "status": "ok",
     "timestamp": 1583486641837,
     "user": {
      "displayName": "Junichiro Mori",
      "photoUrl": "",
      "userId": "01008898198902510619"
     },
     "user_tz": -540
    },
    "id": "aDaR3lKRJZWT",
    "outputId": "aeb5a862-553b-4016-ed1f-ce236a97df2c"
   },
   "outputs": [],
   "source": [
    "max('hello world')"
   ]
  },
  {
   "cell_type": "code",
   "execution_count": null,
   "metadata": {
    "colab": {
     "base_uri": "https://localhost:8080/",
     "height": 34
    },
    "colab_type": "code",
    "executionInfo": {
     "elapsed": 706,
     "status": "ok",
     "timestamp": 1583486644384,
     "user": {
      "displayName": "Junichiro Mori",
      "photoUrl": "",
      "userId": "01008898198902510619"
     },
     "user_tz": -540
    },
    "id": "t_H5qEY3JZWa",
    "outputId": "fe85aeb8-8004-4a09-a034-5884f1109d6d"
   },
   "outputs": [],
   "source": [
    "sorted('hello world')"
   ]
  },
  {
   "cell_type": "markdown",
   "metadata": {
    "colab_type": "text",
    "id": "3jz866QRJZWe"
   },
   "source": [
    "すなわち、`max` や `sorted` は、一般にイテラブルを引数に取ることができます。\n",
    "\n",
    "イテラブルについては 4-2 に説明がありましたが、\n",
    "簡単に言うと、**イテラブル**とはfor文の `in` の後に来ることができるものです。\n",
    "`max` や `sorted` は、イテラブルの各要素を次々と求めて、\n",
    "その中の最大値を求めたり、整列した結果をリストとして返したりします。\n",
    "\n",
    "以下の例では、`max` にファイルオブジェクトが渡されます。\n",
    "ファイルオブジェクトはイテレータですので、イテラブルでもあります。\n",
    "ファイルオブジェクトをfor文の `in` の後に指定すると、\n",
    "ファイルの各行が文字列として得られます。\n",
    "以下の例では、`key` として関数 `len` が指定されていますので、\n",
    "ファイルの中で最も長い行が表示されます。"
   ]
  },
  {
   "cell_type": "code",
   "execution_count": null,
   "metadata": {
    "colab": {
     "base_uri": "https://localhost:8080/",
     "height": 202
    },
    "colab_type": "code",
    "executionInfo": {
     "elapsed": 7025,
     "status": "ok",
     "timestamp": 1583561269343,
     "user": {
      "displayName": "Junichiro Mori",
      "photoUrl": "",
      "userId": "01008898198902510619"
     },
     "user_tz": -540
    },
    "id": "Dbhpz1WBmybW",
    "outputId": "bc96ec52-27ab-4984-9fe8-62580d010e10"
   },
   "outputs": [],
   "source": [
    "!wget https://raw.githubusercontent.com/UTokyo-IPP/utpython/master/6/jugemu.txt"
   ]
  },
  {
   "cell_type": "code",
   "execution_count": null,
   "metadata": {
    "colab": {
     "base_uri": "https://localhost:8080/",
     "height": 50
    },
    "colab_type": "code",
    "executionInfo": {
     "elapsed": 406,
     "status": "ok",
     "timestamp": 1583561271967,
     "user": {
      "displayName": "Junichiro Mori",
      "photoUrl": "",
      "userId": "01008898198902510619"
     },
     "user_tz": -540
    },
    "id": "-RYte4AFJZWf",
    "outputId": "e8210e3d-ff22-49eb-9151-1a29f3fc3a6d"
   },
   "outputs": [],
   "source": [
    "with open('jugemu.txt', 'r', encoding='utf-8') as f:\n",
    "    print(max(f, key=len))"
   ]
  },
  {
   "cell_type": "markdown",
   "metadata": {
    "colab_type": "text",
    "id": "mOwZIrntJZWi"
   },
   "source": [
    "辞書もイテラブルです。`max` に辞書与えると、最大のキーが返ります。"
   ]
  },
  {
   "cell_type": "code",
   "execution_count": null,
   "metadata": {
    "colab": {
     "base_uri": "https://localhost:8080/",
     "height": 34
    },
    "colab_type": "code",
    "executionInfo": {
     "elapsed": 444,
     "status": "ok",
     "timestamp": 1583561282258,
     "user": {
      "displayName": "Junichiro Mori",
      "photoUrl": "",
      "userId": "01008898198902510619"
     },
     "user_tz": -540
    },
    "id": "pDAIc34LJZWj",
    "outputId": "65b6f4e8-d83c-4f54-9015-249012d55f48"
   },
   "outputs": [],
   "source": [
    "max({3:10, 5:2, 9:1})"
   ]
  },
  {
   "cell_type": "markdown",
   "metadata": {
    "colab_type": "text",
    "id": "0vp_Mn9cJZWn"
   },
   "source": [
    "## 練習\n",
    "\n",
    "辞書 `d` が与えられたとき、\n",
    "最大の値を持つキー（複数個ならばそのいずれか）を返す関数 `max_value_key(d)` を、\n",
    "`max` を使って定義してください。\n",
    "\n",
    "ヒント：辞書 `d` のキー `k` にその値を対応させる関数は `lambda k: d[k]` という式で表すことができます。"
   ]
  },
  {
   "cell_type": "code",
   "execution_count": null,
   "metadata": {
    "colab": {},
    "colab_type": "code",
    "id": "MdWCxFbPJZWo"
   },
   "outputs": [],
   "source": [
    "def max_value_key(d):\n",
    "    ..."
   ]
  },
  {
   "cell_type": "markdown",
   "metadata": {
    "colab_type": "text",
    "id": "RlWhRIt8JZWr"
   },
   "source": [
    "上のセルで解答を作成した後、以下のセルを実行し、実行結果が `True` になることを確認してください。"
   ]
  },
  {
   "cell_type": "code",
   "execution_count": null,
   "metadata": {
    "colab": {},
    "colab_type": "code",
    "id": "q01jpHwOJZW2",
    "tags": [
     "raises-exception"
    ]
   },
   "outputs": [],
   "source": [
    "print(max_value_key({3:10, 5:2, 9:1}) == 3)"
   ]
  },
  {
   "cell_type": "markdown",
   "metadata": {
    "colab_type": "text",
    "id": "temdj9f6JZW9"
   },
   "source": [
    "## `map`\n",
    "\n",
    "以下は内包表記の例です。"
   ]
  },
  {
   "cell_type": "code",
   "execution_count": null,
   "metadata": {
    "colab": {
     "base_uri": "https://localhost:8080/",
     "height": 34
    },
    "colab_type": "code",
    "executionInfo": {
     "elapsed": 434,
     "status": "ok",
     "timestamp": 1583561292260,
     "user": {
      "displayName": "Junichiro Mori",
      "photoUrl": "",
      "userId": "01008898198902510619"
     },
     "user_tz": -540
    },
    "id": "nSj-4AIVJZW-",
    "outputId": "b1504822-6a86-49f0-ec41-6f7e9554f737"
   },
   "outputs": [],
   "source": [
    "[abs(x) for x in [3,-8,1,0,7,-5]]"
   ]
  },
  {
   "cell_type": "markdown",
   "metadata": {
    "colab_type": "text",
    "id": "lIAQdl0RJZXE"
   },
   "source": [
    "リストの各要素に関数 `abs` が適用された結果がリストになります。\n",
    "\n",
    "同様のことを、高階関数 **`map`** を用いて行うことができます。\n",
    "関数 `map` は、二番目の引数としてイテラブルを取ります。一番目の引数は関数です。\n",
    "例を見ましょう。"
   ]
  },
  {
   "cell_type": "code",
   "execution_count": null,
   "metadata": {
    "colab": {
     "base_uri": "https://localhost:8080/",
     "height": 34
    },
    "colab_type": "code",
    "executionInfo": {
     "elapsed": 455,
     "status": "ok",
     "timestamp": 1583561301719,
     "user": {
      "displayName": "Junichiro Mori",
      "photoUrl": "",
      "userId": "01008898198902510619"
     },
     "user_tz": -540
    },
    "id": "AxgM6iqTJZXE",
    "outputId": "81fccdae-5843-4a62-9c7a-fa3bbccc2ae0"
   },
   "outputs": [],
   "source": [
    "map(abs, [3,-8,1,0,7,-5])"
   ]
  },
  {
   "cell_type": "markdown",
   "metadata": {
    "colab_type": "text",
    "id": "lNVjz4UwJZXJ"
   },
   "source": [
    "何が返ったか、よくわからないと思います。\n",
    "以下のように、`map` の結果をfor文の `in` の後に指定してみましょう。"
   ]
  },
  {
   "cell_type": "code",
   "execution_count": null,
   "metadata": {
    "colab": {
     "base_uri": "https://localhost:8080/",
     "height": 118
    },
    "colab_type": "code",
    "executionInfo": {
     "elapsed": 379,
     "status": "ok",
     "timestamp": 1583561308359,
     "user": {
      "displayName": "Junichiro Mori",
      "photoUrl": "",
      "userId": "01008898198902510619"
     },
     "user_tz": -540
    },
    "id": "pX7HprFtJZXM",
    "outputId": "f18c75f8-69c0-4e74-fb18-9d2376a1c1d4"
   },
   "outputs": [],
   "source": [
    "for x in map(abs, [3,-8,1,0,7,-5]):\n",
    "    print(x)"
   ]
  },
  {
   "cell_type": "markdown",
   "metadata": {
    "colab_type": "text",
    "id": "Z_Bpy3i4JZXQ"
   },
   "source": [
    "すなわち、`map` が返すものは**イテレータ**です。\n",
    "このイテレータは、二番目の引数のイテラブル（この例ではリスト）の各要素に\n",
    "関数 `abs` を適用したものを、次々と返すようなイテレータです。\n",
    "\n",
    "内包表記を使えば、以下のようにリストにまとめることができます。"
   ]
  },
  {
   "cell_type": "code",
   "execution_count": null,
   "metadata": {
    "colab": {
     "base_uri": "https://localhost:8080/",
     "height": 34
    },
    "colab_type": "code",
    "executionInfo": {
     "elapsed": 401,
     "status": "ok",
     "timestamp": 1583561319283,
     "user": {
      "displayName": "Junichiro Mori",
      "photoUrl": "",
      "userId": "01008898198902510619"
     },
     "user_tz": -540
    },
    "id": "H_fKpvE3JZXR",
    "outputId": "79e2d68e-a044-4b37-d128-f98b072fbcf1"
   },
   "outputs": [],
   "source": [
    "[x for x in map(abs, [3,-8,1,0,7,-5])]"
   ]
  },
  {
   "cell_type": "markdown",
   "metadata": {
    "colab_type": "text",
    "id": "ebwKNDKdJZXV"
   },
   "source": [
    "関数 `list` をイテレータに適用してもよいです。"
   ]
  },
  {
   "cell_type": "code",
   "execution_count": null,
   "metadata": {
    "colab": {
     "base_uri": "https://localhost:8080/",
     "height": 34
    },
    "colab_type": "code",
    "executionInfo": {
     "elapsed": 448,
     "status": "ok",
     "timestamp": 1583561325990,
     "user": {
      "displayName": "Junichiro Mori",
      "photoUrl": "",
      "userId": "01008898198902510619"
     },
     "user_tz": -540
    },
    "id": "z9pB93-eJZXV",
    "outputId": "2d06a1ab-506a-482b-a601-cb01a016975e"
   },
   "outputs": [],
   "source": [
    "list(map(abs, [3,-8,1,0,7,-5]))"
   ]
  },
  {
   "cell_type": "markdown",
   "metadata": {
    "colab_type": "text",
    "id": "oldr25eEJZXa"
   },
   "source": [
    "しかし、これでは、イテレータがどのように動くのか、よくわからないと思います。\n",
    "\n",
    "以下では、呼ばれるたびにメッセージを出力する関数 `abs1` を用います。"
   ]
  },
  {
   "cell_type": "code",
   "execution_count": null,
   "metadata": {
    "colab": {},
    "colab_type": "code",
    "id": "v9_hicrmJZXe"
   },
   "outputs": [],
   "source": [
    "def abs1(x):\n",
    "    print('abs called on', x)\n",
    "    return abs(x)"
   ]
  },
  {
   "cell_type": "code",
   "execution_count": null,
   "metadata": {
    "colab": {},
    "colab_type": "code",
    "id": "RvTt1OMzJZXh"
   },
   "outputs": [],
   "source": [
    "it = map(abs1, [3,-8,1,0,7,-5])"
   ]
  },
  {
   "cell_type": "markdown",
   "metadata": {
    "colab_type": "text",
    "id": "ahSM6ZNsJZXl"
   },
   "source": [
    "このように、`map` がイテレータを返した時点では、各要素に対する計算は何も行われません。\n",
    "\n",
    "このイテレータに `next` を適用するとどうなるか、見てください。"
   ]
  },
  {
   "cell_type": "code",
   "execution_count": null,
   "metadata": {
    "colab": {
     "base_uri": "https://localhost:8080/",
     "height": 50
    },
    "colab_type": "code",
    "executionInfo": {
     "elapsed": 410,
     "status": "ok",
     "timestamp": 1583561364640,
     "user": {
      "displayName": "Junichiro Mori",
      "photoUrl": "",
      "userId": "01008898198902510619"
     },
     "user_tz": -540
    },
    "id": "tcfJBsG1JZXm",
    "outputId": "5a359915-9b5a-490b-d728-b6f3ff1184e1"
   },
   "outputs": [],
   "source": [
    "next(it)"
   ]
  },
  {
   "cell_type": "code",
   "execution_count": null,
   "metadata": {
    "colab": {
     "base_uri": "https://localhost:8080/",
     "height": 50
    },
    "colab_type": "code",
    "executionInfo": {
     "elapsed": 433,
     "status": "ok",
     "timestamp": 1583561368140,
     "user": {
      "displayName": "Junichiro Mori",
      "photoUrl": "",
      "userId": "01008898198902510619"
     },
     "user_tz": -540
    },
    "id": "CTIoS566JZXp",
    "outputId": "ef21a4c0-efdb-44e6-b164-c1f97d6c65f5"
   },
   "outputs": [],
   "source": [
    "next(it)"
   ]
  },
  {
   "cell_type": "markdown",
   "metadata": {
    "colab_type": "text",
    "id": "5wzktWfdJZXs"
   },
   "source": [
    "関数 `next` が呼ばれるたびに、次の要素を求める計算が行われていることがわかります。\n",
    "\n",
    "イテレータはイテラブルですから、`map` の結果にさらに `map` を適用することができます。"
   ]
  },
  {
   "cell_type": "code",
   "execution_count": null,
   "metadata": {
    "colab": {
     "base_uri": "https://localhost:8080/",
     "height": 34
    },
    "colab_type": "code",
    "executionInfo": {
     "elapsed": 362,
     "status": "ok",
     "timestamp": 1583561378847,
     "user": {
      "displayName": "Junichiro Mori",
      "photoUrl": "",
      "userId": "01008898198902510619"
     },
     "user_tz": -540
    },
    "id": "zDKLMKfsJZXu",
    "outputId": "c359ffcb-f8a7-4e9d-988e-50e3f8dca0dc"
   },
   "outputs": [],
   "source": [
    "list(map(lambda x: x+1, map(abs, [3,-8,1,0,7,-5])))"
   ]
  },
  {
   "cell_type": "markdown",
   "metadata": {
    "colab_type": "text",
    "id": "e0ir8-oPJZXw"
   },
   "source": [
    "`lambda x: x+1` は、`x` をもらって `x+1` を返す関数です。\n",
    "すなわち、引数に 1 を足した結果を返します。\n",
    "\n",
    "関数 `sum` は、`max` と同様に、イテラブルを受け取って、その要素の総和を返します。\n",
    "したがって、`map` が返したイテレータに対しても適用できます。\n",
    "（イテレータをリストに変換する必要はありません。）"
   ]
  },
  {
   "cell_type": "code",
   "execution_count": null,
   "metadata": {
    "colab": {
     "base_uri": "https://localhost:8080/",
     "height": 34
    },
    "colab_type": "code",
    "executionInfo": {
     "elapsed": 413,
     "status": "ok",
     "timestamp": 1583561388055,
     "user": {
      "displayName": "Junichiro Mori",
      "photoUrl": "",
      "userId": "01008898198902510619"
     },
     "user_tz": -540
    },
    "id": "VOebphwwJZXx",
    "outputId": "3b1113a7-29f2-477e-981c-0a304dfbb0d0"
   },
   "outputs": [],
   "source": [
    "sum(map(lambda x: x+1, map(abs, [3,-8,1,0,7,-5])))"
   ]
  },
  {
   "cell_type": "markdown",
   "metadata": {
    "colab_type": "text",
    "id": "qLjpLn7uJZX0"
   },
   "source": [
    "## 練習\n",
    "\n",
    "数のリストが与えられたとき、その要素の絶対値の最大値を返す関数 `max_abs` を、\n",
    "`map` と `max` を使って定義してください。"
   ]
  },
  {
   "cell_type": "code",
   "execution_count": null,
   "metadata": {
    "colab": {},
    "colab_type": "code",
    "id": "DG1STT-BJZX1"
   },
   "outputs": [],
   "source": [
    "def max_abs(ln):\n",
    "    ..."
   ]
  },
  {
   "cell_type": "markdown",
   "metadata": {
    "colab_type": "text",
    "id": "EZLFlxk2JZX3"
   },
   "source": [
    "上のセルで解答を作成した後、以下のセルを実行し、実行結果が `True` になることを確認してください。"
   ]
  },
  {
   "cell_type": "code",
   "execution_count": null,
   "metadata": {
    "colab": {},
    "colab_type": "code",
    "id": "cHnpWYl8JZX4",
    "tags": [
     "raises-exception"
    ]
   },
   "outputs": [],
   "source": [
    "print(max_abs([3,-8,1,0,7,-5]) == 8)"
   ]
  },
  {
   "cell_type": "markdown",
   "metadata": {
    "colab_type": "text",
    "id": "FIlEs4GLJZX8"
   },
   "source": [
    "## `filter`\n",
    "\n",
    "関数 **`filter`** もイテラブルをもらってイテレータを返します。\n",
    "最初の引数としては、真理値を返す関数を指定します。"
   ]
  },
  {
   "cell_type": "code",
   "execution_count": null,
   "metadata": {
    "colab": {},
    "colab_type": "code",
    "id": "uEuKt-FKJZX9"
   },
   "outputs": [],
   "source": [
    "def pos(x):\n",
    "    if x>0:\n",
    "        return True\n",
    "    else:\n",
    "        return False"
   ]
  },
  {
   "cell_type": "markdown",
   "metadata": {
    "colab_type": "text",
    "id": "5bBhXyHhJZYA"
   },
   "source": [
    "この関数 `pos` は、引数が正ならば `True`、そうでなければ `False` を返します。\n",
    "\n",
    "すると、以下のように、`filter` は `pos` を適用すると `True` が返る要素のみからなるイテレータを返します。"
   ]
  },
  {
   "cell_type": "code",
   "execution_count": null,
   "metadata": {
    "colab": {
     "base_uri": "https://localhost:8080/",
     "height": 34
    },
    "colab_type": "code",
    "executionInfo": {
     "elapsed": 523,
     "status": "ok",
     "timestamp": 1583561426728,
     "user": {
      "displayName": "Junichiro Mori",
      "photoUrl": "",
      "userId": "01008898198902510619"
     },
     "user_tz": -540
    },
    "id": "XuQRfI-DJZYA",
    "outputId": "f6d4fc1c-57fe-4fb0-f783-421f6b87821a"
   },
   "outputs": [],
   "source": [
    "list(filter(pos, [3,-8,1,0,7,-5]))"
   ]
  },
  {
   "cell_type": "markdown",
   "metadata": {
    "colab_type": "text",
    "id": "E3lSuSxBJZYE"
   },
   "source": [
    "`filter` は、条件付き内包表記に対応しています。\n",
    "同じ計算を以下のようにして行うことができます。"
   ]
  },
  {
   "cell_type": "code",
   "execution_count": null,
   "metadata": {
    "colab": {
     "base_uri": "https://localhost:8080/",
     "height": 34
    },
    "colab_type": "code",
    "executionInfo": {
     "elapsed": 384,
     "status": "ok",
     "timestamp": 1583561430506,
     "user": {
      "displayName": "Junichiro Mori",
      "photoUrl": "",
      "userId": "01008898198902510619"
     },
     "user_tz": -540
    },
    "id": "5HUFQwHjJZYF",
    "outputId": "1dd3ba24-acdb-4f2c-daae-219aed1ae7ad"
   },
   "outputs": [],
   "source": [
    "[x for x in [3,-8,1,0,7,-5] if pos(x)]"
   ]
  },
  {
   "cell_type": "markdown",
   "metadata": {
    "colab_type": "text",
    "id": "_pMxb_n9JZYL"
   },
   "source": [
    "## 練習\n",
    "\n",
    "数のリスト `ln` と数 `n` を受け取って、`ln` の要素のうち、`n` より大きい個数を返す関数\n",
    "`number_of_big_numbers(ln, n)` を、for文やwhile文を用いずに、`filter` を用いて定義してください。"
   ]
  },
  {
   "cell_type": "code",
   "execution_count": null,
   "metadata": {
    "colab": {},
    "colab_type": "code",
    "id": "5kxBUkRfJZYN"
   },
   "outputs": [],
   "source": [
    "def number_of_big_numbers(ln, n):\n",
    "    ..."
   ]
  },
  {
   "cell_type": "markdown",
   "metadata": {
    "colab_type": "text",
    "id": "LLd9CqO-JZYW"
   },
   "source": [
    "上のセルで解答を作成した後、以下のセルを実行し、実行結果が `True` になることを確認してください。"
   ]
  },
  {
   "cell_type": "code",
   "execution_count": null,
   "metadata": {
    "colab": {},
    "colab_type": "code",
    "id": "sC_3aczlJZYX",
    "tags": [
     "raises-exception"
    ]
   },
   "outputs": [],
   "source": [
    "print(number_of_big_numbers([10, 0, 7, 1, 5, 2, 9], 5) == 3)"
   ]
  },
  {
   "cell_type": "markdown",
   "metadata": {
    "colab_type": "text",
    "id": "LvnvEEb8JZYe"
   },
   "source": [
    "## 練習\n",
    "ファイル名 `file` と整数 `n` を受け取って、そのファイルをオープンし、\n",
    "（改行文字も含めて）長さが `n` より長い行の数を返す関数 `number_of_long_lines(file,n)` を定義してください。\n",
    "（ファイルは `encoding='utf-8'` でオープンしてください。）"
   ]
  },
  {
   "cell_type": "code",
   "execution_count": null,
   "metadata": {
    "colab": {},
    "colab_type": "code",
    "id": "j29_jwxwJZYf"
   },
   "outputs": [],
   "source": [
    "def number_of_long_lines(file, n):\n",
    "    ..."
   ]
  },
  {
   "cell_type": "markdown",
   "metadata": {
    "colab_type": "text",
    "id": "a5J-jHd9JZYh"
   },
   "source": [
    "上のセルで解答を作成した後、以下のセルを実行し、実行結果が `True` になることを確認してください。"
   ]
  },
  {
   "cell_type": "code",
   "execution_count": null,
   "metadata": {
    "colab": {},
    "colab_type": "code",
    "id": "M3npb9xBJZYi",
    "tags": [
     "raises-exception"
    ]
   },
   "outputs": [],
   "source": [
    "print(number_of_long_lines('jugemu.txt', 10) == 6)"
   ]
  },
  {
   "cell_type": "markdown",
   "metadata": {
    "colab_type": "text",
    "id": "lnAZaTyGJZYm"
   },
   "source": [
    "## 練習の解答"
   ]
  },
  {
   "cell_type": "code",
   "execution_count": null,
   "metadata": {
    "colab": {},
    "colab_type": "code",
    "id": "GvySnw_bJZYn"
   },
   "outputs": [],
   "source": [
    "def max_value_key(d):\n",
    "    return max(d, key=lambda k: d[k])"
   ]
  },
  {
   "cell_type": "code",
   "execution_count": null,
   "metadata": {
    "colab": {},
    "colab_type": "code",
    "id": "-0W88TNXJZYu"
   },
   "outputs": [],
   "source": [
    "def max_abs(ln):\n",
    "    return max(map(abs, ln))"
   ]
  },
  {
   "cell_type": "code",
   "execution_count": null,
   "metadata": {
    "colab": {},
    "colab_type": "code",
    "id": "2J6jYskuJZYx"
   },
   "outputs": [],
   "source": [
    "def number_of_big_numbers(ln, n):\n",
    "    return sum(map(lambda x: 1, filter(lambda x: x>n, ln)))"
   ]
  },
  {
   "cell_type": "code",
   "execution_count": null,
   "metadata": {
    "colab": {},
    "colab_type": "code",
    "id": "CZ5vUCgYJZY2"
   },
   "outputs": [],
   "source": [
    "def number_of_long_lines(file, n):\n",
    "    with open(file, 'r', encoding='utf-8') as f:\n",
    "        return sum(map(lambda x: 1, filter(lambda x: len(x)>n, f)))"
   ]
  },
  {
   "cell_type": "code",
   "execution_count": null,
   "metadata": {
    "colab": {},
    "colab_type": "code",
    "id": "AxM7TCviJZY5"
   },
   "outputs": [],
   "source": []
  }
 ],
 "metadata": {
  "colab": {
   "collapsed_sections": [],
   "name": "6-2.ipynb",
   "provenance": [],
   "toc_visible": true
  },
  "kernelspec": {
   "display_name": "Python 3",
   "language": "python",
   "name": "python3"
  },
  "language_info": {
   "codemirror_mode": {
    "name": "ipython",
    "version": 3
   },
   "file_extension": ".py",
   "mimetype": "text/x-python",
   "name": "python",
   "nbconvert_exporter": "python",
   "pygments_lexer": "ipython3",
   "version": "3.7.3"
  }
 },
 "nbformat": 4,
 "nbformat_minor": 1
}
