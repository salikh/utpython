{
 "cells": [
  {
   "cell_type": "markdown",
   "metadata": {
    "colab_type": "text",
    "id": "vHCIRfp0H4xR"
   },
   "source": [
    "# 6-1. **内包表記**\n",
    "内包表記について説明します。\n",
    "\n",
    "参考:\n",
    "- https://docs.python.org/ja/3/tutorial/datastructures.html#list-comprehensions\n",
    "- https://docs.python.org/ja/3/tutorial/datastructures.html#nested-list-comprehensions\n",
    "\n",
    "## リスト内包表記\n",
    "Python では内包表記 (Comprehension(s)) が利用できます。\n",
    "\n",
    "以下のような整数の自乗を要素に持つリストを作るプログラムでは、"
   ]
  },
  {
   "cell_type": "code",
   "execution_count": null,
   "metadata": {
    "colab": {
     "base_uri": "https://localhost:8080/",
     "height": 34
    },
    "colab_type": "code",
    "executionInfo": {
     "elapsed": 2139,
     "status": "ok",
     "timestamp": 1583486163303,
     "user": {
      "displayName": "Junichiro Mori",
      "photoUrl": "",
      "userId": "01008898198902510619"
     },
     "user_tz": -540
    },
    "id": "4Q1Opki_H4xT",
    "outputId": "a6c0f990-d100-4c5a-d5ac-5a2a148261ce"
   },
   "outputs": [],
   "source": [
    "squares1 = []\n",
    "for x in range(6):\n",
    "    squares1.append(x**2)\n",
    "squares1"
   ]
  },
  {
   "cell_type": "markdown",
   "metadata": {
    "colab_type": "text",
    "id": "PiDmlaX_H4xY"
   },
   "source": [
    "`squares1` として `[0, 1, 4, 9, 16, 25]` が得られます。\n",
    "これを**内包表記**を用いて書き換えると、以下のように一行で書け、プログラムが読みやすくなります。"
   ]
  },
  {
   "cell_type": "code",
   "execution_count": null,
   "metadata": {
    "colab": {
     "base_uri": "https://localhost:8080/",
     "height": 34
    },
    "colab_type": "code",
    "executionInfo": {
     "elapsed": 2132,
     "status": "ok",
     "timestamp": 1583486163304,
     "user": {
      "displayName": "Junichiro Mori",
      "photoUrl": "",
      "userId": "01008898198902510619"
     },
     "user_tz": -540
    },
    "id": "eDPzYn7JH4xZ",
    "outputId": "af8e0290-1bf9-44e8-a569-49d2c994cc8c"
   },
   "outputs": [],
   "source": [
    "squares2 = [x**2 for x in range(6)]\n",
    "squares2"
   ]
  },
  {
   "cell_type": "markdown",
   "metadata": {
    "colab_type": "text",
    "id": "m5ZIfJVvH4xc"
   },
   "source": [
    "関数 **`sum`** は与えられた数のリストの総和を求めます。\n",
    "（2-2 の練習にあった `sum_list` と同じ機能を持つ組み込みの関数です。）\n",
    "内包表記に対して `sum` を適用すると以下のようになります。"
   ]
  },
  {
   "cell_type": "code",
   "execution_count": null,
   "metadata": {
    "colab": {
     "base_uri": "https://localhost:8080/",
     "height": 34
    },
    "colab_type": "code",
    "executionInfo": {
     "elapsed": 1057,
     "status": "ok",
     "timestamp": 1583486171108,
     "user": {
      "displayName": "Junichiro Mori",
      "photoUrl": "",
      "userId": "01008898198902510619"
     },
     "user_tz": -540
    },
    "id": "Xzyi2GvcH4xd",
    "outputId": "0ee3e366-6f27-4ac0-eb2a-669a7db4324f"
   },
   "outputs": [],
   "source": [
    "sum([x**2 for x in range(6)])"
   ]
  },
  {
   "cell_type": "markdown",
   "metadata": {
    "colab_type": "text",
    "id": "2Vli5ZVTH4xg"
   },
   "source": [
    "以下の内包表記は 3-2 で用いられていました。"
   ]
  },
  {
   "cell_type": "code",
   "execution_count": null,
   "metadata": {
    "colab": {
     "base_uri": "https://localhost:8080/",
     "height": 454
    },
    "colab_type": "code",
    "executionInfo": {
     "elapsed": 1262,
     "status": "ok",
     "timestamp": 1583486179582,
     "user": {
      "displayName": "Junichiro Mori",
      "photoUrl": "",
      "userId": "01008898198902510619"
     },
     "user_tz": -540
    },
    "id": "qfrU8jSGH4xh",
    "outputId": "fa61ea18-65cc-4c59-b17e-cd0048353ce3"
   },
   "outputs": [],
   "source": [
    "[chr(i + ord('a')) for i in range(26)]"
   ]
  },
  {
   "cell_type": "markdown",
   "metadata": {
    "colab_type": "text",
    "id": "yiHeKfwtH4xl"
   },
   "source": [
    "## 練習\n",
    "文字列のリストが変数 `strings` に与えられたとき、\n",
    "それぞれの文字列の長さから成るリストを返す内包表記を記述してください。\n",
    "\n",
    "`strings = ['The', 'quick', 'brown']` のとき、結果は `[3, 5, 5]` となります。"
   ]
  },
  {
   "cell_type": "code",
   "execution_count": null,
   "metadata": {
    "colab": {},
    "colab_type": "code",
    "id": "H2j0OFv_H4xm",
    "scrolled": true,
    "tags": [
     "raises-exception"
    ]
   },
   "outputs": [],
   "source": [
    "strings = ['The', 'quick', 'brown']\n",
    "[ここに内包表記を書く]"
   ]
  },
  {
   "cell_type": "markdown",
   "metadata": {
    "colab_type": "text",
    "id": "3pu4_jQSH4xp"
   },
   "source": [
    "## 練習\n",
    "\n",
    "コンマで区切られた10進数から成る文字列が変数 `str1` に与えられたとき、\n",
    "それぞれの10進数を数に変換して得られるリストを返す内包表記を記述してください。\n",
    "\n",
    "`str1 = '123,45,-3'` のとき、結果は `[123, 45, -3]` となります。\n",
    "\n",
    "なお、コンマで区切られた10進数から成る文字列を、10進数の文字列のリストに変換するには、メソッド `split` を用いることができます。\n",
    "また、10進数の文字列を数に変換するには、`int` を関数として用いることができます。"
   ]
  },
  {
   "cell_type": "code",
   "execution_count": null,
   "metadata": {
    "colab": {},
    "colab_type": "code",
    "id": "ir8KVCWiH4xq",
    "tags": [
     "raises-exception"
    ]
   },
   "outputs": [],
   "source": [
    "str1 = '123,45,-3'\n",
    "[ここに内包表記を書く]"
   ]
  },
  {
   "cell_type": "markdown",
   "metadata": {
    "colab_type": "text",
    "id": "QwirTmK4H4xt"
   },
   "source": [
    "## 練習\n",
    "\n",
    "数のリストが与えらえたとき、リストの要素の分散を求める関数 `var` を\n",
    "内容表記と関数 `sum` を用いて定義してください。\n",
    "以下のセルの `...` のところを書き換えて `var` を作成してください。"
   ]
  },
  {
   "cell_type": "code",
   "execution_count": null,
   "metadata": {
    "colab": {},
    "colab_type": "code",
    "id": "WyBftBw9H4xu"
   },
   "outputs": [],
   "source": [
    "def var(lst):\n",
    "    ..."
   ]
  },
  {
   "cell_type": "markdown",
   "metadata": {
    "colab_type": "text",
    "id": "1WDITMDEH4xx"
   },
   "source": [
    "上のセルで解答を作成した後、以下のセルを実行し、実行結果が `True` になることを確認してください。"
   ]
  },
  {
   "cell_type": "code",
   "execution_count": null,
   "metadata": {
    "colab": {},
    "colab_type": "code",
    "id": "_G14SXfQH4xy",
    "tags": [
     "raises-exception"
    ]
   },
   "outputs": [],
   "source": [
    "print(var([3,4,1,2]) == 1.25)"
   ]
  },
  {
   "cell_type": "markdown",
   "metadata": {
    "colab_type": "text",
    "id": "i9kIjCiHH4x4"
   },
   "source": [
    "## 内包表記の入れ子\n",
    "また内包表記を**入れ子**（**ネスト**）にすることも可能です:"
   ]
  },
  {
   "cell_type": "code",
   "execution_count": null,
   "metadata": {
    "colab": {
     "base_uri": "https://localhost:8080/",
     "height": 34
    },
    "colab_type": "code",
    "executionInfo": {
     "elapsed": 1424,
     "status": "ok",
     "timestamp": 1583486243168,
     "user": {
      "displayName": "Junichiro Mori",
      "photoUrl": "",
      "userId": "01008898198902510619"
     },
     "user_tz": -540
    },
    "id": "xPlEpwu3H4x5",
    "outputId": "2af3e885-5ec4-4d62-b845-c146547b001f"
   },
   "outputs": [],
   "source": [
    "[[x*y for y in range(x+1)] for x in range(4)]"
   ]
  },
  {
   "cell_type": "markdown",
   "metadata": {
    "colab_type": "text",
    "id": "DJXhbl8jH4x8"
   },
   "source": [
    "ネストした内包表記は、外側から読むとわかりやすいです。\n",
    "`x` を 0 から 3 まで動かしてリストが作られます。\n",
    "そのリストの要素一つ一つは内包表記によるリストになっていて、\n",
    "それぞれのリストは `y` を 0 から `x` まで動かして得られます。\n",
    "\n",
    "以下のリストは、上の二重のリストをフラットにしたものです。\n",
    "この内包表記では、`for` が二重になっていますが、自然に左から読んでください。\n",
    "`x` を 0 から 3 まで動かし、そのそれぞれに対して `y` を 0 から `x` まで動かします。\n",
    "その各ステップで得られた `x*y` の値をリストにします。"
   ]
  },
  {
   "cell_type": "code",
   "execution_count": null,
   "metadata": {
    "colab": {
     "base_uri": "https://localhost:8080/",
     "height": 34
    },
    "colab_type": "code",
    "executionInfo": {
     "elapsed": 1146,
     "status": "ok",
     "timestamp": 1583486265285,
     "user": {
      "displayName": "Junichiro Mori",
      "photoUrl": "",
      "userId": "01008898198902510619"
     },
     "user_tz": -540
    },
    "id": "KSjDqvknH4x8",
    "outputId": "5800bcbc-7230-4721-e4ea-8860e7aa3d0c"
   },
   "outputs": [],
   "source": [
    "[x*y for x in range(4) for y in range(x+1)]"
   ]
  },
  {
   "cell_type": "markdown",
   "metadata": {
    "colab_type": "text",
    "id": "mqe2VZ1jH4x_"
   },
   "source": [
    "以下の関数は、与えられた文字列のすべての空でない部分文字列から成るリストを返します。"
   ]
  },
  {
   "cell_type": "code",
   "execution_count": null,
   "metadata": {
    "colab": {
     "base_uri": "https://localhost:8080/",
     "height": 34
    },
    "colab_type": "code",
    "executionInfo": {
     "elapsed": 1139,
     "status": "ok",
     "timestamp": 1583486279010,
     "user": {
      "displayName": "Junichiro Mori",
      "photoUrl": "",
      "userId": "01008898198902510619"
     },
     "user_tz": -540
    },
    "id": "hlc1qey4H4yA",
    "outputId": "a505a608-c824-4bd8-84a8-7d802e52a4b6"
   },
   "outputs": [],
   "source": [
    "def allsubstrings(s):\n",
    "    return [s[i:j] for i in range(len(s)) for j in range(i+1,len(s)+1)]\n",
    "\n",
    "allsubstrings('abc')"
   ]
  },
  {
   "cell_type": "markdown",
   "metadata": {
    "colab_type": "text",
    "id": "tcAvrLp_H4yC"
   },
   "source": [
    "## 練習\n",
    "\n",
    "次のような関数 `sum_lists` を作成してください。\n",
    "- `sum_lists` はリスト `list1` を引数とします。\n",
    "- `list1` の各要素はリストであり、そのリストの要素は数です。\n",
    "- `sum_lists` は、`list1` の各要素であるリストの総和を求め、それらの総和を足し合せて返します。\n",
    "\n",
    "ここでは、内包表記と関数 `sum` を用いて `sum_lists` を定義してください。\n",
    "以下のセルの `...` のところを書き換えて `sum_lists` を作成してください。"
   ]
  },
  {
   "cell_type": "code",
   "execution_count": null,
   "metadata": {
    "colab": {},
    "colab_type": "code",
    "id": "wK9I0eZeH4yE"
   },
   "outputs": [],
   "source": [
    "def sum_lists(list1):\n",
    "    ..."
   ]
  },
  {
   "cell_type": "markdown",
   "metadata": {
    "colab_type": "text",
    "id": "ICPJirGpH4yI"
   },
   "source": [
    "上のセルで解答を作成した後、以下のセルを実行し、実行結果が `True` になることを確認してください。"
   ]
  },
  {
   "cell_type": "code",
   "execution_count": null,
   "metadata": {
    "colab": {},
    "colab_type": "code",
    "id": "DvfWAEWFH4yJ",
    "tags": [
     "raises-exception"
    ]
   },
   "outputs": [],
   "source": [
    "print(sum_lists([[20, 5], [6, 16, 14, 5], [16, 8, 16, 17, 14], [1], [5, 3, 5, 7]]) == 158)"
   ]
  },
  {
   "cell_type": "markdown",
   "metadata": {
    "colab_type": "text",
    "id": "DiaskBU1H4yO"
   },
   "source": [
    "## 練習\n",
    "\n",
    "リスト `list1` と `list2` が引数として与えられたとき、次のようなリスト `list3` を返す関数 `sum_matrix` を作成してください。\n",
    "\n",
    "- `list1`, `list2`, `list3` は、3つの要素を持ちます。\n",
    "- 各要素は大きさ3のリストになっており、そのリストの要素は全て数です。\n",
    "- `list3[i][j]` （ただし、`i` と `j` は共に、0以上2以下の整数）は `list1[i][j]` と `list2[i][j]` の値の和になっています。\n",
    "\n",
    "ここでは、内包表記を用いて`sum_matrix` を定義してください。以下のセルの `...` のところを書き換えて `sum_matrix` を作成してください。"
   ]
  },
  {
   "cell_type": "code",
   "execution_count": null,
   "metadata": {
    "colab": {},
    "colab_type": "code",
    "id": "GVR37QbCH4yO"
   },
   "outputs": [],
   "source": [
    "def sum_matrix(list1, list2):\n",
    "    ..."
   ]
  },
  {
   "cell_type": "markdown",
   "metadata": {
    "colab_type": "text",
    "id": "2JliVl0DH4yR"
   },
   "source": [
    "上のセルで解答を作成した後、以下のセルを実行し、実行結果が `True` になることを確認してください。"
   ]
  },
  {
   "cell_type": "code",
   "execution_count": null,
   "metadata": {
    "colab": {},
    "colab_type": "code",
    "id": "u6nU9ZlgH4yS",
    "tags": [
     "raises-exception"
    ]
   },
   "outputs": [],
   "source": [
    "print(sum_matrix([[1,2,3],[4,5,6],[7,8,9]], [[1,4,7],[2,5,8],[3,6,9]]) == [[2, 6, 10], [6, 10, 14], [10, 14, 18]])"
   ]
  },
  {
   "cell_type": "markdown",
   "metadata": {
    "colab_type": "text",
    "id": "hWHjWVkxH4yV"
   },
   "source": [
    "## ▲**条件付き内包表記**\n",
    "内包表記は`for`に加えて`if`を使うこともできます:"
   ]
  },
  {
   "cell_type": "code",
   "execution_count": null,
   "metadata": {
    "colab": {
     "base_uri": "https://localhost:8080/",
     "height": 34
    },
    "colab_type": "code",
    "executionInfo": {
     "elapsed": 799,
     "status": "ok",
     "timestamp": 1583486315800,
     "user": {
      "displayName": "Junichiro Mori",
      "photoUrl": "",
      "userId": "01008898198902510619"
     },
     "user_tz": -540
    },
    "id": "XYpcJM5mH4yX",
    "outputId": "0dbf6e2c-6045-4be1-8fac-1b3fdde2ff0a"
   },
   "outputs": [],
   "source": [
    "words = ['cat', 'dog\"', 'elephant', None, 'giraffe']\n",
    "length = [len(w) for w in words if w != None]\n",
    "print(length)"
   ]
  },
  {
   "cell_type": "markdown",
   "metadata": {
    "colab_type": "text",
    "id": "vvum-BqlH4yb"
   },
   "source": [
    "この場合、`length` として要素が `None` の場合を除いた`[3, 3, 8, 7]` が得られます。"
   ]
  },
  {
   "cell_type": "markdown",
   "metadata": {
    "colab_type": "text",
    "id": "bZCu-N2iH4yc"
   },
   "source": [
    "## ▲**集合内包表記**\n",
    "内包表記はセット（集合）型、`{}`、でも使うことができます:"
   ]
  },
  {
   "cell_type": "code",
   "execution_count": null,
   "metadata": {
    "colab": {
     "base_uri": "https://localhost:8080/",
     "height": 34
    },
    "colab_type": "code",
    "executionInfo": {
     "elapsed": 822,
     "status": "ok",
     "timestamp": 1583486322635,
     "user": {
      "displayName": "Junichiro Mori",
      "photoUrl": "",
      "userId": "01008898198902510619"
     },
     "user_tz": -540
    },
    "id": "zA3vwLM4H4yc",
    "outputId": "9d4fb8a7-bee8-4b36-a5de-fed126f5e29a"
   },
   "outputs": [],
   "source": [
    "words = ['cat', 'dog\"', 'elephant', 'giraffe']\n",
    "length_set = {len(w) for w in words}\n",
    "print(length_set)"
   ]
  },
  {
   "cell_type": "markdown",
   "metadata": {
    "colab_type": "text",
    "id": "1gOfQgnxH4yg"
   },
   "source": [
    "`length_set` として `{3, 7, 8}` が得られます。\n",
    "セット型なので、リストと異なり重複する要素は除かれます。"
   ]
  },
  {
   "cell_type": "markdown",
   "metadata": {
    "colab_type": "text",
    "id": "-An69hydH4yh"
   },
   "source": [
    "## ▲**辞書内包表記**\n",
    "さらに、内包表記は辞書型でも使うことができます。"
   ]
  },
  {
   "cell_type": "code",
   "execution_count": null,
   "metadata": {
    "colab": {
     "base_uri": "https://localhost:8080/",
     "height": 34
    },
    "colab_type": "code",
    "executionInfo": {
     "elapsed": 702,
     "status": "ok",
     "timestamp": 1583486334279,
     "user": {
      "displayName": "Junichiro Mori",
      "photoUrl": "",
      "userId": "01008898198902510619"
     },
     "user_tz": -540
    },
    "id": "8YU8wKtIH4yi",
    "outputId": "bd19887d-0e1e-4041-e030-041231a2e71b"
   },
   "outputs": [],
   "source": [
    "words = ['cat', 'dog\"', 'elephant', 'giraffe']\n",
    "length_dic = {w:len(w) for w in words}\n",
    "print(length_dic)"
   ]
  },
  {
   "cell_type": "markdown",
   "metadata": {
    "colab_type": "text",
    "id": "w1wzh6XNH4yl"
   },
   "source": [
    "`length_dic` として `{'cat': 3, 'dog': 3, 'elephant': 8, 'giraffe': 7}` が得られます。\n",
    "\n",
    "長さと文字列を逆にするとどうなるでしょうか。"
   ]
  },
  {
   "cell_type": "code",
   "execution_count": null,
   "metadata": {
    "colab": {
     "base_uri": "https://localhost:8080/",
     "height": 34
    },
    "colab_type": "code",
    "executionInfo": {
     "elapsed": 659,
     "status": "ok",
     "timestamp": 1583486338918,
     "user": {
      "displayName": "Junichiro Mori",
      "photoUrl": "",
      "userId": "01008898198902510619"
     },
     "user_tz": -540
    },
    "id": "U0eWVFmBH4yl",
    "outputId": "14187cf2-0a41-46e2-cfeb-30d555068420"
   },
   "outputs": [],
   "source": [
    "length_rdic = {len(w): w for w in words}\n",
    "print(length_rdic)"
   ]
  },
  {
   "cell_type": "markdown",
   "metadata": {
    "colab_type": "text",
    "id": "C4E6CY1tH4yr"
   },
   "source": [
    "## ▲**ジェネレータ式**\n",
    "\n",
    "内包表記と似たものとして、ジェネレータ式というものがあります。\n",
    "リスト内包表記の `[]` を `()` に置き換えれば、ジェネレータ式になります。\n",
    "ジェネレータ式は、4-2 で説明された**イテレータ**を構築します。\n",
    "4-2 で説明されたように、イテレータは、for文で走査（全要素を訪問）できます。"
   ]
  },
  {
   "cell_type": "code",
   "execution_count": null,
   "metadata": {
    "colab": {
     "base_uri": "https://localhost:8080/",
     "height": 67
    },
    "colab_type": "code",
    "executionInfo": {
     "elapsed": 599,
     "status": "ok",
     "timestamp": 1583486363833,
     "user": {
      "displayName": "Junichiro Mori",
      "photoUrl": "",
      "userId": "01008898198902510619"
     },
     "user_tz": -540
    },
    "id": "1il7MANLH4ys",
    "outputId": "d0375098-32f0-49fe-91b6-a4ae382c37af"
   },
   "outputs": [],
   "source": [
    "it = (x * 3 for x in 'abc')\n",
    "for x in it:\n",
    "    print(x)"
   ]
  },
  {
   "cell_type": "markdown",
   "metadata": {
    "colab_type": "text",
    "id": "JNVCi1ByH4yv"
   },
   "source": [
    "イテレータを組み込み関数 `list()` や `tuple()` に渡すと、対応するリストやタプルが構築されます。\n",
    "なお、ジェネレータ式を直接引数とするときには、ジェネレータ式の外側の `()` は省略可能です。"
   ]
  },
  {
   "cell_type": "code",
   "execution_count": null,
   "metadata": {
    "colab": {
     "base_uri": "https://localhost:8080/",
     "height": 34
    },
    "colab_type": "code",
    "executionInfo": {
     "elapsed": 700,
     "status": "ok",
     "timestamp": 1583486380886,
     "user": {
      "displayName": "Junichiro Mori",
      "photoUrl": "",
      "userId": "01008898198902510619"
     },
     "user_tz": -540
    },
    "id": "5TaC8-tNH4yv",
    "outputId": "c3e29426-0713-41d2-c73e-a660591841e4"
   },
   "outputs": [],
   "source": [
    "list(x ** 2 for x in range(5))"
   ]
  },
  {
   "cell_type": "code",
   "execution_count": null,
   "metadata": {
    "colab": {
     "base_uri": "https://localhost:8080/",
     "height": 34
    },
    "colab_type": "code",
    "executionInfo": {
     "elapsed": 674,
     "status": "ok",
     "timestamp": 1583486390076,
     "user": {
      "displayName": "Junichiro Mori",
      "photoUrl": "",
      "userId": "01008898198902510619"
     },
     "user_tz": -540
    },
    "id": "E0PNP-TtH4yy",
    "outputId": "684e5e58-e0fe-4d4e-acd2-771cf679fb4a"
   },
   "outputs": [],
   "source": [
    "tuple(x ** 2 for x in range(5))"
   ]
  },
  {
   "cell_type": "markdown",
   "metadata": {
    "colab_type": "text",
    "id": "_DPLmdn9H4y2"
   },
   "source": [
    "総和を計算する組み込み関数 `sum()` など、シーケンスを引数にとれる大抵の関数には、イテレータも渡せます。"
   ]
  },
  {
   "cell_type": "code",
   "execution_count": null,
   "metadata": {
    "colab": {
     "base_uri": "https://localhost:8080/",
     "height": 34
    },
    "colab_type": "code",
    "executionInfo": {
     "elapsed": 618,
     "status": "ok",
     "timestamp": 1583486399791,
     "user": {
      "displayName": "Junichiro Mori",
      "photoUrl": "",
      "userId": "01008898198902510619"
     },
     "user_tz": -540
    },
    "id": "oRSBeERpH4y3",
    "outputId": "7849f40a-b5ab-4dd5-b7bc-8136080af2d2"
   },
   "outputs": [],
   "source": [
    "sum(x ** 2 for x in range(5))"
   ]
  },
  {
   "cell_type": "markdown",
   "metadata": {
    "colab_type": "text",
    "id": "z29L45aXH4y7"
   },
   "source": [
    "上の例において、ジェネレータ式の代わりにリスト内包表記を用いても同じ結果を得ますが、\n",
    "計算の途中で実際にリストを構築するので、メモリ消費が大きいです。\n",
    "ジェネレータ式では、リストのように走査できるイテレータを構築するだけなので、リスト内包表記よりメモリ効率が良いです。\n",
    "したがって、関数に渡すだけの一時オブジェクトには、リスト内包表記ではなくジェネレータ式を用いるのが有効です。"
   ]
  },
  {
   "cell_type": "markdown",
   "metadata": {
    "colab_type": "text",
    "id": "800SF-DoH4y8"
   },
   "source": [
    "## 練習の解答"
   ]
  },
  {
   "cell_type": "code",
   "execution_count": null,
   "metadata": {
    "colab": {},
    "colab_type": "code",
    "id": "XKOhl6sqH4y-"
   },
   "outputs": [],
   "source": [
    "strings = ['The', 'quick', 'brown']\n",
    "[len(x) for x in strings]"
   ]
  },
  {
   "cell_type": "code",
   "execution_count": null,
   "metadata": {
    "colab": {},
    "colab_type": "code",
    "id": "yfrv0rd4H4zB"
   },
   "outputs": [],
   "source": [
    "str1 = '123,45,-3'\n",
    "[int(x) for x in str1.split(',')]"
   ]
  },
  {
   "cell_type": "code",
   "execution_count": null,
   "metadata": {
    "colab": {},
    "colab_type": "code",
    "id": "LMGmBRFcH4zE"
   },
   "outputs": [],
   "source": [
    "def var(lst):\n",
    "    n = len(lst)\n",
    "    av = sum(lst)/n\n",
    "    return sum([(x - av)*(x - av) for x in lst])/n"
   ]
  },
  {
   "cell_type": "code",
   "execution_count": null,
   "metadata": {
    "colab": {},
    "colab_type": "code",
    "id": "l_W2qIe1H4zH"
   },
   "outputs": [],
   "source": [
    "def var(lst):\n",
    "    n = len(lst)\n",
    "    av = sum(lst)/n\n",
    "    return sum([x*x for x in lst])/n - av*av"
   ]
  },
  {
   "cell_type": "code",
   "execution_count": null,
   "metadata": {
    "colab": {},
    "colab_type": "code",
    "id": "LNR9tDtNH4zL"
   },
   "outputs": [],
   "source": [
    "def sum_lists(list1):\n",
    "    return sum([sum(lst) for lst in list1])"
   ]
  },
  {
   "cell_type": "code",
   "execution_count": null,
   "metadata": {
    "colab": {},
    "colab_type": "code",
    "id": "Ev5yju8yH4zN"
   },
   "outputs": [],
   "source": [
    "def sum_matrix(list1,list2):\n",
    "    return [[list1[i][j] + list2[i][j] for j in range(3)] for i in range(3)]"
   ]
  }
 ],
 "metadata": {
  "colab": {
   "name": "6-1.ipynb",
   "provenance": [],
   "toc_visible": true
  },
  "kernelspec": {
   "display_name": "Python 3",
   "language": "python",
   "name": "python3"
  },
  "language_info": {
   "codemirror_mode": {
    "name": "ipython",
    "version": 3
   },
   "file_extension": ".py",
   "mimetype": "text/x-python",
   "name": "python",
   "nbconvert_exporter": "python",
   "pygments_lexer": "ipython3",
   "version": "3.7.3"
  }
 },
 "nbformat": 4,
 "nbformat_minor": 1
}
