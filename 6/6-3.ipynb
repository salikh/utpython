{
 "cells": [
  {
   "cell_type": "markdown",
   "metadata": {
    "colab_type": "text",
    "id": "JVSAR0gUnjs7"
   },
   "source": [
    "# 6-3. クラス\n",
    "Pythonにおけるオブジェクト指向プログラミングのうち、クラスを定義する方法について簡単に説明します。\n",
    "\n",
    "参考\n",
    "- https://docs.python.org/ja/3/tutorial/classes.html\n",
    "- https://docs.python.org/ja/3/reference/datamodel.html"
   ]
  },
  {
   "cell_type": "markdown",
   "metadata": {
    "colab_type": "text",
    "id": "4AeaJiEKnjs-"
   },
   "source": [
    "## クラス定義\n",
    "\n",
    "Pythonではすべてのデータはオブジェクトなのですが、\n",
    "以下では特に、クラス定義によって作成されたクラスを型とするデータを扱います。\n",
    "このようなデータは、**オブジェクト指向プログラミング**における典型的な**オブジェクト**です。\n",
    "そこで以下では、オブジェクトという用語をもっぱら使います。\n",
    "\n",
    "4-1 で見たように、ファイルオブジェクトに対して `readline()` というメソッドを呼び出すと、\n",
    "ファイルの行が文字列として次々と返されます。\n",
    "ここでは、ファイルオブジェクトのようなオブジェクトで、\n",
    "`readline()` というメソッドが呼び出されると、常に `'Hello.\\n'` という文字列を返すようなものを作ってみましょう。\n",
    "\n",
    "そのためには、新しいクラスを定義します。\n",
    "**クラス**とは、オブジェクトの種類を意味します。\n",
    "新しいクラスを定義すると、そのクラスに属するオブジェクトを作ることができるようになります。\n",
    "それらのオブジェクトの型は、その新しいクラスになります。\n",
    "\n",
    "ここでは、ずっと `'Hello.\\n'` を返し続けるので、\n",
    "`HelloForEver` という名前を持つクラスを定義しましょう。\n",
    "そして、`HelloForEver` というクラスを型とするオブジェクトを作ります。"
   ]
  },
  {
   "cell_type": "code",
   "execution_count": null,
   "metadata": {
    "colab": {},
    "colab_type": "code",
    "id": "IM05bW6Lnjs_"
   },
   "outputs": [],
   "source": [
    "class HelloForEver:\n",
    "    def readline(self):\n",
    "        return 'Hello.\\n'"
   ]
  },
  {
   "cell_type": "markdown",
   "metadata": {
    "colab_type": "text",
    "id": "RkNtBwl5njtE"
   },
   "source": [
    "一般にクラス定義は、以下のような形をしています。\n",
    "\n",
    "---\n",
    "```Python\n",
    "class クラス名:\n",
    "    def メソッド名(self, 引数, ...):\n",
    "        実行文\n",
    "    def メソッド名(self, 引数, ...):\n",
    "        実行文\n",
    "    ...\n",
    "```\n",
    "---\n",
    "メソッド定義は関数定義と同じ形をしていますが、\n",
    "クラス定義の中に入っています。\n",
    "メソッド定義において、その最初の引数には慣例として `self` という名前を付けます。\n",
    "この引数には、メソッドが呼び出されたオブジェクト自身が渡されます。\n",
    "\n",
    "上の例では、`readline` というメソッドが一つ定義されています。\n",
    "\n",
    "以下のようにして、このクラスのオブジェクトを作ることができます。"
   ]
  },
  {
   "cell_type": "code",
   "execution_count": null,
   "metadata": {
    "colab": {},
    "colab_type": "code",
    "id": "MgCGMyjtnjtP"
   },
   "outputs": [],
   "source": [
    "f = HelloForEver()"
   ]
  },
  {
   "cell_type": "markdown",
   "metadata": {
    "colab_type": "text",
    "id": "XZ3LmECjnjtS"
   },
   "source": [
    "`HelloForEver` を型とする新しいオブジェクトが作られて変数 `f` の値となります。\n",
    "\n",
    "一般に、オブジェクトの生成は、\n",
    "\n",
    "---\n",
    "```Python\n",
    "クラス名(式, ...)\n",
    "```\n",
    "---\n",
    "という式で行います。このようにオブジェクトを生成する式は**コンストラクタ**と呼ばれます。\n",
    "なお、上の例では、括弧の中に式は一つもありません。"
   ]
  },
  {
   "cell_type": "markdown",
   "metadata": {
    "colab_type": "text",
    "id": "H8aMwP5UnjtT"
   },
   "source": [
    "このようにして作ったオブジェクトの型を確認してください。"
   ]
  },
  {
   "cell_type": "code",
   "execution_count": null,
   "metadata": {
    "colab": {
     "base_uri": "https://localhost:8080/",
     "height": 34
    },
    "colab_type": "code",
    "executionInfo": {
     "elapsed": 990,
     "status": "ok",
     "timestamp": 1583561545561,
     "user": {
      "displayName": "Junichiro Mori",
      "photoUrl": "",
      "userId": "01008898198902510619"
     },
     "user_tz": -540
    },
    "id": "u_Elf3bonjtU",
    "outputId": "ff661c82-5d51-44f0-abcd-fc5f8ef02670"
   },
   "outputs": [],
   "source": [
    "type(f)"
   ]
  },
  {
   "cell_type": "markdown",
   "metadata": {
    "colab_type": "text",
    "id": "4nM_meyXnjtY"
   },
   "source": [
    "`__main__.HelloForEver` と表示されたでしょう。\n",
    "`__main__` は、Jupyter Notebook の式が評価されているモジュールを指すので、\n",
    "このオブジェクトの型が、上で定義した `HelloForEver` クラスであることがわかります。\n",
    "クラスのコンストラクタによって生成されたオブジェクトを、そのクラスの**インスタンス**と言います。\n",
    "上のオブジェクトは `HelloForEver` クラスのインスタンスです。\n",
    "\n",
    "オブジェクトそのものは以下のように表示されます。"
   ]
  },
  {
   "cell_type": "code",
   "execution_count": null,
   "metadata": {
    "colab": {
     "base_uri": "https://localhost:8080/",
     "height": 34
    },
    "colab_type": "code",
    "executionInfo": {
     "elapsed": 951,
     "status": "ok",
     "timestamp": 1583561557527,
     "user": {
      "displayName": "Junichiro Mori",
      "photoUrl": "",
      "userId": "01008898198902510619"
     },
     "user_tz": -540
    },
    "id": "_ZGupC3anjtZ",
    "outputId": "3bdaff21-7281-493c-9762-0ce3157407ad"
   },
   "outputs": [],
   "source": [
    "f"
   ]
  },
  {
   "cell_type": "markdown",
   "metadata": {
    "colab_type": "text",
    "id": "QVtDtpvSnjtd"
   },
   "source": [
    "このオブジェクトに対して、`readline` というメソッドを呼び出すことができます。"
   ]
  },
  {
   "cell_type": "code",
   "execution_count": null,
   "metadata": {
    "colab": {
     "base_uri": "https://localhost:8080/",
     "height": 34
    },
    "colab_type": "code",
    "executionInfo": {
     "elapsed": 920,
     "status": "ok",
     "timestamp": 1583561561019,
     "user": {
      "displayName": "Junichiro Mori",
      "photoUrl": "",
      "userId": "01008898198902510619"
     },
     "user_tz": -540
    },
    "id": "WI4tKAODnjte",
    "outputId": "5512a962-1962-4839-8ec3-757c5736c11b"
   },
   "outputs": [],
   "source": [
    "f.readline()"
   ]
  },
  {
   "cell_type": "markdown",
   "metadata": {
    "colab_type": "text",
    "id": "SThQMNSonjti"
   },
   "source": [
    "この例では、`f` という変数に入っているオブジェクトが `self` という引数に渡されて、\n",
    "`readline` の本体である以下の文が実行されました。\n",
    "\n",
    "---\n",
    "```Python\n",
    "    return 'Hello.\\n'\n",
    "```\n",
    "---\n",
    "（この例では `self` は参照されていません。）\n",
    "\n",
    "何回やっても同じです。"
   ]
  },
  {
   "cell_type": "code",
   "execution_count": null,
   "metadata": {
    "colab": {
     "base_uri": "https://localhost:8080/",
     "height": 34
    },
    "colab_type": "code",
    "executionInfo": {
     "elapsed": 953,
     "status": "ok",
     "timestamp": 1583561569835,
     "user": {
      "displayName": "Junichiro Mori",
      "photoUrl": "",
      "userId": "01008898198902510619"
     },
     "user_tz": -540
    },
    "id": "bx-aRFD6njtj",
    "outputId": "2ef0ca64-c42e-4f2d-d7d0-eaba9371a01b"
   },
   "outputs": [],
   "source": [
    "f.readline()"
   ]
  },
  {
   "cell_type": "code",
   "execution_count": null,
   "metadata": {
    "colab": {
     "base_uri": "https://localhost:8080/",
     "height": 34
    },
    "colab_type": "code",
    "executionInfo": {
     "elapsed": 955,
     "status": "ok",
     "timestamp": 1583561572408,
     "user": {
      "displayName": "Junichiro Mori",
      "photoUrl": "",
      "userId": "01008898198902510619"
     },
     "user_tz": -540
    },
    "id": "Yu-47OuPnjtm",
    "outputId": "4cea6fd9-9dae-4c17-e1fb-611030e5f31f"
   },
   "outputs": [],
   "source": [
    "f.readline()"
   ]
  },
  {
   "cell_type": "markdown",
   "metadata": {
    "colab_type": "text",
    "id": "HahfOjSXnjtp"
   },
   "source": [
    "## 初期化と属性\n",
    "\n",
    "以下の例では、初期化のメソッドが定義され、オブジェクトに属性が与えられます。\n",
    "\n",
    "**初期化**のメソッドは **`__init__`** という名前を持ち、\n",
    "オブジェクトが作られたときに自動的に呼び出されます。\n",
    "`__init__` の引数は、オブジェクト自身と、クラス名の後に与えられる式の値です。"
   ]
  },
  {
   "cell_type": "code",
   "execution_count": null,
   "metadata": {
    "colab": {},
    "colab_type": "code",
    "id": "eFqHfWgPnjtq"
   },
   "outputs": [],
   "source": [
    "class HelloFile:\n",
    "    def __init__(self, n):\n",
    "        self.n = n\n",
    "    def readline(self):\n",
    "        if self.n == 0:\n",
    "            return ''\n",
    "        self.n = self.n - 1\n",
    "        return 'Hello.\\n'"
   ]
  },
  {
   "cell_type": "markdown",
   "metadata": {
    "colab_type": "text",
    "id": "SAkyyC81njtt"
   },
   "source": [
    "この例では、以下のようにしてオブジェクトが作られます。"
   ]
  },
  {
   "cell_type": "code",
   "execution_count": null,
   "metadata": {
    "colab": {},
    "colab_type": "code",
    "id": "15RSP6zHnjtu"
   },
   "outputs": [],
   "source": [
    "f = HelloFile(3)"
   ]
  },
  {
   "cell_type": "markdown",
   "metadata": {
    "colab_type": "text",
    "id": "cEX1rk5cnjtx"
   },
   "source": [
    "すると、`HelloFile` を型とする新しいオブジェクトが作られて、\n",
    "そのオブジェクト自身が `self` に、`3` が `n` に渡されて、\n",
    "`self.n = n` という文が実行されます。\n",
    "\n",
    "`self.n` という式は、このオブジェクトの `n` という名前の属性を表します。\n",
    "\n",
    "一般に、`class` の構文によって定義されたクラスを型とするオブジェクトは、\n",
    "属性を持つことができます。\n",
    "**属性**とは、個々のオブジェクトごとに記録される値であり、\n",
    "オブジェクト内の変数と考えられます。\n",
    "オブジェクトの属性は、オブジェクトに対してその**属性名**を指定して、参照したり設定したりできます。\n",
    "オブジェクトの属性は、`self.属性名` という式で参照されます。\n",
    "`self.属性名` を代入文の左辺に書けば、属性を設定することができます。\n",
    "\n",
    "`self.n = n` のうち、`self.` の次の `n` は属性を表し、\n",
    "右辺の `n` は、`__init__` メソッドの引数を表していますので、\n",
    "混同しないようにしてください。\n",
    "\n",
    "この例では、新しく作られたオブジェクトの `n` という属性が、引数 `n` の値である `3` に設定されます。\n",
    "\n",
    "`readline` メソッドは以下のように定義されています。\n",
    "\n",
    "---\n",
    "```Python\n",
    "    def readline(self):\n",
    "        if self.n == 0:\n",
    "            return ''\n",
    "        self.n = self.n - 1\n",
    "        return 'Hello.\\n'\n",
    "```\n",
    "---\n",
    "オブジェクトの属性 `n` を参照して、それが 0 ならば空文字列を返します。\n",
    "そうでなければ、属性 `n` を 1 減らしてから文字列 `'Hello.\\n'` を返します。"
   ]
  },
  {
   "cell_type": "code",
   "execution_count": null,
   "metadata": {
    "colab": {
     "base_uri": "https://localhost:8080/",
     "height": 34
    },
    "colab_type": "code",
    "executionInfo": {
     "elapsed": 441,
     "status": "ok",
     "timestamp": 1583561622188,
     "user": {
      "displayName": "Junichiro Mori",
      "photoUrl": "",
      "userId": "01008898198902510619"
     },
     "user_tz": -540
    },
    "id": "N3MZmLsjnjty",
    "outputId": "7e0d54ec-d865-4e6e-88ad-052be07e551f"
   },
   "outputs": [],
   "source": [
    "f.readline()"
   ]
  },
  {
   "cell_type": "code",
   "execution_count": null,
   "metadata": {
    "colab": {
     "base_uri": "https://localhost:8080/",
     "height": 34
    },
    "colab_type": "code",
    "executionInfo": {
     "elapsed": 404,
     "status": "ok",
     "timestamp": 1583561625010,
     "user": {
      "displayName": "Junichiro Mori",
      "photoUrl": "",
      "userId": "01008898198902510619"
     },
     "user_tz": -540
    },
    "id": "l7y-oyjAnjt1",
    "outputId": "4a22072e-9448-4f67-97c1-ad84d3e67da9"
   },
   "outputs": [],
   "source": [
    "f.readline()"
   ]
  },
  {
   "cell_type": "code",
   "execution_count": null,
   "metadata": {
    "colab": {
     "base_uri": "https://localhost:8080/",
     "height": 34
    },
    "colab_type": "code",
    "executionInfo": {
     "elapsed": 412,
     "status": "ok",
     "timestamp": 1583561626602,
     "user": {
      "displayName": "Junichiro Mori",
      "photoUrl": "",
      "userId": "01008898198902510619"
     },
     "user_tz": -540
    },
    "id": "8KAZtoFynjt4",
    "outputId": "ee1ed6f8-6fd7-4cb8-9c7c-1c90791debd8"
   },
   "outputs": [],
   "source": [
    "f.readline()"
   ]
  },
  {
   "cell_type": "code",
   "execution_count": null,
   "metadata": {
    "colab": {
     "base_uri": "https://localhost:8080/",
     "height": 34
    },
    "colab_type": "code",
    "executionInfo": {
     "elapsed": 379,
     "status": "ok",
     "timestamp": 1583561628529,
     "user": {
      "displayName": "Junichiro Mori",
      "photoUrl": "",
      "userId": "01008898198902510619"
     },
     "user_tz": -540
    },
    "id": "jJRdr9jLnjt-",
    "outputId": "cbaf4729-313d-4558-ee1e-3576d9f798d2"
   },
   "outputs": [],
   "source": [
    "f.readline()"
   ]
  },
  {
   "cell_type": "markdown",
   "metadata": {
    "colab_type": "text",
    "id": "IEj89YEunjuB"
   },
   "source": [
    "## 継承\n",
    "\n",
    "**継承**は、既存のクラスをもとにして、変更部分だけを与えることにより、\n",
    "新たなクラスを定義する機能です。\n",
    "\n",
    "以下の例では、`HelloForEver` をもとにして `HelloFile` を定義しています。\n",
    "一般に、新しく定義されるクラスを**子クラス**、そのもとになるクラスを**親クラス**と言います。"
   ]
  },
  {
   "cell_type": "code",
   "execution_count": null,
   "metadata": {
    "colab": {},
    "colab_type": "code",
    "id": "DWIedCfHnjuC"
   },
   "outputs": [],
   "source": [
    "class HelloFile(HelloForEver):\n",
    "    def __init__(self, n):\n",
    "        self.n = n\n",
    "    def readline(self):\n",
    "        if self.n == 0:\n",
    "            return ''\n",
    "        self.n = self.n - 1\n",
    "        return super().readline()"
   ]
  },
  {
   "cell_type": "markdown",
   "metadata": {
    "colab_type": "text",
    "id": "UzuiypF0njuF"
   },
   "source": [
    "ここでは、`__init__` と `readline` を新たに定義しています。\n",
    "\n",
    "`HelloForEver` にも `readline` があります。\n",
    "こちらの `readline` は、`super().readline()` という式で呼び出すことができます。\n",
    "**`super()`** は、子クラスのオブジェクトに対して親クラスのメソッドを呼び出すための構文です。\n",
    "実際に、`HelloFile` の `readline` の中で、\n",
    "`HelloForEver` の `readline` を呼び出しています。"
   ]
  },
  {
   "cell_type": "code",
   "execution_count": null,
   "metadata": {
    "colab": {},
    "colab_type": "code",
    "id": "mK62CfFinjuF"
   },
   "outputs": [],
   "source": [
    "f = HelloFile(3)"
   ]
  },
  {
   "cell_type": "code",
   "execution_count": null,
   "metadata": {
    "colab": {
     "base_uri": "https://localhost:8080/",
     "height": 34
    },
    "colab_type": "code",
    "executionInfo": {
     "elapsed": 393,
     "status": "ok",
     "timestamp": 1583561652660,
     "user": {
      "displayName": "Junichiro Mori",
      "photoUrl": "",
      "userId": "01008898198902510619"
     },
     "user_tz": -540
    },
    "id": "6LDlTs-NnjuI",
    "outputId": "a5739024-9acb-444f-8fb5-93f697c70989"
   },
   "outputs": [],
   "source": [
    "f.readline()"
   ]
  },
  {
   "cell_type": "markdown",
   "metadata": {
    "colab_type": "text",
    "id": "0UZOCcvonjuM"
   },
   "source": [
    "## 特殊メソッド\n",
    "\n",
    "Pythonでは、**特殊メソッド**と呼ばれるメソッドが多数あります。\n",
    "これらのメソッドの名前は `__` で始まり `__` で終わります。\n",
    "\n",
    "クラス定義の中で特殊メソッドを定義すると、そのクラスのオブジェクトに対して、\n",
    "その特殊メソッドに対応する機能が付与されます。\n",
    "初期化メソッド `__init__` も特殊メソッドですが、\n",
    "以下のクラス `HelloFileIterator` では、**`__iter__`** と **`__next__`** という特殊メソッドが定義されています。\n",
    "このクラスは、`HelloFile` を継承して定義されています。\n",
    "\n",
    "`__iter__` メソッドは、オブジェクトに対して関数 `iter` が適用されたときに呼び出されます。\n",
    "`__iter__` メソッドの値が関数 `iter` の値となります。\n",
    "以下の例では、`__iter__` はオブジェクト自身を返しています。\n",
    "したがって、オブジェクトに `iter` が適用されると、オブジェクト自身が返ります。"
   ]
  },
  {
   "cell_type": "code",
   "execution_count": null,
   "metadata": {
    "colab": {},
    "colab_type": "code",
    "id": "rcMcN3AanjuN"
   },
   "outputs": [],
   "source": [
    "class HelloFileIterator(HelloFile):\n",
    "    def __iter__(self):\n",
    "        return self\n",
    "    def __next__(self):\n",
    "        line = self.readline()\n",
    "        if line == '':\n",
    "            raise StopIteration\n",
    "        return line"
   ]
  },
  {
   "cell_type": "code",
   "execution_count": null,
   "metadata": {
    "colab": {},
    "colab_type": "code",
    "id": "tIznSuvQnjuP"
   },
   "outputs": [],
   "source": [
    "f = HelloFileIterator(3)"
   ]
  },
  {
   "cell_type": "code",
   "execution_count": null,
   "metadata": {
    "colab": {
     "base_uri": "https://localhost:8080/",
     "height": 34
    },
    "colab_type": "code",
    "executionInfo": {
     "elapsed": 401,
     "status": "ok",
     "timestamp": 1583561710674,
     "user": {
      "displayName": "Junichiro Mori",
      "photoUrl": "",
      "userId": "01008898198902510619"
     },
     "user_tz": -540
    },
    "id": "M6i5bVw9njuT",
    "outputId": "262448ec-67de-4ef7-9d0b-24ef3c1422d4"
   },
   "outputs": [],
   "source": [
    "print(f is iter(f))"
   ]
  },
  {
   "cell_type": "markdown",
   "metadata": {
    "colab_type": "text",
    "id": "Vx2mt11anjuV"
   },
   "source": [
    "上の例で、`iter(f)` として関数 `iter` を呼び出すと、\n",
    "`f.__iter__()` としてメソッド `__iter__` が `f` に対して呼び出され、\n",
    "その結果が `iter(f)` の値となります。\n",
    "したがって、`iter(f)` は `f` と同じ値を返します。\n",
    "\n",
    "`__next__` メソッドも、オブジェクトに対して関数 `next` が適用されたときに呼び出されます。\n",
    "`__next__` メソッドの値が `next` の値となります。\n",
    "\n",
    "上の例では、`self.readline()` として、オブジェクト自身に対してメソッド `readline` を呼び出しています。\n",
    "その値が空文字列ならば、\n",
    "\n",
    "---\n",
    "```Python\n",
    "            raise StopIteration\n",
    "```\n",
    "---\n",
    "という文を実行して、**`StopIteration`** というエラーを投げます。\n",
    "実は、このエラーは、for文が捕まえて繰り返しを止める効果を持ちます。\n",
    "なお、**``raise``** は強制的にエラーを発生させる構文です。"
   ]
  },
  {
   "cell_type": "code",
   "execution_count": null,
   "metadata": {
    "colab": {
     "base_uri": "https://localhost:8080/",
     "height": 118
    },
    "colab_type": "code",
    "executionInfo": {
     "elapsed": 385,
     "status": "ok",
     "timestamp": 1583561790890,
     "user": {
      "displayName": "Junichiro Mori",
      "photoUrl": "",
      "userId": "01008898198902510619"
     },
     "user_tz": -540
    },
    "id": "QqNi7oERnjuW",
    "outputId": "e1f8dffe-d566-4ac9-f427-8323e5ba00ae"
   },
   "outputs": [],
   "source": [
    "for line in f:\n",
    "    print(line)"
   ]
  },
  {
   "cell_type": "markdown",
   "metadata": {
    "colab_type": "text",
    "id": "9U9Fz-PCnjuY"
   },
   "source": [
    "4-2 で説明しましたように、上のfor文では、\n",
    "まず `f` のオブジェクトに対して関数 `iter` が適用されます。\n",
    "すると `f` のオブジェクト自身が返ります。\n",
    "そして、このオブジェクトに対して関数 `next` が繰り返し適用されて、\n",
    "その結果が変数 `line` の値となります。\n",
    "`StopIteration` のエラーが検知されると、for文が終了します。"
   ]
  },
  {
   "cell_type": "markdown",
   "metadata": {
    "colab_type": "text",
    "id": "WAVWp_2dnjua"
   },
   "source": [
    "## 練習\n",
    "\n",
    "`'Hello.\\n'` ではなくて、初期時に指定された文字列を繰り返し返すように、\n",
    "新たなクラス `StringFileIterator` を定義してください。\n",
    "\n",
    "`StringFileIterator` は `HelloFileIterator` を継承し、\n",
    "初期化メソッドには、文字列と回数を指定します。"
   ]
  },
  {
   "cell_type": "code",
   "execution_count": null,
   "metadata": {
    "colab": {},
    "colab_type": "code",
    "id": "n_JgmAT7njub"
   },
   "outputs": [],
   "source": [
    "class StringFileIterator(HelloFileIterator):\n",
    "    def __init__(self, s, n):\n",
    "        ...\n",
    "    ...        "
   ]
  },
  {
   "cell_type": "markdown",
   "metadata": {
    "colab_type": "text",
    "id": "zWS0A6uSnjue"
   },
   "source": [
    "上のセルで解答を作成した後、以下のセルを実行し、実行結果が `True` になることを確認してください。"
   ]
  },
  {
   "cell_type": "code",
   "execution_count": null,
   "metadata": {
    "colab": {},
    "colab_type": "code",
    "id": "19BwQF-9njuf",
    "tags": [
     "raises-exception"
    ]
   },
   "outputs": [],
   "source": [
    "f = StringFileIterator('abc', 3)\n",
    "print(list(f) == ['abc','abc','abc'])"
   ]
  },
  {
   "cell_type": "markdown",
   "metadata": {
    "colab_type": "text",
    "id": "RXD99vzVnjui"
   },
   "source": [
    "## ▲with文への対応\n",
    "\n",
    "さらに、ここでは詳しく説明しませんが、特殊メソッドである **`__enter__`** と **`__exit__`** を定義すると、\n",
    "**with文**にも対応できます。"
   ]
  },
  {
   "cell_type": "code",
   "execution_count": null,
   "metadata": {
    "colab": {},
    "colab_type": "code",
    "id": "QCM1RO41njuj"
   },
   "outputs": [],
   "source": [
    "class HelloFileIterator(HelloFile):\n",
    "    def __enter__(self):\n",
    "        return self\n",
    "    def __exit__(self,exception_type,exception_value,traceback):\n",
    "        pass\n",
    "    def __next__(self):\n",
    "        line = self.readline()\n",
    "        if line == '':\n",
    "            raise StopIteration\n",
    "        return line\n",
    "    def __iter__(self):\n",
    "        return self"
   ]
  },
  {
   "cell_type": "code",
   "execution_count": null,
   "metadata": {
    "colab": {
     "base_uri": "https://localhost:8080/",
     "height": 118
    },
    "colab_type": "code",
    "executionInfo": {
     "elapsed": 389,
     "status": "ok",
     "timestamp": 1583561867399,
     "user": {
      "displayName": "Junichiro Mori",
      "photoUrl": "",
      "userId": "01008898198902510619"
     },
     "user_tz": -540
    },
    "id": "U8m-jCz9njum",
    "outputId": "9d29cb23-08e2-4e7e-97da-a666ad320876",
    "scrolled": true
   },
   "outputs": [],
   "source": [
    "with HelloFileIterator(3) as f:\n",
    "    for line in f:\n",
    "        print(line)"
   ]
  },
  {
   "cell_type": "markdown",
   "metadata": {
    "colab_type": "text",
    "id": "59g5GuYlnjuq"
   },
   "source": [
    "## 練習の解答"
   ]
  },
  {
   "cell_type": "code",
   "execution_count": null,
   "metadata": {
    "colab": {},
    "colab_type": "code",
    "id": "K1XznG2ynjur"
   },
   "outputs": [],
   "source": [
    "class StringFileIterator(HelloFileIterator):\n",
    "    def __init__(self, s, n):\n",
    "        self.s = s\n",
    "        self.n = n\n",
    "    def readline(self):\n",
    "        if self.n == 0:\n",
    "            return ''\n",
    "        self.n = self.n - 1\n",
    "        return self.s"
   ]
  },
  {
   "cell_type": "code",
   "execution_count": null,
   "metadata": {
    "colab": {},
    "colab_type": "code",
    "id": "KxFDH1LZnjuv"
   },
   "outputs": [],
   "source": []
  }
 ],
 "metadata": {
  "colab": {
   "name": "6-3.ipynb",
   "provenance": [],
   "toc_visible": true
  },
  "kernelspec": {
   "display_name": "Python 3",
   "language": "python",
   "name": "python3"
  },
  "language_info": {
   "codemirror_mode": {
    "name": "ipython",
    "version": 3
   },
   "file_extension": ".py",
   "mimetype": "text/x-python",
   "name": "python",
   "nbconvert_exporter": "python",
   "pygments_lexer": "ipython3",
   "version": "3.7.3"
  }
 },
 "nbformat": 4,
 "nbformat_minor": 1
}
