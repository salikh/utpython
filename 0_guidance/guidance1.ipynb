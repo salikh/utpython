{
 "cells": [
  {
   "cell_type": "markdown",
   "metadata": {},
   "source": [
    "# Pythonの準備\n",
    "\n",
    "主としてPython環境のセットアップ方法について説明します。\n",
    "\n",
    "## Python\n",
    "\n",
    "Pythonは、フリー・オープンソースのインタプリタ・スクリプト言語です。\n",
    "ウェブサーバなどの各種のシステム構築に用いられますが、\n",
    "データ分析、機械学習、数値計算、最適化、画像・信号処理、可視化などの科学技術計算にも広く用いられています。\n",
    "\n",
    "設計思想は「シンプルで読みやすいコード」です。"
   ]
  },
  {
   "cell_type": "code",
   "execution_count": 1,
   "metadata": {},
   "outputs": [
    {
     "name": "stdout",
     "output_type": "stream",
     "text": [
      "The Zen of Python, by Tim Peters\n",
      "\n",
      "Beautiful is better than ugly.\n",
      "Explicit is better than implicit.\n",
      "Simple is better than complex.\n",
      "Complex is better than complicated.\n",
      "Flat is better than nested.\n",
      "Sparse is better than dense.\n",
      "Readability counts.\n",
      "Special cases aren't special enough to break the rules.\n",
      "Although practicality beats purity.\n",
      "Errors should never pass silently.\n",
      "Unless explicitly silenced.\n",
      "In the face of ambiguity, refuse the temptation to guess.\n",
      "There should be one-- and preferably only one --obvious way to do it.\n",
      "Although that way may not be obvious at first unless you're Dutch.\n",
      "Now is better than never.\n",
      "Although never is often better than *right* now.\n",
      "If the implementation is hard to explain, it's a bad idea.\n",
      "If the implementation is easy to explain, it may be a good idea.\n",
      "Namespaces are one honking great idea -- let's do more of those!\n"
     ]
    }
   ],
   "source": [
    "import this"
   ]
  },
  {
   "cell_type": "markdown",
   "metadata": {},
   "source": [
    "Pythonは単なるプログラミング言語ではなく、\n",
    "ライブラリ、フレームワーク、プラットフォーム、アプリケーションなどから成るエコシステムを構成しています。"
   ]
  },
  {
   "cell_type": "markdown",
   "metadata": {
    "slideshow": {
     "slide_type": "slide"
    }
   },
   "source": [
    "## Anaconda / Jupyter Notebook\n",
    "\n",
    "本講義の教材は Jupyter Notebook のノートブックの形式で提供されています。\n",
    "Jupyter Notebook の処理系は、Anacondaディストリビューションに含まれています。\n",
    "また、Google Colaboratory を利用することもできます。\n",
    "\n",
    "- Anaconda (https://anaconda.org/)\n",
    "\n",
    "    - Pythonと主要なライブラリ（モジュール）を一括でインストール可能にしたディストリビューション\n",
    "    - 以下の Jupyter Notebook も含む\n",
    "    - Python2系とPython3系があり、本講義ではPython3系を使用\n",
    "\n",
    "\n",
    "- Jupyter Notebook (http://jupyter.org/)\n",
    "\n",
    "    - Pythonコードをブラウザ上で対話的に実行可能な環境\n",
    "    - ノートブックを通して、ブラウザ上でコードの記述と実行結果の保存と共有が可能\n",
    "\n",
    "\n",
    "- Google Colaboratory\n",
    "\n",
    "    - ノートブックを実行できるクラウド環境\n",
    "    - Googleが提供"
   ]
  },
  {
   "cell_type": "markdown",
   "metadata": {
    "slideshow": {
     "slide_type": "slide"
    }
   },
   "source": [
    "## Python環境のセットアップ\n",
    "\n",
    "以下では、三つの方法について説明しています。\n",
    "\n",
    "- 個人PC (Windows) にAncondaをインストールする場合\n",
    "- 個人PC (Mac) にAncondaをインストールする場合\n",
    "- 個人PCにAnacondaをインストールしない・できない場合 --- Google Colaboratory"
   ]
  },
  {
   "cell_type": "markdown",
   "metadata": {
    "slideshow": {
     "slide_type": "slide"
    }
   },
   "source": [
    "## Python環境のセットアップ（Windows向け）\n",
    "個人PC（Windows10）にAncondaをインストールする場合\n",
    "\n",
    "1. [Anacondaのダウンロードページ](https://www.anaconda.com/distribution/#windows)からWindows用の Python 3.7 version 64-Bit Graphical Installer (Anaconda3-2018.12-Windows-x86_64.exe) をダウンロード\n",
    "\n",
    "\n",
    "2. インストーラを起動し、License Agreementに [I agree] を選択\n",
    "\n",
    "\n",
    "3. Install forに [Just me] を選択\n",
    "\n",
    "\n",
    "4. インストール先をデフォルト（`C:\\Users\\you\\Anaconda3`）から変更したい場合は、インストール先を指定して [Next] を選択\n",
    "\n",
    "\n",
    "5. Advanced Optionsの2つのチェックボックス（Add Anaconda to my PATH environment variableとRegister Anaconda as my default Python 3.7）のチェックを外したままインストール [install] を選択\n",
    "\n",
    "    - Python本体や Jupyter Notebook をコマンドラインで起動したい場合は、コマンドプロンプトの代わりに `Anaconda Commad Prompt` を使用してください。\n",
    "\n",
    "\n",
    "6. Windowsのスタートメニューのプログラム一覧に `Anaconda3 (64bit)` というフォルダが新しく作られており、その中の `Jupyter Notebook` を選択すると、既定のブラウザで Jupyter Notebook が起動します。\n",
    "\n",
    "    - `Anaconda Navigator` から起動してもよいです。\n",
    "\n",
    "図は以下のMac向けの方を参照してください。"
   ]
  },
  {
   "cell_type": "markdown",
   "metadata": {
    "slideshow": {
     "slide_type": "slide"
    }
   },
   "source": [
    "## Python環境のセットアップ（Mac向け）\n",
    "個人PC (Mac OS X) にAncondaをインストールする場合\n",
    "\n",
    "1. [Anacondaのダウンロードページ](https://www.anaconda.com/distribution/#macos)からMac用の Python 3.7 version インストーラ (Anaconda3-2018.12-MacOSX-x86_64.pkg) をダウンロード\n",
    "\n",
    "\n",
    "2. インストーラを起動しインストールしてください。\n",
    "\n",
    "\n",
    "3. インストール先をデフォルト (`~/anaconda3`) から変更したい場合は、インストール先を指定してください。\n",
    "\n",
    "\n",
    "4. アプリケーション一覧に `Anaconda Navigator` というアプリケーションがインストールされているので、`Anaconda Navigator` を起動して、その中にある Jupyter Notebook から[Launch]すると Jupyter Notebook が起動します。"
   ]
  },
  {
   "cell_type": "markdown",
   "metadata": {},
   "source": [
    "![](https://raw.githubusercontent.com/UTokyo-IPP/utpython/master/0_guidance/anaconda_download.png)"
   ]
  },
  {
   "cell_type": "markdown",
   "metadata": {},
   "source": [
    "|Application Folder|Start Anaconda Navigator|\n",
    "|---|---|\n",
    "|![](https://raw.githubusercontent.com/UTokyo-IPP/utpython/master/0_guidance/app_folder.png)|![](https://raw.githubusercontent.com/UTokyo-IPP/utpython/master/0_guidance/anaconda_start.png)|"
   ]
  },
  {
   "cell_type": "markdown",
   "metadata": {},
   "source": [
    "![](https://raw.githubusercontent.com/UTokyo-IPP/utpython/master/0_guidance/anaconda_navigator.png)"
   ]
  },
  {
   "cell_type": "markdown",
   "metadata": {},
   "source": [
    "![](https://raw.githubusercontent.com/UTokyo-IPP/utpython/master/0_guidance/anaconda_files.png)"
   ]
  },
  {
   "cell_type": "markdown",
   "metadata": {},
   "source": [
    "![](https://raw.githubusercontent.com/UTokyo-IPP/utpython/master/0_guidance/jupyter_code_cell.png)"
   ]
  },
  {
   "cell_type": "markdown",
   "metadata": {
    "slideshow": {
     "slide_type": "slide"
    }
   },
   "source": [
    "## Python環境のセットアップ (Google Colaboratory)\n",
    "個人PCにAnacondaをインストールしない・できない場合 --- Google Colaboratory\n",
    "\n",
    "1. Googleアカウント（個人でもECCSでもどちらでもよい）でログイン後にブラウザで以下にアクセス\n",
    "\n",
    "    https://colab.research.google.com/\n",
    "\n",
    "\n",
    "2. Jupyterノートブックファイル (`.ipynb`) をアップロード"
   ]
  },
  {
   "cell_type": "markdown",
   "metadata": {
    "slideshow": {
     "slide_type": "slide"
    }
   },
   "source": [
    "![](https://raw.githubusercontent.com/UTokyo-IPP/utpython/master/0_guidance/colab1.png)\n",
    "\n",
    "![](https://raw.githubusercontent.com/UTokyo-IPP/utpython/master/0_guidance/colab2.png)"
   ]
  },
  {
   "cell_type": "markdown",
   "metadata": {},
   "source": [
    "3. Jupyterノートブックと同様に作業します"
   ]
  },
  {
   "cell_type": "markdown",
   "metadata": {},
   "source": [
    "![](https://raw.githubusercontent.com/UTokyo-IPP/utpython/master/0_guidance/colab3.png)"
   ]
  },
  {
   "cell_type": "markdown",
   "metadata": {},
   "source": [
    "4. 作業が終わったらノートブックを保存して手元にダウンロードします"
   ]
  },
  {
   "cell_type": "markdown",
   "metadata": {},
   "source": [
    "![](https://raw.githubusercontent.com/UTokyo-IPP/utpython/master/0_guidance/colab4.png)"
   ]
  }
 ],
 "metadata": {
  "kernelspec": {
   "display_name": "Python 3",
   "language": "python",
   "name": "python3"
  },
  "language_info": {
   "codemirror_mode": {
    "name": "ipython",
    "version": 3
   },
   "file_extension": ".py",
   "mimetype": "text/x-python",
   "name": "python",
   "nbconvert_exporter": "python",
   "pygments_lexer": "ipython3",
   "version": "3.7.3"
  }
 },
 "nbformat": 4,
 "nbformat_minor": 2
}
