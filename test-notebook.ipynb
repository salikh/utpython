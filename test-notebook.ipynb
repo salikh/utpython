{
 "cells": [
  {
   "cell_type": "code",
   "execution_count": 2,
   "metadata": {},
   "outputs": [],
   "source": [
    "# MASTER ONLY\n",
    "\n",
    "%load_ext prog_edu_assistant_tools.magics\n",
    "from prog_edu_assistant_tools.magics import report, autotest"
   ]
  },
  {
   "cell_type": "markdown",
   "metadata": {},
   "source": [
    "# Test notebook\n",
    "\n",
    "```\n",
    "# ASSIGNMENT METADATA\n",
    "assignment_id: \"TestNotebook\"\n",
    "```"
   ]
  },
  {
   "cell_type": "markdown",
   "metadata": {},
   "source": [
    "## Exercise 1\n",
    "\n",
    "```\n",
    "# EXERCISE METADATA\n",
    "exercise_id: \"Exercise1_Seventeen\"\n",
    "```\n",
    "\n",
    "Your task is to write a function named `seventeen` that returns 17."
   ]
  },
  {
   "cell_type": "code",
   "execution_count": 6,
   "metadata": {},
   "outputs": [],
   "source": [
    "%%solution\n",
    "def seventeen():\n",
    "    \"\"\" # BEGIN PROMPT\n",
    "    ...\n",
    "    \"\"\" # END PROMPT\n",
    "    # BEGIN SOLUTION\n",
    "    return 17\n",
    "    # END SOLUTION"
   ]
  },
  {
   "cell_type": "code",
   "execution_count": 7,
   "metadata": {},
   "outputs": [],
   "source": [
    "%%studenttest Exercise1_StudentTest\n",
    "assert seventeen() == 17"
   ]
  },
  {
   "cell_type": "code",
   "execution_count": 11,
   "metadata": {},
   "outputs": [],
   "source": [
    "%%inlinetest Exercise1_AutograderTest\n",
    "assert 'seventeen' in globals(), \"Did you define a function named 'seventeen' in the solution cell?\"\n",
    "assert str(seventeen.__class__) == \"<class 'function'>\", f\"Did you define a function named 'seventeen'? There was a {seventeen.__class__} instead\"\n",
    "value = seventeen()\n",
    "assert value is not None, f\"Did you return a value from the function? Got {value}\"\n",
    "assert str(value.__class__) == \"<class 'int'>\", f\"Did you return a number? Got {value.__class__}\"\n",
    "assert value == 17, f\"Did you return 17? Got {value} instead.\""
   ]
  }
 ],
 "metadata": {
  "kernelspec": {
   "display_name": "Python 3",
   "language": "python",
   "name": "python3"
  },
  "language_info": {
   "codemirror_mode": {
    "name": "ipython",
    "version": 3
   },
   "file_extension": ".py",
   "mimetype": "text/x-python",
   "name": "python",
   "nbconvert_exporter": "python",
   "pygments_lexer": "ipython3",
   "version": "3.7.5"
  }
 },
 "nbformat": 4,
 "nbformat_minor": 4
}
