{
 "cells": [
  {
   "cell_type": "markdown",
   "metadata": {
    "colab_type": "text",
    "id": "QqN73llGx7Eu"
   },
   "source": [
    "# 2-3. **条件分岐**\n",
    "制御構造のうち条件分岐について説明します。\n",
    "\n",
    "参考:\n",
    "- https://docs.python.org/ja/3/tutorial/controlflow.html#if-statements\n",
    "\n",
    "**`if`** で始まり条件分岐を行う制御構造によって、条件に応じてプログラムの動作を変えることができます。\n",
    "\n",
    "ここではまず「インデント」について説明し、そのあとで条件分岐について説明します。"
   ]
  },
  {
   "cell_type": "markdown",
   "metadata": {
    "colab_type": "text",
    "id": "svfKGF8Gx7Ex"
   },
   "source": [
    "## インデントによる構文\n",
    "\n",
    "条件分岐の前に、Pythonの**インデント**（行頭の空白、字下げ）について説明します。\n",
    "Pythonのインデントは実行文をグループにまとめる機能をもちます。\n",
    "\n",
    "プログラム文はインデントレベル（深さ）の違いによって異なるグループとして扱われます。\n",
    "細かく言えば、インデントレベルが進む（深くなる）とプログラム文はもとのグループの下に位置する\n",
    "別のグループに属するものとして扱われます。\n",
    "逆に、インデントレベルが戻る（浅くなる）までプログラム文は同じグループに属することになります。"
   ]
  },
  {
   "cell_type": "markdown",
   "metadata": {
    "colab_type": "text",
    "id": "l-dwZLivx7Ez"
   },
   "source": [
    "具体例として、第1回で定義した関数 `bmax()` を使って説明します:"
   ]
  },
  {
   "cell_type": "code",
   "execution_count": null,
   "metadata": {
    "colab": {
     "base_uri": "https://localhost:8080/",
     "height": 34
    },
    "colab_type": "code",
    "executionInfo": {
     "elapsed": 1946,
     "status": "ok",
     "timestamp": 1583414186069,
     "user": {
      "displayName": "Junichiro Mori",
      "photoUrl": "",
      "userId": "01008898198902510619"
     },
     "user_tz": -540
    },
    "id": "QdBMzVkZx7E0",
    "outputId": "6c461e8a-1473-4a1f-f138-e5a8f6c58696"
   },
   "outputs": [],
   "source": [
    "def bmax(a,b):\n",
    "    if a > b: \n",
    "        return a \n",
    "    else:\n",
    "        return b\n",
    "\n",
    "print('Hello World')"
   ]
  },
  {
   "cell_type": "markdown",
   "metadata": {
    "colab_type": "text",
    "id": "RDhSdSlOx7E4"
   },
   "source": [
    "この例では 1 行目の関数定義 `def bmax(a,b):` の後から第一レベルのインデントが開始され 5 行目まで続きます。\n",
    "すなわち、5 行目までは関数 `bmax` を記述するプログラム文のグループということです。 \n",
    "\n",
    "次に、3 行目の一行のみの第二レベルのインデントの実行文は、\n",
    "if文（`if` による条件分岐）の論理式 `a > b` が `True` の場合にのみ実行されるグループに属します。 \n",
    "そして、4 行目の `else` ではインデントが戻されています。\n",
    "5 行目から再び始まる第二レベルの実行文は 2 行目の論理式が `False` の場合に実行されるグループに属します。 \n",
    "\n",
    "最後に、7 行目ではインデントが戻されており、これ以降は関数 `bmax()` の定義とは関係ないことがわかります。"
   ]
  },
  {
   "cell_type": "markdown",
   "metadata": {
    "colab_type": "text",
    "id": "oKML-BSox7E6"
   },
   "source": [
    "Pythonではインデントとして空白文字 4 文字が広く利用されています。\n",
    "講義でもこの書式を利用します。\n",
    "\n",
    "Jupyter Notebook では行の先頭で Tab を入力すれば、自動的にこの書式のインデントが挿入されます。\n",
    "また、インデントを戻すときは Shift-Tab が便利です。"
   ]
  },
  {
   "cell_type": "markdown",
   "metadata": {
    "colab_type": "text",
    "id": "GB7uCpXKx7E7"
   },
   "source": [
    "## **`if`** ... **`else`** による条件分岐\n",
    "\n",
    "これまで関数 `bmax` を例にとって説明しましたが、一般にif文では、 `式` が真であれば `if` 直後のグループが、偽であれば `else` 直後のグループが、それぞれ実行されます。（真であった場合、`else` 直後のグループは実行されません。）\n",
    "\n",
    "---\n",
    "\n",
    "```Python\n",
    "if 式:\n",
    "    ここのグループは「式」が真のときにのみ実行される\n",
    "else:\n",
    "    ここのグループは「式」が偽のときにのみ実行される\n",
    "```\n",
    "\n",
    "---\n",
    "\n",
    "また、`else` は省略することができます。省略した場合、「式」が偽の時に `if` 直後のグループが実行されないのみになります。\n",
    "\n",
    "---\n",
    "\n",
    "```Python\n",
    "if 式:\n",
    "    ここのグループは「式」が真のときにのみ実行される\n",
    "ここのグループは常に実行される\n",
    "```\n",
    "\n",
    "---\n"
   ]
  },
  {
   "cell_type": "markdown",
   "metadata": {
    "colab_type": "text",
    "id": "rVZJW7nBx7E8"
   },
   "source": [
    "条件が複雑になってくると、if文の中にさらにif文を記述して、条件分岐を**入れ子**（**ネスト**）にすることがあります。\n",
    "この場合は、インデントはさらに深くなります。\n",
    "\n",
    "そして、下の二つのプロラムの動作は明らかに異なることに注意が必要です。\n",
    "\n",
    "---\n",
    "\n",
    "```Python\n",
    "if 式1:\n",
    "    ここのグループは「式1」が真のときにのみ実行される\n",
    "    if 式2:\n",
    "        ここのグループは「式1」「式2」が共に真のときにのみ実行される\n",
    "        if 式3:\n",
    "            ここのグループは「式1」「式2」「式3」が全て真のときにのみ実行される\n",
    "        ここのグループは「式1」と「式2」が共に真のときにのみ実行される\n",
    "    ここのグループは「式1」が真のときにのみ実行される\n",
    "ここのグループは常に実行される\n",
    "```\n",
    "\n",
    "---\n",
    "\n",
    "```Python\n",
    "if 式1:\n",
    "    ここのグループは「式1」が真のときにのみ実行される\n",
    "ここのグループは常に実行される\n",
    "if 式2:\n",
    "    ここのグループは「式2」が真のときにのみ実行される (「式1」には影響されない)\n",
    "ここのグループは常に実行される\n",
    "if 式3:\n",
    "    ここのグループは「式3」が真のときにのみ実行される (「式1」「式2」には影響されない)\n",
    "ここのグループは常に実行される\n",
    "```\n",
    "\n",
    "---"
   ]
  },
  {
   "cell_type": "markdown",
   "metadata": {
    "colab_type": "text",
    "id": "osQErBcLx7E9"
   },
   "source": [
    "## **`if`** ... **`elif`** ... **`else`** による条件分岐\n",
    "\n",
    "ここまでで `if ... else` 文について紹介しましたが、複数の条件分岐を続けて書くことができる `elif` を紹介します。"
   ]
  },
  {
   "cell_type": "markdown",
   "metadata": {
    "colab_type": "text",
    "id": "2uhw3cZ3x7E-"
   },
   "source": [
    "たとえばテストの点数から評定（優、良、可、...）を計算したい場合など、「条件1のときは処理1、条件1に該当しなくても条件2であれば処理2、更にどちらでもない場合、条件3であれば処理3、...」という処理を考えます。\n",
    "`if ... else` による文のみでこの処理を行う場合、次のようなプログラムになってしまいます:\n",
    "\n",
    "---\n",
    "\n",
    "```Python\n",
    "if 式1:\n",
    "    「式1」が真のときにのみ実行するグループ\n",
    "else:\n",
    "    if 式2:\n",
    "        「式1」が偽 かつ「式2」が真のときにのみ実行するグループ\n",
    "    else:\n",
    "        if 式3:\n",
    "            「式1」「式2」が偽 かつ「式3」が真のときにのみ実行するグループ\n",
    "        else:\n",
    "            ...\n",
    "```    \n",
    "\n",
    "---\n",
    "\n",
    "このような場合には、以下のように **`elif`** を使うとより簡潔にできます:\n",
    "\n",
    "---\n",
    "\n",
    "``` Python\n",
    "if 式1:\n",
    "    ここのグループは「式1」が真のときにのみ実行される\n",
    "elif 式2:\n",
    "    ここのグループは「式1」が偽 かつ「式2」が真のときにのみ実行される\n",
    "elif 式3:\n",
    "    ここのグループは「式1」「式2」が偽 かつ「式3」が真のときにのみ実行される\n",
    "else:\n",
    "    ここのグループは「式1」「式2」「式3」がいずれも偽のときにのみ実行される\n",
    "```\n",
    "\n",
    "---\n",
    "\n",
    "`if` ... `elif` ... `else` では、条件は上から順に評価され、式が真の場合、\n",
    "直後の実行文グループのみが実行され終了します。\n",
    "その他の場合、すなわちすべての条件が \n",
    "`False` のときは、`else` 以降のグループが実行されます。\n",
    " \n",
    "なお、`elif` もしくは `else` 以降を省略することも可能です。"
   ]
  },
  {
   "cell_type": "markdown",
   "metadata": {
    "colab_type": "text",
    "id": "HDDK1u_0x7E_"
   },
   "source": [
    "##  練習\n",
    "関数 `exception3(x,y,z)` の引数は以下の条件を満たすとします。\n",
    "\n",
    "- `x` と `y` と `z` の値は整数です。\n",
    "- `x` と `y` と `z` のうち、二つの値は同じで、もう一つの値は他の二つの値とは異なるとします。\n",
    "\n",
    "その異なる値を返すように、以下のセルの `...` のところを書き換えて `exception3(x,y,z)` を定義してください。"
   ]
  },
  {
   "cell_type": "code",
   "execution_count": null,
   "metadata": {
    "colab": {},
    "colab_type": "code",
    "id": "z60vjNLGx7FA"
   },
   "outputs": [],
   "source": [
    "def exception3(x,y,z):\n",
    "    ..."
   ]
  },
  {
   "cell_type": "markdown",
   "metadata": {
    "colab_type": "text",
    "id": "26_-pebhx7FE"
   },
   "source": [
    "次のセルで動作を確認してください。"
   ]
  },
  {
   "cell_type": "code",
   "execution_count": null,
   "metadata": {
    "colab": {},
    "colab_type": "code",
    "id": "DjDwE1k7x7FF",
    "tags": [
     "raises-exception"
    ]
   },
   "outputs": [],
   "source": [
    "print(exception3(1,2,2))\n",
    "print(exception3(4,2,4))\n",
    "print(exception3(9,3,9))"
   ]
  },
  {
   "cell_type": "markdown",
   "metadata": {
    "colab_type": "text",
    "id": "r1-TWhTpx7FJ"
   },
   "source": [
    "## 練習\n",
    "関数 `exception9(a)` の引数は以下の条件を満たすとします。\n",
    "\n",
    "- 引数 `a` には、長さが 9 のリストが渡されます。\n",
    "- このリストの要素は整数ですが、一つの要素を除いて、残りは要素の値はすべて同じとします。\n",
    "\n",
    "その一つの要素の値を返すように、以下のセルの `...` のところを書き換えて `exception9(a)` を定義してください。"
   ]
  },
  {
   "cell_type": "code",
   "execution_count": null,
   "metadata": {
    "colab": {},
    "colab_type": "code",
    "id": "6V8Cq1Tux7FK"
   },
   "outputs": [],
   "source": [
    "def exception9(a):\n",
    "    ..."
   ]
  },
  {
   "cell_type": "markdown",
   "metadata": {
    "colab_type": "text",
    "id": "JbMsRak-x7FN"
   },
   "source": [
    "次のセルで動作を確認してください。"
   ]
  },
  {
   "cell_type": "code",
   "execution_count": null,
   "metadata": {
    "colab": {},
    "colab_type": "code",
    "id": "ZMXnbPg5x7FO",
    "tags": [
     "raises-exception"
    ]
   },
   "outputs": [],
   "source": [
    "print(exception9([1,2,2,2,2,2,2,2,2]))\n",
    "print(exception9([4,4,4,4,4,2,4,4,4]))\n",
    "print(exception9([9,9,9,9,9,9,9,9,3]))"
   ]
  },
  {
   "cell_type": "markdown",
   "metadata": {
    "colab_type": "text",
    "id": "SD6cC5YTx7FR"
   },
   "source": [
    "## ▲複数行にまたがる条件式\n",
    "\n",
    "複雑な条件式では複数行に分割した方が見やすい場合もありあます。\n",
    "ここでは、式を複数行にまたがって記述する二つの方法を示します。\n",
    "一つ目は、丸括弧で括られた式を複数の行にまたがって記述する方法です。\n",
    "二つ目は、行末にバックスラッシュ **`\\`** を置く方法です。"
   ]
  },
  {
   "cell_type": "code",
   "execution_count": null,
   "metadata": {
    "colab": {
     "base_uri": "https://localhost:8080/",
     "height": 50
    },
    "colab_type": "code",
    "executionInfo": {
     "elapsed": 991,
     "status": "ok",
     "timestamp": 1583414481167,
     "user": {
      "displayName": "Junichiro Mori",
      "photoUrl": "",
      "userId": "01008898198902510619"
     },
     "user_tz": -540
    },
    "id": "GaarFsg5x7FS",
    "outputId": "6748405e-2a8c-458e-e66b-6cfce6c94b27"
   },
   "outputs": [],
   "source": [
    "### 丸括弧で括る方法\n",
    "x, y, z = (-1, -2, -3)\n",
    "if (x < 0 and y < 0 and z < 0 and\n",
    "    x != y and y != z and x != z):\n",
    "    print('x, y and z are different and negatives.')\n",
    "\n",
    "### 行末にバックスラッシュ(\\) を入れる方法\n",
    "\n",
    "x, y, z = (-1, -2, -3)\n",
    "if x < 0 and y < 0 and z < 0 and \\\n",
    "    x != y and y != z and x != z:\n",
    "    print('x, y and z are different and negatives.')"
   ]
  },
  {
   "cell_type": "markdown",
   "metadata": {
    "colab_type": "text",
    "id": "_rCAGMUCx7FW"
   },
   "source": [
    "## **`if`** ... **`elif`** ... **`else`** における条件の評価\n",
    "\n",
    "`if` と `elif` による条件分岐では、`if` あるいは `elif` に続く条件式が `True` の場合、\n",
    "それ以降の `elif` に続く条件式の評価はおこなわれません。\n",
    "\n",
    "以下のプログラムで `x` を `3`, `0`, `-4` とした際に何が表示されるかを予想したのちに実行してみましょう。\n",
    "\n",
    "特に、 `x = -4` としたときの動作に注意してください。（`x is zero.` は表示されません。）"
   ]
  },
  {
   "cell_type": "code",
   "execution_count": null,
   "metadata": {
    "colab": {
     "base_uri": "https://localhost:8080/",
     "height": 50
    },
    "colab_type": "code",
    "executionInfo": {
     "elapsed": 483,
     "status": "ok",
     "timestamp": 1583414492448,
     "user": {
      "displayName": "Junichiro Mori",
      "photoUrl": "",
      "userId": "01008898198902510619"
     },
     "user_tz": -540
    },
    "id": "78Zk3Z_mx7FX",
    "outputId": "4d9be395-cc02-4fbf-b918-584bd50aeb07",
    "scrolled": true
   },
   "outputs": [],
   "source": [
    "x = 3  # example: 3, 0, -4\n",
    "\n",
    "if x > 0:\n",
    "    print('x is greater than zero.')\n",
    "elif x < 0:\n",
    "    print('x is less than zero, but x will be 0')\n",
    "    x = 0\n",
    "else:\n",
    "    print('x is zero.')\n",
    "\n",
    "print(x)"
   ]
  },
  {
   "cell_type": "markdown",
   "metadata": {
    "colab_type": "text",
    "id": "av0wXk1-x7Fa"
   },
   "source": [
    "## 練習\n",
    "以下のプログラムはプログラマの意図どおりに動作しません。\n",
    "`print` の出力内容から意図を判断して条件分岐を書き換えてください。"
   ]
  },
  {
   "cell_type": "code",
   "execution_count": null,
   "metadata": {
    "colab": {
     "base_uri": "https://localhost:8080/",
     "height": 34
    },
    "colab_type": "code",
    "executionInfo": {
     "elapsed": 494,
     "status": "ok",
     "timestamp": 1583414506128,
     "user": {
      "displayName": "Junichiro Mori",
      "photoUrl": "",
      "userId": "01008898198902510619"
     },
     "user_tz": -540
    },
    "id": "7OzBEAPwx7Fb",
    "outputId": "2bcf5baf-bea8-4311-cef6-ada4ffe8f343"
   },
   "outputs": [],
   "source": [
    "x = -1\n",
    "if x < 3:\n",
    "    print('x is larger than or equal to 2, and less than 3')\n",
    "elif x < 2:\n",
    "    print('x is larger than or equal to 1, and less than 2')\n",
    "elif x < 1:\n",
    "    print('x is less than 1')\n",
    "else:\n",
    "    print('x is larger or equal to 3')"
   ]
  },
  {
   "cell_type": "markdown",
   "metadata": {
    "colab_type": "text",
    "id": "HbbQjDe1x7Ff"
   },
   "source": [
    "## `or` もしくは `and` で結合された条件の評価\n",
    "\n",
    "if文に与える条件が `or` もしくは `and` で結合されている場合、条件は左から順に評価され、\n",
    "不要（以降の式を評価するまでもなく自明）な評価は省かれます。\n",
    "\n",
    "たとえば、`if a == 0 or b == 0:` において\n",
    "最初の式 `a == 0` が `True` の場合、式全体の結果が `True` となることは自明なので、\n",
    "二番目の式 `b == 0` を評価することなく続く実行文グループが実行されます。\n",
    "\n",
    "逆に、`if a == 0 and b == 0:` において、\n",
    "最初の式が `False` の場合、以降の式は評価されることなく処理が進みます。"
   ]
  },
  {
   "cell_type": "markdown",
   "metadata": {
    "colab_type": "text",
    "id": "qX4NjZuwx7Fg"
   },
   "source": [
    "以下のセルで示す例の1行目で、`x` の値を `0`, `-4` に変更し、表示される内容を予想し、予想通りか確認してください。"
   ]
  },
  {
   "cell_type": "code",
   "execution_count": null,
   "metadata": {
    "colab": {
     "base_uri": "https://localhost:8080/",
     "height": 217
    },
    "colab_type": "code",
    "executionInfo": {
     "elapsed": 508,
     "status": "error",
     "timestamp": 1583414565892,
     "user": {
      "displayName": "Junichiro Mori",
      "photoUrl": "",
      "userId": "01008898198902510619"
     },
     "user_tz": -540
    },
    "id": "VDgjFTH0x7Fh",
    "outputId": "ca10e19b-be40-42b5-e8eb-5e29920a9b5a",
    "tags": [
     "raises-exception"
    ]
   },
   "outputs": [],
   "source": [
    "x = 10          # del x のエラーを抑制するため\n",
    "y = 10\n",
    "\n",
    "del x           # x を未定義に\n",
    "\n",
    "if x > 5 or y > 5: \n",
    "    print(\"'x' or 'y' is larger than 5\")"
   ]
  },
  {
   "cell_type": "code",
   "execution_count": null,
   "metadata": {
    "colab": {
     "base_uri": "https://localhost:8080/",
     "height": 34
    },
    "colab_type": "code",
    "executionInfo": {
     "elapsed": 476,
     "status": "ok",
     "timestamp": 1583414573262,
     "user": {
      "displayName": "Junichiro Mori",
      "photoUrl": "",
      "userId": "01008898198902510619"
     },
     "user_tz": -540
    },
    "id": "YnlShGr5x7Fl",
    "outputId": "8a0af227-6de6-4263-d64d-43770edc5306"
   },
   "outputs": [],
   "source": [
    "x = 10\n",
    "y = 10          # del y のエラーを抑制するため\n",
    "\n",
    "del y           # y を未定義に\n",
    "\n",
    "if x > 5 or y > 5: \n",
    "    print(\"'x' or 'y' is larger than 5\")"
   ]
  },
  {
   "cell_type": "markdown",
   "metadata": {
    "colab_type": "text",
    "id": "MOgJmuzwx7Fq"
   },
   "source": [
    "## ▲**3項演算子**（条件式）\n",
    "Python では以下のように`if ... else` を一行に書くこともできます。\n",
    "\n",
    "---\n",
    "\n",
    "```python\n",
    "sign = 'positive or zero' if x >= 0 else 'negative' \n",
    "```\n",
    "\n",
    "---\n",
    "\n",
    "これは、以下と等価です。\n",
    "\n",
    "---\n",
    "\n",
    "```python\n",
    "if x >= 0 :\n",
    "    sign = 'positive or zero'\n",
    "else:\n",
    "    sign = 'negative'\n",
    "```\n",
    "\n",
    "---"
   ]
  },
  {
   "cell_type": "markdown",
   "metadata": {
    "colab_type": "text",
    "id": "iVYaUdzOx7Fr"
   },
   "source": [
    "## 練習の解答\n",
    "以下は解答例です。これ以外にも様々な解答があり得ます。"
   ]
  },
  {
   "cell_type": "code",
   "execution_count": null,
   "metadata": {
    "colab": {},
    "colab_type": "code",
    "id": "Mj3_5y-Ax7Fs"
   },
   "outputs": [],
   "source": [
    "def exception3(x,y,z):\n",
    "    if x==y:\n",
    "        return z\n",
    "    elif x==z:\n",
    "        return y\n",
    "    else:\n",
    "        return x"
   ]
  },
  {
   "cell_type": "code",
   "execution_count": null,
   "metadata": {
    "colab": {},
    "colab_type": "code",
    "id": "4lyMz6Hzx7Fw"
   },
   "outputs": [],
   "source": [
    "def exception9(a):\n",
    "    x = a[0] + a[1] + a[2]\n",
    "    y = a[3] + a[4] + a[5]\n",
    "    z = a[6] + a[7] + a[8]\n",
    "    if x==y:\n",
    "        return exception3(a[6], a[7], a[8])\n",
    "    elif x==z:\n",
    "        return exception3(a[3], a[4], a[5])\n",
    "    else:\n",
    "        return exception3(a[0], a[1], a[2])"
   ]
  },
  {
   "cell_type": "markdown",
   "metadata": {
    "colab_type": "text",
    "id": "7q-uopB5x7Fz"
   },
   "source": [
    "## 練習の解説\n",
    "最後の練習では、条件文の順番を修正する必要があります。\n",
    "条件は上から順に処理され、式が真の場合にその「直後の実行文グループのみ」が処理されます。"
   ]
  },
  {
   "cell_type": "code",
   "execution_count": null,
   "metadata": {
    "colab": {},
    "colab_type": "code",
    "id": "QEJrGHyhx7F0"
   },
   "outputs": [],
   "source": [
    "x = -1\n",
    "if x < 1:\n",
    "    print('x is less than 1')\n",
    "elif x < 2:\n",
    "    print('x is larger or equal to 1, and less than 2')\n",
    "elif x < 3:\n",
    "    print('x is larger or equal to 2, and less than 3')\n",
    "else:\n",
    "    print('x is larger or equal to 3')"
   ]
  }
 ],
 "metadata": {
  "colab": {
   "collapsed_sections": [],
   "name": "2-3.ipynb",
   "provenance": [],
   "toc_visible": true
  },
  "kernelspec": {
   "display_name": "Python 3",
   "language": "python",
   "name": "python3"
  },
  "language_info": {
   "codemirror_mode": {
    "name": "ipython",
    "version": 3
   },
   "file_extension": ".py",
   "mimetype": "text/x-python",
   "name": "python",
   "nbconvert_exporter": "python",
   "pygments_lexer": "ipython3",
   "version": "3.7.3"
  }
 },
 "nbformat": 4,
 "nbformat_minor": 1
}
