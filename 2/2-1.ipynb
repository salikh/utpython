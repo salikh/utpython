{
 "cells": [
  {
   "cell_type": "markdown",
   "metadata": {
    "colab_type": "text",
    "id": "VGTIAaLhsna5"
   },
   "source": [
    "# 2-1. 文字列 (string)\n",
    "文書処理などに必要な文字列について説明します。\n",
    "\n",
    "参考\n",
    "\n",
    "- https://docs.python.org/3/tutorial/introduction.html#strings\n",
    "\n",
    "Python が扱うデータには様々な種類がありますが、**文字列**はいくつかの文字の並びから構成されるデータです。\n",
    "Python は標準で多言語に対応しており、\n",
    "英語アルファベットだけではなく日本語をはじめとする多くの言語を取り扱えます。\n",
    "\n",
    "文字列は、文字の並びをシングルクォート `'...'`、もしくはダブルクォート `\"...\"` で囲んで記述します。\n",
    "\n",
    "以下の例では文字列をそれぞれ、変数 `word1`, `word2` に代入しています。"
   ]
  },
  {
   "cell_type": "code",
   "execution_count": null,
   "metadata": {
    "colab": {
     "base_uri": "https://localhost:8080/",
     "height": 34
    },
    "colab_type": "code",
    "executionInfo": {
     "elapsed": 689,
     "status": "ok",
     "timestamp": 1583411813673,
     "user": {
      "displayName": "Junichiro Mori",
      "photoUrl": "",
      "userId": "01008898198902510619"
     },
     "user_tz": -540
    },
    "id": "VCJKPhgqsna9",
    "outputId": "a2918a67-56d7-476c-b0e6-e6d919eca07b"
   },
   "outputs": [],
   "source": [
    "word1 = 'hello'\n",
    "word1"
   ]
  },
  {
   "cell_type": "code",
   "execution_count": null,
   "metadata": {
    "colab": {
     "base_uri": "https://localhost:8080/",
     "height": 34
    },
    "colab_type": "code",
    "executionInfo": {
     "elapsed": 521,
     "status": "ok",
     "timestamp": 1583411815875,
     "user": {
      "displayName": "Junichiro Mori",
      "photoUrl": "",
      "userId": "01008898198902510619"
     },
     "user_tz": -540
    },
    "id": "1EFwQD5psnbB",
    "outputId": "5822a8c9-8eab-4e76-fad1-ad5e7eea7f1a"
   },
   "outputs": [],
   "source": [
    "word2 = 'Hello'\n",
    "word2"
   ]
  },
  {
   "cell_type": "markdown",
   "metadata": {
    "colab_type": "text",
    "id": "DdFFDolUsnbF"
   },
   "source": [
    "上の変数の値が確かに文字列であることは、組み込み関数 **`type`** によって確認できます。\n",
    "`type` は、任意のデータを引数として、そのデータの種類を返します。\n",
    "データの種類は、**データ型**もしくは**型**と呼ばれます。"
   ]
  },
  {
   "cell_type": "code",
   "execution_count": null,
   "metadata": {
    "colab": {
     "base_uri": "https://localhost:8080/",
     "height": 34
    },
    "colab_type": "code",
    "executionInfo": {
     "elapsed": 666,
     "status": "ok",
     "timestamp": 1583411821434,
     "user": {
      "displayName": "Junichiro Mori",
      "photoUrl": "",
      "userId": "01008898198902510619"
     },
     "user_tz": -540
    },
    "id": "oK_yoQuesnbH",
    "outputId": "805cdd27-bea5-4424-8bac-61b62085fde9",
    "scrolled": false
   },
   "outputs": [],
   "source": [
    "type(word1)"
   ]
  },
  {
   "cell_type": "markdown",
   "metadata": {
    "colab_type": "text",
    "id": "pvDF9a0ZsnbM"
   },
   "source": [
    "**`str`** は文字列のデータ型を意味します。"
   ]
  },
  {
   "cell_type": "code",
   "execution_count": null,
   "metadata": {
    "colab": {
     "base_uri": "https://localhost:8080/",
     "height": 34
    },
    "colab_type": "code",
    "executionInfo": {
     "elapsed": 548,
     "status": "ok",
     "timestamp": 1583411823767,
     "user": {
      "displayName": "Junichiro Mori",
      "photoUrl": "",
      "userId": "01008898198902510619"
     },
     "user_tz": -540
    },
    "id": "TlHnSgg3snbO",
    "outputId": "3d1ac5db-9070-49a7-bd26-4da01ce375fc"
   },
   "outputs": [],
   "source": [
    "type(word2)"
   ]
  },
  {
   "cell_type": "markdown",
   "metadata": {
    "colab_type": "text",
    "id": "8N7uKr7rsnbS"
   },
   "source": [
    "`str` は組み込み関数としても用いられます。\n",
    "組み込み関数**`str`** を使えば、任意のデータを文字列に変換できます。\n",
    "一般に、データ型は、そのデータ型への変換を行う関数として用いられることが多いです。\n",
    "\n",
    "1-1 で学んだ数値を文字列に変換したい場合、次のように行います。"
   ]
  },
  {
   "cell_type": "code",
   "execution_count": null,
   "metadata": {
    "colab": {
     "base_uri": "https://localhost:8080/",
     "height": 34
    },
    "colab_type": "code",
    "executionInfo": {
     "elapsed": 584,
     "status": "ok",
     "timestamp": 1583411834546,
     "user": {
      "displayName": "Junichiro Mori",
      "photoUrl": "",
      "userId": "01008898198902510619"
     },
     "user_tz": -540
    },
    "id": "vWBynBzosnbT",
    "outputId": "0b596f6e-bc29-4071-8f0a-9e4ce8075d1a"
   },
   "outputs": [],
   "source": [
    "word3 = str(123)\n",
    "word3"
   ]
  },
  {
   "cell_type": "markdown",
   "metadata": {
    "colab_type": "text",
    "id": "hjwQUZzmsnbW"
   },
   "source": [
    "文字列の長さは、組み込み関数 **`len`** を用いて次のようにして求めます。"
   ]
  },
  {
   "cell_type": "code",
   "execution_count": null,
   "metadata": {
    "colab": {
     "base_uri": "https://localhost:8080/",
     "height": 34
    },
    "colab_type": "code",
    "executionInfo": {
     "elapsed": 472,
     "status": "ok",
     "timestamp": 1583411837613,
     "user": {
      "displayName": "Junichiro Mori",
      "photoUrl": "",
      "userId": "01008898198902510619"
     },
     "user_tz": -540
    },
    "id": "FI8LBw5GsnbY",
    "outputId": "cd3921cb-ea84-4d0e-fc09-60b33ab3173d"
   },
   "outputs": [],
   "source": [
    "len(word1)"
   ]
  },
  {
   "cell_type": "markdown",
   "metadata": {
    "colab_type": "text",
    "id": "5FIzb4L1snbb"
   },
   "source": [
    "## 文字列とインデックス\n",
    "\n",
    "文字列はいくつかの文字によって構成されています。\n",
    "\n",
    "文字列 `'hello'` の3番目の文字を得たい場合は、以下のような記法を用います。"
   ]
  },
  {
   "cell_type": "code",
   "execution_count": null,
   "metadata": {
    "colab": {
     "base_uri": "https://localhost:8080/",
     "height": 34
    },
    "colab_type": "code",
    "executionInfo": {
     "elapsed": 531,
     "status": "ok",
     "timestamp": 1583411843002,
     "user": {
      "displayName": "Junichiro Mori",
      "photoUrl": "",
      "userId": "01008898198902510619"
     },
     "user_tz": -540
    },
    "id": "FRv-Lbfdsnbc",
    "outputId": "ae8b1e36-300c-440b-f5fa-068817fd85c6"
   },
   "outputs": [],
   "source": [
    "'hello'[2]"
   ]
  },
  {
   "cell_type": "markdown",
   "metadata": {
    "colab_type": "text",
    "id": "NvSAExD_snbf"
   },
   "source": [
    "文字列を値とする変数に対しても同様の記法を用います。多くの場合は変数に対してこの記法を用います。"
   ]
  },
  {
   "cell_type": "code",
   "execution_count": null,
   "metadata": {
    "colab": {
     "base_uri": "https://localhost:8080/",
     "height": 34
    },
    "colab_type": "code",
    "executionInfo": {
     "elapsed": 573,
     "status": "ok",
     "timestamp": 1583411850318,
     "user": {
      "displayName": "Junichiro Mori",
      "photoUrl": "",
      "userId": "01008898198902510619"
     },
     "user_tz": -540
    },
    "id": "giH_GEz5snbg",
    "outputId": "2ef42ed2-0f58-48c7-ac93-f62db41ee0ce"
   },
   "outputs": [],
   "source": [
    "word1 = 'hello'\n",
    "word1[2]"
   ]
  },
  {
   "cell_type": "markdown",
   "metadata": {
    "colab_type": "text",
    "id": "c_UruUV1snbk"
   },
   "source": [
    "この括弧内の数値のことを**インデックス**と呼びます。インデックスは 0 から始まるので、\n",
    "ある文字列の `x` 番目の要素を得るには、インデックスとして`x-1`を指定する必要があります。\n",
    "\n",
    "こうして取得した文字は、Python では長さが 1 の文字列として扱われます。\n",
    "（プログラミング言語によっては、文字列ではなく別の型のデータとして扱われるものもありますので注意してください。）"
   ]
  },
  {
   "cell_type": "markdown",
   "metadata": {
    "colab_type": "text",
    "id": "L-L41fvWsnbm"
   },
   "source": [
    "文字列に対して、インデックスを指定してその要素を変更することはできません。（次のセルはエラーとなります）\n",
    "Pythonのデータは、大きく、変更可能なものと変更不可能なものに分類できますが、\n",
    "文字列は変更不可能なデータです。\n",
    "したがって、文字列を加工する場合は、新たに別の文字列を作成します。"
   ]
  },
  {
   "cell_type": "code",
   "execution_count": null,
   "metadata": {
    "colab": {
     "base_uri": "https://localhost:8080/",
     "height": 183
    },
    "colab_type": "code",
    "executionInfo": {
     "elapsed": 445,
     "status": "error",
     "timestamp": 1583411889385,
     "user": {
      "displayName": "Junichiro Mori",
      "photoUrl": "",
      "userId": "01008898198902510619"
     },
     "user_tz": -540
    },
    "id": "VXyjYqFasnbn",
    "outputId": "ea13928a-0d9b-4418-f34a-be143d5b9dd2",
    "tags": [
     "raises-exception"
    ]
   },
   "outputs": [],
   "source": [
    "word1 = 'hello'\n",
    "word1[0] = 'H'"
   ]
  },
  {
   "cell_type": "markdown",
   "metadata": {
    "colab_type": "text",
    "id": "Fz4Jxhsosnbs"
   },
   "source": [
    "また、文字列の長さ以上のインデックスを指定することはできません。（次はエラーとなります）"
   ]
  },
  {
   "cell_type": "code",
   "execution_count": null,
   "metadata": {
    "colab": {
     "base_uri": "https://localhost:8080/",
     "height": 166
    },
    "colab_type": "code",
    "executionInfo": {
     "elapsed": 488,
     "status": "error",
     "timestamp": 1583411894547,
     "user": {
      "displayName": "Junichiro Mori",
      "photoUrl": "",
      "userId": "01008898198902510619"
     },
     "user_tz": -540
    },
    "id": "ELQjyq97snbt",
    "outputId": "8ad8e9a0-70aa-4c9e-dfad-7283eeb9a47f",
    "tags": [
     "raises-exception"
    ]
   },
   "outputs": [],
   "source": [
    "word1[100]"
   ]
  },
  {
   "cell_type": "markdown",
   "metadata": {
    "colab_type": "text",
    "id": "Tu1MQVqssnbw"
   },
   "source": [
    "インデックスに負数を指定すると、\n",
    "文字列を後ろから数えた順序に従って文字列を構成する文字を得ます。\n",
    "たとえば、文字列の最後の文字を取得するには、`-1` を指定します。"
   ]
  },
  {
   "cell_type": "code",
   "execution_count": null,
   "metadata": {
    "colab": {
     "base_uri": "https://localhost:8080/",
     "height": 34
    },
    "colab_type": "code",
    "executionInfo": {
     "elapsed": 500,
     "status": "ok",
     "timestamp": 1583411900791,
     "user": {
      "displayName": "Junichiro Mori",
      "photoUrl": "",
      "userId": "01008898198902510619"
     },
     "user_tz": -540
    },
    "id": "LyGVAHowsnbw",
    "outputId": "42cae231-76bf-4018-aa80-062f6f712e42"
   },
   "outputs": [],
   "source": [
    "word1[-1]"
   ]
  },
  {
   "cell_type": "markdown",
   "metadata": {
    "colab_type": "text",
    "id": "gthI9o1Lsnbz"
   },
   "source": [
    "まとめると文字列`hello`のと正負のインデックスは以下の表の関係になります。  \n",
    "\n",
    "|Index|h|e|l|l|o|\n",
    "|-|--|--|--|--|--|\n",
    "|Positive|0|1|2|3|4|\n",
    "|Negative|-5|-4|-3|-2|-1|"
   ]
  },
  {
   "cell_type": "markdown",
   "metadata": {
    "colab_type": "text",
    "id": "_MfRmCG2snb1"
   },
   "source": [
    "## 文字列とスライス\n",
    "**スライス**と呼ばれる機能を利用して、文字列の一部（部分文字列）を取得できます。\n",
    "\n",
    "具体的には、取得したい部分文字列の先頭の文字のインデックスと最後の文字のインデックスに\n",
    "1 を加えた値を指定します。\n",
    "たとえば、ある文字列の2番目の文字から4番目までの文字の部分文字列を得るには次のようにします。"
   ]
  },
  {
   "cell_type": "code",
   "execution_count": null,
   "metadata": {
    "colab": {
     "base_uri": "https://localhost:8080/",
     "height": 34
    },
    "colab_type": "code",
    "executionInfo": {
     "elapsed": 599,
     "status": "ok",
     "timestamp": 1583411951044,
     "user": {
      "displayName": "Junichiro Mori",
      "photoUrl": "",
      "userId": "01008898198902510619"
     },
     "user_tz": -540
    },
    "id": "xpw3AHsUsnb2",
    "outputId": "f34c6ea5-4c0d-4004-80b6-4f4d09ba781a"
   },
   "outputs": [],
   "source": [
    "digits1='0123456789'\n",
    "digits1[1:4]"
   ]
  },
  {
   "cell_type": "markdown",
   "metadata": {
    "colab_type": "text",
    "id": "hc-IxuEFsnb5"
   },
   "source": [
    "文字列の先頭（すなわち、インデックスが 0 の文字）を指定する場合、次のように行えます。"
   ]
  },
  {
   "cell_type": "code",
   "execution_count": null,
   "metadata": {
    "colab": {
     "base_uri": "https://localhost:8080/",
     "height": 34
    },
    "colab_type": "code",
    "executionInfo": {
     "elapsed": 443,
     "status": "ok",
     "timestamp": 1583412016718,
     "user": {
      "displayName": "Junichiro Mori",
      "photoUrl": "",
      "userId": "01008898198902510619"
     },
     "user_tz": -540
    },
    "id": "gJqe61SKsnb6",
    "outputId": "96a85f48-25bf-4306-9fe4-e91cc592ce82"
   },
   "outputs": [],
   "source": [
    "digits1[0:3]"
   ]
  },
  {
   "cell_type": "markdown",
   "metadata": {
    "colab_type": "text",
    "id": "Qh7iQnzjsnb-"
   },
   "source": [
    "しかし、最初の 0 は省略しても同じ結果となります。"
   ]
  },
  {
   "cell_type": "code",
   "execution_count": null,
   "metadata": {
    "colab": {
     "base_uri": "https://localhost:8080/",
     "height": 34
    },
    "colab_type": "code",
    "executionInfo": {
     "elapsed": 441,
     "status": "ok",
     "timestamp": 1583412022257,
     "user": {
      "displayName": "Junichiro Mori",
      "photoUrl": "",
      "userId": "01008898198902510619"
     },
     "user_tz": -540
    },
    "id": "JVw9yhpysnb_",
    "outputId": "579fa94f-90ee-4810-af03-7024a0a8a666"
   },
   "outputs": [],
   "source": [
    "digits1[:3]"
   ]
  },
  {
   "cell_type": "markdown",
   "metadata": {
    "colab_type": "text",
    "id": "DOtBhpt9sncC"
   },
   "source": [
    "同様に、最後尾の文字のインデックスも、値を省略することもできます。"
   ]
  },
  {
   "cell_type": "code",
   "execution_count": null,
   "metadata": {
    "colab": {
     "base_uri": "https://localhost:8080/",
     "height": 34
    },
    "colab_type": "code",
    "executionInfo": {
     "elapsed": 441,
     "status": "ok",
     "timestamp": 1583412024316,
     "user": {
      "displayName": "Junichiro Mori",
      "photoUrl": "",
      "userId": "01008898198902510619"
     },
     "user_tz": -540
    },
    "id": "VxhHQUZTsncC",
    "outputId": "97f118e9-e84d-451a-d06c-c0a90e5deb7a"
   },
   "outputs": [],
   "source": [
    "digits1[3:]"
   ]
  },
  {
   "cell_type": "code",
   "execution_count": null,
   "metadata": {
    "colab": {
     "base_uri": "https://localhost:8080/",
     "height": 34
    },
    "colab_type": "code",
    "executionInfo": {
     "elapsed": 478,
     "status": "ok",
     "timestamp": 1583412026719,
     "user": {
      "displayName": "Junichiro Mori",
      "photoUrl": "",
      "userId": "01008898198902510619"
     },
     "user_tz": -540
    },
    "id": "3YxHhRXhsncG",
    "outputId": "ae25937d-50ad-4a54-f4c2-9ced1be0961b"
   },
   "outputs": [],
   "source": [
    "digits1[3:5]"
   ]
  },
  {
   "cell_type": "markdown",
   "metadata": {
    "colab_type": "text",
    "id": "0XhfTHlfsncL"
   },
   "source": [
    "スライスにおいても負数を指定して、\n",
    "文字列の最後の方から部分文字列を取得できます。"
   ]
  },
  {
   "cell_type": "code",
   "execution_count": null,
   "metadata": {
    "colab": {
     "base_uri": "https://localhost:8080/",
     "height": 34
    },
    "colab_type": "code",
    "executionInfo": {
     "elapsed": 474,
     "status": "ok",
     "timestamp": 1583412030705,
     "user": {
      "displayName": "Junichiro Mori",
      "photoUrl": "",
      "userId": "01008898198902510619"
     },
     "user_tz": -540
    },
    "id": "3mIcQrzCsncM",
    "outputId": "e396c416-e18e-4dab-8d21-b60d1cfe11bd"
   },
   "outputs": [],
   "source": [
    "digits1[-4:-1]"
   ]
  },
  {
   "cell_type": "markdown",
   "metadata": {
    "colab_type": "text",
    "id": "dRvv0IgusncP"
   },
   "source": [
    "スライスでは3番目の値を指定することで、とびとびの文字を指定できます。次のように `digits1[3:9:2]` と指定すると、インデックス 3 から 2 おきに 9 より小さい文字を並べた部分文字列を得ます。"
   ]
  },
  {
   "cell_type": "code",
   "execution_count": null,
   "metadata": {
    "colab": {
     "base_uri": "https://localhost:8080/",
     "height": 34
    },
    "colab_type": "code",
    "executionInfo": {
     "elapsed": 449,
     "status": "ok",
     "timestamp": 1583412036800,
     "user": {
      "displayName": "Junichiro Mori",
      "photoUrl": "",
      "userId": "01008898198902510619"
     },
     "user_tz": -540
    },
    "id": "A3aHrcVfsncQ",
    "outputId": "5d33edf9-8247-43b2-ee5e-8f026aa0de2a"
   },
   "outputs": [],
   "source": [
    "digits1[3:9:2]"
   ]
  },
  {
   "cell_type": "markdown",
   "metadata": {
    "colab_type": "text",
    "id": "j72K9b5UsncT"
   },
   "source": [
    "3番目の値に `-1` を指定することもできます。これを使えば元の文字列の逆向きの文字列を得ることができます。"
   ]
  },
  {
   "cell_type": "code",
   "execution_count": null,
   "metadata": {
    "colab": {
     "base_uri": "https://localhost:8080/",
     "height": 34
    },
    "colab_type": "code",
    "executionInfo": {
     "elapsed": 474,
     "status": "ok",
     "timestamp": 1583412040448,
     "user": {
      "displayName": "Junichiro Mori",
      "photoUrl": "",
      "userId": "01008898198902510619"
     },
     "user_tz": -540
    },
    "id": "i59SP8F2sncU",
    "outputId": "8c44cfeb-0dad-4f61-d5fd-31d0541ea6b8"
   },
   "outputs": [],
   "source": [
    "digits1[8:4:-1]"
   ]
  },
  {
   "cell_type": "markdown",
   "metadata": {
    "colab_type": "text",
    "id": "9rJHGLCusncX"
   },
   "source": [
    "## 空文字列\n",
    "シングルクォート（もしくはダブルクォート）で、何も囲まない場合、長さ 0 の文字列（**空文字列**（くうもじれつ）もしくは、**空列**（くうれつ））となります。\n",
    "具体的には、下記のように使用します。\n",
    "\n",
    "---\n",
    "```Python\n",
    "blank = ''\n",
    "```\n",
    "---\n",
    "\n",
    "空文字列は、次のように、たとえば文字列中からある部分文字列を取り除くのに使用します。\n",
    "（`replace` は後で説明します。）"
   ]
  },
  {
   "cell_type": "code",
   "execution_count": null,
   "metadata": {
    "colab": {
     "base_uri": "https://localhost:8080/",
     "height": 34
    },
    "colab_type": "code",
    "executionInfo": {
     "elapsed": 460,
     "status": "ok",
     "timestamp": 1583412067794,
     "user": {
      "displayName": "Junichiro Mori",
      "photoUrl": "",
      "userId": "01008898198902510619"
     },
     "user_tz": -540
    },
    "id": "hzwCU_yxsncY",
    "outputId": "d7c80221-62cf-44fe-e9d3-beb1f8150c06"
   },
   "outputs": [],
   "source": [
    "price = '2,980円'\n",
    "price.replace(',', '')"
   ]
  },
  {
   "cell_type": "markdown",
   "metadata": {
    "colab_type": "text",
    "id": "jsN4llWwsncb"
   },
   "source": [
    "文字列のスライスにおいて、指定したインデックスの範囲に文字列が存在しない場合、\n",
    "たとえば、最初に指定したインデックス `x` に対して、\n",
    "x 以下のインデックスの値を指定するとどうなるでしょうか？\n",
    "（ただし、二つのインデックスは同じ符号を持つとし、スライスの3番目の値は用いないとします。）\n",
    "このような場合、結果は次のように空文字列となります（エラーが出たり、結果が`None`にはならないことに注意してください）。"
   ]
  },
  {
   "cell_type": "code",
   "execution_count": null,
   "metadata": {
    "colab": {
     "base_uri": "https://localhost:8080/",
     "height": 84
    },
    "colab_type": "code",
    "executionInfo": {
     "elapsed": 488,
     "status": "ok",
     "timestamp": 1583412109617,
     "user": {
      "displayName": "Junichiro Mori",
      "photoUrl": "",
      "userId": "01008898198902510619"
     },
     "user_tz": -540
    },
    "id": "WiITbUQssncc",
    "outputId": "31b000d2-3271-4287-8e60-874782f325e5",
    "scrolled": true
   },
   "outputs": [],
   "source": [
    "digits1='0123456789'\n",
    "print('空文字列1 = ', digits1[4:2])\n",
    "print('空文字列2 = ', digits1[-1:-4])\n",
    "print('空文字列3 = ', digits1[3:3])\n",
    "print('空文字列ではない = ', digits1[3:-1])"
   ]
  },
  {
   "cell_type": "markdown",
   "metadata": {
    "colab_type": "text",
    "id": "3YM1XT3Xsncf"
   },
   "source": [
    "## 文字列の検索\n",
    "`文字列A`が`文字列B`を含むかどうかを調べるには、**`in`** 演算子を使います。\n",
    "具体的には、次のように使用します。\n",
    "\n",
    "---\n",
    "```Python\n",
    "文字列B in 文字列A\n",
    "```\n",
    "---\n",
    "\n",
    "調べたい`文字列B`が含まれていれば `True` が、そうでなければ `False` が返ります。"
   ]
  },
  {
   "cell_type": "code",
   "execution_count": null,
   "metadata": {
    "colab": {
     "base_uri": "https://localhost:8080/",
     "height": 34
    },
    "colab_type": "code",
    "executionInfo": {
     "elapsed": 500,
     "status": "ok",
     "timestamp": 1583412162370,
     "user": {
      "displayName": "Junichiro Mori",
      "photoUrl": "",
      "userId": "01008898198902510619"
     },
     "user_tz": -540
    },
    "id": "qYDATocYsncg",
    "outputId": "4676bf7f-9b90-4916-f37f-0c7dc7ad28bc"
   },
   "outputs": [],
   "source": [
    "'lo' in 'hello'"
   ]
  },
  {
   "cell_type": "code",
   "execution_count": null,
   "metadata": {
    "colab": {
     "base_uri": "https://localhost:8080/",
     "height": 34
    },
    "colab_type": "code",
    "executionInfo": {
     "elapsed": 468,
     "status": "ok",
     "timestamp": 1583412169559,
     "user": {
      "displayName": "Junichiro Mori",
      "photoUrl": "",
      "userId": "01008898198902510619"
     },
     "user_tz": -540
    },
    "id": "91dv-_Wysncj",
    "outputId": "494d78b3-35a8-46f3-81a8-1722fd28474f"
   },
   "outputs": [],
   "source": [
    "'z' in 'hello'"
   ]
  },
  {
   "cell_type": "markdown",
   "metadata": {
    "colab_type": "text",
    "id": "6HvaHBbpsncn"
   },
   "source": [
    "実際のプログラムでは文字列を値とする変数を用いることが多いでしょう。"
   ]
  },
  {
   "cell_type": "code",
   "execution_count": null,
   "metadata": {
    "colab": {
     "base_uri": "https://localhost:8080/",
     "height": 34
    },
    "colab_type": "code",
    "executionInfo": {
     "elapsed": 420,
     "status": "ok",
     "timestamp": 1583412173089,
     "user": {
      "displayName": "Junichiro Mori",
      "photoUrl": "",
      "userId": "01008898198902510619"
     },
     "user_tz": -540
    },
    "id": "lw3EVEBnsnco",
    "outputId": "8e96e899-7a16-4c04-cbf3-d90211988476"
   },
   "outputs": [],
   "source": [
    "word1 =  'hello'\n",
    "substr1 = 'lo'\n",
    "substr1 in word1"
   ]
  },
  {
   "cell_type": "code",
   "execution_count": null,
   "metadata": {
    "colab": {
     "base_uri": "https://localhost:8080/",
     "height": 34
    },
    "colab_type": "code",
    "executionInfo": {
     "elapsed": 488,
     "status": "ok",
     "timestamp": 1583412176535,
     "user": {
      "displayName": "Junichiro Mori",
      "photoUrl": "",
      "userId": "01008898198902510619"
     },
     "user_tz": -540
    },
    "id": "eV0EqTzKsncr",
    "outputId": "5a5fe396-b456-4977-9052-df2f3a7a038b"
   },
   "outputs": [],
   "source": [
    "substr2 = 'z'\n",
    "substr2 in word1"
   ]
  },
  {
   "cell_type": "markdown",
   "metadata": {
    "colab_type": "text",
    "id": "6sjnv3TTsncv"
   },
   "source": [
    "**`not in`** 演算子は、`in` 演算子の逆を意味します。"
   ]
  },
  {
   "cell_type": "code",
   "execution_count": null,
   "metadata": {
    "colab": {
     "base_uri": "https://localhost:8080/",
     "height": 34
    },
    "colab_type": "code",
    "executionInfo": {
     "elapsed": 478,
     "status": "ok",
     "timestamp": 1583412182008,
     "user": {
      "displayName": "Junichiro Mori",
      "photoUrl": "",
      "userId": "01008898198902510619"
     },
     "user_tz": -540
    },
    "id": "RxXm83ifsncw",
    "outputId": "d4b525ac-d68b-40a7-8f4f-b8cc3a2e975e"
   },
   "outputs": [],
   "source": [
    "word1 =  'hello'\n",
    "substr2 = 'z'\n",
    "substr2 not in word1"
   ]
  },
  {
   "cell_type": "markdown",
   "metadata": {
    "colab_type": "text",
    "id": "AeFRMqjEsncy"
   },
   "source": [
    "## ▲エスケープシーケンス\n",
    "文字列を作成するにはシングル `'` あるいはダブルクォート `\"` で囲むと説明しました。\n",
    "これらの文字を含む文字列を作成するには、**エスケープシーケンス**と呼ばれる特殊な文字列を使う必要があります。\n",
    "\n",
    "たとえば、下のように文字列に `'` を含む文字列を `'` で囲むと文字列の範囲がずれてエラーとなります。"
   ]
  },
  {
   "cell_type": "code",
   "execution_count": null,
   "metadata": {
    "colab": {
     "base_uri": "https://localhost:8080/",
     "height": 133
    },
    "colab_type": "code",
    "executionInfo": {
     "elapsed": 561,
     "status": "error",
     "timestamp": 1583412218163,
     "user": {
      "displayName": "Junichiro Mori",
      "photoUrl": "",
      "userId": "01008898198902510619"
     },
     "user_tz": -540
    },
    "id": "cceRiwxXsncz",
    "outputId": "5bc325d4-3e2d-444a-c8af-c1f97586fad3",
    "tags": [
     "raises-exception"
    ]
   },
   "outputs": [],
   "source": [
    "non_escaped = 'This is 'MINE''\n",
    "non_escaped"
   ]
  },
  {
   "cell_type": "markdown",
   "metadata": {
    "colab_type": "text",
    "id": "n4tjSi7tsnc1"
   },
   "source": [
    "エラーを避けるには、エスケープシーケンスで `'` を記述します、具体的には `'` の前に `\\` と記述すると、`'` を含む文字列を作成できます。"
   ]
  },
  {
   "cell_type": "code",
   "execution_count": null,
   "metadata": {
    "colab": {
     "base_uri": "https://localhost:8080/",
     "height": 34
    },
    "colab_type": "code",
    "executionInfo": {
     "elapsed": 461,
     "status": "ok",
     "timestamp": 1583412223637,
     "user": {
      "displayName": "Junichiro Mori",
      "photoUrl": "",
      "userId": "01008898198902510619"
     },
     "user_tz": -540
    },
    "id": "5PX60YLrsnc2",
    "outputId": "0c255f8d-43dd-400e-d6ac-a998d6f7cb96"
   },
   "outputs": [],
   "source": [
    "escaped1 = 'This is \\'MINE\\''\n",
    "escaped1"
   ]
  },
  {
   "cell_type": "markdown",
   "metadata": {
    "colab_type": "text",
    "id": "ieMjq6hmsnc8"
   },
   "source": [
    "実は、シングルクォートで囲む代わりにダブルクォートを使えばエスケープシーケンスを使わずに記述できます。"
   ]
  },
  {
   "cell_type": "code",
   "execution_count": null,
   "metadata": {
    "colab": {
     "base_uri": "https://localhost:8080/",
     "height": 34
    },
    "colab_type": "code",
    "executionInfo": {
     "elapsed": 513,
     "status": "ok",
     "timestamp": 1583412227049,
     "user": {
      "displayName": "Junichiro Mori",
      "photoUrl": "",
      "userId": "01008898198902510619"
     },
     "user_tz": -540
    },
    "id": "KGPK1Evfsnc-",
    "outputId": "14b5b8df-8295-41c0-ecce-c71651d399f5"
   },
   "outputs": [],
   "source": [
    "doublequated = \"This is 'MINE'\"\n",
    "doublequated"
   ]
  },
  {
   "cell_type": "markdown",
   "metadata": {
    "colab_type": "text",
    "id": "YAhniCBgsndB"
   },
   "source": [
    "他にも、ダブルクォートを表す `\\\"`、`\\` を表す `\\\\` 、改行を表す `\\n` など、様々なエスケープシーケンスがあります。 "
   ]
  },
  {
   "cell_type": "code",
   "execution_count": null,
   "metadata": {
    "colab": {
     "base_uri": "https://localhost:8080/",
     "height": 67
    },
    "colab_type": "code",
    "executionInfo": {
     "elapsed": 609,
     "status": "ok",
     "timestamp": 1583412235289,
     "user": {
      "displayName": "Junichiro Mori",
      "photoUrl": "",
      "userId": "01008898198902510619"
     },
     "user_tz": -540
    },
    "id": "_Qs934YVsndC",
    "outputId": "761e798e-3abd-49c7-d7ee-14eca64e3ee4",
    "scrolled": true
   },
   "outputs": [],
   "source": [
    "escaped2 = \"時は金なり\\n\\\"Time is money\\\"\\nTime is \\\\\"\n",
    "print(escaped2)"
   ]
  },
  {
   "cell_type": "markdown",
   "metadata": {
    "colab_type": "text",
    "id": "Eb-GqpgrsndE"
   },
   "source": [
    "3 連のシングルクォート、もしくはダブルクォートを利用すれば、 `\\\"` や `\\n` を使わずに記述できます。"
   ]
  },
  {
   "cell_type": "code",
   "execution_count": null,
   "metadata": {
    "colab": {
     "base_uri": "https://localhost:8080/",
     "height": 67
    },
    "colab_type": "code",
    "executionInfo": {
     "elapsed": 460,
     "status": "ok",
     "timestamp": 1583412244298,
     "user": {
      "displayName": "Junichiro Mori",
      "photoUrl": "",
      "userId": "01008898198902510619"
     },
     "user_tz": -540
    },
    "id": "HG3BrOfOsndF",
    "outputId": "099781d3-72de-413c-8510-71dd53d5d4b8"
   },
   "outputs": [],
   "source": [
    "triple_single_quated = '''時は金なり\n",
    "'Time is money'\n",
    "Time is \\\\''' \n",
    "print(triple_single_quated)"
   ]
  },
  {
   "cell_type": "code",
   "execution_count": null,
   "metadata": {
    "colab": {
     "base_uri": "https://localhost:8080/",
     "height": 34
    },
    "colab_type": "code",
    "executionInfo": {
     "elapsed": 614,
     "status": "ok",
     "timestamp": 1583412252731,
     "user": {
      "displayName": "Junichiro Mori",
      "photoUrl": "",
      "userId": "01008898198902510619"
     },
     "user_tz": -540
    },
    "id": "woRhxM-tsndH",
    "outputId": "1b95a335-c000-403e-a6f3-ed2e173a1224"
   },
   "outputs": [],
   "source": [
    "triple_double_quated = \"\"\"時は金なり\n",
    "'Time is money'\n",
    "Time is \\\\\"\"\" \n",
    "print()"
   ]
  },
  {
   "cell_type": "markdown",
   "metadata": {
    "colab_type": "text",
    "id": "vn92OEWhsndL"
   },
   "source": [
    "## 文字列の連結\n",
    "**`+`** 演算子を用いれば文字列同士を**連結**できます。\n",
    "この演算では新しい文字列が作られ、元の文字列は変化しません。"
   ]
  },
  {
   "cell_type": "code",
   "execution_count": null,
   "metadata": {
    "colab": {
     "base_uri": "https://localhost:8080/",
     "height": 34
    },
    "colab_type": "code",
    "executionInfo": {
     "elapsed": 457,
     "status": "ok",
     "timestamp": 1583412259740,
     "user": {
      "displayName": "Junichiro Mori",
      "photoUrl": "",
      "userId": "01008898198902510619"
     },
     "user_tz": -540
    },
    "id": "LTdsJdZmsndO",
    "outputId": "54b8f698-8d2f-4bd1-c64b-df7a1c570ac5"
   },
   "outputs": [],
   "source": [
    "word1 = 'hello'\n",
    "word2 = ' world'\n",
    "text1 = word1 + word2\n",
    "text1"
   ]
  },
  {
   "cell_type": "markdown",
   "metadata": {
    "colab_type": "text",
    "id": "mejvrKUKsndT"
   },
   "source": [
    "**`*`** 演算子で文字列の繰り返し回数を指定できます。"
   ]
  },
  {
   "cell_type": "code",
   "execution_count": null,
   "metadata": {
    "colab": {
     "base_uri": "https://localhost:8080/",
     "height": 34
    },
    "colab_type": "code",
    "executionInfo": {
     "elapsed": 456,
     "status": "ok",
     "timestamp": 1583412263744,
     "user": {
      "displayName": "Junichiro Mori",
      "photoUrl": "",
      "userId": "01008898198902510619"
     },
     "user_tz": -540
    },
    "id": "oT_uRXmssndU",
    "outputId": "f5cf58cb-e5dc-4a10-bd84-c371ad66bd20"
   },
   "outputs": [],
   "source": [
    "word1 = 'hello'\n",
    "word1 * 3"
   ]
  },
  {
   "cell_type": "markdown",
   "metadata": {
    "colab_type": "text",
    "id": "1BMul3KUsndY"
   },
   "source": [
    "## 文字列とメソッド\n",
    "文字列に対する操作を行うため、様々な**メソッド**（関数のようなもの）が用意されています。\n",
    "\n",
    "メソッドは必要に応じて `(...)`内に引数を与え、以下のように使用します。\n",
    "\n",
    "---\n",
    "```Python\n",
    "文字列.メソッド名(式, ...)\n",
    "# あるいは\n",
    "文字列変数.メソッド名(式, ...)\n",
    "```\n",
    "---\n",
    "\n",
    "文字列には以下のようなメソッドが用意されています。"
   ]
  },
  {
   "cell_type": "markdown",
   "metadata": {
    "colab_type": "text",
    "id": "jspPxL8wsndZ"
   },
   "source": [
    "### **置換**\n",
    "**`replace`** メソッドは、指定した`部分文字列A` を、別に指定した`文字列B` で置き換えた文字列を作成します。\n",
    "この操作では、元の文字列は変化しません。具体的には、次のように使用します。\n",
    "\n",
    "---\n",
    "```Python\n",
    "文字列.replace(部分文字列A, 文字列B)\n",
    "```\n",
    "---"
   ]
  },
  {
   "cell_type": "code",
   "execution_count": null,
   "metadata": {
    "colab": {
     "base_uri": "https://localhost:8080/",
     "height": 34
    },
    "colab_type": "code",
    "executionInfo": {
     "elapsed": 466,
     "status": "ok",
     "timestamp": 1583412280328,
     "user": {
      "displayName": "Junichiro Mori",
      "photoUrl": "",
      "userId": "01008898198902510619"
     },
     "user_tz": -540
    },
    "id": "gQKEFLvksndb",
    "outputId": "7d09648f-3ad1-4c1e-99f0-79d5560e2975"
   },
   "outputs": [],
   "source": [
    "word1 = 'hello'\n",
    "word1.replace('l', '123')"
   ]
  },
  {
   "cell_type": "code",
   "execution_count": null,
   "metadata": {
    "colab": {
     "base_uri": "https://localhost:8080/",
     "height": 34
    },
    "colab_type": "code",
    "executionInfo": {
     "elapsed": 579,
     "status": "ok",
     "timestamp": 1583412284063,
     "user": {
      "displayName": "Junichiro Mori",
      "photoUrl": "",
      "userId": "01008898198902510619"
     },
     "user_tz": -540
    },
    "id": "FSWWBy62snde",
    "outputId": "4531be94-e9be-45b6-ae41-da7871d7e946"
   },
   "outputs": [],
   "source": [
    "word1"
   ]
  },
  {
   "cell_type": "markdown",
   "metadata": {
    "colab_type": "text",
    "id": "emIDrM7asndg"
   },
   "source": [
    "### 練習\n",
    "\n",
    "英語の文章からなる文字列 `str_engsentences` が引数として与えられたとき、`str_engsentences` 中に含まれる全ての句読点（`.`, `,`, `:`, `;`, `!`, `?`）を削除した文字列を返す関数 `remove_punctuations` を作成してください。\n",
    "\n",
    "次のセルの `...` のところを書き換えて `remove_punctuations(str_engsentences)` を作成してください。"
   ]
  },
  {
   "cell_type": "code",
   "execution_count": null,
   "metadata": {
    "colab": {},
    "colab_type": "code",
    "id": "kcfSvFWksndg"
   },
   "outputs": [],
   "source": [
    "def remove_punctuations(str_engsentences):\n",
    "    ..."
   ]
  },
  {
   "cell_type": "markdown",
   "metadata": {
    "colab_type": "text",
    "id": "IAfBX80xsndk"
   },
   "source": [
    "上のセルで解答を作成した後、以下のセルを実行し、実行結果が `True` になることを確認してください。"
   ]
  },
  {
   "cell_type": "code",
   "execution_count": null,
   "metadata": {
    "colab": {},
    "colab_type": "code",
    "id": "ki6OJr0qsndn",
    "tags": [
     "raises-exception"
    ]
   },
   "outputs": [],
   "source": [
    "print(remove_punctuations('Quiet, uh, donations, you want me to make a donation to the coast guard youth auxiliary?') == 'Quiet uh donations you want me to make a donation to the coast guard youth auxiliary')"
   ]
  },
  {
   "cell_type": "markdown",
   "metadata": {
    "colab_type": "text",
    "id": "nh4-37jhsndq"
   },
   "source": [
    "### 練習\n",
    "\n",
    "ATGCの4種類の文字から成る文字列 `str_atgc` が引数として与えられたとき、文字列 `str_pair` を返す関数 `atgc_bppair` を作成してください。ただし、`str_pair` は、`str_atgc` 中の各文字列に対して、 A を T に、 T を A に、 G を C に、 C を G に置き換えたものです。\n",
    "\n",
    "次のセルの `...` のところを書き換えて `atgc_bppair(str_atgc)` を作成してください。"
   ]
  },
  {
   "cell_type": "code",
   "execution_count": null,
   "metadata": {
    "colab": {},
    "colab_type": "code",
    "id": "Ga1HabQgsndq"
   },
   "outputs": [],
   "source": [
    "def atgc_bppair(str_atgc):\n",
    "    ..."
   ]
  },
  {
   "cell_type": "markdown",
   "metadata": {
    "colab_type": "text",
    "id": "_iivnoWXsndt"
   },
   "source": [
    "上のセルで解答を作成した後、以下のセルを実行し、実行結果が `True` になることを確認してください。"
   ]
  },
  {
   "cell_type": "code",
   "execution_count": null,
   "metadata": {
    "colab": {},
    "colab_type": "code",
    "id": "nNVMdAgusndu",
    "tags": [
     "raises-exception"
    ]
   },
   "outputs": [],
   "source": [
    "print(atgc_bppair('AAGCCCCATGGTAA') == 'TTCGGGGTACCATT')"
   ]
  },
  {
   "cell_type": "markdown",
   "metadata": {
    "colab_type": "text",
    "id": "dUar59_Lsndx"
   },
   "source": [
    "### **分割**\n",
    "**`split`** メソッドは、指定した`区切り文字列B`で、`文字列A`を分割して、リストと呼ばれるデータに格納します。具体的には、次のように使用します。\n",
    "\n",
    "---\n",
    "```Python\n",
    "文字列A.split(区切り文字列B)\n",
    "```\n",
    "---\n",
    "\n",
    "リストについては 2-2 で扱います。"
   ]
  },
  {
   "cell_type": "code",
   "execution_count": null,
   "metadata": {
    "colab": {
     "base_uri": "https://localhost:8080/",
     "height": 34
    },
    "colab_type": "code",
    "executionInfo": {
     "elapsed": 484,
     "status": "ok",
     "timestamp": 1583412345887,
     "user": {
      "displayName": "Junichiro Mori",
      "photoUrl": "",
      "userId": "01008898198902510619"
     },
     "user_tz": -540
    },
    "id": "3B9HPzo7sndy",
    "outputId": "af52fe07-4e55-4e73-d70e-ed5307c2bdd7"
   },
   "outputs": [],
   "source": [
    "fruits1 = 'apple,banana,cherry'\n",
    "fruits1.split(',')"
   ]
  },
  {
   "cell_type": "markdown",
   "metadata": {
    "colab_type": "text",
    "id": "uiBtMrfssnd0"
   },
   "source": [
    "### **検索**\n",
    "**`index`** メソッドにより、指定した`部分文字列B`が`文字列A`のどこに存在するか調べることができます。具体的には、次のように使用します。\n",
    "\n",
    "---\n",
    "```Python\n",
    "文字列A.index(部分文字列B)\n",
    "```\n",
    "---\n",
    "\n",
    "ただし、指定した部分文字列が文字列に複数回含まれる場合、最初のインデックスが返されます。また、指定した部分文字列が文字列に含まれない場合は、エラーとなります。"
   ]
  },
  {
   "cell_type": "code",
   "execution_count": null,
   "metadata": {
    "colab": {
     "base_uri": "https://localhost:8080/",
     "height": 34
    },
    "colab_type": "code",
    "executionInfo": {
     "elapsed": 636,
     "status": "ok",
     "timestamp": 1583412360890,
     "user": {
      "displayName": "Junichiro Mori",
      "photoUrl": "",
      "userId": "01008898198902510619"
     },
     "user_tz": -540
    },
    "id": "HTJJ1W15snd0",
    "outputId": "056c7171-c9ed-436b-b2f6-933338e409b6"
   },
   "outputs": [],
   "source": [
    "word1 = 'hello'\n",
    "word1.index('lo')"
   ]
  },
  {
   "cell_type": "code",
   "execution_count": null,
   "metadata": {
    "colab": {
     "base_uri": "https://localhost:8080/",
     "height": 34
    },
    "colab_type": "code",
    "executionInfo": {
     "elapsed": 581,
     "status": "ok",
     "timestamp": 1583412370465,
     "user": {
      "displayName": "Junichiro Mori",
      "photoUrl": "",
      "userId": "01008898198902510619"
     },
     "user_tz": -540
    },
    "id": "6y-yb1wjsnd2",
    "outputId": "c8f2779d-7061-42cb-e7a3-9360e0327b83"
   },
   "outputs": [],
   "source": [
    "word1.index('l')"
   ]
  },
  {
   "cell_type": "markdown",
   "metadata": {
    "colab_type": "text",
    "id": "JWN8hx8Hsnd4"
   },
   "source": [
    "以下はエラーとなります。"
   ]
  },
  {
   "cell_type": "code",
   "execution_count": null,
   "metadata": {
    "colab": {
     "base_uri": "https://localhost:8080/",
     "height": 166
    },
    "colab_type": "code",
    "executionInfo": {
     "elapsed": 438,
     "status": "error",
     "timestamp": 1583412373100,
     "user": {
      "displayName": "Junichiro Mori",
      "photoUrl": "",
      "userId": "01008898198902510619"
     },
     "user_tz": -540
    },
    "id": "IdpeumNPsnd5",
    "outputId": "490a11d3-e9b0-4474-abd5-5a3210e21717",
    "tags": [
     "raises-exception"
    ]
   },
   "outputs": [],
   "source": [
    "word1.index('a')"
   ]
  },
  {
   "cell_type": "markdown",
   "metadata": {
    "colab_type": "text",
    "id": "hiEPr60Isnd7"
   },
   "source": [
    "**`find`** メソッドも `index` と同様に部分文字列を検索し、最初に出現するインデックスを返します。\n",
    "\n",
    "`index` との違いは、部分文字列が含まれない場合エラーとはならず `-1` が返されることです。"
   ]
  },
  {
   "cell_type": "code",
   "execution_count": null,
   "metadata": {
    "colab": {
     "base_uri": "https://localhost:8080/",
     "height": 34
    },
    "colab_type": "code",
    "executionInfo": {
     "elapsed": 602,
     "status": "ok",
     "timestamp": 1583412378745,
     "user": {
      "displayName": "Junichiro Mori",
      "photoUrl": "",
      "userId": "01008898198902510619"
     },
     "user_tz": -540
    },
    "id": "TfNcQhxXsnd7",
    "outputId": "e556f93a-dda7-4428-c200-870eaf2ddd43"
   },
   "outputs": [],
   "source": [
    "word1 = 'hello'\n",
    "word1.find('a')"
   ]
  },
  {
   "cell_type": "markdown",
   "metadata": {
    "colab_type": "text",
    "id": "RYVVuHC1snd9"
   },
   "source": [
    "### 練習\n",
    "\n",
    "コロン (:) を1つだけ含む文字列 `str1` を引数として与えると、コロンの左右に存在する文字列を入れ替えた文字列を返す関数 `swap_colon(str1)` を作成してください。\n",
    "\n",
    "次のセルの `...` のところを書き換えて `swap_colon(str1)` を作成してください。"
   ]
  },
  {
   "cell_type": "code",
   "execution_count": null,
   "metadata": {
    "colab": {},
    "colab_type": "code",
    "id": "mhZeb7q2snd9"
   },
   "outputs": [],
   "source": [
    "def swap_colon(str1):\n",
    "    ..."
   ]
  },
  {
   "cell_type": "markdown",
   "metadata": {
    "colab_type": "text",
    "id": "FvjgSDQ7snd_"
   },
   "source": [
    "上のセルで解答を作成した後、以下のセルを実行し、実行結果が `True` になることを確認してください。"
   ]
  },
  {
   "cell_type": "code",
   "execution_count": null,
   "metadata": {
    "colab": {},
    "colab_type": "code",
    "id": "_6bVDWx3snd_",
    "tags": [
     "raises-exception"
    ]
   },
   "outputs": [],
   "source": [
    "print(swap_colon('hello:world') == 'world:hello')"
   ]
  },
  {
   "cell_type": "markdown",
   "metadata": {
    "colab_type": "text",
    "id": "TReg-J0UsneB"
   },
   "source": [
    "### **数え上げ**\n",
    "**`count`** メソッドにより、指定した`部分文字列B`が`文字列A`にいくつ存在するか調べることができます。\n",
    "\n",
    "---\n",
    "```Python\n",
    "文字列A.count(部分文字列B)\n",
    "```\n",
    "---"
   ]
  },
  {
   "cell_type": "code",
   "execution_count": null,
   "metadata": {
    "colab": {
     "base_uri": "https://localhost:8080/",
     "height": 34
    },
    "colab_type": "code",
    "executionInfo": {
     "elapsed": 514,
     "status": "ok",
     "timestamp": 1583412431924,
     "user": {
      "displayName": "Junichiro Mori",
      "photoUrl": "",
      "userId": "01008898198902510619"
     },
     "user_tz": -540
    },
    "id": "D51dJ8pKsneE",
    "outputId": "2f609273-e1cc-48c8-cec4-1bc43f2adf61"
   },
   "outputs": [],
   "source": [
    "word1 = 'hello'\n",
    "word1.count('l')"
   ]
  },
  {
   "cell_type": "code",
   "execution_count": null,
   "metadata": {
    "colab": {
     "base_uri": "https://localhost:8080/",
     "height": 34
    },
    "colab_type": "code",
    "executionInfo": {
     "elapsed": 756,
     "status": "ok",
     "timestamp": 1583412434152,
     "user": {
      "displayName": "Junichiro Mori",
      "photoUrl": "",
      "userId": "01008898198902510619"
     },
     "user_tz": -540
    },
    "id": "2ayn72ufsneG",
    "outputId": "4e51a771-5bc5-4517-8b72-8ffeed5bb31c"
   },
   "outputs": [],
   "source": [
    "'aaaaaaa'.count('aa')"
   ]
  },
  {
   "cell_type": "markdown",
   "metadata": {
    "colab_type": "text",
    "id": "6JrVs6mgsneI"
   },
   "source": [
    "### 練習\n",
    "\n",
    "ATGCの4種類の文字から成る文字列 `str_atgc` と塩基名（A, T, G, Cのいずれか）を指定する文字列 `str_bpname` が引数として与えられたとき、`str_atgc` 中に含まれる塩基 `str_bpname` の数を返す関数 `atgc_count` を作成してください。\n",
    "\n",
    "次のセルの `...` のところを書き換えて `atgc_count(str_atgc, str_bpname)` を作成してください。"
   ]
  },
  {
   "cell_type": "code",
   "execution_count": null,
   "metadata": {
    "colab": {},
    "colab_type": "code",
    "id": "0znZgleJsneI"
   },
   "outputs": [],
   "source": [
    "def atgc_count(str_atgc, str_bpname):\n",
    "    ..."
   ]
  },
  {
   "cell_type": "markdown",
   "metadata": {
    "colab_type": "text",
    "id": "sMku3FRusneK"
   },
   "source": [
    "上のセルで解答を作成した後、以下のセルを実行し、実行結果が `True` になることを確認してください。"
   ]
  },
  {
   "cell_type": "code",
   "execution_count": null,
   "metadata": {
    "colab": {},
    "colab_type": "code",
    "id": "SM7P7Pi6sneL",
    "tags": [
     "raises-exception"
    ]
   },
   "outputs": [],
   "source": [
    "print(atgc_count('AAGCCCCATGGTAA', 'A') == 5)"
   ]
  },
  {
   "cell_type": "markdown",
   "metadata": {
    "colab_type": "text",
    "id": "70BVCConsneM"
   },
   "source": [
    "### **大文字**・**小文字**\n",
    "**`lower`**, **`capitalize`**, **`upper`** メソッドを用いると、文字列の中の英文字を小文字に変換したり、大文字に変換したりすることができます。\n",
    "\n",
    "これらの操作では、元の文字列は変化しません。"
   ]
  },
  {
   "cell_type": "code",
   "execution_count": null,
   "metadata": {
    "colab": {
     "base_uri": "https://localhost:8080/",
     "height": 34
    },
    "colab_type": "code",
    "executionInfo": {
     "elapsed": 456,
     "status": "ok",
     "timestamp": 1583412460747,
     "user": {
      "displayName": "Junichiro Mori",
      "photoUrl": "",
      "userId": "01008898198902510619"
     },
     "user_tz": -540
    },
    "id": "aFbq7gSKsneN",
    "outputId": "d8232838-51d3-4a9f-f827-3bf9ef7dc22d"
   },
   "outputs": [],
   "source": [
    "upper_dna = 'DNA'\n",
    "upper_dna.lower() # 全ての文字を小文字にする"
   ]
  },
  {
   "cell_type": "code",
   "execution_count": null,
   "metadata": {
    "colab": {
     "base_uri": "https://localhost:8080/",
     "height": 34
    },
    "colab_type": "code",
    "executionInfo": {
     "elapsed": 449,
     "status": "ok",
     "timestamp": 1583412462911,
     "user": {
      "displayName": "Junichiro Mori",
      "photoUrl": "",
      "userId": "01008898198902510619"
     },
     "user_tz": -540
    },
    "id": "GuxsHuhEsneQ",
    "outputId": "05e0b29f-cee9-4c9a-b45b-38c92ba0bf03"
   },
   "outputs": [],
   "source": [
    "upper_dna"
   ]
  },
  {
   "cell_type": "code",
   "execution_count": null,
   "metadata": {
    "colab": {
     "base_uri": "https://localhost:8080/",
     "height": 34
    },
    "colab_type": "code",
    "executionInfo": {
     "elapsed": 460,
     "status": "ok",
     "timestamp": 1583412469124,
     "user": {
      "displayName": "Junichiro Mori",
      "photoUrl": "",
      "userId": "01008898198902510619"
     },
     "user_tz": -540
    },
    "id": "4TsuLus_sneT",
    "outputId": "8b98237a-8de3-4e86-d33c-0610bf1dcbec"
   },
   "outputs": [],
   "source": [
    "lower_text = 'hello world!'\n",
    "lower_text.capitalize() # 先頭文字を大文字にする"
   ]
  },
  {
   "cell_type": "code",
   "execution_count": null,
   "metadata": {
    "colab": {
     "base_uri": "https://localhost:8080/",
     "height": 34
    },
    "colab_type": "code",
    "executionInfo": {
     "elapsed": 582,
     "status": "ok",
     "timestamp": 1583412471663,
     "user": {
      "displayName": "Junichiro Mori",
      "photoUrl": "",
      "userId": "01008898198902510619"
     },
     "user_tz": -540
    },
    "id": "Gem7BRd8sneV",
    "outputId": "8a390dc1-5f38-4af3-f8ad-6a3c7f115fbb"
   },
   "outputs": [],
   "source": [
    "lower_text"
   ]
  },
  {
   "cell_type": "code",
   "execution_count": null,
   "metadata": {
    "colab": {
     "base_uri": "https://localhost:8080/",
     "height": 34
    },
    "colab_type": "code",
    "executionInfo": {
     "elapsed": 454,
     "status": "ok",
     "timestamp": 1583412474412,
     "user": {
      "displayName": "Junichiro Mori",
      "photoUrl": "",
      "userId": "01008898198902510619"
     },
     "user_tz": -540
    },
    "id": "ddVi7AUxsneX",
    "outputId": "27738e51-1010-4392-b2dd-9c6357c8de32"
   },
   "outputs": [],
   "source": [
    "lower_text.upper() #全ての文字を大文字にする"
   ]
  },
  {
   "cell_type": "code",
   "execution_count": null,
   "metadata": {
    "colab": {
     "base_uri": "https://localhost:8080/",
     "height": 34
    },
    "colab_type": "code",
    "executionInfo": {
     "elapsed": 486,
     "status": "ok",
     "timestamp": 1583412476100,
     "user": {
      "displayName": "Junichiro Mori",
      "photoUrl": "",
      "userId": "01008898198902510619"
     },
     "user_tz": -540
    },
    "id": "ZqJ7ej77sneZ",
    "outputId": "04c98ebb-ddbf-41cf-d449-d722a8a716c0"
   },
   "outputs": [],
   "source": [
    "lower_text"
   ]
  },
  {
   "cell_type": "markdown",
   "metadata": {
    "colab_type": "text",
    "id": "PvmRGL0Qsnec"
   },
   "source": [
    "## **文字列の比較演算**\n",
    "比較演算子、`==`, `<`, `>`, ... を用いて、2つの文字列を比較することもできます。"
   ]
  },
  {
   "cell_type": "code",
   "execution_count": null,
   "metadata": {
    "colab": {
     "base_uri": "https://localhost:8080/",
     "height": 50
    },
    "colab_type": "code",
    "executionInfo": {
     "elapsed": 549,
     "status": "ok",
     "timestamp": 1583412484940,
     "user": {
      "displayName": "Junichiro Mori",
      "photoUrl": "",
      "userId": "01008898198902510619"
     },
     "user_tz": -540
    },
    "id": "4KsXQAKnsned",
    "outputId": "db7c50b9-c6d4-46a0-a147-0ca69dcbd1ee"
   },
   "outputs": [],
   "source": [
    "print('abc' == 'abc')\n",
    "print('ab' == 'abc')"
   ]
  },
  {
   "cell_type": "code",
   "execution_count": null,
   "metadata": {
    "colab": {
     "base_uri": "https://localhost:8080/",
     "height": 50
    },
    "colab_type": "code",
    "executionInfo": {
     "elapsed": 574,
     "status": "ok",
     "timestamp": 1583412488337,
     "user": {
      "displayName": "Junichiro Mori",
      "photoUrl": "",
      "userId": "01008898198902510619"
     },
     "user_tz": -540
    },
    "id": "HGwXCRGusnee",
    "outputId": "53452dac-6dfe-48d5-c569-19d6bdacbed3"
   },
   "outputs": [],
   "source": [
    "print('abc' != 'abc')\n",
    "print('ab' != 'abc')"
   ]
  },
  {
   "cell_type": "markdown",
   "metadata": {
    "colab_type": "text",
    "id": "gIvZky3Usneg"
   },
   "source": [
    "文字列の大小の比較は、いわゆる辞書式による比較で、文字列の最初の文字から順に比較して大小を決めます。\n",
    "片方がもう片方を拡張したものであれば、拡張した方を大きいとします。"
   ]
  },
  {
   "cell_type": "code",
   "execution_count": null,
   "metadata": {
    "colab": {
     "base_uri": "https://localhost:8080/",
     "height": 84
    },
    "colab_type": "code",
    "executionInfo": {
     "elapsed": 433,
     "status": "ok",
     "timestamp": 1583412496454,
     "user": {
      "displayName": "Junichiro Mori",
      "photoUrl": "",
      "userId": "01008898198902510619"
     },
     "user_tz": -540
    },
    "id": "0R-i8BVdsneg",
    "outputId": "a08ae02f-2713-4117-ffb1-bbf6b7ecc560"
   },
   "outputs": [],
   "source": [
    "print('abc' <= 'abc')\n",
    "print('abc' < 'abc')\n",
    "print('abc' < 'abd')\n",
    "print('ab' < 'abc')"
   ]
  },
  {
   "cell_type": "markdown",
   "metadata": {
    "colab_type": "text",
    "id": "eA62L8gisnei"
   },
   "source": [
    "## 練習\n",
    "\n",
    "英語の文字列 `str_engsentences` が引数として与えられたとき、それが全て小文字である場合、`True` を返し、そうでない場合、 `False` を返す関数 `check_lower` を作成してください。\n",
    "\n",
    "次のセルの `...` のところを書き換えて `check_lower(str_engsentences)` を作成してください。"
   ]
  },
  {
   "cell_type": "code",
   "execution_count": null,
   "metadata": {
    "colab": {},
    "colab_type": "code",
    "id": "Q2YAwXV9snej"
   },
   "outputs": [],
   "source": [
    "def check_lower(str_engsentences):\n",
    "    ..."
   ]
  },
  {
   "cell_type": "markdown",
   "metadata": {
    "colab_type": "text",
    "id": "AdXpDrgKsnek"
   },
   "source": [
    "上のセルで解答を作成した後、以下のセルを実行し、実行結果が全て `True` になることを確認してください。"
   ]
  },
  {
   "cell_type": "code",
   "execution_count": null,
   "metadata": {
    "colab": {},
    "colab_type": "code",
    "id": "QglIRljnsnel",
    "tags": [
     "raises-exception"
    ]
   },
   "outputs": [],
   "source": [
    "print(check_lower('down down down') == True)\n",
    "print(check_lower('There were doors all round the hall, but they were all locked') == False)"
   ]
  },
  {
   "cell_type": "markdown",
   "metadata": {
    "colab_type": "text",
    "id": "iCq1XS89snep"
   },
   "source": [
    "## 初心者によくある誤解 --- **変数**と**文字列**の混乱\n",
    "\n",
    "初心者によくある誤解として、変数と文字列を混乱する例が見られます。たとえば、文字列を引数に取る次のような関数 `func` を考えます（ `func` は引数として与えられた文字列を大文字にして返す関数です）。　"
   ]
  },
  {
   "cell_type": "code",
   "execution_count": null,
   "metadata": {
    "colab": {},
    "colab_type": "code",
    "id": "KXhwbCTrsneq"
   },
   "outputs": [],
   "source": [
    "def func(str1):\n",
    "    return str1.upper()"
   ]
  },
  {
   "cell_type": "markdown",
   "metadata": {
    "colab_type": "text",
    "id": "BSgk5d_2sner"
   },
   "source": [
    "ここで変数 `str2` を引数として `func` を呼ぶと、`str2` に格納されている文字列が大文字になって返ってきます。"
   ]
  },
  {
   "cell_type": "code",
   "execution_count": null,
   "metadata": {
    "colab": {
     "base_uri": "https://localhost:8080/",
     "height": 34
    },
    "colab_type": "code",
    "executionInfo": {
     "elapsed": 495,
     "status": "ok",
     "timestamp": 1583412585098,
     "user": {
      "displayName": "Junichiro Mori",
      "photoUrl": "",
      "userId": "01008898198902510619"
     },
     "user_tz": -540
    },
    "id": "z-MiVD04snes",
    "outputId": "e292b6ea-e62e-4bc6-8a60-8a93823703ab"
   },
   "outputs": [],
   "source": [
    "str2 = 'abc'\n",
    "func(str2)"
   ]
  },
  {
   "cell_type": "markdown",
   "metadata": {
    "colab_type": "text",
    "id": "id1wa4CKsnet"
   },
   "source": [
    "次のように `func` を呼ぶと上とは結果が異なります。次の例では変数 `str2` （に格納されている文字列 `abc`）ではなく、文字列 `'str2'` を引数として `func` を呼び出しています。"
   ]
  },
  {
   "cell_type": "code",
   "execution_count": null,
   "metadata": {
    "colab": {
     "base_uri": "https://localhost:8080/",
     "height": 34
    },
    "colab_type": "code",
    "executionInfo": {
     "elapsed": 499,
     "status": "ok",
     "timestamp": 1583412594548,
     "user": {
      "displayName": "Junichiro Mori",
      "photoUrl": "",
      "userId": "01008898198902510619"
     },
     "user_tz": -540
    },
    "id": "ygfkgqqlsneu",
    "outputId": "c55908d1-e803-4380-b81a-60840cb857e9"
   },
   "outputs": [],
   "source": [
    "str2 = 'abc'\n",
    "func('str2')"
   ]
  },
  {
   "cell_type": "markdown",
   "metadata": {
    "colab_type": "text",
    "id": "eQoJLpxqsnex"
   },
   "source": [
    "## 練習\n",
    "\n",
    "コンマ(`,`)を含む英語の文章からなる文字列 `str_engsentences` が引数として与えられたとき、`str_engsentences` 中の一番最初のコンマより後の文章のみかならなる文字列 `str_res` を返す関数 `remove_clause` を作成してください。ただし、 `str_res` の先頭は大文字のアルファベットとしてください。\n",
    "\n",
    "次のセルの `...` のところを書き換えて `remove_clause(str_atgc)` を作成してください。"
   ]
  },
  {
   "cell_type": "code",
   "execution_count": null,
   "metadata": {
    "colab": {},
    "colab_type": "code",
    "id": "q7ibm9zCsnez"
   },
   "outputs": [],
   "source": [
    "def remove_clause(str_atgc):\n",
    "    ..."
   ]
  },
  {
   "cell_type": "markdown",
   "metadata": {
    "colab_type": "text",
    "id": "buEPm9emsne2"
   },
   "source": [
    "上のセルで解答を作成した後、以下のセルを実行し、実行結果が `True` になることを確認してください。"
   ]
  },
  {
   "cell_type": "code",
   "execution_count": null,
   "metadata": {
    "colab": {},
    "colab_type": "code",
    "id": "atl0mKwDsne2",
    "tags": [
     "raises-exception"
    ]
   },
   "outputs": [],
   "source": [
    "print(remove_clause(\"It's being seen, but you aren't observing.\") == \"But you aren't observing.\")"
   ]
  },
  {
   "cell_type": "markdown",
   "metadata": {
    "colab_type": "text",
    "id": "p3qfeFiXsne4"
   },
   "source": [
    "## 練習の解答"
   ]
  },
  {
   "cell_type": "code",
   "execution_count": null,
   "metadata": {
    "colab": {},
    "colab_type": "code",
    "id": "PkF0giYYsne4"
   },
   "outputs": [],
   "source": [
    "def remove_punctuations(str_engsentences):\n",
    "    str1 = str_engsentences.replace('.', '') # 指定の文字を空文字に置換\n",
    "    str1 = str1.replace(',', '')\n",
    "    str1 = str1.replace(':', '')\n",
    "    str1 = str1.replace(';', '')\n",
    "    str1 = str1.replace('!', '')\n",
    "    str1 = str1.replace('?', '')\n",
    "    return str1\n",
    "#remove_punctuations('Quiet, uh, donations, you want me to make a donation to the coast guard youth auxiliary?')"
   ]
  },
  {
   "cell_type": "code",
   "execution_count": null,
   "metadata": {
    "colab": {},
    "colab_type": "code",
    "id": "hULuPAY-sne-"
   },
   "outputs": [],
   "source": [
    "def atgc_pair(str_atgc):\n",
    "    str_pair = str_atgc.replace('A', 't')# 指定の文字に置換。ただし全て小文字\n",
    "    str_pair = str_pair.replace('T', 'a')\n",
    "    str_pair = str_pair.replace('G', 'c')\n",
    "    str_pair = str_pair.replace('C', 'g')\n",
    "    str_pair = str_pair.upper() # 置換済みの小文字の列を大文字に変換\n",
    "    return str_pair\n",
    "#atgc_pair('AAGCCCCATGGTAA') "
   ]
  },
  {
   "cell_type": "code",
   "execution_count": null,
   "metadata": {
    "colab": {},
    "colab_type": "code",
    "id": "MpGBd05ssnfA"
   },
   "outputs": [],
   "source": [
    "def swap_colon(str1):\n",
    "    #コロンの位置を取得する # findでもOK\n",
    "    col_index = str1.index(':')\n",
    "    #コロンの位置を基準に前半と後半の部分文字列を取得する\n",
    "    str2, str3 = str1[:col_index], str1[col_index+1:]\n",
    "    #部分文字列の順序を入れ替えて結合する\n",
    "    str4 = str3 + ':' + str2\n",
    "    return str4\n",
    "#swap_colon('hello:world')"
   ]
  },
  {
   "cell_type": "code",
   "execution_count": null,
   "metadata": {
    "colab": {},
    "colab_type": "code",
    "id": "1wiunF0CsnfB"
   },
   "outputs": [],
   "source": [
    "def atgc_count(str_atgc, str_bpname):\n",
    "    return str_atgc.count(str_bpname)\n",
    "#atgc_count('AAGCCCCATGGTAA', 'A') "
   ]
  },
  {
   "cell_type": "code",
   "execution_count": null,
   "metadata": {
    "colab": {},
    "colab_type": "code",
    "id": "3UntrgV1snfD"
   },
   "outputs": [],
   "source": [
    "def check_lower(str_engsentences):\n",
    "    if str_engsentences == str_engsentences.lower():#元の文字列と小文字に変換した文字列を比較する\n",
    "        return True\n",
    "    return False\n",
    "#check_lower('down down down')\n",
    "#check_lower('There were doors all round the hall, but they were all locked')"
   ]
  },
  {
   "cell_type": "code",
   "execution_count": null,
   "metadata": {
    "colab": {},
    "colab_type": "code",
    "id": "C_zIIjbTsnfF"
   },
   "outputs": [],
   "source": [
    "def remove_clause(str_engsentences):\n",
    "    int_index = str_engsentences.find(',')\n",
    "    str1 = str_engsentences[int_index+2:]\n",
    "    return str1.capitalize()\n",
    "#remove_clause(\"It's being seen, but you aren't observing.\")"
   ]
  },
  {
   "cell_type": "code",
   "execution_count": null,
   "metadata": {
    "colab": {},
    "colab_type": "code",
    "id": "PJHv98a5snfI"
   },
   "outputs": [],
   "source": []
  }
 ],
 "metadata": {
  "colab": {
   "collapsed_sections": [],
   "name": "2-1.ipynb",
   "provenance": [],
   "toc_visible": true
  },
  "kernelspec": {
   "display_name": "Python 3",
   "language": "python",
   "name": "python3"
  },
  "language_info": {
   "codemirror_mode": {
    "name": "ipython",
    "version": 3
   },
   "file_extension": ".py",
   "mimetype": "text/x-python",
   "name": "python",
   "nbconvert_exporter": "python",
   "pygments_lexer": "ipython3",
   "version": "3.7.3"
  }
 },
 "nbformat": 4,
 "nbformat_minor": 1
}
