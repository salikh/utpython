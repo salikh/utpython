{
 "cells": [
  {
   "cell_type": "markdown",
   "metadata": {
    "colab_type": "text",
    "id": "W5OLhvXMwNuO"
   },
   "source": [
    "# 2-2. リスト (list)\n",
    "複数のデータを要素としてまとめて取り扱うデータとして、リストとタプルについて説明します。\n",
    "\n",
    "参考\n",
    "\n",
    "- https://docs.python.org/ja/3/tutorial/introduction.html#lists\n",
    "- https://docs.python.org/ja/3/tutorial/datastructures.html#tuples-and-sequences\n",
    "\n",
    "文字列を構成する要素は文字のみでしたが、**リスト**では構成する要素としてあらゆる型のデータを指定できます。\n",
    "他のプログラミング言語では、リストに相当するものとして**配列**（もしくはアレイ）やベクターなどがあります。\n",
    "\n",
    "リストを作成するには、リストを構成する要素をコンマで区切り全体をかぎ括弧 `[...]` で囲みます。  \n",
    "\n",
    "以下のセルでは数値を要素とするリストを作成して、変数に代入しています。\n",
    "さらに、文字列と同様に組み込み関数 `type` を用いて、変数の値がリストであることを確認しています。"
   ]
  },
  {
   "cell_type": "code",
   "execution_count": null,
   "metadata": {
    "colab": {
     "base_uri": "https://localhost:8080/",
     "height": 34
    },
    "colab_type": "code",
    "executionInfo": {
     "elapsed": 1257,
     "status": "ok",
     "timestamp": 1583412850076,
     "user": {
      "displayName": "Junichiro Mori",
      "photoUrl": "",
      "userId": "01008898198902510619"
     },
     "user_tz": -540
    },
    "id": "sK0XCUg8wNuR",
    "outputId": "2c47cf51-9ed7-4c03-b18b-4c69b050f71d"
   },
   "outputs": [],
   "source": [
    "numbers = [0, 10, 20, 30, 40, 50]\n",
    "numbers"
   ]
  },
  {
   "cell_type": "code",
   "execution_count": null,
   "metadata": {
    "colab": {
     "base_uri": "https://localhost:8080/",
     "height": 34
    },
    "colab_type": "code",
    "executionInfo": {
     "elapsed": 969,
     "status": "ok",
     "timestamp": 1583412852899,
     "user": {
      "displayName": "Junichiro Mori",
      "photoUrl": "",
      "userId": "01008898198902510619"
     },
     "user_tz": -540
    },
    "id": "9N1uLpFPwNuX",
    "outputId": "e846a34a-e723-448f-d49d-ec7ac57e20b6"
   },
   "outputs": [],
   "source": [
    "type(numbers)"
   ]
  },
  {
   "cell_type": "markdown",
   "metadata": {
    "colab_type": "text",
    "id": "JJb6O34DwNud"
   },
   "source": [
    "リストのデータ型は **`list`** です。\n",
    "（なお、後で見るように、`list` は他のデータをリストに変換する関数としても用いられます。）\n",
    "\n",
    "次に文字列を構成要素とするリストを作成してみます。"
   ]
  },
  {
   "cell_type": "code",
   "execution_count": null,
   "metadata": {
    "colab": {
     "base_uri": "https://localhost:8080/",
     "height": 34
    },
    "colab_type": "code",
    "executionInfo": {
     "elapsed": 815,
     "status": "ok",
     "timestamp": 1583412863840,
     "user": {
      "displayName": "Junichiro Mori",
      "photoUrl": "",
      "userId": "01008898198902510619"
     },
     "user_tz": -540
    },
    "id": "gArhmsWewNue",
    "outputId": "d0777a23-a571-42aa-de26-26e8824d030a"
   },
   "outputs": [],
   "source": [
    "fruits = ['apple', 'banana', 'chelly']\n",
    "fruits"
   ]
  },
  {
   "cell_type": "markdown",
   "metadata": {
    "colab_type": "text",
    "id": "eaIVMrM7wNuh"
   },
   "source": [
    "リストの要素としてあらゆる型のデータを指定でき、それらは混在してもかまいません。\n",
    "以下のセルでは、数値と文字列が混在しています。"
   ]
  },
  {
   "cell_type": "code",
   "execution_count": null,
   "metadata": {
    "colab": {
     "base_uri": "https://localhost:8080/",
     "height": 34
    },
    "colab_type": "code",
    "executionInfo": {
     "elapsed": 525,
     "status": "ok",
     "timestamp": 1583412869298,
     "user": {
      "displayName": "Junichiro Mori",
      "photoUrl": "",
      "userId": "01008898198902510619"
     },
     "user_tz": -540
    },
    "id": "p3q1onq0wNuj",
    "outputId": "57d87ab5-e9ea-434e-cc6c-617cc511a6d4"
   },
   "outputs": [],
   "source": [
    "numbers_fruits = [10, 'apple', 20, 'banana', 30]\n",
    "numbers_fruits"
   ]
  },
  {
   "cell_type": "markdown",
   "metadata": {
    "colab_type": "text",
    "id": "C0MCqA_QwNum"
   },
   "source": [
    "次のように、何も要素を格納していないリスト（**空リスト**）を作成できます。\n",
    "空リストはプログラム実行の途中結果を記録する場合などによく使われています。\n",
    "具体的な例については、後述する`append`メソッドの項を参照してください。"
   ]
  },
  {
   "cell_type": "code",
   "execution_count": null,
   "metadata": {
    "colab": {
     "base_uri": "https://localhost:8080/",
     "height": 34
    },
    "colab_type": "code",
    "executionInfo": {
     "elapsed": 643,
     "status": "ok",
     "timestamp": 1583412876604,
     "user": {
      "displayName": "Junichiro Mori",
      "photoUrl": "",
      "userId": "01008898198902510619"
     },
     "user_tz": -540
    },
    "id": "JlLwYEsOwNun",
    "outputId": "cdede5db-df6e-49b5-ce07-91f9661f8c28"
   },
   "outputs": [],
   "source": [
    "empty=[]\n",
    "empty"
   ]
  },
  {
   "cell_type": "markdown",
   "metadata": {
    "colab_type": "text",
    "id": "b7wQAMRQwNur"
   },
   "source": [
    "## リストとインデックス\n",
    "文字列の場合と同様に、インデックスを指定してリストの要素を取り出せます。\n",
    "リストの `x` 番目の要素を取得するには次のような記法を用います。\n",
    "インデックスは 0 から始まることに注意してください。\n",
    "\n",
    "```Python\n",
    "リスト[x-1]\n",
    "```"
   ]
  },
  {
   "cell_type": "code",
   "execution_count": null,
   "metadata": {
    "colab": {
     "base_uri": "https://localhost:8080/",
     "height": 34
    },
    "colab_type": "code",
    "executionInfo": {
     "elapsed": 762,
     "status": "ok",
     "timestamp": 1583412887223,
     "user": {
      "displayName": "Junichiro Mori",
      "photoUrl": "",
      "userId": "01008898198902510619"
     },
     "user_tz": -540
    },
    "id": "oIURN7CtwNut",
    "outputId": "c5266118-a2f2-4550-8343-a985c19b561b"
   },
   "outputs": [],
   "source": [
    "abcd = ['a', 'b', 'c', 'd']\n",
    "abcd[2]"
   ]
  },
  {
   "cell_type": "markdown",
   "metadata": {
    "colab_type": "text",
    "id": "ocA2yLzuwNuw"
   },
   "source": [
    "文字列の場合とは異なり、リストは変更可能なデータです。\n",
    "すなわちインデックスで指定されるリストの要素は、代入によって変更できます。"
   ]
  },
  {
   "cell_type": "code",
   "execution_count": null,
   "metadata": {
    "colab": {
     "base_uri": "https://localhost:8080/",
     "height": 34
    },
    "colab_type": "code",
    "executionInfo": {
     "elapsed": 500,
     "status": "ok",
     "timestamp": 1583412895574,
     "user": {
      "displayName": "Junichiro Mori",
      "photoUrl": "",
      "userId": "01008898198902510619"
     },
     "user_tz": -540
    },
    "id": "HUprvwPcwNux",
    "outputId": "ad15c3c4-cf38-4010-ed2b-d03fd1039aff"
   },
   "outputs": [],
   "source": [
    "abcd = ['a', 'b', 'c', 'd']\n",
    "abcd[2] = 'hello'\n",
    "abcd"
   ]
  },
  {
   "cell_type": "markdown",
   "metadata": {
    "colab_type": "text",
    "id": "znXP5ppewNu1"
   },
   "source": [
    "文字列と同様に、スライスを使った範囲指定も可能です。"
   ]
  },
  {
   "cell_type": "code",
   "execution_count": null,
   "metadata": {
    "colab": {
     "base_uri": "https://localhost:8080/",
     "height": 34
    },
    "colab_type": "code",
    "executionInfo": {
     "elapsed": 567,
     "status": "ok",
     "timestamp": 1583412899838,
     "user": {
      "displayName": "Junichiro Mori",
      "photoUrl": "",
      "userId": "01008898198902510619"
     },
     "user_tz": -540
    },
    "id": "-GzBeMdQwNu2",
    "outputId": "74dfaa82-03c4-4d17-e08b-70e06706bcb4"
   },
   "outputs": [],
   "source": [
    "abcd = ['a', 'b', 'c', 'd']\n",
    "abcd[1:3]"
   ]
  },
  {
   "cell_type": "code",
   "execution_count": null,
   "metadata": {
    "colab": {
     "base_uri": "https://localhost:8080/",
     "height": 34
    },
    "colab_type": "code",
    "executionInfo": {
     "elapsed": 641,
     "status": "ok",
     "timestamp": 1583412901702,
     "user": {
      "displayName": "Junichiro Mori",
      "photoUrl": "",
      "userId": "01008898198902510619"
     },
     "user_tz": -540
    },
    "id": "tM9q8fIRwNu8",
    "outputId": "dabbc56b-afbe-48d5-8e43-c8bb7f9a07a5"
   },
   "outputs": [],
   "source": [
    "abcd = ['a', 'b', 'c', 'd']\n",
    "abcd[0:4:2]"
   ]
  },
  {
   "cell_type": "markdown",
   "metadata": {
    "colab_type": "text",
    "id": "znFIO9h0wNu_"
   },
   "source": [
    "## 練習\n",
    "リスト `ln` を引数として取り、`ln` の偶数番目のインデックスの値を削除したリストを返す関数 `remove_eveneindex` を作成してください（ただし、0 は偶数として扱うものとします）。\n",
    "\n",
    "ヒント：スライスを使います。\n",
    "\n",
    "以下のセルの `...` のところを書き換えて `remove_evenindex(ln)` を作成してください。"
   ]
  },
  {
   "cell_type": "code",
   "execution_count": null,
   "metadata": {
    "colab": {},
    "colab_type": "code",
    "id": "8veyjbPkwNvA"
   },
   "outputs": [],
   "source": [
    "def remove_evenindex(ln):\n",
    "    ..."
   ]
  },
  {
   "cell_type": "markdown",
   "metadata": {
    "colab_type": "text",
    "id": "P9IwfnKLwNvE"
   },
   "source": [
    "上のセルで解答を作成した後、以下のセルを実行し、実行結果が全て `True` になることを確認してください。"
   ]
  },
  {
   "cell_type": "code",
   "execution_count": null,
   "metadata": {
    "colab": {
     "base_uri": "https://localhost:8080/",
     "height": 183
    },
    "colab_type": "code",
    "executionInfo": {
     "elapsed": 454,
     "status": "error",
     "timestamp": 1583412932941,
     "user": {
      "displayName": "Junichiro Mori",
      "photoUrl": "",
      "userId": "01008898198902510619"
     },
     "user_tz": -540
    },
    "id": "7Kvuv_NswNvF",
    "outputId": "00d082fe-d972-4ed6-8681-6403ad97c20e",
    "tags": [
     "raises-exception"
    ]
   },
   "outputs": [],
   "source": [
    "print(remove_evenindex(['a', 'b', 'c', 'd', 'e', 'f', 'g']) == ['b', 'd', 'f'] )\n",
    "print(remove_evenindex([1, 2, 3, 4, 5]) == [2, 4])"
   ]
  },
  {
   "cell_type": "markdown",
   "metadata": {
    "colab_type": "text",
    "id": "mFEdkYqjwNvH"
   },
   "source": [
    "## **多重リスト**\n",
    "リストの要素としてリストを指定することもできます。\n",
    "リストを要素とするリストは多重リストと呼ばれます。\n",
    "次は二重リストの例です。"
   ]
  },
  {
   "cell_type": "code",
   "execution_count": null,
   "metadata": {
    "colab": {},
    "colab_type": "code",
    "id": "6n6UaNRFwNvI"
   },
   "outputs": [],
   "source": [
    "lns = [[1, 2, 3], [10, 20, 30], ['a', 'b', 'c']]"
   ]
  },
  {
   "cell_type": "markdown",
   "metadata": {
    "colab_type": "text",
    "id": "Y4VQKbRLwNvM"
   },
   "source": [
    "多重リストの要素指定は複数のインデックスで行います。\n",
    "前の例で外側の `[]` で示されるリストの2番目の要素のリスト、\n",
    "すなわち `[10, 20, 30]`、の最初の要素は次のように指定します。 "
   ]
  },
  {
   "cell_type": "code",
   "execution_count": null,
   "metadata": {
    "colab": {
     "base_uri": "https://localhost:8080/",
     "height": 34
    },
    "colab_type": "code",
    "executionInfo": {
     "elapsed": 529,
     "status": "ok",
     "timestamp": 1583412959032,
     "user": {
      "displayName": "Junichiro Mori",
      "photoUrl": "",
      "userId": "01008898198902510619"
     },
     "user_tz": -540
    },
    "id": "_H9Gqv2CwNvN",
    "outputId": "1d22eae8-2687-415b-ad5b-e68f61564801"
   },
   "outputs": [],
   "source": [
    "lns[1][0]"
   ]
  },
  {
   "cell_type": "markdown",
   "metadata": {
    "colab_type": "text",
    "id": "Kz3iQxJfwNvR"
   },
   "source": [
    "3番目のリストそのものを取り出したいときは、次のように指定します。"
   ]
  },
  {
   "cell_type": "code",
   "execution_count": null,
   "metadata": {
    "colab": {
     "base_uri": "https://localhost:8080/",
     "height": 34
    },
    "colab_type": "code",
    "executionInfo": {
     "elapsed": 566,
     "status": "ok",
     "timestamp": 1583412963097,
     "user": {
      "displayName": "Junichiro Mori",
      "photoUrl": "",
      "userId": "01008898198902510619"
     },
     "user_tz": -540
    },
    "id": "g4OPw8y8wNvT",
    "outputId": "7f928eed-a4a2-40cb-a565-1451ec965159"
   },
   "outputs": [],
   "source": [
    "lns[2]"
   ]
  },
  {
   "cell_type": "markdown",
   "metadata": {
    "colab_type": "text",
    "id": "rz0RTVpCwNvV"
   },
   "source": [
    "以下のようにリストの要素として、リストを値とする変数を指定することもできます。"
   ]
  },
  {
   "cell_type": "code",
   "execution_count": null,
   "metadata": {
    "colab": {
     "base_uri": "https://localhost:8080/",
     "height": 67
    },
    "colab_type": "code",
    "executionInfo": {
     "elapsed": 455,
     "status": "ok",
     "timestamp": 1583412970748,
     "user": {
      "displayName": "Junichiro Mori",
      "photoUrl": "",
      "userId": "01008898198902510619"
     },
     "user_tz": -540
    },
    "id": "0JWW7D9YwNvW",
    "outputId": "3e054483-ea41-4d31-ab98-d40252d1498f"
   },
   "outputs": [],
   "source": [
    "lns2 = [lns, ['x', 1, [11, 12, 13]], ['y', [100, 120, 140]] ]\n",
    "lns2"
   ]
  },
  {
   "cell_type": "code",
   "execution_count": null,
   "metadata": {
    "colab": {
     "base_uri": "https://localhost:8080/",
     "height": 34
    },
    "colab_type": "code",
    "executionInfo": {
     "elapsed": 632,
     "status": "ok",
     "timestamp": 1583412973999,
     "user": {
      "displayName": "Junichiro Mori",
      "photoUrl": "",
      "userId": "01008898198902510619"
     },
     "user_tz": -540
    },
    "id": "qIT_wuxLwNvZ",
    "outputId": "58588883-4e4b-42b0-f74f-1a9084c22724"
   },
   "outputs": [],
   "source": [
    "lns2[0]"
   ]
  },
  {
   "cell_type": "markdown",
   "metadata": {
    "colab_type": "text",
    "id": "eN0fsVfAwNvd"
   },
   "source": [
    "## リストに対する関数・演算子・メソッド\n",
    "\n",
    "### リストの要素数\n",
    "\n",
    "組み込み関数 **`len`** はリストの長さ、すなわち要素数、を返します。"
   ]
  },
  {
   "cell_type": "code",
   "execution_count": null,
   "metadata": {
    "colab": {
     "base_uri": "https://localhost:8080/",
     "height": 34
    },
    "colab_type": "code",
    "executionInfo": {
     "elapsed": 542,
     "status": "ok",
     "timestamp": 1583413026849,
     "user": {
      "displayName": "Junichiro Mori",
      "photoUrl": "",
      "userId": "01008898198902510619"
     },
     "user_tz": -540
    },
    "id": "Tw2U_6DTwNve",
    "outputId": "abb8fb52-96ef-477e-cb3b-62d3efb91847"
   },
   "outputs": [],
   "source": [
    "numbers = [0, 10, 20, 30, 40, 50]\n",
    "len(numbers)"
   ]
  },
  {
   "cell_type": "markdown",
   "metadata": {
    "colab_type": "text",
    "id": "SBDt-BiDwNvh"
   },
   "source": [
    "### 練習\n",
    "\n",
    "英語の１文からなる文字列 `str_engsentence` が引数として与えられたとき、`str_engsentence` 中に含まれる単語数を返す関数 `count_words` を作成してください。ただし、文はピリオドで終了し単語は空白で区切られるものとします。\n",
    "\n",
    "ヒント：文字列に対する `split` メソッドを使います。\n",
    "\n",
    "以下のセルの `...` のところを書き換えて `count_words(str_engsentence)` を作成してください。"
   ]
  },
  {
   "cell_type": "code",
   "execution_count": null,
   "metadata": {
    "colab": {},
    "colab_type": "code",
    "id": "xCZ4Rb84wNvi"
   },
   "outputs": [],
   "source": [
    "def count_words(str_engsentence):\n",
    "    ..."
   ]
  },
  {
   "cell_type": "markdown",
   "metadata": {
    "colab_type": "text",
    "id": "N5zJtqxJwNvl"
   },
   "source": [
    "上のセルで解答を作成した後、以下のセルを実行し、実行結果が `True` になることを確認してください。"
   ]
  },
  {
   "cell_type": "code",
   "execution_count": null,
   "metadata": {
    "colab": {},
    "colab_type": "code",
    "id": "X-v-QGO1wNvm",
    "tags": [
     "raises-exception"
    ]
   },
   "outputs": [],
   "source": [
    "print(count_words('From Stettin in the Baltic to Trieste in the Adriatic an iron curtain has descended across the Continent.') == 18)"
   ]
  },
  {
   "cell_type": "markdown",
   "metadata": {
    "colab_type": "text",
    "id": "aje8enXOwNvo"
   },
   "source": [
    "### リストと演算子"
   ]
  },
  {
   "cell_type": "markdown",
   "metadata": {
    "colab_type": "text",
    "id": "4ilgnof1wNvp"
   },
   "source": [
    "演算子 **`+`** によってリストの連結、**`*`** によって連結における繰り返し回数を指定することができます。"
   ]
  },
  {
   "cell_type": "code",
   "execution_count": null,
   "metadata": {
    "colab": {
     "base_uri": "https://localhost:8080/",
     "height": 34
    },
    "colab_type": "code",
    "executionInfo": {
     "elapsed": 445,
     "status": "ok",
     "timestamp": 1583413050967,
     "user": {
      "displayName": "Junichiro Mori",
      "photoUrl": "",
      "userId": "01008898198902510619"
     },
     "user_tz": -540
    },
    "id": "7XgCMbMDwNvq",
    "outputId": "e154bceb-83c6-4501-877e-4c4c3f80e6b6"
   },
   "outputs": [],
   "source": [
    "numbers = [0, 10, 20, 30, 40, 50]\n",
    "numbers + ['a', 'b', 'c']"
   ]
  },
  {
   "cell_type": "code",
   "execution_count": null,
   "metadata": {
    "colab": {
     "base_uri": "https://localhost:8080/",
     "height": 34
    },
    "colab_type": "code",
    "executionInfo": {
     "elapsed": 761,
     "status": "ok",
     "timestamp": 1583413054320,
     "user": {
      "displayName": "Junichiro Mori",
      "photoUrl": "",
      "userId": "01008898198902510619"
     },
     "user_tz": -540
    },
    "id": "LxUaYHxkwNvs",
    "outputId": "49e010fb-5787-460b-afa8-61591c883f41"
   },
   "outputs": [],
   "source": [
    "numbers*3"
   ]
  },
  {
   "cell_type": "markdown",
   "metadata": {
    "colab_type": "text",
    "id": "xUeBI37bwNvv"
   },
   "source": [
    "要素がすべて `0` のリストを作る最も簡単な方法は、この `*` 演算子を使う方法です。"
   ]
  },
  {
   "cell_type": "code",
   "execution_count": null,
   "metadata": {
    "colab": {
     "base_uri": "https://localhost:8080/",
     "height": 34
    },
    "colab_type": "code",
    "executionInfo": {
     "elapsed": 660,
     "status": "ok",
     "timestamp": 1583413058221,
     "user": {
      "displayName": "Junichiro Mori",
      "photoUrl": "",
      "userId": "01008898198902510619"
     },
     "user_tz": -540
    },
    "id": "Qw8P0WgFwNvw",
    "outputId": "16d7bb2f-da30-4e4f-e794-f7b1cad8a83f"
   },
   "outputs": [],
   "source": [
    "zero10= [0] * 10\n",
    "zero10"
   ]
  },
  {
   "cell_type": "markdown",
   "metadata": {
    "colab_type": "text",
    "id": "RPRXeclowNvz"
   },
   "source": [
    "演算子 **`in`** は、左辺の要素がリストに含まれれば `True` を、それ以外では `False` を返します。"
   ]
  },
  {
   "cell_type": "code",
   "execution_count": null,
   "metadata": {
    "colab": {
     "base_uri": "https://localhost:8080/",
     "height": 34
    },
    "colab_type": "code",
    "executionInfo": {
     "elapsed": 558,
     "status": "ok",
     "timestamp": 1583413062522,
     "user": {
      "displayName": "Junichiro Mori",
      "photoUrl": "",
      "userId": "01008898198902510619"
     },
     "user_tz": -540
    },
    "id": "8k8oZOnJwNv0",
    "outputId": "0b1b4456-2ee1-421f-ccc3-0eb7e440de58"
   },
   "outputs": [],
   "source": [
    "10 in numbers"
   ]
  },
  {
   "cell_type": "markdown",
   "metadata": {
    "colab_type": "text",
    "id": "EH5m772kwNv3"
   },
   "source": [
    "リストに対する `in`演算子は、論理演算`or` を簡潔に記述するのに用いることもできます。 たとえば、\n",
    "\n",
    "---\n",
    "```Python\n",
    "a1 == 1 or a1 == 3 or a1 == 7:\n",
    "```\n",
    "---\n",
    "\n",
    "は\n",
    "\n",
    "---\n",
    "```Python\n",
    "a1 in [1, 3, 7]:\n",
    "```\n",
    "---\n",
    "\n",
    "と同じ結果を得られます。 `or` の数が多くなる場合は、`in` を用いた方がより読みやすいプログラムを書くことができます。"
   ]
  },
  {
   "cell_type": "code",
   "execution_count": null,
   "metadata": {
    "colab": {
     "base_uri": "https://localhost:8080/",
     "height": 67
    },
    "colab_type": "code",
    "executionInfo": {
     "elapsed": 579,
     "status": "ok",
     "timestamp": 1583413076049,
     "user": {
      "displayName": "Junichiro Mori",
      "photoUrl": "",
      "userId": "01008898198902510619"
     },
     "user_tz": -540
    },
    "id": "5gYVepQVwNv4",
    "outputId": "93d73522-ebae-44be-85d5-a0996bb9c7af"
   },
   "outputs": [],
   "source": [
    "a1 = 1\n",
    "print(a1 == 1 or a1 == 3 or a1 == 7, a1 in [1, 3, 7])\n",
    "a1 = 3\n",
    "print(a1 == 1 or a1 == 3 or a1 == 7, a1 in [1, 3, 7])\n",
    "a1 = 5\n",
    "print(a1 == 1 or a1 == 3 or a1 == 7, a1 in [1, 3, 7])"
   ]
  },
  {
   "cell_type": "markdown",
   "metadata": {
    "colab_type": "text",
    "id": "KPOsCOcxwNv7"
   },
   "source": [
    "**`not in`** 演算子は、`in` 演算子の逆を意味します。"
   ]
  },
  {
   "cell_type": "code",
   "execution_count": null,
   "metadata": {
    "colab": {
     "base_uri": "https://localhost:8080/",
     "height": 34
    },
    "colab_type": "code",
    "executionInfo": {
     "elapsed": 574,
     "status": "ok",
     "timestamp": 1583413084967,
     "user": {
      "displayName": "Junichiro Mori",
      "photoUrl": "",
      "userId": "01008898198902510619"
     },
     "user_tz": -540
    },
    "id": "UyqZ0nENwNv7",
    "outputId": "3729406b-7035-4153-c93b-57e8bac41386"
   },
   "outputs": [],
   "source": [
    "10 not in numbers"
   ]
  },
  {
   "cell_type": "code",
   "execution_count": null,
   "metadata": {
    "colab": {
     "base_uri": "https://localhost:8080/",
     "height": 34
    },
    "colab_type": "code",
    "executionInfo": {
     "elapsed": 416,
     "status": "ok",
     "timestamp": 1583413087307,
     "user": {
      "displayName": "Junichiro Mori",
      "photoUrl": "",
      "userId": "01008898198902510619"
     },
     "user_tz": -540
    },
    "id": "q9UsXE7vwNv_",
    "outputId": "fa0f62a6-81df-482d-833e-49b7101f25e0"
   },
   "outputs": [],
   "source": [
    "11 not in numbers"
   ]
  },
  {
   "cell_type": "markdown",
   "metadata": {
    "colab_type": "text",
    "id": "O8uqtazTwNwC"
   },
   "source": [
    "### 指定した要素のインデックス取得と数えあげ\n",
    "\n",
    "**`index`** メソッドは引数で指定した要素のインデックスの番号を返します。\n",
    "文字列には `index` に加えてこれと似た `find` メソッドもありましたが、リストでは使えません。"
   ]
  },
  {
   "cell_type": "code",
   "execution_count": null,
   "metadata": {
    "colab": {
     "base_uri": "https://localhost:8080/",
     "height": 34
    },
    "colab_type": "code",
    "executionInfo": {
     "elapsed": 424,
     "status": "ok",
     "timestamp": 1583413098384,
     "user": {
      "displayName": "Junichiro Mori",
      "photoUrl": "",
      "userId": "01008898198902510619"
     },
     "user_tz": -540
    },
    "id": "FAX5g3yGwNwD",
    "outputId": "9ba514aa-4da7-4ca0-e38e-a5c2039ca190"
   },
   "outputs": [],
   "source": [
    "numbers = [0, 10, 20, 30, 40, 50]\n",
    "numbers.index(20) "
   ]
  },
  {
   "cell_type": "markdown",
   "metadata": {
    "colab_type": "text",
    "id": "T6yi2tmXwNwG"
   },
   "source": [
    "**`count`** メソッドは指定した要素の数を返します。"
   ]
  },
  {
   "cell_type": "code",
   "execution_count": null,
   "metadata": {
    "colab": {
     "base_uri": "https://localhost:8080/",
     "height": 34
    },
    "colab_type": "code",
    "executionInfo": {
     "elapsed": 430,
     "status": "ok",
     "timestamp": 1583413106726,
     "user": {
      "displayName": "Junichiro Mori",
      "photoUrl": "",
      "userId": "01008898198902510619"
     },
     "user_tz": -540
    },
    "id": "k940wMeywNwH",
    "outputId": "0d31cd4a-a072-4213-9897-f702f8c2f5fa"
   },
   "outputs": [],
   "source": [
    "all20 = [20]*3\n",
    "all20.count(20) # 指定した要素のリスト内の数"
   ]
  },
  {
   "cell_type": "markdown",
   "metadata": {
    "colab_type": "text",
    "id": "kctsQFk2wNwK"
   },
   "source": [
    "### 並べ替え（**`sort`** メソッド）\n",
    "\n",
    "`sort` メソッドはリスト内の要素を並べ替えます。\n",
    "引数に何も指定しなければ昇順でとなります。"
   ]
  },
  {
   "cell_type": "code",
   "execution_count": null,
   "metadata": {
    "colab": {},
    "colab_type": "code",
    "id": "4iUyl3tbwNwL"
   },
   "outputs": [],
   "source": [
    "numbers = [30, 50, 10, 20, 40, 60]\n",
    "numbers.sort()"
   ]
  },
  {
   "cell_type": "code",
   "execution_count": null,
   "metadata": {
    "colab": {
     "base_uri": "https://localhost:8080/",
     "height": 34
    },
    "colab_type": "code",
    "executionInfo": {
     "elapsed": 609,
     "status": "ok",
     "timestamp": 1583413117030,
     "user": {
      "displayName": "Junichiro Mori",
      "photoUrl": "",
      "userId": "01008898198902510619"
     },
     "user_tz": -540
    },
    "id": "T6iZGiyywNwO",
    "outputId": "0454f99f-674d-4227-c1bc-0cfdccb568d0"
   },
   "outputs": [],
   "source": [
    "numbers"
   ]
  },
  {
   "cell_type": "code",
   "execution_count": null,
   "metadata": {
    "colab": {
     "base_uri": "https://localhost:8080/",
     "height": 34
    },
    "colab_type": "code",
    "executionInfo": {
     "elapsed": 469,
     "status": "ok",
     "timestamp": 1583413122077,
     "user": {
      "displayName": "Junichiro Mori",
      "photoUrl": "",
      "userId": "01008898198902510619"
     },
     "user_tz": -540
    },
    "id": "QTdKV9jBwNwR",
    "outputId": "cd1d9080-582d-41ca-fada-eae46bec56ea"
   },
   "outputs": [],
   "source": [
    "chracters = ['e', 'd', 'a', 'c', 'f', 'b']\n",
    "chracters .sort()\n",
    "chracters"
   ]
  },
  {
   "cell_type": "markdown",
   "metadata": {
    "colab_type": "text",
    "id": "Lq67HaoMwNwT"
   },
   "source": [
    "`reverse = True` オプションを指定すれば、要素を降順に並べ替えることもできます。\n",
    "（これは 3.3 のキーワード引数と呼ばれるものですが、ここでは天下り的に、\n",
    "並べ替えの方法を指定する情報と理解しておいてください。）"
   ]
  },
  {
   "cell_type": "code",
   "execution_count": null,
   "metadata": {
    "colab": {
     "base_uri": "https://localhost:8080/",
     "height": 34
    },
    "colab_type": "code",
    "executionInfo": {
     "elapsed": 464,
     "status": "ok",
     "timestamp": 1583413128832,
     "user": {
      "displayName": "Junichiro Mori",
      "photoUrl": "",
      "userId": "01008898198902510619"
     },
     "user_tz": -540
    },
    "id": "QNcime9VwNwU",
    "outputId": "148bbc9e-b99c-434d-d8c5-3958135c2bf3"
   },
   "outputs": [],
   "source": [
    "numbers = [30, 50, 10, 20, 40, 60]\n",
    "numbers.sort(reverse = True)\n",
    "numbers"
   ]
  },
  {
   "cell_type": "markdown",
   "metadata": {
    "colab_type": "text",
    "id": "j5Ph1RsbwNwW"
   },
   "source": [
    "### 並べ替え（**`sorted`** 組み込み関数）\n",
    "\n",
    "関数 `soted` ではリストを引数に取って、そのリスト内の要素を昇順に並べ替えた結果をリストとして返します。\n",
    "\n",
    "---\n",
    "```Python\n",
    "sorted(リスト)\n",
    "```\n",
    "---"
   ]
  },
  {
   "cell_type": "code",
   "execution_count": null,
   "metadata": {
    "colab": {
     "base_uri": "https://localhost:8080/",
     "height": 34
    },
    "colab_type": "code",
    "executionInfo": {
     "elapsed": 483,
     "status": "ok",
     "timestamp": 1583413140282,
     "user": {
      "displayName": "Junichiro Mori",
      "photoUrl": "",
      "userId": "01008898198902510619"
     },
     "user_tz": -540
    },
    "id": "JF7e_BKtwNwW",
    "outputId": "67ee6528-9bea-428a-bd41-01baebf27a83"
   },
   "outputs": [],
   "source": [
    "numbers = [30, 50, 10, 20, 40, 60]\n",
    "sorted(numbers)"
   ]
  },
  {
   "cell_type": "markdown",
   "metadata": {
    "colab_type": "text",
    "id": "54jWcwIIwNwg"
   },
   "source": [
    "文字列の比較は、いわゆる辞書順で行われます。"
   ]
  },
  {
   "cell_type": "code",
   "execution_count": null,
   "metadata": {
    "colab": {
     "base_uri": "https://localhost:8080/",
     "height": 34
    },
    "colab_type": "code",
    "executionInfo": {
     "elapsed": 696,
     "status": "ok",
     "timestamp": 1583413143355,
     "user": {
      "displayName": "Junichiro Mori",
      "photoUrl": "",
      "userId": "01008898198902510619"
     },
     "user_tz": -540
    },
    "id": "HuMZZieuwNwh",
    "outputId": "83a5dab7-8a60-4964-8158-3c1574019201"
   },
   "outputs": [],
   "source": [
    "characters = ['e', 'd', 'a', 'c', 'f', 'b']\n",
    "sorted(characters )"
   ]
  },
  {
   "cell_type": "markdown",
   "metadata": {
    "colab_type": "text",
    "id": "6kFIQ2mAwNwk"
   },
   "source": [
    "`sorted` においても、 `reverse = True` と記述することで要素を降順に並べ替えることができます。"
   ]
  },
  {
   "cell_type": "code",
   "execution_count": null,
   "metadata": {
    "colab": {
     "base_uri": "https://localhost:8080/",
     "height": 34
    },
    "colab_type": "code",
    "executionInfo": {
     "elapsed": 581,
     "status": "ok",
     "timestamp": 1583413146795,
     "user": {
      "displayName": "Junichiro Mori",
      "photoUrl": "",
      "userId": "01008898198902510619"
     },
     "user_tz": -540
    },
    "id": "B6J7M0pYwNwl",
    "outputId": "497a69c0-f776-4bd6-a77c-499f87f2f748"
   },
   "outputs": [],
   "source": [
    "numbers = [30, 50, 10, 20, 40, 60]\n",
    "sorted(numbers, reverse=True)"
   ]
  },
  {
   "cell_type": "markdown",
   "metadata": {
    "colab_type": "text",
    "id": "SGCgjxDEwNwo"
   },
   "source": [
    "ついでですが、多重リストをソートするとどのような結果が得られるか確かめてみてください。"
   ]
  },
  {
   "cell_type": "code",
   "execution_count": null,
   "metadata": {
    "colab": {
     "base_uri": "https://localhost:8080/",
     "height": 34
    },
    "colab_type": "code",
    "executionInfo": {
     "elapsed": 563,
     "status": "ok",
     "timestamp": 1583413149952,
     "user": {
      "displayName": "Junichiro Mori",
      "photoUrl": "",
      "userId": "01008898198902510619"
     },
     "user_tz": -540
    },
    "id": "3DWUKtC3wNwq",
    "outputId": "04a95027-7712-4409-a51f-c7e7a8b7a9d8"
   },
   "outputs": [],
   "source": [
    "lns = [[20, 5], [10, 30], [40, 20], [30, 10]]\n",
    "lns.sort()\n",
    "lns"
   ]
  },
  {
   "cell_type": "markdown",
   "metadata": {
    "colab_type": "text",
    "id": "DDH1CLHWwNwt"
   },
   "source": [
    "## 破壊的（インプレース）な操作と非破壊的な生成"
   ]
  },
  {
   "cell_type": "markdown",
   "metadata": {
    "colab_type": "text",
    "id": "MuwkOu4RwNwu"
   },
   "source": [
    "上記では、`sort` メソッドと `sorted` 関数を紹介しましたが、両者の使い方が異なることに気が付きましたか？\n",
    "\n",
    "具体的には、` sort` メソッドでは元のリストが変更されています。\n",
    "一方、`sorted` 関数では元のリストはそのままになっています。もう一度確認してみましょう。"
   ]
  },
  {
   "cell_type": "code",
   "execution_count": null,
   "metadata": {
    "colab": {
     "base_uri": "https://localhost:8080/",
     "height": 50
    },
    "colab_type": "code",
    "executionInfo": {
     "elapsed": 536,
     "status": "ok",
     "timestamp": 1583413296800,
     "user": {
      "displayName": "Junichiro Mori",
      "photoUrl": "",
      "userId": "01008898198902510619"
     },
     "user_tz": -540
    },
    "id": "_wdxiDD_wNwu",
    "outputId": "2d3222f5-9bfe-4682-9511-3b580dab54e2"
   },
   "outputs": [],
   "source": [
    "numbers = [30, 50, 10, 20, 40, 60]\n",
    "numbers.sort()\n",
    "print('sortメソッドの実行後の元のリスト:', numbers)\n",
    "numbers = [30, 50, 10, 20, 40, 60]\n",
    "sorted(numbers)\n",
    "print('sorted関数の実行後の元のリスト:', numbers)"
   ]
  },
  {
   "cell_type": "markdown",
   "metadata": {
    "colab_type": "text",
    "id": "g4y9AbdYwNwx"
   },
   "source": [
    "このように、`sort` メソッドは元のリストを変更してしまいます。\n",
    "このような操作を**破壊的**あるいは**インプレース** (**in-place**) であるといいます。\n",
    "\n",
    "一方、`sorted` 関数は新しいリストを生成し元のリストを破壊しません、このような操作は**非破壊的**であるといいます。"
   ]
  },
  {
   "cell_type": "markdown",
   "metadata": {
    "colab_type": "text",
    "id": "4RRdPiGnwNwx"
   },
   "source": [
    "`sorted` 関数を用いた場合、その返り値（並べ替えの結果）は新しい変数に代入して使うことができます。  \n",
    "\n",
    "一方、`sort`メソッドはリストを返さないためそのような使い方はできません。"
   ]
  },
  {
   "cell_type": "code",
   "execution_count": null,
   "metadata": {
    "colab": {
     "base_uri": "https://localhost:8080/",
     "height": 50
    },
    "colab_type": "code",
    "executionInfo": {
     "elapsed": 506,
     "status": "ok",
     "timestamp": 1583413309456,
     "user": {
      "displayName": "Junichiro Mori",
      "photoUrl": "",
      "userId": "01008898198902510619"
     },
     "user_tz": -540
    },
    "id": "FYT1oAdcwNwz",
    "outputId": "c8103774-12ea-41a3-bb66-3ae0b44ac855"
   },
   "outputs": [],
   "source": [
    "numbers = [30, 50, 10, 20, 40, 60]\n",
    "numbers1 = sorted(numbers)\n",
    "print('sorted関数の返り値:', numbers1)\n",
    "\n",
    "numbers = [30, 50, 10, 20, 40, 60]\n",
    "numbers2 = numbers.sort()\n",
    "print('sortメソッドの返り値:', numbers2)"
   ]
  },
  {
   "cell_type": "markdown",
   "metadata": {
    "colab_type": "text",
    "id": "FftWigvNwNw2"
   },
   "source": [
    "## リストを操作するメソッドなど\n",
    "\n",
    "ここからはリストを操作するためのメソッドなどを紹介していきます。\n",
    "\n",
    "メソッドや組み込み関数が破壊的であるかどうかは、一般にその名称などからは判断できません。\n",
    "それぞれ破壊的かどうか理解してから利用しなければなりません。\n",
    "\n",
    "なお、次の `append` メソッド以外は、必要に応じて参照すればよく、\n",
    "それ以降タプルの項まで飛ばして構いません。\n",
    "\n",
    "### リストに要素を追加する\n",
    "\n",
    "**`append`** メソッドはリストの最後尾に指定した要素を付け加えます。\n",
    "\n",
    "---\n",
    "```Python\n",
    "リスト.append(追加する要素) \n",
    "```\n",
    "---"
   ]
  },
  {
   "cell_type": "code",
   "execution_count": null,
   "metadata": {
    "colab": {
     "base_uri": "https://localhost:8080/",
     "height": 34
    },
    "colab_type": "code",
    "executionInfo": {
     "elapsed": 481,
     "status": "ok",
     "timestamp": 1583413329057,
     "user": {
      "displayName": "Junichiro Mori",
      "photoUrl": "",
      "userId": "01008898198902510619"
     },
     "user_tz": -540
    },
    "id": "EIXw6kpcwNw2",
    "outputId": "2eaf4fd6-5977-47a9-cfd8-5d8212fcd492"
   },
   "outputs": [],
   "source": [
    "numbers = [10, 20, 30, 40, 50]\n",
    "numbers.append(100)\n",
    "numbers"
   ]
  },
  {
   "cell_type": "markdown",
   "metadata": {
    "colab_type": "text",
    "id": "XIOJo2sXwNw5"
   },
   "source": [
    "`append` は、上述した空のリストと組み合わせて、あるリストから特定の条件を満たす要素のみからなる新たなリストを構成する、というような状況でしばしば用いられます。たとえば、リスト `ln1 = [10, -10, 20, 30, -20, 40, -30]` から 0 より大きい要素のみを抜き出したリスト `ln2` は次のように構成することができます。"
   ]
  },
  {
   "cell_type": "code",
   "execution_count": null,
   "metadata": {
    "colab": {
     "base_uri": "https://localhost:8080/",
     "height": 34
    },
    "colab_type": "code",
    "executionInfo": {
     "elapsed": 461,
     "status": "ok",
     "timestamp": 1583413340614,
     "user": {
      "displayName": "Junichiro Mori",
      "photoUrl": "",
      "userId": "01008898198902510619"
     },
     "user_tz": -540
    },
    "id": "8rnp8b8GwNw6",
    "outputId": "400ec780-29d8-47ff-a5ef-947367d29489"
   },
   "outputs": [],
   "source": [
    "numbers1 = [10, -10, 20, 30, -20, 40, -30] \n",
    "positives = [] # 空のリストを作成する\n",
    "positives.append(numbers1[0])\n",
    "positives.append(numbers1[2])\n",
    "positives.append(numbers1[3])\n",
    "positives.append(numbers1[5])\n",
    "positives"
   ]
  },
  {
   "cell_type": "markdown",
   "metadata": {
    "colab_type": "text",
    "id": "6R14jS4bwNw-"
   },
   "source": [
    "### ▲リストにリストを追加する\n",
    "\n",
    " **`extend`** メソッドはリストの最後尾に指定したリストを付け加えます。\n",
    "\n",
    "---\n",
    "```Python\n",
    "リスト.extend(追加するリスト) \n",
    "```\n",
    "---"
   ]
  },
  {
   "cell_type": "code",
   "execution_count": null,
   "metadata": {
    "colab": {
     "base_uri": "https://localhost:8080/",
     "height": 34
    },
    "colab_type": "code",
    "executionInfo": {
     "elapsed": 491,
     "status": "ok",
     "timestamp": 1583413371189,
     "user": {
      "displayName": "Junichiro Mori",
      "photoUrl": "",
      "userId": "01008898198902510619"
     },
     "user_tz": -540
    },
    "id": "XHm5jShowNw_",
    "outputId": "a33b2c3a-92a2-4578-b4f4-d3f341df8829"
   },
   "outputs": [],
   "source": [
    "numbers = [10, 20, 30, 40, 50]\n",
    "numbers.extend([200, 300, 400, 200]) # ln + [200, 300, 400, 200]と同じ\n",
    "numbers"
   ]
  },
  {
   "cell_type": "markdown",
   "metadata": {
    "colab_type": "text",
    "id": "0-UDOQXEwNxC"
   },
   "source": [
    "### ▲リストに要素を挿入する\n",
    "\n",
    "**insert** メソッドはリストのインデックスを指定した位置に新しい要素を挿入します。  \n",
    "\n",
    "---\n",
    "```Python\n",
    "リスト.insert(インデックス, 新しい要素)\n",
    "```\n",
    "---"
   ]
  },
  {
   "cell_type": "code",
   "execution_count": null,
   "metadata": {
    "colab": {
     "base_uri": "https://localhost:8080/",
     "height": 34
    },
    "colab_type": "code",
    "executionInfo": {
     "elapsed": 462,
     "status": "ok",
     "timestamp": 1583413382038,
     "user": {
      "displayName": "Junichiro Mori",
      "photoUrl": "",
      "userId": "01008898198902510619"
     },
     "user_tz": -540
    },
    "id": "DvHSzqflwNxD",
    "outputId": "f79ca158-fe3f-4548-8e58-4d9b1f3b3f91"
   },
   "outputs": [],
   "source": [
    "numbers = [10, 20, 30, 40, 50]\n",
    "numbers.insert(1, 1000)\n",
    "numbers"
   ]
  },
  {
   "cell_type": "markdown",
   "metadata": {
    "colab_type": "text",
    "id": "i2a5CUtwwNxG"
   },
   "source": [
    "### ▲リストから要素を削除する\n",
    "\n",
    "**`remove`** メソッドは指定した要素をリストから削除します。  \n",
    "\n",
    "---\n",
    "```Python\n",
    "リスト.remove(削除したい要素)\n",
    "```\n",
    "---\n",
    "\n",
    "ただし、指定した要素が複数個リストに含まれる場合、一番最初の要素が削除されます。また、指定した値がリストに含まれない場合はエラーとなります。"
   ]
  },
  {
   "cell_type": "code",
   "execution_count": null,
   "metadata": {
    "colab": {
     "base_uri": "https://localhost:8080/",
     "height": 34
    },
    "colab_type": "code",
    "executionInfo": {
     "elapsed": 452,
     "status": "ok",
     "timestamp": 1583413390246,
     "user": {
      "displayName": "Junichiro Mori",
      "photoUrl": "",
      "userId": "01008898198902510619"
     },
     "user_tz": -540
    },
    "id": "DT3Oy-rUwNxG",
    "outputId": "89df7b72-1e01-48d9-dc36-d08a3b22e3d2"
   },
   "outputs": [],
   "source": [
    "numbers = [10, 20, 30, 40, 20] \n",
    "numbers.remove(30) # 指定した要素を削除\n",
    "numbers"
   ]
  },
  {
   "cell_type": "code",
   "execution_count": null,
   "metadata": {
    "colab": {
     "base_uri": "https://localhost:8080/",
     "height": 34
    },
    "colab_type": "code",
    "executionInfo": {
     "elapsed": 484,
     "status": "ok",
     "timestamp": 1583413393246,
     "user": {
      "displayName": "Junichiro Mori",
      "photoUrl": "",
      "userId": "01008898198902510619"
     },
     "user_tz": -540
    },
    "id": "aRoKIzdnwNxI",
    "outputId": "d76d9682-081e-4b50-dfb7-dadfe799d221"
   },
   "outputs": [],
   "source": [
    "numbers.remove(20) # 指定した要素が複数個リストに含まれる場合、一番最初の要素を削除\n",
    "numbers"
   ]
  },
  {
   "cell_type": "code",
   "execution_count": null,
   "metadata": {
    "colab": {
     "base_uri": "https://localhost:8080/",
     "height": 166
    },
    "colab_type": "code",
    "executionInfo": {
     "elapsed": 673,
     "status": "error",
     "timestamp": 1583413396322,
     "user": {
      "displayName": "Junichiro Mori",
      "photoUrl": "",
      "userId": "01008898198902510619"
     },
     "user_tz": -540
    },
    "id": "alEdCwX4wNxK",
    "outputId": "d23ee7fb-c56c-454c-8bfd-d03ddfbf65e2",
    "tags": [
     "raises-exception"
    ]
   },
   "outputs": [],
   "source": [
    "numbers.remove(100) # リストに含まれない値を指定するとエラー"
   ]
  },
  {
   "cell_type": "markdown",
   "metadata": {
    "colab_type": "text",
    "id": "lWSpoKZAwNxM"
   },
   "source": [
    "### ▲リストからインデックスで指定した要素を削除する\n",
    "\n",
    "**`pop`** メソッドはリストから指定したインデックスを削除し、その要素を返します。\n",
    "\n",
    "---\n",
    "```Python\n",
    "リスト.pop(削除したい要素のインデックス)\n",
    "```\n",
    "---"
   ]
  },
  {
   "cell_type": "code",
   "execution_count": null,
   "metadata": {
    "colab": {
     "base_uri": "https://localhost:8080/",
     "height": 50
    },
    "colab_type": "code",
    "executionInfo": {
     "elapsed": 604,
     "status": "ok",
     "timestamp": 1583413413866,
     "user": {
      "displayName": "Junichiro Mori",
      "photoUrl": "",
      "userId": "01008898198902510619"
     },
     "user_tz": -540
    },
    "id": "Q9XKb5pfwNxN",
    "outputId": "c80a88eb-2b68-4a4e-cc6a-9e4387bddf92"
   },
   "outputs": [],
   "source": [
    "numbers = [10, 20, 20, 30, 20, 40]\n",
    "print(numbers.pop(3))\n",
    "print(numbers)"
   ]
  },
  {
   "cell_type": "markdown",
   "metadata": {
    "colab_type": "text",
    "id": "03_hbs7HwNxO"
   },
   "source": [
    "インデックスを指定しない場合、最後尾の要素を削除して返します。\n",
    "\n",
    "---\n",
    "```Python\n",
    "リスト.pop()\n",
    "```\n",
    "---"
   ]
  },
  {
   "cell_type": "code",
   "execution_count": null,
   "metadata": {
    "colab": {
     "base_uri": "https://localhost:8080/",
     "height": 50
    },
    "colab_type": "code",
    "executionInfo": {
     "elapsed": 842,
     "status": "ok",
     "timestamp": 1583413425803,
     "user": {
      "displayName": "Junichiro Mori",
      "photoUrl": "",
      "userId": "01008898198902510619"
     },
     "user_tz": -540
    },
    "id": "7WR_xYxpwNxP",
    "outputId": "685eefa0-9aaf-4d7a-f23d-2601ef3abb36"
   },
   "outputs": [],
   "source": [
    "ln = [10, 20, 30, 20, 40]\n",
    "print(ln.pop())\n",
    "print(ln)"
   ]
  },
  {
   "cell_type": "markdown",
   "metadata": {
    "colab_type": "text",
    "id": "Pm2K8q-SwNxR"
   },
   "source": [
    "### ▲リスト要素を削除する\n",
    "\n",
    "**`del`** 文は指定するリストの要素を削除します。具体的には以下のように削除したい要素をインデックスで指定します。  \n",
    "`del` も破壊的であることに注意してください。\n",
    "\n",
    "---\n",
    "```Python\n",
    "del リスト[x]\n",
    "```\n",
    "---"
   ]
  },
  {
   "cell_type": "code",
   "execution_count": null,
   "metadata": {
    "colab": {
     "base_uri": "https://localhost:8080/",
     "height": 34
    },
    "colab_type": "code",
    "executionInfo": {
     "elapsed": 445,
     "status": "ok",
     "timestamp": 1583413446473,
     "user": {
      "displayName": "Junichiro Mori",
      "photoUrl": "",
      "userId": "01008898198902510619"
     },
     "user_tz": -540
    },
    "id": "VXrS6JXOwNxT",
    "outputId": "6509a32d-f226-41ad-9434-679fab6b9c44"
   },
   "outputs": [],
   "source": [
    "numbers = [10, 20, 30, 40, 50]\n",
    "del numbers[2]\n",
    "numbers"
   ]
  },
  {
   "cell_type": "markdown",
   "metadata": {
    "colab_type": "text",
    "id": "44MlJpGPwNxX"
   },
   "source": [
    "スライスを使うことも可能です。\n",
    "\n",
    "---\n",
    "```Python\n",
    "del リスト[x:y]\n",
    "```\n",
    "---\n"
   ]
  },
  {
   "cell_type": "code",
   "execution_count": null,
   "metadata": {
    "colab": {
     "base_uri": "https://localhost:8080/",
     "height": 34
    },
    "colab_type": "code",
    "executionInfo": {
     "elapsed": 502,
     "status": "ok",
     "timestamp": 1583413453835,
     "user": {
      "displayName": "Junichiro Mori",
      "photoUrl": "",
      "userId": "01008898198902510619"
     },
     "user_tz": -540
    },
    "id": "FVFyAjg4wNxX",
    "outputId": "b17508f9-cea0-4126-8d4c-d721f5fbfbee"
   },
   "outputs": [],
   "source": [
    "numbers = [10, 20, 30, 40, 50]\n",
    "del numbers[2:4]\n",
    "numbers"
   ]
  },
  {
   "cell_type": "markdown",
   "metadata": {
    "colab_type": "text",
    "id": "iBY-J7lgwNxZ"
   },
   "source": [
    "### ▲リストの要素を逆順にする\n",
    "\n",
    "**`reverse`** メソッドはリスト内の要素の順序を逆順にします。"
   ]
  },
  {
   "cell_type": "code",
   "execution_count": null,
   "metadata": {
    "colab": {
     "base_uri": "https://localhost:8080/",
     "height": 34
    },
    "colab_type": "code",
    "executionInfo": {
     "elapsed": 455,
     "status": "ok",
     "timestamp": 1583413458684,
     "user": {
      "displayName": "Junichiro Mori",
      "photoUrl": "",
      "userId": "01008898198902510619"
     },
     "user_tz": -540
    },
    "id": "vsBVcGiCwNxZ",
    "outputId": "3c8baf5f-8fdb-418a-ed28-451adba56950"
   },
   "outputs": [],
   "source": [
    "characters = ['e', 'd', 'a', 'c', 'f', 'b']\n",
    "characters.reverse()\n",
    "characters"
   ]
  },
  {
   "cell_type": "markdown",
   "metadata": {
    "colab_type": "text",
    "id": "yBE5oxJRwNxb"
   },
   "source": [
    "### ▲**`copy`**\n",
    "リストを複製します。\n",
    "すなわち、`ln` の値がリストであるとき、`ln.copy()` は `ln` と同じ長さのリストを新たに作って、\n",
    "`ln` の要素を新しいリストに同じ順番で格納して、その新しいリストを返します。\n",
    "\n",
    "複製されたリストに変更を加えたとしても、もとのリストは影響を受けません。"
   ]
  },
  {
   "cell_type": "code",
   "execution_count": null,
   "metadata": {
    "colab": {
     "base_uri": "https://localhost:8080/",
     "height": 50
    },
    "colab_type": "code",
    "executionInfo": {
     "elapsed": 488,
     "status": "ok",
     "timestamp": 1583413487039,
     "user": {
      "displayName": "Junichiro Mori",
      "photoUrl": "",
      "userId": "01008898198902510619"
     },
     "user_tz": -540
    },
    "id": "AccrQYO8wNxc",
    "outputId": "6bedd5dd-7e9d-4edf-de37-83bfb647c4cf"
   },
   "outputs": [],
   "source": [
    "numbers = [10, 20, 30, 40, 50]\n",
    "numbers2 = numbers.copy()\n",
    "del numbers[1:3]\n",
    "numbers.reverse()\n",
    "print(numbers)\n",
    "print(numbers2)"
   ]
  },
  {
   "cell_type": "markdown",
   "metadata": {
    "colab_type": "text",
    "id": "d24mMAvpwNxf"
   },
   "source": [
    "一方、代入を用いた場合には影響を受けることに注意してください。"
   ]
  },
  {
   "cell_type": "code",
   "execution_count": null,
   "metadata": {
    "colab": {
     "base_uri": "https://localhost:8080/",
     "height": 50
    },
    "colab_type": "code",
    "executionInfo": {
     "elapsed": 459,
     "status": "ok",
     "timestamp": 1583413494772,
     "user": {
      "displayName": "Junichiro Mori",
      "photoUrl": "",
      "userId": "01008898198902510619"
     },
     "user_tz": -540
    },
    "id": "XLU44bRIwNxf",
    "outputId": "aefbd739-842a-4260-846e-bf6b0e5c74e7"
   },
   "outputs": [],
   "source": [
    "numbers = [10, 20, 30, 40, 50]\n",
    "numbers2 = numbers\n",
    "del numbers[1:3]\n",
    "numbers.reverse()\n",
    "print(numbers)\n",
    "print(numbers2)"
   ]
  },
  {
   "cell_type": "markdown",
   "metadata": {
    "colab_type": "text",
    "id": "oYpsHme7wNxk"
   },
   "source": [
    "## タプル (tuple)\n",
    "\n",
    "**タプル**は、リストと同じようにデータの並びであり、あらゆる種類のデータを要素にできます。\n",
    "ただし、リストと違ってタプルは一度設定した要素を変更できません（文字列も同様でした）。\n",
    "すなわち、タプルは変更不可能なデータです。\n",
    "したがって、リストの項で説明したメソッドの多く、要素を操作するもの、は適用できないのですが、\n",
    "逆にいうと、作成した後で要素を変更する必要がない場合は、\n",
    "タプルの方が実装の効率がよいので、リストよりもタプルを使うべきです。\n",
    "たとえば、関数が複数の値をリストにして返し、呼び出し側がすぐにリストをばらばらにして値を取り出すような場合は、\n",
    "リストよりもタプルを使うべきです。\n",
    "\n",
    "たとえば、平面上の点を表そうとするとき、x座標とy座標を別々に変化させる必要がなければ、\n",
    "`(3, 5)` のようなタプルを使うのが自然です。\n",
    "このように、タプルを作成するには数学におけるのと同様に要素を丸括弧 `(...)` で囲みます。\n",
    "\n",
    "例を見ましょう。"
   ]
  },
  {
   "cell_type": "code",
   "execution_count": null,
   "metadata": {
    "colab": {},
    "colab_type": "code",
    "id": "Ha9vsGoewNxl"
   },
   "outputs": [],
   "source": [
    "x = 3\n",
    "y = 5\n",
    "point = (x, y)"
   ]
  },
  {
   "cell_type": "code",
   "execution_count": null,
   "metadata": {
    "colab": {},
    "colab_type": "code",
    "id": "1uZLQLmPwNxn"
   },
   "outputs": [],
   "source": [
    "point"
   ]
  },
  {
   "cell_type": "code",
   "execution_count": null,
   "metadata": {
    "colab": {
     "base_uri": "https://localhost:8080/",
     "height": 34
    },
    "colab_type": "code",
    "executionInfo": {
     "elapsed": 510,
     "status": "ok",
     "timestamp": 1583413567714,
     "user": {
      "displayName": "Junichiro Mori",
      "photoUrl": "",
      "userId": "01008898198902510619"
     },
     "user_tz": -540
    },
    "id": "79TX-p1EwNxp",
    "outputId": "5bf840cf-9c69-4734-f80d-f5f243fd0355"
   },
   "outputs": [],
   "source": [
    "type(point)"
   ]
  },
  {
   "cell_type": "code",
   "execution_count": null,
   "metadata": {
    "colab": {
     "base_uri": "https://localhost:8080/",
     "height": 34
    },
    "colab_type": "code",
    "executionInfo": {
     "elapsed": 478,
     "status": "ok",
     "timestamp": 1583413569924,
     "user": {
      "displayName": "Junichiro Mori",
      "photoUrl": "",
      "userId": "01008898198902510619"
     },
     "user_tz": -540
    },
    "id": "lYLScZW1wNxr",
    "outputId": "9a2774fb-717e-4d9a-f637-11408be2c6c3"
   },
   "outputs": [],
   "source": [
    "numbers3 = (1, 2, 3)\n",
    "numbers3"
   ]
  },
  {
   "cell_type": "markdown",
   "metadata": {
    "colab_type": "text",
    "id": "lQU9YCmSwNxt"
   },
   "source": [
    "実は、丸括弧なしでもタプルを作成できます。"
   ]
  },
  {
   "cell_type": "code",
   "execution_count": null,
   "metadata": {
    "colab": {
     "base_uri": "https://localhost:8080/",
     "height": 34
    },
    "colab_type": "code",
    "executionInfo": {
     "elapsed": 481,
     "status": "ok",
     "timestamp": 1583413572231,
     "user": {
      "displayName": "Junichiro Mori",
      "photoUrl": "",
      "userId": "01008898198902510619"
     },
     "user_tz": -540
    },
    "id": "frja8kI8wNxu",
    "outputId": "fa877023-e9b1-42a5-e6a0-f52be5ce81b2"
   },
   "outputs": [],
   "source": [
    "numbers3 = 1,2,3\n",
    "numbers3"
   ]
  },
  {
   "cell_type": "markdown",
   "metadata": {
    "colab_type": "text",
    "id": "wBAxWdmqwNxw"
   },
   "source": [
    "要素が1つだけの場合は、 `t = (1)` ではなく、次のようにします。"
   ]
  },
  {
   "cell_type": "code",
   "execution_count": null,
   "metadata": {
    "colab": {
     "base_uri": "https://localhost:8080/",
     "height": 34
    },
    "colab_type": "code",
    "executionInfo": {
     "elapsed": 669,
     "status": "ok",
     "timestamp": 1583413575050,
     "user": {
      "displayName": "Junichiro Mori",
      "photoUrl": "",
      "userId": "01008898198902510619"
     },
     "user_tz": -540
    },
    "id": "_kRYjzpRwNxw",
    "outputId": "93484f99-1952-48d0-eb09-e4a5f16b50b2"
   },
   "outputs": [],
   "source": [
    "onlyone = (1,)\n",
    "onlyone"
   ]
  },
  {
   "cell_type": "markdown",
   "metadata": {
    "colab_type": "text",
    "id": "U25TV8o6wNxy"
   },
   "source": [
    "`t = (1)` だと、`t = 1` と同じになってしまいます。"
   ]
  },
  {
   "cell_type": "code",
   "execution_count": null,
   "metadata": {
    "colab": {
     "base_uri": "https://localhost:8080/",
     "height": 34
    },
    "colab_type": "code",
    "executionInfo": {
     "elapsed": 556,
     "status": "ok",
     "timestamp": 1583413579721,
     "user": {
      "displayName": "Junichiro Mori",
      "photoUrl": "",
      "userId": "01008898198902510619"
     },
     "user_tz": -540
    },
    "id": "lDdVm3BfwNxz",
    "outputId": "73b8ef85-8861-42e6-c298-686d6965bd1f"
   },
   "outputs": [],
   "source": [
    "onlyone = (1)\n",
    "onlyone"
   ]
  },
  {
   "cell_type": "markdown",
   "metadata": {
    "colab_type": "text",
    "id": "KhNsmtPjwNx0"
   },
   "source": [
    "何も要素を格納していないタプル（**空タプル**）は `()` で作成できます。"
   ]
  },
  {
   "cell_type": "code",
   "execution_count": null,
   "metadata": {
    "colab": {
     "base_uri": "https://localhost:8080/",
     "height": 34
    },
    "colab_type": "code",
    "executionInfo": {
     "elapsed": 499,
     "status": "ok",
     "timestamp": 1583413582530,
     "user": {
      "displayName": "Junichiro Mori",
      "photoUrl": "",
      "userId": "01008898198902510619"
     },
     "user_tz": -540
    },
    "id": "FyyUAcWZwNx1",
    "outputId": "1b46688d-922b-4add-ee1f-9eabf5c41cfc"
   },
   "outputs": [],
   "source": [
    "empty = ()\n",
    "empty"
   ]
  },
  {
   "cell_type": "markdown",
   "metadata": {
    "colab_type": "text",
    "id": "0rGVMX4BwNx4"
   },
   "source": [
    "リストや文字列と同様に、インデックスや組み込み関数を使った操作が可能です。"
   ]
  },
  {
   "cell_type": "code",
   "execution_count": null,
   "metadata": {
    "colab": {
     "base_uri": "https://localhost:8080/",
     "height": 34
    },
    "colab_type": "code",
    "executionInfo": {
     "elapsed": 580,
     "status": "ok",
     "timestamp": 1583413588711,
     "user": {
      "displayName": "Junichiro Mori",
      "photoUrl": "",
      "userId": "01008898198902510619"
     },
     "user_tz": -540
    },
    "id": "JGNr7BX6wNx4",
    "outputId": "f49285e1-1d07-463f-bb88-d707460b1f3e"
   },
   "outputs": [],
   "source": [
    "numbers3 = (1, 2, 3)\n",
    "numbers3[1] # インデックスの指定による値の取得"
   ]
  },
  {
   "cell_type": "code",
   "execution_count": null,
   "metadata": {
    "colab": {
     "base_uri": "https://localhost:8080/",
     "height": 34
    },
    "colab_type": "code",
    "executionInfo": {
     "elapsed": 555,
     "status": "ok",
     "timestamp": 1583413591160,
     "user": {
      "displayName": "Junichiro Mori",
      "photoUrl": "",
      "userId": "01008898198902510619"
     },
     "user_tz": -540
    },
    "id": "tR_8ZXzTwNx6",
    "outputId": "4de6b0db-c652-4c9d-f0a9-cd65b0870377"
   },
   "outputs": [],
   "source": [
    "len(numbers3) # lenはタプルを構成する要素の数"
   ]
  },
  {
   "cell_type": "code",
   "execution_count": null,
   "metadata": {
    "colab": {
     "base_uri": "https://localhost:8080/",
     "height": 34
    },
    "colab_type": "code",
    "executionInfo": {
     "elapsed": 471,
     "status": "ok",
     "timestamp": 1583413592752,
     "user": {
      "displayName": "Junichiro Mori",
      "photoUrl": "",
      "userId": "01008898198902510619"
     },
     "user_tz": -540
    },
    "id": "Y9mbX9wOwNx-",
    "outputId": "205a8324-7764-4e30-97e5-a8d805f4352a"
   },
   "outputs": [],
   "source": [
    "numbers3[1:3] # スライス"
   ]
  },
  {
   "cell_type": "markdown",
   "metadata": {
    "colab_type": "text",
    "id": "XvUeB0w1wNyA"
   },
   "source": [
    "上述しましたが、一度作成したタプルの要素を後から変更することはできません。\n",
    "したがって以下のプログラムはエラーとなります。\n",
    "\n",
    "---\n",
    "```Python\n",
    "numbers3 = (1, 2, 3)\n",
    "numbers3[1] = 5\n",
    "```"
   ]
  },
  {
   "cell_type": "markdown",
   "metadata": {
    "colab_type": "text",
    "id": "S4s00XQRwNyA"
   },
   "source": [
    "組み込み関数 **`list`** を使って、タプルをリストに変換できます。\n",
    "（`list` はリストのデータ型でもあります。）"
   ]
  },
  {
   "cell_type": "code",
   "execution_count": null,
   "metadata": {
    "colab": {
     "base_uri": "https://localhost:8080/",
     "height": 34
    },
    "colab_type": "code",
    "executionInfo": {
     "elapsed": 450,
     "status": "ok",
     "timestamp": 1583413611833,
     "user": {
      "displayName": "Junichiro Mori",
      "photoUrl": "",
      "userId": "01008898198902510619"
     },
     "user_tz": -540
    },
    "id": "eWUx518hwNyB",
    "outputId": "a4748f7d-7736-429f-bd81-6f71a249a528"
   },
   "outputs": [],
   "source": [
    "numbers3 = (1, 2, 3)\n",
    "list(numbers3)"
   ]
  },
  {
   "cell_type": "markdown",
   "metadata": {
    "colab_type": "text",
    "id": "XHz5yQNQwNyE"
   },
   "source": [
    "組み込み関数 **`tuple`** を使って、逆にリストをタプルに変換できます。\n",
    "（`tuple` はタプルのデータ型でもあります。）"
   ]
  },
  {
   "cell_type": "code",
   "execution_count": null,
   "metadata": {
    "colab": {
     "base_uri": "https://localhost:8080/",
     "height": 34
    },
    "colab_type": "code",
    "executionInfo": {
     "elapsed": 470,
     "status": "ok",
     "timestamp": 1583413615982,
     "user": {
      "displayName": "Junichiro Mori",
      "photoUrl": "",
      "userId": "01008898198902510619"
     },
     "user_tz": -540
    },
    "id": "hovv5TOkwNyF",
    "outputId": "948792ff-dffb-44a2-8124-f436ffdcb23c"
   },
   "outputs": [],
   "source": [
    "numbers2 = [1, 2]\n",
    "tuple(numbers2)"
   ]
  },
  {
   "cell_type": "markdown",
   "metadata": {
    "colab_type": "text",
    "id": "reaZOFOZwNyH"
   },
   "source": [
    "## 練習\n",
    "整数の要素からなるリスト `ln` を引数として取り、\n",
    "`ln` に含まれる要素を逆順に格納したタプルを返す関数 `reverse_totuple` を作成してください。\n",
    "\n",
    "以下のセルの `...` のところを書き換えて `reverse_totuple(ln)` を作成してください。"
   ]
  },
  {
   "cell_type": "code",
   "execution_count": null,
   "metadata": {
    "colab": {},
    "colab_type": "code",
    "id": "ex1Y89ZLwNyI"
   },
   "outputs": [],
   "source": [
    "def reverse_totuple(ln):\n",
    "    ..."
   ]
  },
  {
   "cell_type": "markdown",
   "metadata": {
    "colab_type": "text",
    "id": "ZrMwzJUOwNyK"
   },
   "source": [
    "上のセルで解答を作成した後、以下のセルを実行し、実行結果が `True` になることを確認してください。"
   ]
  },
  {
   "cell_type": "code",
   "execution_count": null,
   "metadata": {
    "colab": {},
    "colab_type": "code",
    "id": "MUidIz1HwNyL",
    "tags": [
     "raises-exception"
    ]
   },
   "outputs": [],
   "source": [
    "print(reverse_totuple([1, 2, 3, 4, 5]) == (5, 4, 3, 2, 1))"
   ]
  },
  {
   "cell_type": "markdown",
   "metadata": {
    "colab_type": "text",
    "id": "Ja2usWBqwNyN"
   },
   "source": [
    "## 多重代入\n",
    "**多重代入**では、左辺に複数の変数などを指定してタプルやリストの全ての要素を一度の操作で代入することができます。"
   ]
  },
  {
   "cell_type": "code",
   "execution_count": null,
   "metadata": {
    "colab": {
     "base_uri": "https://localhost:8080/",
     "height": 34
    },
    "colab_type": "code",
    "executionInfo": {
     "elapsed": 446,
     "status": "ok",
     "timestamp": 1583413637661,
     "user": {
      "displayName": "Junichiro Mori",
      "photoUrl": "",
      "userId": "01008898198902510619"
     },
     "user_tz": -540
    },
    "id": "Oe-0-TBfwNyN",
    "outputId": "bbac0990-82b6-4f51-b2d4-fc9c12ae1f90"
   },
   "outputs": [],
   "source": [
    "numbers = [0, 10, 20, 30, 40]\n",
    "[a, b, c, d, e] = numbers\n",
    "b"
   ]
  },
  {
   "cell_type": "markdown",
   "metadata": {
    "colab_type": "text",
    "id": "ghDxX6TewNyP"
   },
   "source": [
    "以下のようにしても同じ結果を得られます。"
   ]
  },
  {
   "cell_type": "code",
   "execution_count": null,
   "metadata": {
    "colab": {
     "base_uri": "https://localhost:8080/",
     "height": 34
    },
    "colab_type": "code",
    "executionInfo": {
     "elapsed": 490,
     "status": "ok",
     "timestamp": 1583413642777,
     "user": {
      "displayName": "Junichiro Mori",
      "photoUrl": "",
      "userId": "01008898198902510619"
     },
     "user_tz": -540
    },
    "id": "0kliRvP6wNyQ",
    "outputId": "438e9c87-0d60-4910-efa0-bb36047e46df",
    "tags": [
     "raises-exception"
    ]
   },
   "outputs": [],
   "source": [
    "a, b, c, d, e = numbers\n",
    "b"
   ]
  },
  {
   "cell_type": "markdown",
   "metadata": {
    "colab_type": "text",
    "id": "3sPQhR9FwNyS"
   },
   "source": [
    "多重代入は文字列に対しても実行可能です。"
   ]
  },
  {
   "cell_type": "code",
   "execution_count": null,
   "metadata": {
    "colab": {
     "base_uri": "https://localhost:8080/",
     "height": 34
    },
    "colab_type": "code",
    "executionInfo": {
     "elapsed": 443,
     "status": "ok",
     "timestamp": 1583413645286,
     "user": {
      "displayName": "Junichiro Mori",
      "photoUrl": "",
      "userId": "01008898198902510619"
     },
     "user_tz": -540
    },
    "id": "zJBCwBVSwNyS",
    "outputId": "ec5bafd8-95e4-436d-e02d-01f3f5a75012"
   },
   "outputs": [],
   "source": [
    "a, b, c, d, e = 'hello'\n",
    "d"
   ]
  },
  {
   "cell_type": "markdown",
   "metadata": {
    "colab_type": "text",
    "id": "9h5hrLJBwNyU"
   },
   "source": [
    "タプルに対しても実行可能です。"
   ]
  },
  {
   "cell_type": "code",
   "execution_count": null,
   "metadata": {
    "colab": {
     "base_uri": "https://localhost:8080/",
     "height": 34
    },
    "colab_type": "code",
    "executionInfo": {
     "elapsed": 506,
     "status": "ok",
     "timestamp": 1583413647805,
     "user": {
      "displayName": "Junichiro Mori",
      "photoUrl": "",
      "userId": "01008898198902510619"
     },
     "user_tz": -540
    },
    "id": "igrWPB-LwNyV",
    "outputId": "263cf203-8fc8-4103-96a1-584236d253b9"
   },
   "outputs": [],
   "source": [
    "numbers3 = (1, 2, 3)\n",
    "(x,y,z) = numbers3\n",
    "y"
   ]
  },
  {
   "cell_type": "markdown",
   "metadata": {
    "colab_type": "text",
    "id": "3RZnU_LDwNyg"
   },
   "source": [
    "以下のように様々な書き方が可能です。"
   ]
  },
  {
   "cell_type": "code",
   "execution_count": null,
   "metadata": {
    "colab": {
     "base_uri": "https://localhost:8080/",
     "height": 101
    },
    "colab_type": "code",
    "executionInfo": {
     "elapsed": 471,
     "status": "ok",
     "timestamp": 1583413659644,
     "user": {
      "displayName": "Junichiro Mori",
      "photoUrl": "",
      "userId": "01008898198902510619"
     },
     "user_tz": -540
    },
    "id": "nCopC9xBwNyh",
    "outputId": "9badd61c-e2ec-4226-ed93-4f3b32407606"
   },
   "outputs": [],
   "source": [
    "x,y,z = numbers3\n",
    "print(y)\n",
    "(x,y,z) = (1, 2, 3)\n",
    "print(y)\n",
    "x,y,z = (1, 2, 3)\n",
    "print(y)\n",
    "(x,y,z) = 1, 2, 3\n",
    "print(y)\n",
    "x,y,z = 1, 2, 3\n",
    "print(y)"
   ]
  },
  {
   "cell_type": "markdown",
   "metadata": {
    "colab_type": "text",
    "id": "ZxuYsgX0wNyj"
   },
   "source": [
    "多重代入を使うことで、2つの変数に格納された値の入れ替えを行う手続きはしばしば用いられます。"
   ]
  },
  {
   "cell_type": "code",
   "execution_count": null,
   "metadata": {
    "colab": {
     "base_uri": "https://localhost:8080/",
     "height": 34
    },
    "colab_type": "code",
    "executionInfo": {
     "elapsed": 469,
     "status": "ok",
     "timestamp": 1583413667691,
     "user": {
      "displayName": "Junichiro Mori",
      "photoUrl": "",
      "userId": "01008898198902510619"
     },
     "user_tz": -540
    },
    "id": "QKWMNdyGwNyj",
    "outputId": "4af7909a-f732-4fa0-a799-adbddf6d54ad"
   },
   "outputs": [],
   "source": [
    "x = 'apple'\n",
    "y = 'pen'\n",
    "x, y = y, x \n",
    "print(x, y) #w = x; x = y; y = w と同じ結果が得られる"
   ]
  },
  {
   "cell_type": "markdown",
   "metadata": {
    "colab_type": "text",
    "id": "SpTrH5JJwNyq"
   },
   "source": [
    "## リストやタプルの比較演算\n",
    "数値などを比較するのに用いた比較演算子を用いて、2つのリストやタプルを比較することもできます。"
   ]
  },
  {
   "cell_type": "code",
   "execution_count": null,
   "metadata": {
    "colab": {
     "base_uri": "https://localhost:8080/",
     "height": 50
    },
    "colab_type": "code",
    "executionInfo": {
     "elapsed": 728,
     "status": "ok",
     "timestamp": 1583413679521,
     "user": {
      "displayName": "Junichiro Mori",
      "photoUrl": "",
      "userId": "01008898198902510619"
     },
     "user_tz": -540
    },
    "id": "9cPnotqswNyq",
    "outputId": "77a68d1d-bb8e-43b9-e304-c102bbb129d3"
   },
   "outputs": [],
   "source": [
    "print([1, 2, 3] == [1, 2, 3])\n",
    "print([1, 2] == [1, 2, 3])"
   ]
  },
  {
   "cell_type": "code",
   "execution_count": null,
   "metadata": {
    "colab": {
     "base_uri": "https://localhost:8080/",
     "height": 50
    },
    "colab_type": "code",
    "executionInfo": {
     "elapsed": 568,
     "status": "ok",
     "timestamp": 1583413682848,
     "user": {
      "displayName": "Junichiro Mori",
      "photoUrl": "",
      "userId": "01008898198902510619"
     },
     "user_tz": -540
    },
    "id": "93YrfNrowNys",
    "outputId": "c33485b8-bc20-434c-d9a1-326a88ff1931"
   },
   "outputs": [],
   "source": [
    "print((1, 2, 3) == (1, 2, 3))\n",
    "print((1, 2) == (1, 2, 3))"
   ]
  },
  {
   "cell_type": "code",
   "execution_count": null,
   "metadata": {
    "colab": {
     "base_uri": "https://localhost:8080/",
     "height": 50
    },
    "colab_type": "code",
    "executionInfo": {
     "elapsed": 534,
     "status": "ok",
     "timestamp": 1583413685334,
     "user": {
      "displayName": "Junichiro Mori",
      "photoUrl": "",
      "userId": "01008898198902510619"
     },
     "user_tz": -540
    },
    "id": "NbSEA-LmwNyt",
    "outputId": "1f42742a-b643-431c-98da-366e0aeb6f36"
   },
   "outputs": [],
   "source": [
    "print([1, 2, 3] != [1, 2, 3])\n",
    "print([1, 2] != [1, 2, 3])"
   ]
  },
  {
   "cell_type": "code",
   "execution_count": null,
   "metadata": {
    "colab": {
     "base_uri": "https://localhost:8080/",
     "height": 50
    },
    "colab_type": "code",
    "executionInfo": {
     "elapsed": 608,
     "status": "ok",
     "timestamp": 1583413690752,
     "user": {
      "displayName": "Junichiro Mori",
      "photoUrl": "",
      "userId": "01008898198902510619"
     },
     "user_tz": -540
    },
    "id": "uGkjrSawwNyu",
    "outputId": "c0d4f4bc-b560-4cbe-da00-fff6fb8989d1"
   },
   "outputs": [],
   "source": [
    "print((1, 2, 3) != (1, 2, 3))\n",
    "print((1, 2) != (1, 2, 3))"
   ]
  },
  {
   "cell_type": "markdown",
   "metadata": {
    "colab_type": "text",
    "id": "mfJrFnnlwNyx"
   },
   "source": [
    "大小の比較は、いわゆる辞書式による比較で、リストやタプルの最初の要素から順に比較して大小を決めます。\n",
    "片方がもう片方を拡張したものであれば、拡張した方を大きいとします。"
   ]
  },
  {
   "cell_type": "code",
   "execution_count": null,
   "metadata": {
    "colab": {
     "base_uri": "https://localhost:8080/",
     "height": 84
    },
    "colab_type": "code",
    "executionInfo": {
     "elapsed": 413,
     "status": "ok",
     "timestamp": 1583413693555,
     "user": {
      "displayName": "Junichiro Mori",
      "photoUrl": "",
      "userId": "01008898198902510619"
     },
     "user_tz": -540
    },
    "id": "vR8GWqBpwNyy",
    "outputId": "8fe1a932-d3a0-4cb5-ab4e-60ab63495ca0"
   },
   "outputs": [],
   "source": [
    "print([1, 2, 3] <= [1, 2, 3])\n",
    "print([1, 2, 3] < [1, 2, 3])\n",
    "print([1, 2, 3] < [1, 2, 4])\n",
    "print([1, 2] < [1, 2, 3])"
   ]
  },
  {
   "cell_type": "code",
   "execution_count": null,
   "metadata": {
    "colab": {
     "base_uri": "https://localhost:8080/",
     "height": 84
    },
    "colab_type": "code",
    "executionInfo": {
     "elapsed": 476,
     "status": "ok",
     "timestamp": 1583413695362,
     "user": {
      "displayName": "Junichiro Mori",
      "photoUrl": "",
      "userId": "01008898198902510619"
     },
     "user_tz": -540
    },
    "id": "X-UsfqQBwNyz",
    "outputId": "ef394abb-54f5-4ba3-d32a-50492930b09f"
   },
   "outputs": [],
   "source": [
    "print((1, 2, 3) <= (1, 2, 3))\n",
    "print((1, 2, 3) < (1, 2, 3))\n",
    "print((1, 2, 3) < (1, 2, 4))\n",
    "print((1, 2) < (1, 2, 3))"
   ]
  },
  {
   "cell_type": "markdown",
   "metadata": {
    "colab_type": "text",
    "id": "x8FTdgaIwNy0"
   },
   "source": [
    "## for文による繰り返しとリスト・タプル\n",
    "\n",
    "きまった操作の繰り返しはコンピュータが最も得意とする処理のひとつです。\n",
    "リストのそれぞれの要素にわたって操作を繰り返したい場合は**for文**を用います。\n",
    "\n",
    "リスト `ls` の要素すべてに対して、`実行文`を繰り返すには次のように書きます。\n",
    "\n",
    "---\n",
    "```Python\n",
    "for value in ls:\n",
    "    実行文\n",
    "```\n",
    "---\n",
    "\n",
    "`for` で始まる行の `in` の後に処理対象となるリスト `ls` が、`in` の前に変数 `value`が書かれます。\n",
    "\n",
    "`ls` の最初の要素、すなわち `ls[0]` が `value` に代入され `実行文` が処理されます。\n",
    "`実行文`の処理が終われば、`ls` の次の要素が `value` に代入され、処理が繰り返されます。\n",
    "このようにして、`ls` の要素に対する処理が `len(ls)` 回が繰り返されると、for文の処理が終了します。　\n",
    "\n",
    "ここでの `in` の働きは、先に説明したリスト要素の有無を検査する `in` とは異なることに、\n",
    "そして、if文と同様、 `実行文` の前にはスペースが必要であることに注意してください。\n",
    "\n",
    "次に具体例を示します。\n",
    "3つの要素を持つリスト `ls` から一つづつ要素を取り出し、変数 `value` に代入しています。\n",
    "実行文では `value` を用いて取り出した要素にアクセスしています。"
   ]
  },
  {
   "cell_type": "code",
   "execution_count": null,
   "metadata": {
    "colab": {
     "base_uri": "https://localhost:8080/",
     "height": 67
    },
    "colab_type": "code",
    "executionInfo": {
     "elapsed": 647,
     "status": "ok",
     "timestamp": 1583413758379,
     "user": {
      "displayName": "Junichiro Mori",
      "photoUrl": "",
      "userId": "01008898198902510619"
     },
     "user_tz": -540
    },
    "id": "HgP85gJ6wNy1",
    "outputId": "060c99b9-db42-4762-fdd4-4b9bc27afdcd"
   },
   "outputs": [],
   "source": [
    "ls = [0,1,2]\n",
    "\n",
    "for value in ls:\n",
    "    print('For loop:', value)"
   ]
  },
  {
   "cell_type": "markdown",
   "metadata": {
    "colab_type": "text",
    "id": "5WoSRcNJwNy2"
   },
   "source": [
    "`in` の後に直接リストを記述することもできます。"
   ]
  },
  {
   "cell_type": "code",
   "execution_count": null,
   "metadata": {
    "colab": {
     "base_uri": "https://localhost:8080/",
     "height": 67
    },
    "colab_type": "code",
    "executionInfo": {
     "elapsed": 451,
     "status": "ok",
     "timestamp": 1583413760201,
     "user": {
      "displayName": "Junichiro Mori",
      "photoUrl": "",
      "userId": "01008898198902510619"
     },
     "user_tz": -540
    },
    "id": "n7Yhx1m3wNy5",
    "outputId": "981bcfd3-745c-4368-9425-0b8636bca3e5"
   },
   "outputs": [],
   "source": [
    "for value in [0,1,2]:\n",
    "    print('For loop:', value)"
   ]
  },
  {
   "cell_type": "markdown",
   "metadata": {
    "colab_type": "text",
    "id": "B-zxv2cOwNy6"
   },
   "source": [
    "`実行文` の前にスペースがないとエラーが出ます。"
   ]
  },
  {
   "cell_type": "code",
   "execution_count": null,
   "metadata": {
    "colab": {
     "base_uri": "https://localhost:8080/",
     "height": 133
    },
    "colab_type": "code",
    "executionInfo": {
     "elapsed": 655,
     "status": "error",
     "timestamp": 1583413763443,
     "user": {
      "displayName": "Junichiro Mori",
      "photoUrl": "",
      "userId": "01008898198902510619"
     },
     "user_tz": -540
    },
    "id": "9oilbzztwNy7",
    "outputId": "132cc8e9-f184-495b-d698-84dd8412be3e",
    "tags": [
     "raises-exception"
    ]
   },
   "outputs": [],
   "source": [
    "for value in  [0,1,2]:\n",
    "print('For loop:', value)"
   ]
  },
  {
   "cell_type": "markdown",
   "metadata": {
    "colab_type": "text",
    "id": "udYoIclDwNy8"
   },
   "source": [
    "エラーが出れば意図した通りにプログラムが組めていないのにすぐ気が付きますが、\n",
    "エラーが出ないために意図したプログラムが組めていないことに気が付かないことがあります。\n",
    "たとえば、次のような内容を実行しようとしていたとします。"
   ]
  },
  {
   "cell_type": "code",
   "execution_count": null,
   "metadata": {
    "colab": {
     "base_uri": "https://localhost:8080/",
     "height": 118
    },
    "colab_type": "code",
    "executionInfo": {
     "elapsed": 590,
     "status": "ok",
     "timestamp": 1583413772165,
     "user": {
      "displayName": "Junichiro Mori",
      "photoUrl": "",
      "userId": "01008898198902510619"
     },
     "user_tz": -540
    },
    "id": "sdlmzSA9wNy9",
    "outputId": "0bf88173-149e-43f5-aecd-4765792fe261"
   },
   "outputs": [],
   "source": [
    "for value in  [0,1,2]:\n",
    "    print('During for loop:', value)\n",
    "    print('During for loop, too:', value)"
   ]
  },
  {
   "cell_type": "markdown",
   "metadata": {
    "colab_type": "text",
    "id": "NTZh3meZwNy_"
   },
   "source": [
    "後者の `print` の行のスペースの数が間違ってると、次のような結果になる場合がありますので注意してください。"
   ]
  },
  {
   "cell_type": "code",
   "execution_count": null,
   "metadata": {
    "colab": {
     "base_uri": "https://localhost:8080/",
     "height": 84
    },
    "colab_type": "code",
    "executionInfo": {
     "elapsed": 655,
     "status": "ok",
     "timestamp": 1583413780722,
     "user": {
      "displayName": "Junichiro Mori",
      "photoUrl": "",
      "userId": "01008898198902510619"
     },
     "user_tz": -540
    },
    "id": "8PQnRhzUwNy_",
    "outputId": "0eedadbb-e99f-4f62-a716-71c023f403f9"
   },
   "outputs": [],
   "source": [
    "for value in [0,1,2]:\n",
    "    print('During for loop:', value)\n",
    "print('During for loop, too:', value) #この行のスペースの数が間違っていたがエラーは出ない"
   ]
  },
  {
   "cell_type": "markdown",
   "metadata": {
    "colab_type": "text",
    "id": "zqFH1cAvwNzA"
   },
   "source": [
    "タプルの要素にまたがる処理もリストと同様に行えます。"
   ]
  },
  {
   "cell_type": "code",
   "execution_count": null,
   "metadata": {
    "colab": {
     "base_uri": "https://localhost:8080/",
     "height": 67
    },
    "colab_type": "code",
    "executionInfo": {
     "elapsed": 458,
     "status": "ok",
     "timestamp": 1583413802564,
     "user": {
      "displayName": "Junichiro Mori",
      "photoUrl": "",
      "userId": "01008898198902510619"
     },
     "user_tz": -540
    },
    "id": "ZG_XoX0CwNzB",
    "outputId": "8bf1defa-f8b0-4047-af3f-6538696a0b44"
   },
   "outputs": [],
   "source": [
    "for value in (0,1,2):\n",
    "    print('For loop:', value)"
   ]
  },
  {
   "cell_type": "markdown",
   "metadata": {
    "colab_type": "text",
    "id": "1_wfAvqXwNzF"
   },
   "source": [
    "以下はリストに対するfor文の典型例です。`numbers` は数のリストとします。"
   ]
  },
  {
   "cell_type": "code",
   "execution_count": null,
   "metadata": {
    "colab": {},
    "colab_type": "code",
    "id": "OLFtJeEwwNzG"
   },
   "outputs": [],
   "source": [
    "numbers = [0,1,2,3,4,5]"
   ]
  },
  {
   "cell_type": "markdown",
   "metadata": {
    "colab_type": "text",
    "id": "h-6CmlzSwNzH"
   },
   "source": [
    "以下のようにして、このリストの要素の自乗から成るリストを求めることができます。"
   ]
  },
  {
   "cell_type": "code",
   "execution_count": null,
   "metadata": {
    "colab": {
     "base_uri": "https://localhost:8080/",
     "height": 34
    },
    "colab_type": "code",
    "executionInfo": {
     "elapsed": 439,
     "status": "ok",
     "timestamp": 1583413811134,
     "user": {
      "displayName": "Junichiro Mori",
      "photoUrl": "",
      "userId": "01008898198902510619"
     },
     "user_tz": -540
    },
    "id": "yXZ7Y-L1wNzI",
    "outputId": "28f64028-a8dc-47a9-b216-7d625ddb10e9"
   },
   "outputs": [],
   "source": [
    "squares1 = []\n",
    "for x in numbers:\n",
    "    squares1.append(x**2)\n",
    "squares1"
   ]
  },
  {
   "cell_type": "markdown",
   "metadata": {
    "colab_type": "text",
    "id": "hheePdhPwNzJ"
   },
   "source": [
    "`squares` には最初に空リストが代入されます。\n",
    "そして、`numbers` の各要素の自乗がこのリストに次々と追加されます。"
   ]
  },
  {
   "cell_type": "markdown",
   "metadata": {
    "colab_type": "text",
    "id": "jGv8_eYrwNzK"
   },
   "source": [
    "## 練習\n",
    "整数の要素からなるリスト `ln` を引数として取り、`ln` の要素の総和を返す関数 `sum_list` を作成してください。\n",
    "\n",
    "以下のセルの `...` のところを書き換えて `sum_list(ln)` を作成してください。"
   ]
  },
  {
   "cell_type": "code",
   "execution_count": null,
   "metadata": {
    "colab": {},
    "colab_type": "code",
    "id": "2L75Q-WjwNzK"
   },
   "outputs": [],
   "source": [
    "def sum_list(ln):\n",
    "    ..."
   ]
  },
  {
   "cell_type": "markdown",
   "metadata": {
    "colab_type": "text",
    "id": "vB5o7V_QwNzL"
   },
   "source": [
    "上のセルで解答を作成した後、以下のセルを実行し、実行結果が全て True になることを確認してください。"
   ]
  },
  {
   "cell_type": "code",
   "execution_count": null,
   "metadata": {
    "colab": {},
    "colab_type": "code",
    "id": "NMWPKttEwNzM"
   },
   "outputs": [],
   "source": [
    "print(sum_list([10, 20, 30]) == 60)\n",
    "print(sum_list([-1, 2, -3, 4, -5]) == -3)"
   ]
  },
  {
   "cell_type": "markdown",
   "metadata": {
    "colab_type": "text",
    "id": "nDfALed0wNzN"
   },
   "source": [
    "##  for文による繰り返しと文字列\n",
    "\n",
    "for文を使うと文字列全体にまたがる処理も可能です。\n",
    "文字列 `str1` をまたがって一文字ずつの繰り返し処理を行う場合は次のように書きます。\n",
    "ここで、`c` には取り出された一文字（の文字列）が代入されています。\n",
    "\n",
    "---\n",
    "```Python\n",
    "for c in str1:\n",
    "    実行文\n",
    "```\n",
    "---\n",
    "\n",
    "`str1` で与えられる文字列を一文字ずつ大文字で出力する処理は以下のようになります。"
   ]
  },
  {
   "cell_type": "code",
   "execution_count": null,
   "metadata": {
    "colab": {
     "base_uri": "https://localhost:8080/",
     "height": 235
    },
    "colab_type": "code",
    "executionInfo": {
     "elapsed": 506,
     "status": "ok",
     "timestamp": 1583413831507,
     "user": {
      "displayName": "Junichiro Mori",
      "photoUrl": "",
      "userId": "01008898198902510619"
     },
     "user_tz": -540
    },
    "id": "XIwOGFcKwNzN",
    "outputId": "7466fab1-c192-4d14-db75-2ebfcd293a66"
   },
   "outputs": [],
   "source": [
    "str1 = 'Apple and pen'\n",
    "for c in str1:\n",
    "    print(c.upper())"
   ]
  },
  {
   "cell_type": "markdown",
   "metadata": {
    "colab_type": "text",
    "id": "ga2AYm4VwNzP"
   },
   "source": [
    "## 練習\n",
    "\n",
    "ATGCの4種類の文字から成る文字列 `str_atgc` が引数として与えられたとき、次のようなリスト `list_count` を返す関数 `atgc_countlist` を作成してください。ただし、 `list_count` の要素は、各塩基 `bp` に対して `str_atgc` 中の `bp` の出現回数と `bp` の名前を格納した（長さ2の）リストとします。\n",
    "\n",
    "ヒント：文字列 `'ATGC'` に対する繰り返しを用いることができます。\n",
    "\n",
    "以下のセルの `...` のところを書き換えて `atgc_countlist(str_atgc)` を作成してください。"
   ]
  },
  {
   "cell_type": "code",
   "execution_count": null,
   "metadata": {
    "colab": {},
    "colab_type": "code",
    "id": "Jvr0vuXXwNzQ"
   },
   "outputs": [],
   "source": [
    "def atgc_countlist(str_atgc):\n",
    "    ..."
   ]
  },
  {
   "cell_type": "markdown",
   "metadata": {
    "colab_type": "text",
    "id": "ATtVEu_DwNzR"
   },
   "source": [
    "上のセルで解答を作成した後、以下のセルを実行し、実行結果が `True` になることを確認してください。"
   ]
  },
  {
   "cell_type": "code",
   "execution_count": null,
   "metadata": {
    "colab": {},
    "colab_type": "code",
    "id": "o5bhwXmewNzS",
    "tags": [
     "raises-exception"
    ]
   },
   "outputs": [],
   "source": [
    "print(sorted(atgc_countlist('AAGCCCCATGGTAA')) == sorted([[5, 'A'], [2, 'T'], [3, 'G'], [4, 'C']]))"
   ]
  },
  {
   "cell_type": "markdown",
   "metadata": {
    "colab_type": "text",
    "id": "988RPkmWwNzU"
   },
   "source": [
    "## ▲for文によるリスト初期化の短縮記法\n",
    "\n",
    "先に、リストの要素の自乗から成るリストを求める例を説明しました。"
   ]
  },
  {
   "cell_type": "code",
   "execution_count": null,
   "metadata": {
    "colab": {
     "base_uri": "https://localhost:8080/",
     "height": 34
    },
    "colab_type": "code",
    "executionInfo": {
     "elapsed": 621,
     "status": "ok",
     "timestamp": 1583413908479,
     "user": {
      "displayName": "Junichiro Mori",
      "photoUrl": "",
      "userId": "01008898198902510619"
     },
     "user_tz": -540
    },
    "id": "hiNbPM2wwNzV",
    "outputId": "fa248295-b788-4618-bbbe-c8625c95f249"
   },
   "outputs": [],
   "source": [
    "numbers = [0,1,2,3,4,5]\n",
    "\n",
    "squares1 = []\n",
    "for x in numbers:\n",
    "    squares1.append(x**2)\n",
    "squares1"
   ]
  },
  {
   "cell_type": "markdown",
   "metadata": {
    "colab_type": "text",
    "id": "W0s0jhx3wNzX"
   },
   "source": [
    "詳しくは 6-1 で説明されますが、内包表記を用いて書き換えると、以下のように一行で書くことができます。"
   ]
  },
  {
   "cell_type": "code",
   "execution_count": null,
   "metadata": {
    "colab": {
     "base_uri": "https://localhost:8080/",
     "height": 34
    },
    "colab_type": "code",
    "executionInfo": {
     "elapsed": 494,
     "status": "ok",
     "timestamp": 1583413914968,
     "user": {
      "displayName": "Junichiro Mori",
      "photoUrl": "",
      "userId": "01008898198902510619"
     },
     "user_tz": -540
    },
    "id": "oOJHZMxkwNzX",
    "outputId": "94445386-6300-4a35-822f-0e9ab91af848"
   },
   "outputs": [],
   "source": [
    "squares2 = [x**2 for x in numbers]\n",
    "squares2"
   ]
  },
  {
   "cell_type": "markdown",
   "metadata": {
    "colab_type": "text",
    "id": "QPF3h_oswNzY"
   },
   "source": [
    "すなわち、\n",
    "```Python\n",
    "[x を含む式 for x in リストを返す式]\n",
    "```\n",
    "という式は、\"リストを返す式\" が返したリストの各要素を `x` に代入して \"`x` を含む式\" を計算し、\n",
    "その結果をリストにして返します。\n",
    "もちろん、変数は `x` でなくてもよいです。"
   ]
  },
  {
   "cell_type": "code",
   "execution_count": null,
   "metadata": {
    "colab": {
     "base_uri": "https://localhost:8080/",
     "height": 34
    },
    "colab_type": "code",
    "executionInfo": {
     "elapsed": 476,
     "status": "ok",
     "timestamp": 1583413923893,
     "user": {
      "displayName": "Junichiro Mori",
      "photoUrl": "",
      "userId": "01008898198902510619"
     },
     "user_tz": -540
    },
    "id": "ZL8rfyhFwNzZ",
    "outputId": "205944a1-b5b5-44a8-ee24-347062ae22b1"
   },
   "outputs": [],
   "source": [
    "[y**2 for y in numbers]"
   ]
  },
  {
   "cell_type": "markdown",
   "metadata": {
    "colab_type": "text",
    "id": "csdQzjx4wNzd"
   },
   "source": [
    "## ▲オブジェクトの等価性と同一性\n",
    "\n",
    "1-3 で、Pythonにおける値はオブジェクトと総称されますと述べました。\n",
    "ここでは、オブジェクトの等価性と同一性について説明します。\n",
    "\n",
    "既に見てきたように、演算子 `==` を用いて**オブジェクトの等価性**を判定できます。"
   ]
  },
  {
   "cell_type": "code",
   "execution_count": null,
   "metadata": {
    "colab": {},
    "colab_type": "code",
    "id": "YoFPUkAvwNzd"
   },
   "outputs": [],
   "source": [
    "a = []\n",
    "b = []"
   ]
  },
  {
   "cell_type": "markdown",
   "metadata": {
    "colab_type": "text",
    "id": "YZjPEk1GwNze"
   },
   "source": [
    "このとき、`a` と `b` の値はどちらも空リストなので、以下のように `a` の値と `b` の値は等価です。"
   ]
  },
  {
   "cell_type": "code",
   "execution_count": null,
   "metadata": {
    "colab": {
     "base_uri": "https://localhost:8080/",
     "height": 34
    },
    "colab_type": "code",
    "executionInfo": {
     "elapsed": 474,
     "status": "ok",
     "timestamp": 1583413967575,
     "user": {
      "displayName": "Junichiro Mori",
      "photoUrl": "",
      "userId": "01008898198902510619"
     },
     "user_tz": -540
    },
    "id": "MMkapTWfwNzf",
    "outputId": "0a6b9bf2-a27c-4066-a48e-838a34e8c3cb"
   },
   "outputs": [],
   "source": [
    "a == b"
   ]
  },
  {
   "cell_type": "markdown",
   "metadata": {
    "colab_type": "text",
    "id": "WevIjsUDwNzh"
   },
   "source": [
    "しかし、`[`  で始まり `]` で終わる式を評価すると、\n",
    "必ず新しいリスト（オブジェクト）が作られて返されるので、\n",
    "`a` と `b` の値は同一ではありません。\n",
    "\n",
    "**オブジェクトの同一性**は演算子 **`is`** を用いて判定できます。"
   ]
  },
  {
   "cell_type": "code",
   "execution_count": null,
   "metadata": {
    "colab": {
     "base_uri": "https://localhost:8080/",
     "height": 34
    },
    "colab_type": "code",
    "executionInfo": {
     "elapsed": 752,
     "status": "ok",
     "timestamp": 1583413982692,
     "user": {
      "displayName": "Junichiro Mori",
      "photoUrl": "",
      "userId": "01008898198902510619"
     },
     "user_tz": -540
    },
    "id": "AJsyk8bXwNzh",
    "outputId": "80e15732-dc39-4319-c97e-d33f9545bc49"
   },
   "outputs": [],
   "source": [
    "a is b"
   ]
  },
  {
   "cell_type": "markdown",
   "metadata": {
    "colab_type": "text",
    "id": "5sP4UT50wNzl"
   },
   "source": [
    "リストの要素はオブジェクトなので、要素ごとに等価性と同一性が定まります。\n",
    "\n",
    "例として、`a` と `b` を要素とするリスト `c` を作ります。"
   ]
  },
  {
   "cell_type": "code",
   "execution_count": null,
   "metadata": {
    "colab": {
     "base_uri": "https://localhost:8080/",
     "height": 34
    },
    "colab_type": "code",
    "executionInfo": {
     "elapsed": 468,
     "status": "ok",
     "timestamp": 1583413989687,
     "user": {
      "displayName": "Junichiro Mori",
      "photoUrl": "",
      "userId": "01008898198902510619"
     },
     "user_tz": -540
    },
    "id": "IFXpNyFlwNzm",
    "outputId": "7764a638-a016-40ea-cffc-034c6880910c"
   },
   "outputs": [],
   "source": [
    "c = [a, b]\n",
    "c"
   ]
  },
  {
   "cell_type": "code",
   "execution_count": null,
   "metadata": {
    "colab": {
     "base_uri": "https://localhost:8080/",
     "height": 34
    },
    "colab_type": "code",
    "executionInfo": {
     "elapsed": 535,
     "status": "ok",
     "timestamp": 1583413993375,
     "user": {
      "displayName": "Junichiro Mori",
      "photoUrl": "",
      "userId": "01008898198902510619"
     },
     "user_tz": -540
    },
    "id": "5N_kJt_0wNzp",
    "outputId": "dbaa7290-63a7-41ed-9f5f-b224ea13aeab"
   },
   "outputs": [],
   "source": [
    "c[0] is c[1]"
   ]
  },
  {
   "cell_type": "markdown",
   "metadata": {
    "colab_type": "text",
    "id": "o2CucYfKwNzq"
   },
   "source": [
    "`a` を変化させてみましょう。"
   ]
  },
  {
   "cell_type": "code",
   "execution_count": null,
   "metadata": {
    "colab": {
     "base_uri": "https://localhost:8080/",
     "height": 34
    },
    "colab_type": "code",
    "executionInfo": {
     "elapsed": 499,
     "status": "ok",
     "timestamp": 1583413996873,
     "user": {
      "displayName": "Junichiro Mori",
      "photoUrl": "",
      "userId": "01008898198902510619"
     },
     "user_tz": -540
    },
    "id": "hsAVh0tpwNzr",
    "outputId": "b32822a9-a66d-4458-9871-90007eece8e4"
   },
   "outputs": [],
   "source": [
    "a.append(1)\n",
    "a"
   ]
  },
  {
   "cell_type": "markdown",
   "metadata": {
    "colab_type": "text",
    "id": "w6f8dJnXwNzt"
   },
   "source": [
    "すると `c` は以下のようになります。"
   ]
  },
  {
   "cell_type": "code",
   "execution_count": null,
   "metadata": {
    "colab": {
     "base_uri": "https://localhost:8080/",
     "height": 34
    },
    "colab_type": "code",
    "executionInfo": {
     "elapsed": 424,
     "status": "ok",
     "timestamp": 1583413999812,
     "user": {
      "displayName": "Junichiro Mori",
      "photoUrl": "",
      "userId": "01008898198902510619"
     },
     "user_tz": -540
    },
    "id": "wEXYhxjswNzt",
    "outputId": "12433054-1db7-46ba-adc6-72d8ee5748c6"
   },
   "outputs": [],
   "source": [
    "c"
   ]
  },
  {
   "cell_type": "markdown",
   "metadata": {
    "colab_type": "text",
    "id": "s9oYNF8ywNzu"
   },
   "source": [
    "ここで、`a` と `b` は等価でなくなりました。"
   ]
  },
  {
   "cell_type": "code",
   "execution_count": null,
   "metadata": {
    "colab": {
     "base_uri": "https://localhost:8080/",
     "height": 34
    },
    "colab_type": "code",
    "executionInfo": {
     "elapsed": 468,
     "status": "ok",
     "timestamp": 1583414002304,
     "user": {
      "displayName": "Junichiro Mori",
      "photoUrl": "",
      "userId": "01008898198902510619"
     },
     "user_tz": -540
    },
    "id": "USTEwQ48wNzv",
    "outputId": "1e6d16d5-e8d5-4387-cb12-f1942cc02f8a"
   },
   "outputs": [],
   "source": [
    "a == b"
   ]
  },
  {
   "cell_type": "markdown",
   "metadata": {
    "colab_type": "text",
    "id": "eSfuuTvawNzw"
   },
   "source": [
    "次に、`b` を要素として二重に含むリスト `d` を作ります。"
   ]
  },
  {
   "cell_type": "code",
   "execution_count": null,
   "metadata": {
    "colab": {
     "base_uri": "https://localhost:8080/",
     "height": 34
    },
    "colab_type": "code",
    "executionInfo": {
     "elapsed": 480,
     "status": "ok",
     "timestamp": 1583414006360,
     "user": {
      "displayName": "Junichiro Mori",
      "photoUrl": "",
      "userId": "01008898198902510619"
     },
     "user_tz": -540
    },
    "id": "IhoeRAAnwNzw",
    "outputId": "f045e6cf-543e-4f37-b04e-20e60cc966a8"
   },
   "outputs": [],
   "source": [
    "d = [b, b]\n",
    "d"
   ]
  },
  {
   "cell_type": "code",
   "execution_count": null,
   "metadata": {
    "colab": {
     "base_uri": "https://localhost:8080/",
     "height": 34
    },
    "colab_type": "code",
    "executionInfo": {
     "elapsed": 431,
     "status": "ok",
     "timestamp": 1583414009451,
     "user": {
      "displayName": "Junichiro Mori",
      "photoUrl": "",
      "userId": "01008898198902510619"
     },
     "user_tz": -540
    },
    "id": "42ChHnJ6wNzy",
    "outputId": "90f6948b-f618-4b87-8264-d10e6f20214b"
   },
   "outputs": [],
   "source": [
    "d[0] is d[1]"
   ]
  },
  {
   "cell_type": "markdown",
   "metadata": {
    "colab_type": "text",
    "id": "BYpcYmtIwNz0"
   },
   "source": [
    "`b` を変化させてみましょう。"
   ]
  },
  {
   "cell_type": "code",
   "execution_count": null,
   "metadata": {
    "colab": {
     "base_uri": "https://localhost:8080/",
     "height": 34
    },
    "colab_type": "code",
    "executionInfo": {
     "elapsed": 475,
     "status": "ok",
     "timestamp": 1583414016266,
     "user": {
      "displayName": "Junichiro Mori",
      "photoUrl": "",
      "userId": "01008898198902510619"
     },
     "user_tz": -540
    },
    "id": "_-Gj04PcwNz0",
    "outputId": "84440ff1-d370-4a4f-c30c-a33b4fc42492"
   },
   "outputs": [],
   "source": [
    "b.append(1)\n",
    "b"
   ]
  },
  {
   "cell_type": "markdown",
   "metadata": {
    "colab_type": "text",
    "id": "kRsqGrFhwNz3"
   },
   "source": [
    "すると `d` は以下のようになります。"
   ]
  },
  {
   "cell_type": "code",
   "execution_count": null,
   "metadata": {
    "colab": {
     "base_uri": "https://localhost:8080/",
     "height": 34
    },
    "colab_type": "code",
    "executionInfo": {
     "elapsed": 606,
     "status": "ok",
     "timestamp": 1583414018535,
     "user": {
      "displayName": "Junichiro Mori",
      "photoUrl": "",
      "userId": "01008898198902510619"
     },
     "user_tz": -540
    },
    "id": "jRAAkURLwNz4",
    "outputId": "e1100e90-acc1-4d7f-a6b8-3458b60ebb83"
   },
   "outputs": [],
   "source": [
    "d"
   ]
  },
  {
   "cell_type": "markdown",
   "metadata": {
    "colab_type": "text",
    "id": "tIFqZ6xTwNz7"
   },
   "source": [
    "演算子 `==` でリストを比較すると、要素まで見て等価性を判定します。"
   ]
  },
  {
   "cell_type": "code",
   "execution_count": null,
   "metadata": {
    "colab": {
     "base_uri": "https://localhost:8080/",
     "height": 34
    },
    "colab_type": "code",
    "executionInfo": {
     "elapsed": 448,
     "status": "ok",
     "timestamp": 1583414023293,
     "user": {
      "displayName": "Junichiro Mori",
      "photoUrl": "",
      "userId": "01008898198902510619"
     },
     "user_tz": -540
    },
    "id": "I1d0cQKRwNz7",
    "outputId": "a7abfb25-78ff-4861-d289-316c73c2142f"
   },
   "outputs": [],
   "source": [
    "a == b"
   ]
  },
  {
   "cell_type": "markdown",
   "metadata": {
    "colab_type": "text",
    "id": "3cMQ0DmgwNz9"
   },
   "source": [
    "演算子 `==` は、要素の比較も `==` で行います。"
   ]
  },
  {
   "cell_type": "code",
   "execution_count": null,
   "metadata": {
    "colab": {
     "base_uri": "https://localhost:8080/",
     "height": 34
    },
    "colab_type": "code",
    "executionInfo": {
     "elapsed": 695,
     "status": "ok",
     "timestamp": 1583414029278,
     "user": {
      "displayName": "Junichiro Mori",
      "photoUrl": "",
      "userId": "01008898198902510619"
     },
     "user_tz": -540
    },
    "id": "d7ggOrDYwNz9",
    "outputId": "b10afa2b-5259-42fe-9ea4-c72f197b3300"
   },
   "outputs": [],
   "source": [
    "c == d"
   ]
  },
  {
   "cell_type": "markdown",
   "metadata": {
    "colab_type": "text",
    "id": "oJeaCIU2wNz_"
   },
   "source": [
    "一方、オブジェクトの同一性は変化しません。"
   ]
  },
  {
   "cell_type": "code",
   "execution_count": null,
   "metadata": {
    "colab": {
     "base_uri": "https://localhost:8080/",
     "height": 34
    },
    "colab_type": "code",
    "executionInfo": {
     "elapsed": 569,
     "status": "ok",
     "timestamp": 1583414043304,
     "user": {
      "displayName": "Junichiro Mori",
      "photoUrl": "",
      "userId": "01008898198902510619"
     },
     "user_tz": -540
    },
    "id": "8zES80lawNz_",
    "outputId": "655a1ff9-467b-482f-abb4-e95501f5edc0"
   },
   "outputs": [],
   "source": [
    "a is b"
   ]
  },
  {
   "cell_type": "markdown",
   "metadata": {
    "colab_type": "text",
    "id": "Py4jNBMhwN0C"
   },
   "source": [
    "`==` の否定形は `!=` で、`is` の否定形は **`is not`** です。\n",
    "`not x == y` は `x != y` と書けます。`not x is y` は `x is not y` と書けます。\n",
    "`is not` はこれで一つの演算子なので注意してください。"
   ]
  },
  {
   "cell_type": "code",
   "execution_count": null,
   "metadata": {
    "colab": {
     "base_uri": "https://localhost:8080/",
     "height": 34
    },
    "colab_type": "code",
    "executionInfo": {
     "elapsed": 438,
     "status": "ok",
     "timestamp": 1583414057011,
     "user": {
      "displayName": "Junichiro Mori",
      "photoUrl": "",
      "userId": "01008898198902510619"
     },
     "user_tz": -540
    },
    "id": "LjvRlhhJwN0D",
    "outputId": "4fe60c50-2ddc-4313-a588-102186257d8c"
   },
   "outputs": [],
   "source": [
    "c != d"
   ]
  },
  {
   "cell_type": "code",
   "execution_count": null,
   "metadata": {
    "colab": {
     "base_uri": "https://localhost:8080/",
     "height": 34
    },
    "colab_type": "code",
    "executionInfo": {
     "elapsed": 484,
     "status": "ok",
     "timestamp": 1583414060020,
     "user": {
      "displayName": "Junichiro Mori",
      "photoUrl": "",
      "userId": "01008898198902510619"
     },
     "user_tz": -540
    },
    "id": "kWuClBOuwN0E",
    "outputId": "e4be455c-8454-4e28-9731-bb91d2be0765"
   },
   "outputs": [],
   "source": [
    "a is not b"
   ]
  },
  {
   "cell_type": "markdown",
   "metadata": {
    "colab_type": "text",
    "id": "odZua1QbwN0M"
   },
   "source": [
    "## 練習の解答"
   ]
  },
  {
   "cell_type": "code",
   "execution_count": null,
   "metadata": {
    "colab": {},
    "colab_type": "code",
    "id": "0zWEaU9HwN0N"
   },
   "outputs": [],
   "source": [
    "def remove_evenindex(ln):\n",
    "    ln2 = ln[1::2]\n",
    "    return ln2\n",
    "#remove_evenindex(['a', 'b', 'c', 'd', 'e', 'f', 'g'])"
   ]
  },
  {
   "cell_type": "code",
   "execution_count": null,
   "metadata": {
    "colab": {},
    "colab_type": "code",
    "id": "akZb8dSswN0R"
   },
   "outputs": [],
   "source": [
    "def count_words(str_engsentences):\n",
    "    list_str1 = str_engsentences.split(' ')\n",
    "    return len(list_str1)\n",
    "#count_words('From Stettin in the Baltic to Trieste in the Adriatic an iron curtain has descended across the Continent.')"
   ]
  },
  {
   "cell_type": "code",
   "execution_count": null,
   "metadata": {
    "colab": {},
    "colab_type": "code",
    "id": "haf21m3ewN0S"
   },
   "outputs": [],
   "source": [
    "def reverse_totuple(ln):\n",
    "    ln.reverse()\n",
    "    tup = tuple(ln)\n",
    "    return tup\n",
    "#reverse_totuple([1, 2, 3, 4, 5])"
   ]
  },
  {
   "cell_type": "code",
   "execution_count": null,
   "metadata": {
    "colab": {},
    "colab_type": "code",
    "id": "lc-uDXzqwN0T"
   },
   "outputs": [],
   "source": [
    "def sum_list(ln):\n",
    "    int_sum = 0\n",
    "    for value in ln:\n",
    "        int_sum += value\n",
    "    return int_sum\n",
    "#sum_list([10, 20, 30])"
   ]
  },
  {
   "cell_type": "code",
   "execution_count": null,
   "metadata": {
    "colab": {},
    "colab_type": "code",
    "id": "6REdcm-ywN0U"
   },
   "outputs": [],
   "source": [
    "def atgc_countlist(str_atgc):\n",
    "    list_count = []\n",
    "    for value in 'ATGC':\n",
    "        int_bpcnt = str_atgc.count(value)\n",
    "        list_count.append([int_bpcnt, value])\n",
    "    return list_count\n",
    "#atgc_countlist('AAGCCCCATGGTAA') "
   ]
  },
  {
   "cell_type": "code",
   "execution_count": null,
   "metadata": {
    "colab": {},
    "colab_type": "code",
    "id": "tWvn9XsMwN0Y"
   },
   "outputs": [],
   "source": []
  }
 ],
 "metadata": {
  "colab": {
   "collapsed_sections": [],
   "name": "2-2.ipynb",
   "provenance": [],
   "toc_visible": true
  },
  "kernelspec": {
   "display_name": "Python 3",
   "language": "python",
   "name": "python3"
  },
  "language_info": {
   "codemirror_mode": {
    "name": "ipython",
    "version": 3
   },
   "file_extension": ".py",
   "mimetype": "text/x-python",
   "name": "python",
   "nbconvert_exporter": "python",
   "pygments_lexer": "ipython3",
   "version": "3.7.3"
  }
 },
 "nbformat": 4,
 "nbformat_minor": 1
}
