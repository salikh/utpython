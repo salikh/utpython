{
 "cells": [
  {
   "cell_type": "markdown",
   "metadata": {
    "colab_type": "text",
    "id": "Mg07n1YriY2K"
   },
   "source": [
    "# 1-1. 数値演算\n",
    "数値演算について説明します。\n",
    "\n",
    "参考\n",
    "\n",
    "- https://docs.python.org/ja/3/tutorial/introduction.html#using-python-as-a-calculator\n",
    "- https://docs.python.org/ja/3/tutorial/modules.html\n",
    "- https://docs.python.org/ja/3/library/numeric.html"
   ]
  },
  {
   "cell_type": "markdown",
   "metadata": {
    "colab_type": "text",
    "id": "oPWb9_kIiY2O"
   },
   "source": [
    "## 簡単な算術計算\n",
    "\n",
    "以下のように左に `[ ]` と表示されているセルにPythonの式を入力して、\n",
    "Shiftを押しながらEnterを押すと、式が評価され、その結果の値がセルの下に挿入されます。\n",
    "\n",
    "1+1 の計算をしてみましょう。次のセルに `1+1` と入力して、\n",
    "Shiftを押しながらEnterを押してください。"
   ]
  },
  {
   "cell_type": "code",
   "execution_count": null,
   "metadata": {
    "colab": {
     "base_uri": "https://localhost:8080/",
     "height": 34
    },
    "colab_type": "code",
    "executionInfo": {
     "elapsed": 1296,
     "status": "ok",
     "timestamp": 1583409202335,
     "user": {
      "displayName": "Junichiro Mori",
      "photoUrl": "",
      "userId": "01008898198902510619"
     },
     "user_tz": -540
    },
    "id": "HiY8keLeiY32",
    "outputId": "88a97fbb-bfde-4332-abba-cce21b8134fd"
   },
   "outputs": [],
   "source": [
    "1+1"
   ]
  },
  {
   "cell_type": "markdown",
   "metadata": {
    "colab_type": "text",
    "id": "Oy2pbDBaiY3-"
   },
   "source": [
    "このようにして、電卓の代わりにPythonを使うことができます。**`+`** は言うまでもなく**足し算**を表しています。"
   ]
  },
  {
   "cell_type": "code",
   "execution_count": null,
   "metadata": {
    "colab": {
     "base_uri": "https://localhost:8080/",
     "height": 34
    },
    "colab_type": "code",
    "executionInfo": {
     "elapsed": 953,
     "status": "ok",
     "timestamp": 1583409255806,
     "user": {
      "displayName": "Junichiro Mori",
      "photoUrl": "",
      "userId": "01008898198902510619"
     },
     "user_tz": -540
    },
    "id": "CFa900jUiY3_",
    "outputId": "23edb03d-ded2-4e16-caf9-d96bf8d7fc31"
   },
   "outputs": [],
   "source": [
    "7-2"
   ]
  },
  {
   "cell_type": "code",
   "execution_count": null,
   "metadata": {
    "colab": {
     "base_uri": "https://localhost:8080/",
     "height": 34
    },
    "colab_type": "code",
    "executionInfo": {
     "elapsed": 1244,
     "status": "ok",
     "timestamp": 1583409257837,
     "user": {
      "displayName": "Junichiro Mori",
      "photoUrl": "",
      "userId": "01008898198902510619"
     },
     "user_tz": -540
    },
    "id": "E8FNo41KiY4D",
    "outputId": "3f453bcd-038d-45e4-a2f9-d587785f621d"
   },
   "outputs": [],
   "source": [
    "7*2"
   ]
  },
  {
   "cell_type": "code",
   "execution_count": null,
   "metadata": {
    "colab": {
     "base_uri": "https://localhost:8080/",
     "height": 34
    },
    "colab_type": "code",
    "executionInfo": {
     "elapsed": 1219,
     "status": "ok",
     "timestamp": 1583409259796,
     "user": {
      "displayName": "Junichiro Mori",
      "photoUrl": "",
      "userId": "01008898198902510619"
     },
     "user_tz": -540
    },
    "id": "U0zA4HE8iY4H",
    "outputId": "d0fb00e7-978d-4c54-cd83-652683f10e19"
   },
   "outputs": [],
   "source": [
    "7**2"
   ]
  },
  {
   "cell_type": "markdown",
   "metadata": {
    "colab_type": "text",
    "id": "AmSovUBwiY4K"
   },
   "source": [
    "**`-`** は**引き算**、**`*`** は**掛け算**、<b>`**`</b> は**べき乗**を表しています。\n",
    "\n",
    "式を適当に書き換えてから、Shiftを押しながらEnterを押すと、\n",
    "書き換えた後の式が評価されて、セルの下の値はその結果で置き換わります。\n",
    "たとえば、上の `2` を `100` に書き換えて、7の100乗を求めてみてください。"
   ]
  },
  {
   "cell_type": "markdown",
   "metadata": {
    "colab_type": "text",
    "id": "5vFvsnOYiY4L"
   },
   "source": [
    "割り算はどうなるでしょうか。"
   ]
  },
  {
   "cell_type": "code",
   "execution_count": null,
   "metadata": {
    "colab": {
     "base_uri": "https://localhost:8080/",
     "height": 34
    },
    "colab_type": "code",
    "executionInfo": {
     "elapsed": 1780,
     "status": "ok",
     "timestamp": 1583409272966,
     "user": {
      "displayName": "Junichiro Mori",
      "photoUrl": "",
      "userId": "01008898198902510619"
     },
     "user_tz": -540
    },
    "id": "qh2Vfo_viY4M",
    "outputId": "1bff7fd4-b048-4a34-8717-cbd4548c45d3"
   },
   "outputs": [],
   "source": [
    "7/2"
   ]
  },
  {
   "cell_type": "code",
   "execution_count": null,
   "metadata": {
    "colab": {
     "base_uri": "https://localhost:8080/",
     "height": 34
    },
    "colab_type": "code",
    "executionInfo": {
     "elapsed": 977,
     "status": "ok",
     "timestamp": 1583409275123,
     "user": {
      "displayName": "Junichiro Mori",
      "photoUrl": "",
      "userId": "01008898198902510619"
     },
     "user_tz": -540
    },
    "id": "R-ZDEKa1iY4Q",
    "outputId": "3f63941e-eb4b-4cec-bb7b-494a99be371f"
   },
   "outputs": [],
   "source": [
    "7//2"
   ]
  },
  {
   "cell_type": "markdown",
   "metadata": {
    "colab_type": "text",
    "id": "KC7COIadiY4T"
   },
   "source": [
    "Pythonでは、**割り算**は **`/`** で表され、**整除**は **`//`** で表されます。\n",
    "\n",
    "整除は整数同士の割り算で、商も余りも整数となります。"
   ]
  },
  {
   "cell_type": "code",
   "execution_count": null,
   "metadata": {
    "colab": {
     "base_uri": "https://localhost:8080/",
     "height": 34
    },
    "colab_type": "code",
    "executionInfo": {
     "elapsed": 989,
     "status": "ok",
     "timestamp": 1583409278900,
     "user": {
      "displayName": "Junichiro Mori",
      "photoUrl": "",
      "userId": "01008898198902510619"
     },
     "user_tz": -540
    },
    "id": "JDoXvgQ-iY4U",
    "outputId": "241dcb12-72d8-4f4e-d9ff-b9ed42113c27"
   },
   "outputs": [],
   "source": [
    "7/1"
   ]
  },
  {
   "cell_type": "code",
   "execution_count": null,
   "metadata": {
    "colab": {
     "base_uri": "https://localhost:8080/",
     "height": 34
    },
    "colab_type": "code",
    "executionInfo": {
     "elapsed": 983,
     "status": "ok",
     "timestamp": 1583409281481,
     "user": {
      "displayName": "Junichiro Mori",
      "photoUrl": "",
      "userId": "01008898198902510619"
     },
     "user_tz": -540
    },
    "id": "XpFip805iY4Y",
    "outputId": "5c672f8b-0536-4d1e-e937-8a4b16bff770"
   },
   "outputs": [],
   "source": [
    "7//1"
   ]
  },
  {
   "cell_type": "markdown",
   "metadata": {
    "colab_type": "text",
    "id": "HWI7iMPsiY4c"
   },
   "source": [
    "整除の**余り**を求めたいときは、別の演算子 **`%`** を用います。"
   ]
  },
  {
   "cell_type": "code",
   "execution_count": null,
   "metadata": {
    "colab": {
     "base_uri": "https://localhost:8080/",
     "height": 34
    },
    "colab_type": "code",
    "executionInfo": {
     "elapsed": 996,
     "status": "ok",
     "timestamp": 1583409286473,
     "user": {
      "displayName": "Junichiro Mori",
      "photoUrl": "",
      "userId": "01008898198902510619"
     },
     "user_tz": -540
    },
    "id": "ifMiRYZmiY4e",
    "outputId": "599c884c-7990-4d53-9668-07a872fbccec"
   },
   "outputs": [],
   "source": [
    "7%2"
   ]
  },
  {
   "cell_type": "markdown",
   "metadata": {
    "colab_type": "text",
    "id": "2fl7-MGxiY4h"
   },
   "source": [
    "## コメント\n",
    "Pythonでは一般に、コードの中に **`#`** が出現すると、それ以降、その行の終わりまでが**コメント**になります。\n",
    "コメントは行頭からも、行の途中からでも始めることができます。\n",
    "\n",
    "プログラムの実行時には、コメントは無視されます。"
   ]
  },
  {
   "cell_type": "code",
   "execution_count": null,
   "metadata": {
    "colab": {
     "base_uri": "https://localhost:8080/",
     "height": 34
    },
    "colab_type": "code",
    "executionInfo": {
     "elapsed": 457,
     "status": "ok",
     "timestamp": 1583409325258,
     "user": {
      "displayName": "Junichiro Mori",
      "photoUrl": "",
      "userId": "01008898198902510619"
     },
     "user_tz": -540
    },
    "id": "7ac0b0ooiY4i",
    "outputId": "ee37a92c-e3a6-4e27-c3ad-a94d7bc0d0fd"
   },
   "outputs": [],
   "source": [
    "# このように行頭に '#' をおけば、行全体をコメントとすることができます。\n",
    "\n",
    "# 次のようにコード行に続けて直前のコードについての説明をコメントとして書くこともできます。\n",
    "2**10  # 2の10乗を計算します"
   ]
  },
  {
   "cell_type": "code",
   "execution_count": null,
   "metadata": {
    "colab": {
     "base_uri": "https://localhost:8080/",
     "height": 34
    },
    "colab_type": "code",
    "executionInfo": {
     "elapsed": 491,
     "status": "ok",
     "timestamp": 1583409323152,
     "user": {
      "displayName": "Junichiro Mori",
      "photoUrl": "",
      "userId": "01008898198902510619"
     },
     "user_tz": -540
    },
    "id": "nvSycidwiY4l",
    "outputId": "cf934e4e-ba31-40d0-c804-7edd41ad42c9"
   },
   "outputs": [],
   "source": [
    "# 次のようにコード行自体をコメントとすることで、その行を無視させる（コメントアウトする）こともよく行われます。\n",
    "# 2**10  # 2の10乗を計算します この行が「コメントアウト」された\n",
    "2**12  # 実は計算したいのは2の12乗でした"
   ]
  },
  {
   "cell_type": "markdown",
   "metadata": {
    "colab_type": "text",
    "id": "k5aTM5GRiY4n"
   },
   "source": [
    "## 整数と実数\n",
    "Pythonでは、**整数**と小数点のある数（**実数**）は、数学的に同じ数を表す場合でも、\n",
    "コンピュータの中で異なる形式で記憶されますので、表示は異なります。\n",
    "（実数は**浮動小数点数**ともいいます。）"
   ]
  },
  {
   "cell_type": "code",
   "execution_count": null,
   "metadata": {
    "colab": {
     "base_uri": "https://localhost:8080/",
     "height": 34
    },
    "colab_type": "code",
    "executionInfo": {
     "elapsed": 460,
     "status": "ok",
     "timestamp": 1583409358142,
     "user": {
      "displayName": "Junichiro Mori",
      "photoUrl": "",
      "userId": "01008898198902510619"
     },
     "user_tz": -540
    },
    "id": "_yOKaomViY4o",
    "outputId": "3c5be5ac-66c9-49f8-a973-4bfc1d0b8c13"
   },
   "outputs": [],
   "source": [
    "7/1"
   ]
  },
  {
   "cell_type": "code",
   "execution_count": null,
   "metadata": {
    "colab": {
     "base_uri": "https://localhost:8080/",
     "height": 34
    },
    "colab_type": "code",
    "executionInfo": {
     "elapsed": 484,
     "status": "ok",
     "timestamp": 1583409359499,
     "user": {
      "displayName": "Junichiro Mori",
      "photoUrl": "",
      "userId": "01008898198902510619"
     },
     "user_tz": -540
    },
    "id": "At0upgBPiY4s",
    "outputId": "f55218e5-09d7-489d-e775-15b5bd538352"
   },
   "outputs": [],
   "source": [
    "7//1"
   ]
  },
  {
   "cell_type": "markdown",
   "metadata": {
    "colab_type": "text",
    "id": "Q61xR6OkiY4v"
   },
   "source": [
    "しかし、以下のように、比較を行うと両者は等しいものとして扱われます。\n",
    "データ同士が等しいかどうかを調べる `==` という演算子については、後で紹介します。"
   ]
  },
  {
   "cell_type": "code",
   "execution_count": null,
   "metadata": {
    "colab": {
     "base_uri": "https://localhost:8080/",
     "height": 34
    },
    "colab_type": "code",
    "executionInfo": {
     "elapsed": 484,
     "status": "ok",
     "timestamp": 1583409366134,
     "user": {
      "displayName": "Junichiro Mori",
      "photoUrl": "",
      "userId": "01008898198902510619"
     },
     "user_tz": -540
    },
    "id": "uT3wBoEkiY4w",
    "outputId": "db13e021-68f1-4d76-bc80-38aef4526181"
   },
   "outputs": [],
   "source": [
    "7/1 == 7//1"
   ]
  },
  {
   "cell_type": "markdown",
   "metadata": {
    "colab_type": "text",
    "id": "60cSrTlZiY4z"
   },
   "source": [
    "`+` と `-` と `*` と `//` と `%` と `**` では、二つの数が整数ならば結果も整数になります。\n",
    "二つの数が実数であったり、整数と実数が混ざっていたら、結果は実数になります。"
   ]
  },
  {
   "cell_type": "code",
   "execution_count": null,
   "metadata": {
    "colab": {
     "base_uri": "https://localhost:8080/",
     "height": 34
    },
    "colab_type": "code",
    "executionInfo": {
     "elapsed": 483,
     "status": "ok",
     "timestamp": 1583409371222,
     "user": {
      "displayName": "Junichiro Mori",
      "photoUrl": "",
      "userId": "01008898198902510619"
     },
     "user_tz": -540
    },
    "id": "r2OPomiliY40",
    "outputId": "6ab7ab3d-3dcf-4e3f-b406-63bc6bec89ea"
   },
   "outputs": [],
   "source": [
    "2+5"
   ]
  },
  {
   "cell_type": "code",
   "execution_count": null,
   "metadata": {
    "colab": {
     "base_uri": "https://localhost:8080/",
     "height": 34
    },
    "colab_type": "code",
    "executionInfo": {
     "elapsed": 425,
     "status": "ok",
     "timestamp": 1583409372635,
     "user": {
      "displayName": "Junichiro Mori",
      "photoUrl": "",
      "userId": "01008898198902510619"
     },
     "user_tz": -540
    },
    "id": "ZHQUfAexiY43",
    "outputId": "91b8d15d-827d-409c-ccfb-d20fef74f301"
   },
   "outputs": [],
   "source": [
    "2+5.0"
   ]
  },
  {
   "cell_type": "markdown",
   "metadata": {
    "colab_type": "text",
    "id": "otwmPAgqiY45"
   },
   "source": [
    "`/` の結果は必ず実数となります。"
   ]
  },
  {
   "cell_type": "code",
   "execution_count": null,
   "metadata": {
    "colab": {
     "base_uri": "https://localhost:8080/",
     "height": 34
    },
    "colab_type": "code",
    "executionInfo": {
     "elapsed": 638,
     "status": "ok",
     "timestamp": 1583409376217,
     "user": {
      "displayName": "Junichiro Mori",
      "photoUrl": "",
      "userId": "01008898198902510619"
     },
     "user_tz": -540
    },
    "id": "k5AOSLoDiY47",
    "outputId": "5f50d84c-7244-402c-e384-e82f4eb38419"
   },
   "outputs": [],
   "source": [
    "7/1"
   ]
  },
  {
   "cell_type": "markdown",
   "metadata": {
    "colab_type": "text",
    "id": "R3IQFtWKiY5A"
   },
   "source": [
    "ここで、自分で色々と式を入力してみてください。\n",
    "以下に、いくつかセルを用意しておきます。\n",
    "足りなければ、Insertメニューを使ってセルを追加することができます。"
   ]
  },
  {
   "cell_type": "code",
   "execution_count": null,
   "metadata": {
    "colab": {},
    "colab_type": "code",
    "id": "XxWjKodYiY5B"
   },
   "outputs": [],
   "source": []
  },
  {
   "cell_type": "code",
   "execution_count": null,
   "metadata": {
    "colab": {},
    "colab_type": "code",
    "id": "2-r3JBUFiY5E"
   },
   "outputs": [],
   "source": []
  },
  {
   "cell_type": "code",
   "execution_count": null,
   "metadata": {
    "colab": {},
    "colab_type": "code",
    "id": "YPZ2BYw9iY5H"
   },
   "outputs": [],
   "source": []
  },
  {
   "cell_type": "markdown",
   "metadata": {
    "colab_type": "text",
    "id": "inNqXbXbiY5J"
   },
   "source": [
    "### 実数のべき表示"
   ]
  },
  {
   "cell_type": "code",
   "execution_count": null,
   "metadata": {
    "colab": {
     "base_uri": "https://localhost:8080/",
     "height": 34
    },
    "colab_type": "code",
    "executionInfo": {
     "elapsed": 470,
     "status": "ok",
     "timestamp": 1583409390758,
     "user": {
      "displayName": "Junichiro Mori",
      "photoUrl": "",
      "userId": "01008898198902510619"
     },
     "user_tz": -540
    },
    "id": "AQiu0VAXiY5K",
    "outputId": "92008ae2-6d00-41cd-c2dc-92f2d5f033b8"
   },
   "outputs": [],
   "source": [
    "2.0**1000"
   ]
  },
  {
   "cell_type": "markdown",
   "metadata": {
    "colab_type": "text",
    "id": "X7KBgG0ziY5N"
   },
   "source": [
    "非常に大きな実数は、10のべきとともに表示（**べき表示**）されます。\n",
    "`e+301` は10の301乗を意味します。"
   ]
  },
  {
   "cell_type": "code",
   "execution_count": null,
   "metadata": {
    "colab": {
     "base_uri": "https://localhost:8080/",
     "height": 34
    },
    "colab_type": "code",
    "executionInfo": {
     "elapsed": 534,
     "status": "ok",
     "timestamp": 1583409395676,
     "user": {
      "displayName": "Junichiro Mori",
      "photoUrl": "",
      "userId": "01008898198902510619"
     },
     "user_tz": -540
    },
    "id": "7I_bkbghiY5O",
    "outputId": "0d8e7c04-7b5a-474a-9b4f-736aca83dafc"
   },
   "outputs": [],
   "source": [
    "2.0**-1000"
   ]
  },
  {
   "cell_type": "markdown",
   "metadata": {
    "colab_type": "text",
    "id": "xXoh_C47iY5Q"
   },
   "source": [
    "非常に小さな実数も、10のべきとともに表示されます。\n",
    "`e-302` は10の-302乗を意味します。"
   ]
  },
  {
   "cell_type": "markdown",
   "metadata": {
    "colab_type": "text",
    "id": "LEUpQmO3iY5R"
   },
   "source": [
    "### いくらでも大きくなる整数"
   ]
  },
  {
   "cell_type": "code",
   "execution_count": null,
   "metadata": {
    "colab": {
     "base_uri": "https://localhost:8080/",
     "height": 54
    },
    "colab_type": "code",
    "executionInfo": {
     "elapsed": 498,
     "status": "ok",
     "timestamp": 1583409401928,
     "user": {
      "displayName": "Junichiro Mori",
      "photoUrl": "",
      "userId": "01008898198902510619"
     },
     "user_tz": -540
    },
    "id": "OSMRI5ediY5S",
    "outputId": "38b67090-bfa2-4a51-80bf-15a68bf0f095"
   },
   "outputs": [],
   "source": [
    "2**1000"
   ]
  },
  {
   "cell_type": "markdown",
   "metadata": {
    "colab_type": "text",
    "id": "M-FXOh1NiY5V"
   },
   "source": [
    "このように、Pythonでは整数はいくらでも大きくなります。\n",
    "もちろん、コンピュータのメモリに納まる限りにおいてですが。"
   ]
  },
  {
   "cell_type": "code",
   "execution_count": null,
   "metadata": {
    "colab": {
     "base_uri": "https://localhost:8080/",
     "height": 54
    },
    "colab_type": "code",
    "executionInfo": {
     "elapsed": 651,
     "status": "ok",
     "timestamp": 1583409404554,
     "user": {
      "displayName": "Junichiro Mori",
      "photoUrl": "",
      "userId": "01008898198902510619"
     },
     "user_tz": -540
    },
    "id": "ROHWPw8IiY5X",
    "outputId": "f9d07269-08db-499a-c7a6-49a88db247aa"
   },
   "outputs": [],
   "source": [
    "2**2**2**2**2"
   ]
  },
  {
   "cell_type": "markdown",
   "metadata": {
    "colab_type": "text",
    "id": "q12ZYGgjiY5b"
   },
   "source": [
    "## 演算子の優先順位と括弧\n",
    "掛け算や割り算は足し算や引き算よりも先に評価されます。\n",
    "すなわち、掛け算や割り算の方が足し算や引き算よりも**優先順位**が高いと定義されています。\n",
    "\n",
    "**括弧**を使って式の評価順序を指定することができます。\n",
    "\n",
    "なお、数式 $a(b-c)$、$(a-b)(c-d)$ は、それぞれ $a$ と $b-c$、$a-b$ と $c-d$ の積を意味しますが、\n",
    "コードでは、`a*(b-c)` や `(a-b)*(c-d)` のように積の演算子である `*` を明記する必要があることに注意してください。\n",
    "\n",
    "また、数や演算子の間には、適当に空白を入れることができます。（後でもう一度説明します。）"
   ]
  },
  {
   "cell_type": "code",
   "execution_count": null,
   "metadata": {
    "colab": {
     "base_uri": "https://localhost:8080/",
     "height": 34
    },
    "colab_type": "code",
    "executionInfo": {
     "elapsed": 468,
     "status": "ok",
     "timestamp": 1583409420493,
     "user": {
      "displayName": "Junichiro Mori",
      "photoUrl": "",
      "userId": "01008898198902510619"
     },
     "user_tz": -540
    },
    "id": "HRV0i5_ViY5c",
    "outputId": "05bc0f19-09e0-47c1-e865-7a369873a8fe"
   },
   "outputs": [],
   "source": [
    "7 - 2 * 3"
   ]
  },
  {
   "cell_type": "code",
   "execution_count": null,
   "metadata": {
    "colab": {
     "base_uri": "https://localhost:8080/",
     "height": 34
    },
    "colab_type": "code",
    "executionInfo": {
     "elapsed": 503,
     "status": "ok",
     "timestamp": 1583409421658,
     "user": {
      "displayName": "Junichiro Mori",
      "photoUrl": "",
      "userId": "01008898198902510619"
     },
     "user_tz": -540
    },
    "id": "WG_NguByiY5f",
    "outputId": "3d182e92-dca2-439d-a8da-2b8ad5ea67d4"
   },
   "outputs": [],
   "source": [
    "(7 - 2) * 3"
   ]
  },
  {
   "cell_type": "code",
   "execution_count": null,
   "metadata": {
    "colab": {
     "base_uri": "https://localhost:8080/",
     "height": 34
    },
    "colab_type": "code",
    "executionInfo": {
     "elapsed": 583,
     "status": "ok",
     "timestamp": 1583409423233,
     "user": {
      "displayName": "Junichiro Mori",
      "photoUrl": "",
      "userId": "01008898198902510619"
     },
     "user_tz": -540
    },
    "id": "GJ0nWZlTiY5k",
    "outputId": "10ac1d97-31d8-49f3-92ad-e5fc4e47ae4b"
   },
   "outputs": [],
   "source": [
    "17 - 17//3*3"
   ]
  },
  {
   "cell_type": "code",
   "execution_count": null,
   "metadata": {
    "colab": {
     "base_uri": "https://localhost:8080/",
     "height": 34
    },
    "colab_type": "code",
    "executionInfo": {
     "elapsed": 600,
     "status": "ok",
     "timestamp": 1583409424609,
     "user": {
      "displayName": "Junichiro Mori",
      "photoUrl": "",
      "userId": "01008898198902510619"
     },
     "user_tz": -540
    },
    "id": "EUiPN-FSiY5o",
    "outputId": "2de76651-eb22-4abb-fdd2-93b7aebdfcaa"
   },
   "outputs": [],
   "source": [
    "56 ** 4 ** 2"
   ]
  },
  {
   "cell_type": "code",
   "execution_count": null,
   "metadata": {
    "colab": {
     "base_uri": "https://localhost:8080/",
     "height": 34
    },
    "colab_type": "code",
    "executionInfo": {
     "elapsed": 498,
     "status": "ok",
     "timestamp": 1583409425751,
     "user": {
      "displayName": "Junichiro Mori",
      "photoUrl": "",
      "userId": "01008898198902510619"
     },
     "user_tz": -540
    },
    "id": "Vvauz3ssiY5q",
    "outputId": "1dadb1f9-2a6c-496c-8f6c-7279840e9064"
   },
   "outputs": [],
   "source": [
    "56 ** 16"
   ]
  },
  {
   "cell_type": "markdown",
   "metadata": {
    "colab_type": "text",
    "id": "I61BarSTiY5s"
   },
   "source": [
    "上の例では、`4**2` が先に評価されて、`56**16` が計算されます。\n",
    "つまり、`x**y**z` = `x**(y**z)` が成り立ちます。\n",
    "このことをもって、`**` は右に結合するといいます。"
   ]
  },
  {
   "cell_type": "code",
   "execution_count": null,
   "metadata": {
    "colab": {
     "base_uri": "https://localhost:8080/",
     "height": 34
    },
    "colab_type": "code",
    "executionInfo": {
     "elapsed": 482,
     "status": "ok",
     "timestamp": 1583409430737,
     "user": {
      "displayName": "Junichiro Mori",
      "photoUrl": "",
      "userId": "01008898198902510619"
     },
     "user_tz": -540
    },
    "id": "iutV8VmhiY5u",
    "outputId": "8e9291e9-fe61-4449-96de-d53fe11f4763"
   },
   "outputs": [],
   "source": [
    "16/8/2"
   ]
  },
  {
   "cell_type": "code",
   "execution_count": null,
   "metadata": {
    "colab": {
     "base_uri": "https://localhost:8080/",
     "height": 34
    },
    "colab_type": "code",
    "executionInfo": {
     "elapsed": 495,
     "status": "ok",
     "timestamp": 1583409433709,
     "user": {
      "displayName": "Junichiro Mori",
      "photoUrl": "",
      "userId": "01008898198902510619"
     },
     "user_tz": -540
    },
    "id": "u5A5zNJ9iY5x",
    "outputId": "63ecf8d0-e2b2-42e7-e75d-1f7ae9db506e"
   },
   "outputs": [],
   "source": [
    "(16/8)/2"
   ]
  },
  {
   "cell_type": "markdown",
   "metadata": {
    "colab_type": "text",
    "collapsed": true,
    "id": "H26AoBDUiY50"
   },
   "source": [
    "上の例では、`16/8` が先に評価されて、`2/2` が計算されます。\n",
    "つまり、`x/y/z` = `(x/y)/z` が成り立ちます。\n",
    "このことをもって、`/` は左に結合するといいます。"
   ]
  },
  {
   "cell_type": "markdown",
   "metadata": {
    "colab_type": "text",
    "id": "iZ-XkRDCiY51"
   },
   "source": [
    "`*` と `/` をまぜても左に結合します。"
   ]
  },
  {
   "cell_type": "code",
   "execution_count": null,
   "metadata": {
    "colab": {
     "base_uri": "https://localhost:8080/",
     "height": 34
    },
    "colab_type": "code",
    "executionInfo": {
     "elapsed": 494,
     "status": "ok",
     "timestamp": 1583409453108,
     "user": {
      "displayName": "Junichiro Mori",
      "photoUrl": "",
      "userId": "01008898198902510619"
     },
     "user_tz": -540
    },
    "id": "eDuqZg9niY51",
    "outputId": "88f3bdee-ec4f-4bd6-fc9e-31eda4cff514",
    "scrolled": true
   },
   "outputs": [],
   "source": [
    "10/2*3"
   ]
  },
  {
   "cell_type": "markdown",
   "metadata": {
    "colab_type": "text",
    "collapsed": true,
    "id": "SVMpGfLEiY53"
   },
   "source": [
    "以上のように、演算子によって式の評価の順番がかわりますので注意してください。\n",
    "\n",
    "ではまた、自分で色々と式を入力してみてください。\n",
    "以下に、いくつかセルを用意しておきます。"
   ]
  },
  {
   "cell_type": "code",
   "execution_count": null,
   "metadata": {
    "colab": {},
    "colab_type": "code",
    "id": "A49VmKRBiY54"
   },
   "outputs": [],
   "source": []
  },
  {
   "cell_type": "code",
   "execution_count": null,
   "metadata": {
    "colab": {},
    "colab_type": "code",
    "id": "S6CI9en1iY56"
   },
   "outputs": [],
   "source": []
  },
  {
   "cell_type": "code",
   "execution_count": null,
   "metadata": {
    "colab": {},
    "colab_type": "code",
    "id": "pjlW8k4FiY59"
   },
   "outputs": [],
   "source": []
  },
  {
   "cell_type": "markdown",
   "metadata": {
    "colab_type": "text",
    "id": "lBJ3lVDgiY6E"
   },
   "source": [
    "### 単項の `+` と `-`"
   ]
  },
  {
   "cell_type": "markdown",
   "metadata": {
    "colab_type": "text",
    "id": "gnGM4jAqiY6F"
   },
   "source": [
    "**`+`** と **`-`** は、**単項**の演算子としても使えます。\n",
    "（これらの演算子の後に一つだけ数が書かれます。\n",
    "前と後の両方に数が書かれる演算子は**2項**と言います。）"
   ]
  },
  {
   "cell_type": "code",
   "execution_count": null,
   "metadata": {
    "colab": {
     "base_uri": "https://localhost:8080/",
     "height": 34
    },
    "colab_type": "code",
    "executionInfo": {
     "elapsed": 503,
     "status": "ok",
     "timestamp": 1583409467177,
     "user": {
      "displayName": "Junichiro Mori",
      "photoUrl": "",
      "userId": "01008898198902510619"
     },
     "user_tz": -540
    },
    "id": "ZhDU8WIxiY6G",
    "outputId": "93b0d33a-a568-438e-9522-07774e88f063"
   },
   "outputs": [],
   "source": [
    "-3"
   ]
  },
  {
   "cell_type": "code",
   "execution_count": null,
   "metadata": {
    "colab": {
     "base_uri": "https://localhost:8080/",
     "height": 34
    },
    "colab_type": "code",
    "executionInfo": {
     "elapsed": 608,
     "status": "ok",
     "timestamp": 1583409475108,
     "user": {
      "displayName": "Junichiro Mori",
      "photoUrl": "",
      "userId": "01008898198902510619"
     },
     "user_tz": -540
    },
    "id": "-ah_ZuWCiY6J",
    "outputId": "83851d24-47b8-42fd-9c54-4b1e900870fc"
   },
   "outputs": [],
   "source": [
    "+3"
   ]
  },
  {
   "cell_type": "markdown",
   "metadata": {
    "colab_type": "text",
    "id": "FrpEGIfliY6M"
   },
   "source": [
    "## 算術演算子のまとめ\n",
    "\n",
    "算術演算子を、評価の優先順位にしたがって、すなわち結合力の強い順にまとめておきましょう。\n",
    "\n",
    "単項の `+` と `-` は最も強く結合します。\n",
    "\n",
    "次に、`**` が強く結合します。`**` は右に結合します。\n",
    "\n",
    "その次に、2項の `*` と `/` と `// `と `%` が強く結合します。これらは左に結合します。\n",
    "\n",
    "最後に、2項の `+` と `-` は最も弱く結合します。これらも左に結合します。"
   ]
  },
  {
   "cell_type": "markdown",
   "metadata": {
    "colab_type": "text",
    "id": "OT_OXXY7iY6P"
   },
   "source": [
    "## 空白\n",
    "既に `7 - 2 * 3` のような例が出てきましたが、\n",
    "演算子と数の間や、演算子と変数（後述）の間には、空白を入れることができます。\n",
    "ここで**空白**とは、**半角の空白**のことで、英数字と同様に1バイトの文字コードに含まれているものです。\n",
    "\n",
    "複数の文字から成る演算子、たとえば `**` や `//` の間に空白を入れることはできません。\n",
    "エラーになることでしょう。"
   ]
  },
  {
   "cell_type": "code",
   "execution_count": null,
   "metadata": {
    "colab": {
     "base_uri": "https://localhost:8080/",
     "height": 34
    },
    "colab_type": "code",
    "executionInfo": {
     "elapsed": 492,
     "status": "ok",
     "timestamp": 1583409494482,
     "user": {
      "displayName": "Junichiro Mori",
      "photoUrl": "",
      "userId": "01008898198902510619"
     },
     "user_tz": -540
    },
    "id": "krBbV9jYiY6P",
    "outputId": "569eabc7-e3e2-47d3-f4c1-2d97b802f31c"
   },
   "outputs": [],
   "source": [
    "7 **2"
   ]
  },
  {
   "cell_type": "code",
   "execution_count": null,
   "metadata": {
    "colab": {
     "base_uri": "https://localhost:8080/",
     "height": 133
    },
    "colab_type": "code",
    "executionInfo": {
     "elapsed": 519,
     "status": "error",
     "timestamp": 1583409497580,
     "user": {
      "displayName": "Junichiro Mori",
      "photoUrl": "",
      "userId": "01008898198902510619"
     },
     "user_tz": -540
    },
    "id": "ADuni2FuiY6S",
    "outputId": "01c3d11f-d64e-42e3-f2b4-a105de32abdd",
    "tags": [
     "raises-exception"
    ]
   },
   "outputs": [],
   "source": [
    "7* *2"
   ]
  },
  {
   "cell_type": "markdown",
   "metadata": {
    "colab_type": "text",
    "id": "gEuktxpJiY6W"
   },
   "source": [
    "### 全角の空白\n",
    "日本語文字コードである***全角の空白***は、空白とはみなされませんので注意してください。"
   ]
  },
  {
   "cell_type": "code",
   "execution_count": null,
   "metadata": {
    "colab": {
     "base_uri": "https://localhost:8080/",
     "height": 133
    },
    "colab_type": "code",
    "executionInfo": {
     "elapsed": 566,
     "status": "error",
     "timestamp": 1583409503270,
     "user": {
      "displayName": "Junichiro Mori",
      "photoUrl": "",
      "userId": "01008898198902510619"
     },
     "user_tz": -540
    },
    "id": "ZH6pN4PxiY6W",
    "outputId": "73e81c24-9b2c-4fd6-8cd0-b0121953e9eb",
    "tags": [
     "raises-exception"
    ]
   },
   "outputs": [],
   "source": [
    "7　**2"
   ]
  },
  {
   "cell_type": "markdown",
   "metadata": {
    "colab_type": "text",
    "id": "M-yaN4b-iY6d"
   },
   "source": [
    "## エラー\n",
    "色々と試していると、**エラー**が起こることもあったでしょう。\n",
    "以下は典型的なエラーです。"
   ]
  },
  {
   "cell_type": "code",
   "execution_count": null,
   "metadata": {
    "colab": {
     "base_uri": "https://localhost:8080/",
     "height": 166
    },
    "colab_type": "code",
    "executionInfo": {
     "elapsed": 650,
     "status": "error",
     "timestamp": 1583409521354,
     "user": {
      "displayName": "Junichiro Mori",
      "photoUrl": "",
      "userId": "01008898198902510619"
     },
     "user_tz": -540
    },
    "id": "eD39Z886iY6e",
    "outputId": "1990ebf1-c297-4f15-a564-cb4ee9408777",
    "tags": [
     "raises-exception"
    ]
   },
   "outputs": [],
   "source": [
    "10/0"
   ]
  },
  {
   "cell_type": "markdown",
   "metadata": {
    "colab_type": "text",
    "id": "nB50NtqDiY6g"
   },
   "source": [
    "このエラーは、ゼロによる割り算を行ったためです。\n",
    "**実行エラー**の典型的なものです。\n",
    "\n",
    "エラーが起こった場合は、修正して評価し直すことができます。\n",
    "上の例で、0 をたとえば 3 に書き換えて評価し直してみてください。"
   ]
  },
  {
   "cell_type": "code",
   "execution_count": null,
   "metadata": {
    "colab": {
     "base_uri": "https://localhost:8080/",
     "height": 133
    },
    "colab_type": "code",
    "executionInfo": {
     "elapsed": 438,
     "status": "error",
     "timestamp": 1583409526759,
     "user": {
      "displayName": "Junichiro Mori",
      "photoUrl": "",
      "userId": "01008898198902510619"
     },
     "user_tz": -540
    },
    "id": "LT-qUTd_iY6h",
    "outputId": "17221499-6199-41d7-cb3c-a2e0c222a7dc",
    "tags": [
     "raises-exception"
    ]
   },
   "outputs": [],
   "source": [
    "10/"
   ]
  },
  {
   "cell_type": "markdown",
   "metadata": {
    "colab_type": "text",
    "id": "sufqcTV1iY6k"
   },
   "source": [
    "こちらのエラーは**文法エラー**です。\n",
    "つまり、入力がPythonの文法に違反しているため実行できなかったのです。"
   ]
  },
  {
   "cell_type": "markdown",
   "metadata": {
    "colab_type": "text",
    "id": "p04smnqJiY6k"
   },
   "source": [
    "## 数学関数（モジュールのインポート）"
   ]
  },
  {
   "cell_type": "code",
   "execution_count": null,
   "metadata": {
    "colab": {},
    "colab_type": "code",
    "id": "9eQLeczxiY6l"
   },
   "outputs": [],
   "source": [
    "import math"
   ]
  },
  {
   "cell_type": "code",
   "execution_count": null,
   "metadata": {
    "colab": {
     "base_uri": "https://localhost:8080/",
     "height": 34
    },
    "colab_type": "code",
    "executionInfo": {
     "elapsed": 576,
     "status": "ok",
     "timestamp": 1583409534520,
     "user": {
      "displayName": "Junichiro Mori",
      "photoUrl": "",
      "userId": "01008898198902510619"
     },
     "user_tz": -540
    },
    "id": "yNMOsvd5iY6o",
    "outputId": "70b3475e-7080-4e47-cf62-43a43cc1bbb6"
   },
   "outputs": [],
   "source": [
    "math.sqrt(2)"
   ]
  },
  {
   "cell_type": "markdown",
   "metadata": {
    "colab_type": "text",
    "id": "tVdd7EUCiY6q"
   },
   "source": [
    "数学関係の各種の関数は、**モジュール**（**ライブラリ**）として提供されています。\n",
    "これらの関数を使いたいときは、上のように、**`import`** で始まる\n",
    "`import math` というおまじないを一度唱えます。\n",
    "そうしますと、**`math`** というライブラリが読み込まれて（**インポート**されて）、\n",
    "`math.関数名` という形で関数を用いることができます。\n",
    "上の例では、平方根を計算する **`math.sqrt`** という関数が用いられています。"
   ]
  },
  {
   "cell_type": "markdown",
   "metadata": {
    "colab_type": "text",
    "id": "JH3TUHeCiY6r"
   },
   "source": [
    "もう少し例をあげておきましょう。sin と cos は **`math.sin`** と **`math.cos`** で求まります。"
   ]
  },
  {
   "cell_type": "code",
   "execution_count": null,
   "metadata": {
    "colab": {
     "base_uri": "https://localhost:8080/",
     "height": 34
    },
    "colab_type": "code",
    "executionInfo": {
     "elapsed": 472,
     "status": "ok",
     "timestamp": 1583409539259,
     "user": {
      "displayName": "Junichiro Mori",
      "photoUrl": "",
      "userId": "01008898198902510619"
     },
     "user_tz": -540
    },
    "id": "e0E1hGVOiY6r",
    "outputId": "f2ed1ff0-58bc-4dc5-988a-f5137fce8310"
   },
   "outputs": [],
   "source": [
    "math.sin(0)"
   ]
  },
  {
   "cell_type": "code",
   "execution_count": null,
   "metadata": {
    "colab": {
     "base_uri": "https://localhost:8080/",
     "height": 34
    },
    "colab_type": "code",
    "executionInfo": {
     "elapsed": 488,
     "status": "ok",
     "timestamp": 1583409545914,
     "user": {
      "displayName": "Junichiro Mori",
      "photoUrl": "",
      "userId": "01008898198902510619"
     },
     "user_tz": -540
    },
    "id": "uJNBJnD6iY6u",
    "outputId": "45ee1639-19f6-4cd3-ccda-c7bf6e10a89c"
   },
   "outputs": [],
   "source": [
    "math.pi"
   ]
  },
  {
   "cell_type": "markdown",
   "metadata": {
    "colab_type": "text",
    "id": "eFgR1n3KiY6w"
   },
   "source": [
    "**`math.pi`** は、円周率を値とする変数です。\n",
    "\n",
    "変数については後に説明されます。"
   ]
  },
  {
   "cell_type": "code",
   "execution_count": null,
   "metadata": {
    "colab": {
     "base_uri": "https://localhost:8080/",
     "height": 34
    },
    "colab_type": "code",
    "executionInfo": {
     "elapsed": 481,
     "status": "ok",
     "timestamp": 1583409553216,
     "user": {
      "displayName": "Junichiro Mori",
      "photoUrl": "",
      "userId": "01008898198902510619"
     },
     "user_tz": -540
    },
    "id": "-WV71LHqiY6w",
    "outputId": "3bad960d-c693-425b-b8aa-849433357fd6"
   },
   "outputs": [],
   "source": [
    "math.sin(math.pi)"
   ]
  },
  {
   "cell_type": "markdown",
   "metadata": {
    "colab_type": "text",
    "id": "8EzGi0ReiY6z"
   },
   "source": [
    "この結果は本当は 0 にならなければならないのですが、\n",
    "数値誤差のためにこのようになっています。"
   ]
  },
  {
   "cell_type": "code",
   "execution_count": null,
   "metadata": {
    "colab": {
     "base_uri": "https://localhost:8080/",
     "height": 34
    },
    "colab_type": "code",
    "executionInfo": {
     "elapsed": 540,
     "status": "ok",
     "timestamp": 1583409556446,
     "user": {
      "displayName": "Junichiro Mori",
      "photoUrl": "",
      "userId": "01008898198902510619"
     },
     "user_tz": -540
    },
    "id": "QDRPz3ejiY6z",
    "outputId": "61ec29bd-0537-4e83-a2fc-a8eb66e4e586"
   },
   "outputs": [],
   "source": [
    "math.sin(math.pi/2)"
   ]
  },
  {
   "cell_type": "code",
   "execution_count": null,
   "metadata": {
    "colab": {
     "base_uri": "https://localhost:8080/",
     "height": 34
    },
    "colab_type": "code",
    "executionInfo": {
     "elapsed": 618,
     "status": "ok",
     "timestamp": 1583409559096,
     "user": {
      "displayName": "Junichiro Mori",
      "photoUrl": "",
      "userId": "01008898198902510619"
     },
     "user_tz": -540
    },
    "id": "8ILZspCciY61",
    "outputId": "887a8361-a7ed-4382-be63-54d180f32b61"
   },
   "outputs": [],
   "source": [
    "math.sin(math.pi/4) * 2"
   ]
  },
  {
   "cell_type": "markdown",
   "metadata": {
    "colab_type": "text",
    "id": "WtwvCvVDiY64"
   },
   "source": [
    "## 練習"
   ]
  },
  {
   "cell_type": "markdown",
   "metadata": {
    "colab_type": "text",
    "id": "r5AGhsNbiY64"
   },
   "source": [
    "黄金比を求めてください。黄金比とは、5 の平方根に 1 を加えて 2 で割ったものです。約 1.618 になるはずです。"
   ]
  },
  {
   "cell_type": "code",
   "execution_count": null,
   "metadata": {
    "colab": {},
    "colab_type": "code",
    "id": "9TygAODTiY65"
   },
   "outputs": [],
   "source": []
  }
 ],
 "metadata": {
  "colab": {
   "collapsed_sections": [
    "FrpEGIfliY6M"
   ],
   "name": "1-1.ipynb",
   "provenance": [],
   "toc_visible": true
  },
  "kernelspec": {
   "display_name": "Python 3",
   "language": "python",
   "name": "python3"
  },
  "language_info": {
   "codemirror_mode": {
    "name": "ipython",
    "version": 3
   },
   "file_extension": ".py",
   "mimetype": "text/x-python",
   "name": "python",
   "nbconvert_exporter": "python",
   "pygments_lexer": "ipython3",
   "version": "3.7.3"
  }
 },
 "nbformat": 4,
 "nbformat_minor": 1
}
