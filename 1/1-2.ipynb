{
 "cells": [
  {
   "cell_type": "markdown",
   "metadata": {
    "colab_type": "text",
    "id": "j8wrDK5_k3WZ"
   },
   "source": [
    "# 1-2. 変数と関数の基礎\n",
    "変数と関数の基礎について説明します。\n",
    "\n",
    "参考\n",
    "\n",
    "- https://docs.python.org/ja/3/tutorial/introduction.html#first-steps-towards-programming\n",
    "- https://docs.python.org/ja/3/tutorial/controlflow.html#defining-functions\n",
    "- https://docs.python.org/ja/3/library/functions.html#print"
   ]
  },
  {
   "cell_type": "markdown",
   "metadata": {
    "colab_type": "text",
    "id": "dBaIy8eWk3Wc"
   },
   "source": [
    "## 変数\n",
    "プログラミング言語における**変数**とは、値に名前を付ける仕組みであり、名前はその値を指し示すことになります。"
   ]
  },
  {
   "cell_type": "code",
   "execution_count": null,
   "metadata": {
    "colab": {},
    "colab_type": "code",
    "id": "meLH_hXbk3Wd"
   },
   "outputs": [],
   "source": [
    "h = 188.0"
   ]
  },
  {
   "cell_type": "markdown",
   "metadata": {
    "colab_type": "text",
    "id": "jKjG-Kx4k3Wi"
   },
   "source": [
    "以上のように **`=`** を用いる構文によって、`188.0` という値に `h` という名前が付きます。これを**変数定義**と呼びます。\n",
    "\n",
    "定義された変数は、式の中で使うことができます。`h` という変数自体も式なので、`h` という式を評価することができ、変数が指し示す値が返ります。"
   ]
  },
  {
   "cell_type": "code",
   "execution_count": null,
   "metadata": {
    "colab": {
     "base_uri": "https://localhost:8080/",
     "height": 34
    },
    "colab_type": "code",
    "executionInfo": {
     "elapsed": 1245,
     "status": "ok",
     "timestamp": 1583409824043,
     "user": {
      "displayName": "Junichiro Mori",
      "photoUrl": "",
      "userId": "01008898198902510619"
     },
     "user_tz": -540
    },
    "id": "V4PKm1YKk3Wj",
    "outputId": "0f7a2bc2-043a-453d-ea3a-db672b1cc3b4"
   },
   "outputs": [],
   "source": [
    "h"
   ]
  },
  {
   "cell_type": "markdown",
   "metadata": {
    "colab_type": "text",
    "id": "4Fh3GgmHk3Wm"
   },
   "source": [
    "異なる変数は、いくらでも導入できます。たとえば、以下では`w`を変数定義します。"
   ]
  },
  {
   "cell_type": "code",
   "execution_count": null,
   "metadata": {
    "colab": {},
    "colab_type": "code",
    "id": "XjtidY5Tk3Wo"
   },
   "outputs": [],
   "source": [
    "w = 104.0"
   ]
  },
  {
   "cell_type": "markdown",
   "metadata": {
    "colab_type": "text",
    "id": "f24SKXUck3Wr"
   },
   "source": [
    "ここで、`h` を身長 (cm)、`w` を体重 (kg) の意味と考えると、次の式によってBMI（ボディマス指数）を計算できます。"
   ]
  },
  {
   "cell_type": "code",
   "execution_count": null,
   "metadata": {
    "colab": {
     "base_uri": "https://localhost:8080/",
     "height": 34
    },
    "colab_type": "code",
    "executionInfo": {
     "elapsed": 1006,
     "status": "ok",
     "timestamp": 1583409831273,
     "user": {
      "displayName": "Junichiro Mori",
      "photoUrl": "",
      "userId": "01008898198902510619"
     },
     "user_tz": -540
    },
    "id": "eLAK_6Lfk3Ws",
    "outputId": "fc0622e1-e7ab-4342-8412-e2269136baea"
   },
   "outputs": [],
   "source": [
    "w / (h/100.0) ** 2"
   ]
  },
  {
   "cell_type": "markdown",
   "metadata": {
    "colab_type": "text",
    "id": "LlePAS9Uk3Ww"
   },
   "source": [
    "なお、演算子 `**` の方が `/` よりも先に評価されることに注意してください。"
   ]
  },
  {
   "cell_type": "markdown",
   "metadata": {
    "colab_type": "text",
    "id": "ON-ySbKTk3Wz"
   },
   "source": [
    "変数という名前の通り、変数が指し示す値を変えることもできます。"
   ]
  },
  {
   "cell_type": "code",
   "execution_count": null,
   "metadata": {
    "colab": {},
    "colab_type": "code",
    "id": "Oo8JeUnAk3W0"
   },
   "outputs": [],
   "source": [
    "w = 104.0-10"
   ]
  },
  {
   "cell_type": "markdown",
   "metadata": {
    "colab_type": "text",
    "id": "PFbYJ2ILk3W3"
   },
   "source": [
    "このように変数を再定義すれば、元々 `w` が指し示していた値 `104.0` を忘れて、新たな値 `94.0` を指し示すようになります。\n",
    "この後で、前と同じBMIの式を評価してみると、`w` の値の変化に応じて、BMIの計算結果は変わります。"
   ]
  },
  {
   "cell_type": "code",
   "execution_count": null,
   "metadata": {
    "colab": {
     "base_uri": "https://localhost:8080/",
     "height": 34
    },
    "colab_type": "code",
    "executionInfo": {
     "elapsed": 957,
     "status": "ok",
     "timestamp": 1583409849866,
     "user": {
      "displayName": "Junichiro Mori",
      "photoUrl": "",
      "userId": "01008898198902510619"
     },
     "user_tz": -540
    },
    "id": "ZPD5KdMUk3W4",
    "outputId": "4d04b1a4-0936-4e69-8b1c-ae98144d5117"
   },
   "outputs": [],
   "source": [
    "w / (h/100.0) ** 2"
   ]
  },
  {
   "cell_type": "markdown",
   "metadata": {
    "colab_type": "text",
    "id": "DsMvSaldk3W7"
   },
   "source": [
    "なお、未定義の変数を式の中で用いると、次のようにエラーが生じます。\n",
    "\n",
    "```Python\n",
    "BMI  # 未定義の変数\n",
    "```\n",
    "\n",
    "<pre><span class=\"ansi-red-fg\">---------------------------------------------------------------------------</span>\n",
    "<span class=\"ansi-red-fg\">NameError</span>                                 Traceback (most recent call last)\n",
    "<span class=\"ansi-green-fg\">&lt;ipython-input-9-f775236e687b&gt;</span> in <span class=\"ansi-cyan-fg\">&lt;module&gt;</span><span class=\"ansi-blue-fg\">()</span>\n",
    "<span class=\"ansi-green-fg\">----&gt; 1</span><span class=\"ansi-red-fg\"> </span>BMI  <span class=\"ansi-red-fg\"># 未定義の変数</span>\n",
    "\n",
    "<span class=\"ansi-red-fg\">NameError</span>: name 'BMI' is not defined\n",
    "\n",
    "</pre>\n",
    "\n",
    "次のセルの行頭にある `#` を削除して実行してみましょう。"
   ]
  },
  {
   "cell_type": "code",
   "execution_count": null,
   "metadata": {
    "colab": {},
    "colab_type": "code",
    "id": "zJeFJJdTk3W8",
    "scrolled": true
   },
   "outputs": [],
   "source": [
    "# BMI  # 未定義の変数"
   ]
  },
  {
   "cell_type": "markdown",
   "metadata": {
    "colab_type": "text",
    "id": "CDinqPMyk3XA"
   },
   "source": [
    "以降では、単純のため、変数が指し示す値を、変数の値として説明していきます。"
   ]
  },
  {
   "cell_type": "markdown",
   "metadata": {
    "colab_type": "text",
    "id": "M0FcxZQAk3XB"
   },
   "source": [
    "### 代入文\n",
    "変数定義に用いた **`=`** による構文を、Pythonでは**代入文** (**assignment statement**) と呼びます。\n",
    "そして、代入文を実行することを**代入** (**assignment**) を言います。\n",
    "代入文は、`=` の左辺に右辺の式の評価結果の値を割り当てる文です。\n",
    "上記の例のように、左辺が変数の場合には、代入文は変数定義と解釈されます。\n",
    "\n",
    "代入文は、右辺を評価した後に左辺に割り当てるという順番に従います。右辺に出現する変数が左辺に出て来てもかまいません。"
   ]
  },
  {
   "cell_type": "code",
   "execution_count": null,
   "metadata": {
    "colab": {},
    "colab_type": "code",
    "id": "a2pfL0Xvk3XC"
   },
   "outputs": [],
   "source": [
    "w = w-10"
   ]
  },
  {
   "cell_type": "markdown",
   "metadata": {
    "colab_type": "text",
    "id": "tRMh_LOTk3XE"
   },
   "source": [
    "上の代入文は、`w` の値を `10` 減らす操作となります。`=` は数学的な等号ではないことに注意してください。\n",
    "\n",
    "もう一度BMIを計算してみると、`w` の値が増えたことで、先と結果が変わります。"
   ]
  },
  {
   "cell_type": "code",
   "execution_count": null,
   "metadata": {
    "colab": {
     "base_uri": "https://localhost:8080/",
     "height": 34
    },
    "colab_type": "code",
    "executionInfo": {
     "elapsed": 933,
     "status": "ok",
     "timestamp": 1583409888418,
     "user": {
      "displayName": "Junichiro Mori",
      "photoUrl": "",
      "userId": "01008898198902510619"
     },
     "user_tz": -540
    },
    "id": "txmB88c6k3XF",
    "outputId": "15fb1d7e-fbb5-4dac-f04c-7ac574a9f549"
   },
   "outputs": [],
   "source": [
    "w / (h/100.0) ** 2"
   ]
  },
  {
   "cell_type": "markdown",
   "metadata": {
    "colab_type": "text",
    "id": "gFTlY99pk3XI"
   },
   "source": [
    "***注意***： 数学における代入は、substitution（置換）であり、プログラミング言語における代入 (assignment) とは異なります。代入という単語よりも、assignment（割り当て）という単語で概念を覚えましょう。"
   ]
  },
  {
   "cell_type": "markdown",
   "metadata": {
    "colab_type": "text",
    "id": "K_ADrZbJk3XJ"
   },
   "source": [
    "### 累積代入文\n",
    "上の例のように変数の値を減らす操作は、次のような**累算代入文** (**augmented assignment statement**) を使って簡潔に記述することができます。"
   ]
  },
  {
   "cell_type": "code",
   "execution_count": null,
   "metadata": {
    "colab": {},
    "colab_type": "code",
    "id": "v3-lpReDk3XK"
   },
   "outputs": [],
   "source": [
    "w -= 10"
   ]
  },
  {
   "cell_type": "markdown",
   "metadata": {
    "colab_type": "text",
    "id": "pK_wVhSek3XN"
   },
   "source": [
    "ここで、**`-=`** という演算子は、`-` と `=` を結合させた演算子で、`w = w - 10` という代入文と同じ意味になります。\n",
    "これは代入文と2項演算が複合したものであり、`-` に限らず、他の2項演算についても同様に複合した累算代入文が利用できます。たとえば、変数の値を増やすには **`+=`** という演算子を用いることができます。"
   ]
  },
  {
   "cell_type": "code",
   "execution_count": null,
   "metadata": {
    "colab": {},
    "colab_type": "code",
    "id": "QTYGNPTtk3XO"
   },
   "outputs": [],
   "source": [
    "w += 10"
   ]
  },
  {
   "cell_type": "markdown",
   "metadata": {
    "colab_type": "text",
    "id": "esjFB33Kk3XT"
   },
   "source": [
    "`=` も含めて、これらの演算子は**代入演算子**と呼ばれています。代入演算子によって変数の値がどのように変わるか、確かめてください。"
   ]
  },
  {
   "cell_type": "code",
   "execution_count": null,
   "metadata": {
    "colab": {},
    "colab_type": "code",
    "id": "bi3dxEz9k3XU"
   },
   "outputs": [],
   "source": []
  },
  {
   "cell_type": "markdown",
   "metadata": {
    "colab_type": "text",
    "id": "Wk0T443Hk3XY"
   },
   "source": [
    "## 関数の定義と返値\n",
    "前述のように、変数の値が変わるたびにBMIの式を入力するのは面倒です。以下では、身長 `height` と体重 `weight` をもらって、BMIを計算する**関数** `bmi` を定義してみましょう。関数を定義すると、BMIの式の再入力を省けて便利です。\n",
    "\n",
    "次のような形式で、**関数定義**を記述できます。\n",
    "\n",
    "関数定義など、複数行のコードセルには、行番号を振るのがよいかもしれません。行番号を振るかどうかは、セルの「エディタ設定を開く」から「エディタ」の「行番号を表示」をチェックすることでスイッチできます。行番号があるかないかは、コードの実行には影響しません。"
   ]
  },
  {
   "cell_type": "code",
   "execution_count": null,
   "metadata": {
    "colab": {},
    "colab_type": "code",
    "id": "zd_QpUBJk3XZ"
   },
   "outputs": [],
   "source": [
    "def bmi(height, weight):\n",
    "    return weight / (height/100.0) ** 2"
   ]
  },
  {
   "cell_type": "markdown",
   "metadata": {
    "colab_type": "text",
    "id": "6E517hfXk3Xb"
   },
   "source": [
    "Python では、**関数定義**は、上のような形をしています。\n",
    "最初の行は以下のように **`def`** で始まります。\n",
    "\n",
    "------\n",
    "```Python\n",
    "    def 関数名(引数, ...):\n",
    "```\n",
    "------\n",
    "**引数**（ひきすう）とは、関数が受け取る値を指し示す変数のことです。**仮引数**（かりひきすう）ともいいます。"
   ]
  },
  {
   "cell_type": "markdown",
   "metadata": {
    "colab_type": "text",
    "id": "hmVV2FE8k3Xc"
   },
   "source": [
    "`:` 以降は関数定義の本体であり、関数の処理を記述する部分として以下の構文が続きます。\n",
    "\n",
    "------\n",
    "```Python\n",
    "    return 式\n",
    "```\n",
    "------   \n",
    "\n",
    "この構文は **`return`** で始まり、**return文**と呼ばれます。return文は、`return` に続く式の評価結果を、関数の呼び出し元に返して（これを**返値**と言います）、関数を終了するという意味を持ちます。この関数を、入力となる引数とともに呼び出すと、`return` の後の式の評価結果を返値として返します。\n",
    "\n",
    "\n",
    "ここで、Pythonでは、\n",
    "`return` の前に空白が入ることに注意してください。\n",
    "このような行頭の空白を**インデント**と呼びます。\n",
    "Pythonでは、インデントの量によって、\n",
    "構文の**入れ子**を制御するようになっています。このことについては、\n",
    "より複雑な構文が出てきたときに説明しましょう。\n",
    "\n",
    "\n",
    "上記では、`def` の後に続く `bmi` が関数名です。それに続く括弧の中に書かれた `height` と `weight` は、**引数**です。また、`return` の後にBMIの計算式を記述しているので、関数の呼び出し元にはBMIの計算結果が返値として返ります。\n",
    "\n",
    "\n",
    "では、定義した関数 `bmi` を呼び出してみましょう。"
   ]
  },
  {
   "cell_type": "code",
   "execution_count": null,
   "metadata": {
    "colab": {
     "base_uri": "https://localhost:8080/",
     "height": 34
    },
    "colab_type": "code",
    "executionInfo": {
     "elapsed": 713,
     "status": "ok",
     "timestamp": 1583410300034,
     "user": {
      "displayName": "Junichiro Mori",
      "photoUrl": "",
      "userId": "01008898198902510619"
     },
     "user_tz": -540
    },
    "id": "RLEvciiok3Xe",
    "outputId": "7f17254e-ec94-4b98-8128-1aa8698f29fe"
   },
   "outputs": [],
   "source": [
    "bmi(188.0,104.0)"
   ]
  },
  {
   "cell_type": "markdown",
   "metadata": {
    "colab_type": "text",
    "id": "51SDNaCyk3Xi"
   },
   "source": [
    "第1引数を身長（cm）、第2引数を体重（kg）としたときのBMIが計算されていることがわかります。\n",
    "\n",
    "関数呼び出しは演算式の一種なので、引数の位置には任意の式を記述できますし、\n",
    "関数呼び出し自体も式の中に記述できます。"
   ]
  },
  {
   "cell_type": "code",
   "execution_count": null,
   "metadata": {
    "colab": {
     "base_uri": "https://localhost:8080/",
     "height": 34
    },
    "colab_type": "code",
    "executionInfo": {
     "elapsed": 490,
     "status": "ok",
     "timestamp": 1583410308246,
     "user": {
      "displayName": "Junichiro Mori",
      "photoUrl": "",
      "userId": "01008898198902510619"
     },
     "user_tz": -540
    },
    "id": "NpuK-4ztk3Xi",
    "outputId": "e27d4b1b-ecff-4d28-c920-9f72a4dd9989"
   },
   "outputs": [],
   "source": [
    "1.1*bmi(174.0, 119.0 * 0.454)"
   ]
  },
  {
   "cell_type": "markdown",
   "metadata": {
    "colab_type": "text",
    "id": "PXMKFGvDk3Xm"
   },
   "source": [
    "もう一つ関数を定義してみましょう。"
   ]
  },
  {
   "cell_type": "code",
   "execution_count": null,
   "metadata": {
    "colab": {},
    "colab_type": "code",
    "id": "UkzDU7Ick3Xn"
   },
   "outputs": [],
   "source": [
    "def felt_air_temperature(temperature, humidity):\n",
    "    return temperature - 1 / 2.3 * (temperature - 10) * (0.8 - humidity / 100)"
   ]
  },
  {
   "cell_type": "markdown",
   "metadata": {
    "colab_type": "text",
    "id": "2xlnpNTck3Xq"
   },
   "source": [
    "この関数は、温度と湿度を入力として、体感温度を返します。\n",
    "このように、関数名や変数名には `_` (アンダースコア）を含めることができます。\n",
    "アンダースコアで始めることもできます。\n",
    "\n",
    "数字も関数名や変数名に含めることができますが、\n",
    "名前の最初に来てはいけません。"
   ]
  },
  {
   "cell_type": "code",
   "execution_count": null,
   "metadata": {
    "colab": {
     "base_uri": "https://localhost:8080/",
     "height": 34
    },
    "colab_type": "code",
    "executionInfo": {
     "elapsed": 492,
     "status": "ok",
     "timestamp": 1583410319275,
     "user": {
      "displayName": "Junichiro Mori",
      "photoUrl": "",
      "userId": "01008898198902510619"
     },
     "user_tz": -540
    },
    "id": "TpwLcHMgk3Xq",
    "outputId": "53a600a8-8763-4e99-c94f-f29ab98b6a7a"
   },
   "outputs": [],
   "source": [
    "felt_air_temperature(28, 50)"
   ]
  },
  {
   "cell_type": "markdown",
   "metadata": {
    "colab_type": "text",
    "id": "zQvAITx_k3Xz"
   },
   "source": [
    "なお、`return` の後に式を書かないと、何も返されなかったことを表現するために、「何もない」ことを表す **`None`** という特別な値が返ります。\n",
    "（`None` という値は色々なところで現れることでしょう。）\n",
    "\n",
    "return文に到達せずに関数定義本体の最後まで行ってしまったときも、`None` という値が返ります。"
   ]
  },
  {
   "cell_type": "markdown",
   "metadata": {
    "colab_type": "text",
    "id": "AxUPNgZMk3X1"
   },
   "source": [
    "### 予約語\n",
    "Pythonでの `def` や `return` は、関数定義やreturn文の始まりを記述するための特別な記号であり、それ以外の用途に用いることができません。\n",
    "このように構文上で役割が予約されている語は、**予約語**と呼ばれます。\n",
    "コードブロックの構文ハイライトで強調されるものが予約語だと覚えておけば大体問題ありません。"
   ]
  },
  {
   "cell_type": "markdown",
   "metadata": {
    "colab_type": "text",
    "id": "nVfDo4Pyk3X2"
   },
   "source": [
    "## 練習\n",
    "次のような関数を定義してください。\n",
    "\n",
    "1. `f` フィート `i` インチをセンチメートルに変換する `feet_to_cm(f,i)`<br>\n",
    "ただし、1 フィート = 12 イン チ = 30.48 cm である。 \n",
    "2. 二次関数 $f(x) = ax^2+bx+c$ の値を求める `quadratic(a,b,c,x)`"
   ]
  },
  {
   "cell_type": "markdown",
   "metadata": {
    "colab_type": "text",
    "id": "dcVR5WDJk3X2"
   },
   "source": [
    "定義ができたら、その次のセルを実行して、`True` のみが表示されることを確認してください。"
   ]
  },
  {
   "cell_type": "code",
   "execution_count": null,
   "metadata": {
    "colab": {},
    "colab_type": "code",
    "id": "jETwS9Ynk3X3"
   },
   "outputs": [],
   "source": [
    "def feet_to_cm(f,i):\n",
    "    return ..."
   ]
  },
  {
   "cell_type": "code",
   "execution_count": null,
   "metadata": {
    "colab": {},
    "colab_type": "code",
    "id": "oaBKbYEfk3X6",
    "tags": [
     "raises-exception"
    ]
   },
   "outputs": [],
   "source": [
    "def check_similar(x,y):\n",
    "    print(abs(x-y)<0.000001)\n",
    "check_similar(feet_to_cm(5,2),157.48)\n",
    "check_similar(feet_to_cm(6,5),195.58)"
   ]
  },
  {
   "cell_type": "code",
   "execution_count": null,
   "metadata": {
    "colab": {},
    "colab_type": "code",
    "id": "_9PxpyRIk3X8"
   },
   "outputs": [],
   "source": [
    "def quadratic(a,b,c,x):\n",
    "    return ..."
   ]
  },
  {
   "cell_type": "code",
   "execution_count": null,
   "metadata": {
    "colab": {},
    "colab_type": "code",
    "id": "u5hm3ySTk3X-"
   },
   "outputs": [],
   "source": [
    "print(quadratic(1,2,1,3) == 16)\n",
    "print(quadratic(1,-5,-2,7) == 12)"
   ]
  },
  {
   "cell_type": "markdown",
   "metadata": {
    "colab_type": "text",
    "id": "5fnVeqTWk3YB"
   },
   "source": [
    "## ローカル変数\n",
    "次の関数は、ヘロンの公式によって、\n",
    "与えられた三辺の長さに対して三角形の面積を返すものです。"
   ]
  },
  {
   "cell_type": "code",
   "execution_count": null,
   "metadata": {
    "colab": {},
    "colab_type": "code",
    "id": "qQCexoTNk3YC"
   },
   "outputs": [],
   "source": [
    "import math\n",
    "\n",
    "def heron(a,b,c):\n",
    "    s = 0.5*(a+b+c)\n",
    "    return math.sqrt(s * (s-a) * (s-b) * (s-c))"
   ]
  },
  {
   "cell_type": "markdown",
   "metadata": {
    "colab_type": "text",
    "id": "M5A2IuB_k3YE"
   },
   "source": [
    "`math.sqrt` を使うために `import math` を行っています。"
   ]
  },
  {
   "cell_type": "markdown",
   "metadata": {
    "colab_type": "text",
    "id": "6_T2dm5gk3YF"
   },
   "source": [
    "次の式を評価してみましょう。"
   ]
  },
  {
   "cell_type": "code",
   "execution_count": null,
   "metadata": {
    "colab": {
     "base_uri": "https://localhost:8080/",
     "height": 34
    },
    "colab_type": "code",
    "executionInfo": {
     "elapsed": 490,
     "status": "ok",
     "timestamp": 1583410459381,
     "user": {
      "displayName": "Junichiro Mori",
      "photoUrl": "",
      "userId": "01008898198902510619"
     },
     "user_tz": -540
    },
    "id": "3nCKH_nTk3YG",
    "outputId": "af72ea9d-14c5-4dae-e37a-321d8eb3a616"
   },
   "outputs": [],
   "source": [
    "heron(3,4,5)"
   ]
  },
  {
   "cell_type": "markdown",
   "metadata": {
    "colab_type": "text",
    "id": "YHmBUx3Zk3YJ"
   },
   "source": [
    "この関数の中では、まず、3辺の長さを足して 2 で割った（0.5 を掛けた）値を求めています。\n",
    "そして、その値を `s` という変数に代入しています。\n",
    "この `s` という変数は、この関数の中で代入されているので、この関数の中だけで利用可能な変数となります。\n",
    "そのような変数を**ローカル変数**と呼びます。\n",
    "\n",
    "そして、`s` を使った式が計算されてreturn文で返されます。\n",
    "ここで、関数定義のひとまとりの本体であることを表すために、`s` への代入文もreturn文も、同じ深さでインデントされていることに注意してください。"
   ]
  },
  {
   "cell_type": "markdown",
   "metadata": {
    "colab_type": "text",
    "id": "BeCN-vNkk3YK"
   },
   "source": [
    "Pythonでは、関数の中で定義された変数は、その関数のローカル変数となります。関数の引数もローカル変数です。関数の外で同じ名前の変数を使っても、それは関数のローカル変数とは「別もの」と考えられます。"
   ]
  },
  {
   "cell_type": "markdown",
   "metadata": {
    "colab_type": "text",
    "id": "E2HPqJehk3YL"
   },
   "source": [
    "`heron` を呼び出した後で、関数の外で `s` の値を参照すると、以下のように、`s` が未定義という扱いになります。"
   ]
  },
  {
   "cell_type": "code",
   "execution_count": null,
   "metadata": {
    "colab": {
     "base_uri": "https://localhost:8080/",
     "height": 34
    },
    "colab_type": "code",
    "executionInfo": {
     "elapsed": 540,
     "status": "ok",
     "timestamp": 1583410462588,
     "user": {
      "displayName": "Junichiro Mori",
      "photoUrl": "",
      "userId": "01008898198902510619"
     },
     "user_tz": -540
    },
    "id": "WlvvCgA6k3YM",
    "outputId": "abad8c76-be42-4104-e3fd-5bc5148471e8",
    "tags": [
     "raises-exception"
    ]
   },
   "outputs": [],
   "source": [
    "s"
   ]
  },
  {
   "cell_type": "markdown",
   "metadata": {
    "colab_type": "text",
    "id": "osVr4FEvk3YO"
   },
   "source": [
    "以下では、`heron` の中では、`s` というローカル変数の値は 3 になりますが、関数の外では、`s` という変数は別もので、その値はずっと 100 です。"
   ]
  },
  {
   "cell_type": "code",
   "execution_count": null,
   "metadata": {
    "colab": {
     "base_uri": "https://localhost:8080/",
     "height": 34
    },
    "colab_type": "code",
    "executionInfo": {
     "elapsed": 473,
     "status": "ok",
     "timestamp": 1583410470341,
     "user": {
      "displayName": "Junichiro Mori",
      "photoUrl": "",
      "userId": "01008898198902510619"
     },
     "user_tz": -540
    },
    "id": "HYeT-tYxk3YP",
    "outputId": "1588cc3a-1bda-4aec-a60a-a1797c0b1b76"
   },
   "outputs": [],
   "source": [
    "s = 100\n",
    "heron(3,4,5)"
   ]
  },
  {
   "cell_type": "code",
   "execution_count": null,
   "metadata": {
    "colab": {
     "base_uri": "https://localhost:8080/",
     "height": 34
    },
    "colab_type": "code",
    "executionInfo": {
     "elapsed": 610,
     "status": "ok",
     "timestamp": 1583410474756,
     "user": {
      "displayName": "Junichiro Mori",
      "photoUrl": "",
      "userId": "01008898198902510619"
     },
     "user_tz": -540
    },
    "id": "tEbX9ur8k3YR",
    "outputId": "a15cdf8a-ae05-4def-ccec-9f19eb98b914"
   },
   "outputs": [],
   "source": [
    "s"
   ]
  },
  {
   "cell_type": "markdown",
   "metadata": {
    "colab_type": "text",
    "id": "NLJH7eG6k3YV"
   },
   "source": [
    "## `print`\n",
    "上の例で、ローカル変数は関数の返値を計算するのに使われますが、それが定義されている関数の外からは参照することができません。\n",
    "\n",
    "ローカル変数の値など、関数の実行途中の状況を確認するには、 **`print`** というPythonが最初から用意してくれている関数（**組み込み関数**）を用いることができます。この `print` を関数内から呼び出すことでローカル変数の値を確認できます。\n",
    "\n",
    "`print` は任意個の引数をとることができ、コンマ `,` の区切りには空白文字が出力されます。引数を与えずに呼び出した場合には、改行のみを出力します。"
   ]
  },
  {
   "cell_type": "code",
   "execution_count": null,
   "metadata": {
    "colab": {},
    "colab_type": "code",
    "id": "_865jzO8k3YW"
   },
   "outputs": [],
   "source": [
    "def heron(a,b,c):\n",
    "    s = 0.5*(a+b+c)\n",
    "    print('The value of s is', s)\n",
    "    return math.sqrt(s * (s-a) * (s-b) * (s-c))"
   ]
  },
  {
   "cell_type": "code",
   "execution_count": null,
   "metadata": {
    "colab": {
     "base_uri": "https://localhost:8080/",
     "height": 50
    },
    "colab_type": "code",
    "executionInfo": {
     "elapsed": 470,
     "status": "ok",
     "timestamp": 1583410521709,
     "user": {
      "displayName": "Junichiro Mori",
      "photoUrl": "",
      "userId": "01008898198902510619"
     },
     "user_tz": -540
    },
    "id": "DostiOckk3YZ",
    "outputId": "b0a9b01f-32db-42ff-ae71-288109597552"
   },
   "outputs": [],
   "source": [
    "heron(1,1,1)"
   ]
  },
  {
   "cell_type": "markdown",
   "metadata": {
    "colab_type": "text",
    "id": "r8UQeJj1k3Yc"
   },
   "source": [
    "このように `print` 関数を用いて変数の値を観察することは、プログラムの誤り（**バグ**）を見つけ、修正（**デバッグ**）する最も基本的な方法です。これは 1-4 でも改めて説明します。\n",
    "\n",
    "なお、以降の説明では、 `print` 関数の呼出しを単に \"printする\" とか \"printを挿入\" などと表現することにします。"
   ]
  },
  {
   "cell_type": "markdown",
   "metadata": {
    "colab_type": "text",
    "id": "lHZK2xIek3Yc"
   },
   "source": [
    "## `print` と `return`\n",
    "関数が値を返すことを期待されている場合は、必ず `return` を使ってください。\n",
    "\n",
    "関数内で値をprintしても、関数の返値として利用することはできません。\n",
    "\n",
    "たとえば `heron` を以下のように定義すると、`heron(1,1,1) * 2` のような計算ができなくなります。\n",
    "\n",
    "---\n",
    "```Python\n",
    "def heron(a,b,c):\n",
    "    s = 0.5*(a+b+c)\n",
    "    print('The value of s is', s)\n",
    "    print(math.sqrt(s * (s-a) * (s-b) * (s-c)))\n",
    "```\n",
    "---\n",
    "\n",
    "なお、\n",
    "\n",
    "```Python\n",
    "    return print(math.sqrt(s * (s-a) * (s-b) * (s-c)))\n",
    "```\n",
    "\n",
    "のように書いても駄目です。`print` 関数は `None` という値を返しますので、これでは関数は常に `None` という値を返してしまいます。"
   ]
  },
  {
   "cell_type": "markdown",
   "metadata": {
    "colab_type": "text",
    "id": "HIcsBB3Fk3Yd"
   },
   "source": [
    "## コメントと空行\n",
    "**コメント**については既に説明しましたが、\n",
    "関数定義にはコメントを付加して、後から読んでもわかるようにしましょう。\n",
    "\n",
    "コメントだけの行は**空行**（空白のみから成る行）と同じに扱われます。\n",
    "\n",
    "関数定義の中に空行を自由に入れることができますので、\n",
    "長い関数定義には、区切りとなるところに空行を入れるのがよいでしょう。"
   ]
  },
  {
   "cell_type": "code",
   "execution_count": null,
   "metadata": {
    "colab": {},
    "colab_type": "code",
    "id": "aTOdOBROk3Ye"
   },
   "outputs": [],
   "source": [
    "# heronの公式により三角形の面積を返す\n",
    "def heron(a,b,c): # a,b,c は三辺の長さ\n",
    "    \n",
    "    # 辺の合計の半分をsに置く\n",
    "    s = 0.5*(a+b+c)\n",
    "    print('The value of s is', s)\n",
    "    \n",
    "    return math.sqrt(s * (s-a) * (s-b) * (s-c))"
   ]
  },
  {
   "cell_type": "markdown",
   "metadata": {
    "colab_type": "text",
    "id": "AIyZ5Ffrk3Yh"
   },
   "source": [
    "## 関数の参照の書き方\n",
    "関数は、\n",
    "\n",
    "　　関数 `heron` は、三角形の三辺の長さをもらって三角形の面積を返します。\n",
    "    \n",
    "というように、名前だけで参照することもありますが、\n",
    "\n",
    "　　`heron(a,b,c)` は、三角形の三辺の長さ `a`,`b`,`c` をもらって三角形の面積を返します。\n",
    "\n",
    "というように、引数を明示して参照することもあります。\n",
    "\n",
    "ときには、\n",
    "\n",
    "　　`heron()` は三角形の面積を返します。\n",
    "    \n",
    "のように、関数名に `()` を付けて参照することがあります。\n",
    "この記法は、`heron` が関数であることを明示しています。\n",
    "\n",
    "関数には引数がゼロ個のものがあるのですが、`heron()` と参照するとき、\n",
    "`heron` は必ずしも引数の数がゼロ個ではないことに注意してください。\n",
    "\n",
    "後に学習するメソッドに対しても同様の記法が用いられます。"
   ]
  },
  {
   "cell_type": "markdown",
   "metadata": {
    "colab_type": "text",
    "id": "NhEjM3a4k3Yj"
   },
   "source": [
    "## 練習\n",
    "二次方程式 $ax^2 + bx + c = 0$ に関して以下のような関数を定義してください。\n",
    "\n",
    "1. 判別式 $b^2 - 4ac$ を求める `det(a,b,c)`\n",
    "2. 解のうち、大きくない方を求める `solution1(a,b,c)`<br>\n",
    "3. 解のうち、小さくない方を求める `solution2(a,b,c)`<br>\n",
    "\n",
    "2.と3.は `det` を使って定義してください。解が実数になる場合のみを想定して構いません。\n",
    "\n",
    "定義ができたら、その次のセルを実行して、`True` のみが表示されることを確認してください。"
   ]
  },
  {
   "cell_type": "code",
   "execution_count": null,
   "metadata": {
    "colab": {},
    "colab_type": "code",
    "id": "WoujOtn4k3Yk"
   },
   "outputs": [],
   "source": [
    "def det(a, b, c):\n",
    "    return"
   ]
  },
  {
   "cell_type": "code",
   "execution_count": null,
   "metadata": {
    "colab": {},
    "colab_type": "code",
    "id": "J0xvcSkHk3Yp"
   },
   "outputs": [],
   "source": [
    "def solution1(a, b, c):\n",
    "    return"
   ]
  },
  {
   "cell_type": "code",
   "execution_count": null,
   "metadata": {
    "colab": {},
    "colab_type": "code",
    "id": "zjeSHUYpk3Ys"
   },
   "outputs": [],
   "source": [
    "def solution2(a, b, c):\n",
    "    return"
   ]
  },
  {
   "cell_type": "code",
   "execution_count": null,
   "metadata": {
    "colab": {},
    "colab_type": "code",
    "id": "wWGGvmkhk3Yw",
    "tags": [
     "raises-exception"
    ]
   },
   "outputs": [],
   "source": [
    "print(det(1,-2,1) == 0)\n",
    "print(det(1,-5,6) == 1)\n",
    "def check_similar(x,y):\n",
    "    print(abs(x-y)<0.000001)\n",
    "check_similar(solution1(1,-2,1),1.0)\n",
    "check_similar(solution2(1,-2,1),1.0)\n",
    "check_similar(solution1(1,-5,6),2.0)\n",
    "check_similar(solution2(1,-5,6),3.0)"
   ]
  },
  {
   "cell_type": "markdown",
   "metadata": {
    "colab_type": "text",
    "collapsed": true,
    "id": "4XYANO1Rk3Yz"
   },
   "source": [
    "## ▲グローバル変数\n",
    "\n",
    "Pythonでは、関数の中で代入が行われない変数は、グローバル変数とみなされます。\n",
    "\n",
    "**グローバル変数**とは、関数の外で値を定義される変数のことです。\n",
    "\n",
    "したがって、関数の中でグローバル変数を参照することができます。"
   ]
  },
  {
   "cell_type": "code",
   "execution_count": null,
   "metadata": {
    "colab": {},
    "colab_type": "code",
    "id": "PfO2CE47k3Yz"
   },
   "outputs": [],
   "source": [
    "g = 9.8"
   ]
  },
  {
   "cell_type": "code",
   "execution_count": null,
   "metadata": {
    "colab": {},
    "colab_type": "code",
    "id": "XkjY612lk3Y2"
   },
   "outputs": [],
   "source": [
    "def force(m):\n",
    "    return m*g"
   ]
  },
  {
   "cell_type": "markdown",
   "metadata": {
    "colab_type": "text",
    "id": "EG32JGkHk3Y5"
   },
   "source": [
    "以上のように `force` を定義すると、\n",
    "`force` の中で `g` というグローバル変数を参照することができます。"
   ]
  },
  {
   "cell_type": "code",
   "execution_count": null,
   "metadata": {
    "colab": {
     "base_uri": "https://localhost:8080/",
     "height": 34
    },
    "colab_type": "code",
    "executionInfo": {
     "elapsed": 621,
     "status": "ok",
     "timestamp": 1583410681398,
     "user": {
      "displayName": "Junichiro Mori",
      "photoUrl": "",
      "userId": "01008898198902510619"
     },
     "user_tz": -540
    },
    "id": "2A2C0jwyk3Y5",
    "outputId": "ff271a68-39e4-447c-d7d6-b91d15086fbe"
   },
   "outputs": [],
   "source": [
    "force(104)"
   ]
  },
  {
   "cell_type": "code",
   "execution_count": null,
   "metadata": {
    "colab": {},
    "colab_type": "code",
    "id": "czcCR0C4k3Y9"
   },
   "outputs": [],
   "source": [
    "g = g/6"
   ]
  },
  {
   "cell_type": "markdown",
   "metadata": {
    "colab_type": "text",
    "id": "EerkY5Dvk3Y_"
   },
   "source": [
    "以上のように、`g` の値を変更してから `force` を実行すると、\n",
    "変更後の値が用いられます。"
   ]
  },
  {
   "cell_type": "code",
   "execution_count": null,
   "metadata": {
    "colab": {
     "base_uri": "https://localhost:8080/",
     "height": 34
    },
    "colab_type": "code",
    "executionInfo": {
     "elapsed": 648,
     "status": "ok",
     "timestamp": 1583410688110,
     "user": {
      "displayName": "Junichiro Mori",
      "photoUrl": "",
      "userId": "01008898198902510619"
     },
     "user_tz": -540
    },
    "id": "w9swue_pk3ZA",
    "outputId": "793dbbc4-26f8-47a1-9764-9ea1e1168bba"
   },
   "outputs": [],
   "source": [
    "force(104)"
   ]
  },
  {
   "cell_type": "markdown",
   "metadata": {
    "colab_type": "text",
    "id": "md-duKjzk3ZD"
   },
   "source": [
    "以下はより簡単な例です。"
   ]
  },
  {
   "cell_type": "code",
   "execution_count": null,
   "metadata": {
    "colab": {},
    "colab_type": "code",
    "id": "O6YK7Dl3k3ZE"
   },
   "outputs": [],
   "source": [
    "a = 10\n",
    "def foo():\n",
    "    return a\n",
    "def bar():\n",
    "    a = 3\n",
    "    return a"
   ]
  },
  {
   "cell_type": "code",
   "execution_count": null,
   "metadata": {
    "colab": {
     "base_uri": "https://localhost:8080/",
     "height": 34
    },
    "colab_type": "code",
    "executionInfo": {
     "elapsed": 527,
     "status": "ok",
     "timestamp": 1583410694604,
     "user": {
      "displayName": "Junichiro Mori",
      "photoUrl": "",
      "userId": "01008898198902510619"
     },
     "user_tz": -540
    },
    "id": "H6Go6C-pk3ZH",
    "outputId": "74bac028-14ea-462d-c6c1-a6b13e1cfdc8"
   },
   "outputs": [],
   "source": [
    "foo()"
   ]
  },
  {
   "cell_type": "code",
   "execution_count": null,
   "metadata": {
    "colab": {
     "base_uri": "https://localhost:8080/",
     "height": 34
    },
    "colab_type": "code",
    "executionInfo": {
     "elapsed": 539,
     "status": "ok",
     "timestamp": 1583410696470,
     "user": {
      "displayName": "Junichiro Mori",
      "photoUrl": "",
      "userId": "01008898198902510619"
     },
     "user_tz": -540
    },
    "id": "K4ZvjHCSk3ZJ",
    "outputId": "40047757-950e-4e66-f4b6-b82e4e984235"
   },
   "outputs": [],
   "source": [
    "bar()"
   ]
  },
  {
   "cell_type": "code",
   "execution_count": null,
   "metadata": {
    "colab": {
     "base_uri": "https://localhost:8080/",
     "height": 34
    },
    "colab_type": "code",
    "executionInfo": {
     "elapsed": 468,
     "status": "ok",
     "timestamp": 1583410699110,
     "user": {
      "displayName": "Junichiro Mori",
      "photoUrl": "",
      "userId": "01008898198902510619"
     },
     "user_tz": -540
    },
    "id": "ra8pdL-lk3ZL",
    "outputId": "f718debf-220e-490f-c0b7-de89ff0d178c"
   },
   "outputs": [],
   "source": [
    "a"
   ]
  },
  {
   "cell_type": "code",
   "execution_count": null,
   "metadata": {
    "colab": {},
    "colab_type": "code",
    "id": "YZeRwdhIk3ZM"
   },
   "outputs": [],
   "source": [
    "a = 20"
   ]
  },
  {
   "cell_type": "code",
   "execution_count": null,
   "metadata": {
    "colab": {
     "base_uri": "https://localhost:8080/",
     "height": 34
    },
    "colab_type": "code",
    "executionInfo": {
     "elapsed": 446,
     "status": "ok",
     "timestamp": 1583410703015,
     "user": {
      "displayName": "Junichiro Mori",
      "photoUrl": "",
      "userId": "01008898198902510619"
     },
     "user_tz": -540
    },
    "id": "oE8KMnUjk3ZO",
    "outputId": "2e7984c9-91b5-4b99-a561-105347ae5f72"
   },
   "outputs": [],
   "source": [
    "foo()"
   ]
  },
  {
   "cell_type": "markdown",
   "metadata": {
    "colab_type": "text",
    "collapsed": true,
    "id": "flheKmLmk3ZQ"
   },
   "source": [
    "`bar` の中では `a` への代入があるので、`a` はローカル変数になります。\n",
    "ローカル変数の `a` とグローバル変数の `a` は別ものと考えてください。\n",
    "ローカル変数 `a` への代入があっても、グローバル変数の `a` の値は変化しません。\n",
    "`foo` の中の `a` はグローバル変数です。"
   ]
  },
  {
   "cell_type": "code",
   "execution_count": null,
   "metadata": {
    "colab": {},
    "colab_type": "code",
    "id": "66rXb1Q-k3ZQ"
   },
   "outputs": [],
   "source": [
    "def boo(a):\n",
    "    return a"
   ]
  },
  {
   "cell_type": "code",
   "execution_count": null,
   "metadata": {
    "colab": {
     "base_uri": "https://localhost:8080/",
     "height": 34
    },
    "colab_type": "code",
    "executionInfo": {
     "elapsed": 457,
     "status": "ok",
     "timestamp": 1583410709720,
     "user": {
      "displayName": "Junichiro Mori",
      "photoUrl": "",
      "userId": "01008898198902510619"
     },
     "user_tz": -540
    },
    "id": "5sJPG8lCk3ZR",
    "outputId": "a78f509c-8f5f-42e1-efe1-984632e999ec"
   },
   "outputs": [],
   "source": [
    "boo(5)"
   ]
  },
  {
   "cell_type": "code",
   "execution_count": null,
   "metadata": {
    "colab": {
     "base_uri": "https://localhost:8080/",
     "height": 34
    },
    "colab_type": "code",
    "executionInfo": {
     "elapsed": 438,
     "status": "ok",
     "timestamp": 1583410713345,
     "user": {
      "displayName": "Junichiro Mori",
      "photoUrl": "",
      "userId": "01008898198902510619"
     },
     "user_tz": -540
    },
    "id": "nrWRCKiHk3ZT",
    "outputId": "1d494a24-0417-440f-d3a5-e3acfa68b63b"
   },
   "outputs": [],
   "source": [
    "a"
   ]
  },
  {
   "cell_type": "markdown",
   "metadata": {
    "colab_type": "text",
    "id": "Ek5sp6Xxk3ZW"
   },
   "source": [
    "関数の引数もローカル変数の一種と考えられ、グローバル変数とは別ものです"
   ]
  },
  {
   "cell_type": "markdown",
   "metadata": {
    "colab_type": "text",
    "id": "yFWLVkRGk3ZZ"
   },
   "source": [
    "## 練習の解答"
   ]
  },
  {
   "cell_type": "code",
   "execution_count": null,
   "metadata": {
    "colab": {},
    "colab_type": "code",
    "id": "MV4jK2hLk3Za"
   },
   "outputs": [],
   "source": [
    "def feet_to_cm(f,i):\n",
    "    return 30.48*f + (30.48/12)*i"
   ]
  },
  {
   "cell_type": "code",
   "execution_count": null,
   "metadata": {
    "colab": {},
    "colab_type": "code",
    "id": "2T89-aQck3Zc"
   },
   "outputs": [],
   "source": [
    "def quadratic(a,b,c,x):\n",
    "    return a*x*x + b*x + c"
   ]
  },
  {
   "cell_type": "code",
   "execution_count": null,
   "metadata": {
    "colab": {},
    "colab_type": "code",
    "id": "gUuX3cR1k3Ze"
   },
   "outputs": [],
   "source": [
    "import math\n",
    "def det(a,b,c):\n",
    "    return b*b - 4*a*c\n",
    "def solution1(a,b,c):\n",
    "    return (-b - math.sqrt(det(a,b,c)))/(2*a)\n",
    "def solution2(a,b,c):\n",
    "    return (-b + math.sqrt(det(a,b,c)))/(2*a)"
   ]
  }
 ],
 "metadata": {
  "colab": {
   "collapsed_sections": [
    "AxUPNgZMk3X1",
    "lHZK2xIek3Yc",
    "AIyZ5Ffrk3Yh"
   ],
   "name": "1-2.ipynb",
   "provenance": [],
   "toc_visible": true
  },
  "kernelspec": {
   "display_name": "Python 3",
   "language": "python",
   "name": "python3"
  },
  "language_info": {
   "codemirror_mode": {
    "name": "ipython",
    "version": 3
   },
   "file_extension": ".py",
   "mimetype": "text/x-python",
   "name": "python",
   "nbconvert_exporter": "python",
   "pygments_lexer": "ipython3",
   "version": "3.7.3"
  }
 },
 "nbformat": 4,
 "nbformat_minor": 1
}
