{
 "cells": [
  {
   "cell_type": "markdown",
   "metadata": {
    "colab_type": "text",
    "id": "-CiCyrZsrHyb"
   },
   "source": [
    "# 1-4. デバッグ\n",
    "デバッグについて説明します。\n",
    "\n",
    "参考\n",
    "\n",
    "- https://docs.python.org/ja/3/tutorial/errors.html\n",
    "\n",
    "プログラムに**バグ**（誤り）があって正しく実行できないときは、バグを取り除く**デバッグ**の作業が必要になります。\n",
    "\n",
    "そもそも、バグが出ないようにすることが大切です。\n",
    "たとえば、以下に留意することでバグを防ぐことができます。\n",
    "\n",
    "- \"よい\" コードを書く。\n",
    "    - コードに説明のコメントを入れる。\n",
    "    - 1行の文字数、インデント、空白などのフォーマットに気をつける。\n",
    "    - 変数や関数の名前を適当につけない。\n",
    "    - グローバル変数に留意する。\n",
    "    - コードに固有の \"マジックナンバー\" を使わず、変数を使う。\n",
    "    - コード内でのコピーアンドペーストを避ける。\n",
    "    - コード内の不要な処理は削除する。\n",
    "    - コードの冗長性を減らすようにする。など\n",
    "    - 参考\n",
    "        - [Google Python Style Guide](http://works.surgo.jp/translation/pyguide.html)\n",
    "        - [Official Style Guide for Python Code](http://pep8-ja.readthedocs.io/ja/latest/)\n",
    "- 関数の単体テストを行う。\n",
    "- 一つの関数には一つの機能・タスクを持たせるようにする。\n",
    "\n",
    "など\n",
    "\n",
    "エラーには大きく分けて、**文法エラー**、**実行エラー**、**論理エラー**があります。以下、それぞれのエラーについて対処法を説明します。\n",
    "また `print` を用いたデバッグについても紹介します。"
   ]
  },
  {
   "cell_type": "markdown",
   "metadata": {
    "colab_type": "text",
    "id": "pwOy-OelrHye"
   },
   "source": [
    "## **文法エラー**：Syntax Errors\n",
    "\n",
    "文法エラーは、入力がPythonの文法に違反しているエラーです。\n",
    "文法エラーに対しては、\n",
    "\n",
    "1. まず、エラーメッセージを確認しましょう。\n",
    "2. エラーメッセージの最終行を見て、それが `SyntaxError` であることを確認しましょう。\n",
    "3. エラーとなっているコードの行数を確認しましょう。\n",
    "4. そして、当該行付近のコードを注意深く確認しましょう。\n",
    "\n",
    "よくある文法エラーの例：\n",
    "- クォーテーションや括弧の閉じ忘れ\n",
    "- コロンのつけ忘れ\n",
    "- `=` と `==` の混同\n",
    "- インデントの誤り\n",
    "- 全角の空白\n",
    "\n",
    "など"
   ]
  },
  {
   "cell_type": "code",
   "execution_count": null,
   "metadata": {
    "colab": {
     "base_uri": "https://localhost:8080/",
     "height": 133
    },
    "colab_type": "code",
    "executionInfo": {
     "elapsed": 1272,
     "status": "error",
     "timestamp": 1583411443808,
     "user": {
      "displayName": "Junichiro Mori",
      "photoUrl": "",
      "userId": "01008898198902510619"
     },
     "user_tz": -540
    },
    "id": "Y2khQMwCrHyg",
    "outputId": "3d8c2bdd-4b51-43cd-f3d1-829699e39524",
    "tags": [
     "raises-exception"
    ]
   },
   "outputs": [],
   "source": [
    "print(\"This is the error)"
   ]
  },
  {
   "cell_type": "code",
   "execution_count": null,
   "metadata": {
    "colab": {
     "base_uri": "https://localhost:8080/",
     "height": 133
    },
    "colab_type": "code",
    "executionInfo": {
     "elapsed": 969,
     "status": "error",
     "timestamp": 1583411448389,
     "user": {
      "displayName": "Junichiro Mori",
      "photoUrl": "",
      "userId": "01008898198902510619"
     },
     "user_tz": -540
    },
    "id": "YAb1FZPgrHyk",
    "outputId": "2003771d-d523-4483-d0eb-0afbdaa4e124",
    "tags": [
     "raises-exception"
    ]
   },
   "outputs": [],
   "source": [
    "1 +　1"
   ]
  },
  {
   "cell_type": "markdown",
   "metadata": {
    "colab_type": "text",
    "id": "T-8aE9ekrHyn"
   },
   "source": [
    "## **実行エラー**：Runtime Errors\n",
    "\n",
    "実行エラーは、コードの実行時に検出されるエラーです。\n",
    "実行エラーに対しては、\n",
    "\n",
    "1. まず、エラーメッセージを確認しましょう。\n",
    "2. エラーメッセージの最終行を見て、そのエラーのタイプを確認しましょう。\n",
    "3. エラーとなっているコードの行数を確認しましょう。\n",
    "4. そして、当該行付近のコードについて、どの部分が実行エラーのタイプに関係しているか確認しましょう。もし複数の原因がありそうであれば、行を分割、改行して再度実行し、エラーを確認しましょう。\n",
    "5. 原因がわからない場合は、 `print` を挿入して処理の入出力の内容を確認しましょう。\n",
    "\n",
    "よくある実行エラーの例：\n",
    "- 文字列やリストの要素エラー\n",
    "- 変数名・関数名の打ち間違え\n",
    "- 無限の繰り返し\n",
    "- 型と処理の不整合\n",
    "- ゼロによる割り算\n",
    "- ファイルの入出力誤り、など"
   ]
  },
  {
   "cell_type": "code",
   "execution_count": null,
   "metadata": {
    "colab": {
     "base_uri": "https://localhost:8080/",
     "height": 166
    },
    "colab_type": "code",
    "executionInfo": {
     "elapsed": 1018,
     "status": "error",
     "timestamp": 1583411467657,
     "user": {
      "displayName": "Junichiro Mori",
      "photoUrl": "",
      "userId": "01008898198902510619"
     },
     "user_tz": -540
    },
    "id": "SqwmXj5hrHyp",
    "outputId": "d94f2f8e-1c57-4832-d04c-e552f7c961ad",
    "tags": [
     "raises-exception"
    ]
   },
   "outputs": [],
   "source": [
    "print(1/0)"
   ]
  },
  {
   "cell_type": "markdown",
   "metadata": {
    "colab_type": "text",
    "id": "GgTDDJBlrHys"
   },
   "source": [
    "## **論理エラー**：Logical Errors\n",
    "\n",
    "論理エラーとは、プログラムを実行できるが、プログラムが意図したように動作しないというエラーです。\n",
    "論理エラーに対しては、\n",
    "\n",
    "1. 入力に対する期待される出力と実際の出力を確認しましょう。\n",
    "2. コードを読み進めながら、期待する処理と異なるところを見つけましょう。必要であれば、 `print` を挿入して処理の入出力の内容を確認しましょう。"
   ]
  },
  {
   "cell_type": "markdown",
   "metadata": {
    "colab_type": "text",
    "id": "d7AIxQhzrHyu"
   },
   "source": [
    "## `print` によるデバッグ\n",
    "\n",
    "**`print`** を用いたデバッグについて紹介しましょう。\n",
    "以下の関数 `median(x,y,z)` は、`x` と `y` と `z` の中間値（真ん中の値）を求めようとするものです。\n",
    "`x` と `y` と `z` は相異なる数であると仮定します。"
   ]
  },
  {
   "cell_type": "code",
   "execution_count": null,
   "metadata": {
    "colab": {},
    "colab_type": "code",
    "id": "1BdK-uVjrHyv"
   },
   "outputs": [],
   "source": [
    "def median(x,y,z):\n",
    "    if x>y:\n",
    "        x = y\n",
    "        y = x\n",
    "    if z<x:\n",
    "        return x\n",
    "    if z<y:\n",
    "        return z\n",
    "    return y"
   ]
  },
  {
   "cell_type": "code",
   "execution_count": null,
   "metadata": {
    "colab": {
     "base_uri": "https://localhost:8080/",
     "height": 34
    },
    "colab_type": "code",
    "executionInfo": {
     "elapsed": 976,
     "status": "ok",
     "timestamp": 1583411518788,
     "user": {
      "displayName": "Junichiro Mori",
      "photoUrl": "",
      "userId": "01008898198902510619"
     },
     "user_tz": -540
    },
    "id": "KSY4G2iPrHyz",
    "outputId": "e6dff3a7-76a1-4e10-8dd8-b58c9d24e071"
   },
   "outputs": [],
   "source": [
    "median(3,1,2)"
   ]
  },
  {
   "cell_type": "markdown",
   "metadata": {
    "colab_type": "text",
    "id": "ebizy1ZXrHy3"
   },
   "source": [
    "このようにこのプログラムは間違っています。最初のif文で `x>y` のときに `x` と `y` を交換しようとしているのですが、\n",
    "それがうまく行っていないようです。\n",
    "そこで、最初のif文の後に `print` を入れて、`x` と `y` の値を表示させましょう。"
   ]
  },
  {
   "cell_type": "code",
   "execution_count": null,
   "metadata": {
    "colab": {},
    "colab_type": "code",
    "id": "Q3gdqGN_rHy4"
   },
   "outputs": [],
   "source": [
    "def median(x,y,z):\n",
    "    if x>y:\n",
    "        x = y\n",
    "        y = x\n",
    "    print(x,y)\n",
    "    if z<x:\n",
    "        return x\n",
    "    if z<y:\n",
    "        return z\n",
    "    return y"
   ]
  },
  {
   "cell_type": "code",
   "execution_count": null,
   "metadata": {
    "colab": {
     "base_uri": "https://localhost:8080/",
     "height": 50
    },
    "colab_type": "code",
    "executionInfo": {
     "elapsed": 997,
     "status": "ok",
     "timestamp": 1583411527436,
     "user": {
      "displayName": "Junichiro Mori",
      "photoUrl": "",
      "userId": "01008898198902510619"
     },
     "user_tz": -540
    },
    "id": "3EPqx71erHy7",
    "outputId": "571aebbc-9f63-4838-96d7-85deb848b168"
   },
   "outputs": [],
   "source": [
    "median(3,1,2)"
   ]
  },
  {
   "cell_type": "markdown",
   "metadata": {
    "colab_type": "text",
    "id": "i_5rc6acrHy-"
   },
   "source": [
    "`x` と `y` が同じ値になってしまっています。そこで、以下のように修正します。"
   ]
  },
  {
   "cell_type": "code",
   "execution_count": null,
   "metadata": {
    "colab": {},
    "colab_type": "code",
    "id": "O2ChxRChrHy_"
   },
   "outputs": [],
   "source": [
    "def median(x,y,z):\n",
    "    if x>y:\n",
    "        w = x\n",
    "        x = y\n",
    "        y = w\n",
    "    print(x,y)\n",
    "    if z<x:\n",
    "        return x\n",
    "    if z<y:\n",
    "        return z\n",
    "    return y"
   ]
  },
  {
   "cell_type": "code",
   "execution_count": null,
   "metadata": {
    "colab": {
     "base_uri": "https://localhost:8080/",
     "height": 50
    },
    "colab_type": "code",
    "executionInfo": {
     "elapsed": 596,
     "status": "ok",
     "timestamp": 1583411538488,
     "user": {
      "displayName": "Junichiro Mori",
      "photoUrl": "",
      "userId": "01008898198902510619"
     },
     "user_tz": -540
    },
    "id": "Fhf6NUEDrHzD",
    "outputId": "1b098124-0be2-47f4-82c7-b3fffb35b950"
   },
   "outputs": [],
   "source": [
    "median(3,1,2)"
   ]
  },
  {
   "cell_type": "markdown",
   "metadata": {
    "colab_type": "text",
    "id": "QkOlHdRmrHzF"
   },
   "source": [
    "正しく動きました。 `print` は削除してもよいのですが、今後のために `#` を付けてコメントアウトして残しておきます。"
   ]
  },
  {
   "cell_type": "code",
   "execution_count": null,
   "metadata": {
    "colab": {},
    "colab_type": "code",
    "id": "3F4zneIVrHzG"
   },
   "outputs": [],
   "source": [
    "def median(x,y,z):\n",
    "    if x>y:\n",
    "        w = x\n",
    "        x = y\n",
    "        y = w\n",
    "    #print(x,y)\n",
    "    if z<x:\n",
    "        return x\n",
    "    if z<y:\n",
    "        return z\n",
    "    return y"
   ]
  },
  {
   "cell_type": "code",
   "execution_count": null,
   "metadata": {
    "colab": {
     "base_uri": "https://localhost:8080/",
     "height": 34
    },
    "colab_type": "code",
    "executionInfo": {
     "elapsed": 529,
     "status": "ok",
     "timestamp": 1583411544045,
     "user": {
      "displayName": "Junichiro Mori",
      "photoUrl": "",
      "userId": "01008898198902510619"
     },
     "user_tz": -540
    },
    "id": "UkjzFNMxrHzJ",
    "outputId": "411e9276-9f04-4a5c-e00c-e08145fade78"
   },
   "outputs": [],
   "source": [
    "median(3,1,2)"
   ]
  },
  {
   "cell_type": "markdown",
   "metadata": {
    "colab_type": "text",
    "id": "7p9ErFfprHzM"
   },
   "source": [
    "## ▲assert文によるデバッグ\n",
    "\n",
    "論理エラーを見つける上で有用なのが、**assert文**です。\n",
    "これは引数となる条件式が偽であった時に、`AssertionError` が発生してプログラムが停止する仕組みです。\n",
    "次に例を示します。"
   ]
  },
  {
   "cell_type": "code",
   "execution_count": null,
   "metadata": {
    "colab": {
     "base_uri": "https://localhost:8080/",
     "height": 318
    },
    "colab_type": "code",
    "executionInfo": {
     "elapsed": 487,
     "status": "error",
     "timestamp": 1583411569012,
     "user": {
      "displayName": "Junichiro Mori",
      "photoUrl": "",
      "userId": "01008898198902510619"
     },
     "user_tz": -540
    },
    "id": "UldRvth6rHzN",
    "outputId": "6744b4bc-7743-4765-b776-88f789855c67",
    "tags": [
     "raises-exception"
    ]
   },
   "outputs": [],
   "source": [
    "import math\n",
    "def sqrt(x):\n",
    "    assert x >= 0\n",
    "    return math.sqrt(x)\n",
    "\n",
    "sqrt(2)\n",
    "sqrt(-2)"
   ]
  },
  {
   "cell_type": "markdown",
   "metadata": {
    "colab_type": "text",
    "id": "AZUCPnRRrHzR"
   },
   "source": [
    "ここで定義した `sqrt` 関数は、平方根を求める関数です。\n",
    "非負の数しかとらないことを前提とした関数なので、\n",
    "\n",
    "この前提を `assert x >= 0` としてプログラムの中で記述しています。\n",
    "`sqrt(2)` の呼び出しでは、この前提は満たされ、問題なく計算が進みます。\n",
    "\n",
    "しかし、`sqrt(-2)` の呼び出しでは、この前提が満たされないため、assert文が `AssertionError` を出します。\n",
    "このエラーメッセージによって、どの部分のどのような前提が満たされなかったかが簡単に分かります。\n",
    "これは、論理エラーの原因の絞り込みに役立ちます。"
   ]
  }
 ],
 "metadata": {
  "colab": {
   "collapsed_sections": [],
   "name": "1-4.ipynb",
   "provenance": [],
   "toc_visible": true
  },
  "kernelspec": {
   "display_name": "Python 3",
   "language": "python",
   "name": "python3"
  },
  "language_info": {
   "codemirror_mode": {
    "name": "ipython",
    "version": 3
   },
   "file_extension": ".py",
   "mimetype": "text/x-python",
   "name": "python",
   "nbconvert_exporter": "python",
   "pygments_lexer": "ipython3",
   "version": "3.7.3"
  }
 },
 "nbformat": 4,
 "nbformat_minor": 1
}
