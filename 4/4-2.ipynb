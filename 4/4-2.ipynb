{
 "cells": [
  {
   "cell_type": "markdown",
   "metadata": {
    "colab_type": "text",
    "id": "_eYCE6INkE5R"
   },
   "source": [
    "# 4-2. イテレータ\n",
    "イテレータについて簡単に説明します。\n",
    "\n",
    "参考\n",
    "- https://docs.python.org/ja/3/tutorial/classes.html\n",
    "- https://docs.python.org/ja/3/library/abc.html"
   ]
  },
  {
   "cell_type": "markdown",
   "metadata": {
    "colab_type": "text",
    "id": "LeaWRY39kE5V"
   },
   "source": [
    "## `next`\n",
    "\n",
    "ファイルオブジェクトは、**イテレータ**と呼ばれるオブジェクトの一種です。\n",
    "iterateは繰り返すという意味ですよね。\n",
    "イテレータは、その要素を一つずつ取り出す処理が可能なオブジェクトで、\n",
    "**`next`** という関数でその処理を一回分行うことができます。\n",
    "\n",
    "変数 `f` にファイルオブジェクトが入っているとすると、\n",
    "`next(f)` は、ファイルから新たに一行を読んで文字列として返します。"
   ]
  },
  {
   "cell_type": "code",
   "execution_count": null,
   "metadata": {
    "colab": {
     "base_uri": "https://localhost:8080/",
     "height": 202
    },
    "colab_type": "code",
    "executionInfo": {
     "elapsed": 2493,
     "status": "ok",
     "timestamp": 1583476931481,
     "user": {
      "displayName": "Junichiro Mori",
      "photoUrl": "",
      "userId": "01008898198902510619"
     },
     "user_tz": -540
    },
    "id": "MD7bD0FSlFia",
    "outputId": "7cc119f5-e1bc-4db8-d6b1-19260937aef4"
   },
   "outputs": [],
   "source": [
    "!wget https://raw.githubusercontent.com/UTokyo-IPP/utpython/master/4/sample.txt"
   ]
  },
  {
   "cell_type": "code",
   "execution_count": null,
   "metadata": {
    "colab": {},
    "colab_type": "code",
    "id": "PlwHpMaHkE5W"
   },
   "outputs": [],
   "source": [
    "f = open('sample.txt', 'r')"
   ]
  },
  {
   "cell_type": "code",
   "execution_count": null,
   "metadata": {
    "colab": {
     "base_uri": "https://localhost:8080/",
     "height": 54
    },
    "colab_type": "code",
    "executionInfo": {
     "elapsed": 1241,
     "status": "ok",
     "timestamp": 1583476948858,
     "user": {
      "displayName": "Junichiro Mori",
      "photoUrl": "",
      "userId": "01008898198902510619"
     },
     "user_tz": -540
    },
    "id": "srTbl4wrkE5b",
    "outputId": "daa81ac8-2693-4415-bd79-b1e74c2d568d"
   },
   "outputs": [],
   "source": [
    "next(f)"
   ]
  },
  {
   "cell_type": "code",
   "execution_count": null,
   "metadata": {
    "colab": {
     "base_uri": "https://localhost:8080/",
     "height": 34
    },
    "colab_type": "code",
    "executionInfo": {
     "elapsed": 719,
     "status": "ok",
     "timestamp": 1583476951317,
     "user": {
      "displayName": "Junichiro Mori",
      "photoUrl": "",
      "userId": "01008898198902510619"
     },
     "user_tz": -540
    },
    "id": "Z-lZ99EskE5f",
    "outputId": "85e2dda9-e41a-4583-edc7-fb93d8206985"
   },
   "outputs": [],
   "source": [
    "next(f)"
   ]
  },
  {
   "cell_type": "code",
   "execution_count": null,
   "metadata": {
    "colab": {
     "base_uri": "https://localhost:8080/",
     "height": 34
    },
    "colab_type": "code",
    "executionInfo": {
     "elapsed": 807,
     "status": "ok",
     "timestamp": 1583476953969,
     "user": {
      "displayName": "Junichiro Mori",
      "photoUrl": "",
      "userId": "01008898198902510619"
     },
     "user_tz": -540
    },
    "id": "nFGzA4eDkE5k",
    "outputId": "754e9fde-d34d-430f-9d07-8305159171e6"
   },
   "outputs": [],
   "source": [
    "next(f)"
   ]
  },
  {
   "cell_type": "code",
   "execution_count": null,
   "metadata": {
    "colab": {
     "base_uri": "https://localhost:8080/",
     "height": 166
    },
    "colab_type": "code",
    "executionInfo": {
     "elapsed": 693,
     "status": "error",
     "timestamp": 1583476956701,
     "user": {
      "displayName": "Junichiro Mori",
      "photoUrl": "",
      "userId": "01008898198902510619"
     },
     "user_tz": -540
    },
    "id": "0m6EaLBOkE5o",
    "outputId": "8436e7cc-46ad-4e6e-94ae-3e6dc3c41438",
    "tags": [
     "raises-exception"
    ]
   },
   "outputs": [],
   "source": [
    "next(f)"
   ]
  },
  {
   "cell_type": "markdown",
   "metadata": {
    "colab_type": "text",
    "id": "1cSF2_X2kE5s"
   },
   "source": [
    "`f` をファイルオブジェクトとしたとき、\n",
    "`f.readline()` と `next(f)` は、ほぼ同じで、\n",
    "ファイルから新たに一行を読んで文字列として返します。\n",
    "\n",
    "ただし、`f.readline()` と `next(f)` では、ファイルの終わりに来たときの挙動が異なります。\n",
    "`f.readline()` は `''` という空文字列を返すのですが、\n",
    "`next(f)` は **`StopIteration`** というエラーを発します。\n",
    "以下で説明するfor文は、このエラーを検知しています。\n",
    "つまり、`next(f)` が `StopIteration` を返したらforループから抜け出します。"
   ]
  },
  {
   "cell_type": "code",
   "execution_count": null,
   "metadata": {
    "colab": {},
    "colab_type": "code",
    "id": "aCirPXRTkE5t"
   },
   "outputs": [],
   "source": [
    "f.close()"
   ]
  },
  {
   "cell_type": "markdown",
   "metadata": {
    "colab_type": "text",
    "id": "wq3ZFA9hkE5x"
   },
   "source": [
    "## for文による繰り返しとファイルオブジェクト\n",
    "\n",
    "一般に、イテレータは、for文の `in` の後に指定することができます。\n",
    "\n",
    "したがって、以下のように、ファイルオブジェクトを値とする変数 `f` を、\n",
    "for文の `in` の後に指定することができます。\n",
    "\n",
    "---\n",
    "```Python\n",
    "for line in f:\n",
    "    ...\n",
    "```\n",
    "---\n",
    "\n",
    "繰り返しの各ステップで、`next(f)` が呼び出されて、\n",
    "変数 `line` にその値が設定され、for文の中身が実行されます。\n",
    "\n",
    "以下の例を見てください。"
   ]
  },
  {
   "cell_type": "code",
   "execution_count": null,
   "metadata": {
    "colab": {
     "base_uri": "https://localhost:8080/",
     "height": 138
    },
    "colab_type": "code",
    "executionInfo": {
     "elapsed": 690,
     "status": "ok",
     "timestamp": 1583476982428,
     "user": {
      "displayName": "Junichiro Mori",
      "photoUrl": "",
      "userId": "01008898198902510619"
     },
     "user_tz": -540
    },
    "id": "9oLTt1dmkE5y",
    "outputId": "381f3041-b179-4b68-85e6-d0969773764e"
   },
   "outputs": [],
   "source": [
    "with open('sample.txt', 'r') as f:\n",
    "    for line in f:\n",
    "        print(line)"
   ]
  },
  {
   "cell_type": "markdown",
   "metadata": {
    "colab_type": "text",
    "id": "22-A2gdBkE52"
   },
   "source": [
    "ファイルオブジェクトに対して、一度for文で処理をすると、\n",
    "繰り返し処理がファイルの終わりまで達しているので、\n",
    "もう一度同じファイルオブジェクトをfor文に与えても何も実行されません。"
   ]
  },
  {
   "cell_type": "code",
   "execution_count": null,
   "metadata": {
    "colab": {
     "base_uri": "https://localhost:8080/",
     "height": 171
    },
    "colab_type": "code",
    "executionInfo": {
     "elapsed": 709,
     "status": "ok",
     "timestamp": 1583477002655,
     "user": {
      "displayName": "Junichiro Mori",
      "photoUrl": "",
      "userId": "01008898198902510619"
     },
     "user_tz": -540
    },
    "id": "spMGQ_GHkE53",
    "outputId": "13bbe6b4-4fe5-48d3-9d1e-9f4def598836"
   },
   "outputs": [],
   "source": [
    "with open('sample.txt', 'r') as f:\n",
    "    print('---- 最初 ----')\n",
    "    for line in f:\n",
    "        print(line)\n",
    "    print('---- もう一度 ----')\n",
    "    for line in f:\n",
    "        print(line)"
   ]
  },
  {
   "cell_type": "markdown",
   "metadata": {
    "colab_type": "text",
    "id": "PB5lnutMkE6B"
   },
   "source": [
    "ファイルをfor文によって二度読みたい場合は、\n",
    "もう一度ファイルをオープンして、ファイルのオブジェクトを新たに生成してください。"
   ]
  },
  {
   "cell_type": "markdown",
   "metadata": {
    "colab_type": "text",
    "id": "WKIXXxqpkE6C"
   },
   "source": [
    "## 練習\n",
    "文字列 `name` をファイル名とするファイルの最後の行を文字列として返す関数 `last_line(name)` を、\n",
    "ファイルオブジェクトに対するfor文を用いて定義してください。"
   ]
  },
  {
   "cell_type": "code",
   "execution_count": null,
   "metadata": {
    "colab": {},
    "colab_type": "code",
    "id": "pbomWkSJkE6D"
   },
   "outputs": [],
   "source": [
    "def last_line(name):\n",
    "    ..."
   ]
  },
  {
   "cell_type": "markdown",
   "metadata": {
    "colab_type": "text",
    "id": "YPlvJz9jkE6G"
   },
   "source": [
    "上のセルで解答を作成した後、以下のセルを実行し、実行結果が `True` になることを確認してください。"
   ]
  },
  {
   "cell_type": "code",
   "execution_count": null,
   "metadata": {
    "colab": {},
    "colab_type": "code",
    "id": "udjcRkakkE6H",
    "tags": [
     "raises-exception"
    ]
   },
   "outputs": [],
   "source": [
    "print(last_line('sample.txt')==\"Excepteur sint occaecat cupidatat non proident, sunt in culpa qui officia deserunt mollit anim id est laborum.\\n\")"
   ]
  },
  {
   "cell_type": "markdown",
   "metadata": {
    "colab_type": "text",
    "id": "9ZAouc4kkE6K"
   },
   "source": [
    "## `iter`\n",
    "\n",
    "いうまでもなく、リスト対してfor文を用いることができますが、リストはイテレータでしょうか。"
   ]
  },
  {
   "cell_type": "code",
   "execution_count": null,
   "metadata": {
    "colab": {
     "base_uri": "https://localhost:8080/",
     "height": 166
    },
    "colab_type": "code",
    "executionInfo": {
     "elapsed": 815,
     "status": "error",
     "timestamp": 1583477061506,
     "user": {
      "displayName": "Junichiro Mori",
      "photoUrl": "",
      "userId": "01008898198902510619"
     },
     "user_tz": -540
    },
    "id": "nK9tP8jgkE6L",
    "outputId": "69859b77-c22f-4df8-820e-fb626f28439a",
    "scrolled": true,
    "tags": [
     "raises-exception"
    ]
   },
   "outputs": [],
   "source": [
    "next([1,2,3])"
   ]
  },
  {
   "cell_type": "markdown",
   "metadata": {
    "colab_type": "text",
    "id": "OrYtlnCvkE6O"
   },
   "source": [
    "リストに対して `next` を適用するとエラーになってしまいます。\n",
    "したがって、リストはイテレータではありません。\n",
    "\n",
    "では、なぜリストに対してfor文が適用できるのでしょう。\n",
    "\n",
    "実は、for文の `in` の後に指定されたオブジェクトに対しては、\n",
    "必ず **`iter`** という組み込み関数が適用される、という仕掛けになっているのです。\n",
    "\n",
    "実際に、リストに `iter` を適用してみましょう。"
   ]
  },
  {
   "cell_type": "code",
   "execution_count": null,
   "metadata": {
    "colab": {},
    "colab_type": "code",
    "id": "kALF4qoCkE6P"
   },
   "outputs": [],
   "source": [
    "it = iter([1,2,3])"
   ]
  },
  {
   "cell_type": "markdown",
   "metadata": {
    "colab_type": "text",
    "id": "oUYwuNKukE6T"
   },
   "source": [
    "変数 `it` には、リスト `[1,2,3]` から作ったイテレータが入っています。"
   ]
  },
  {
   "cell_type": "code",
   "execution_count": null,
   "metadata": {
    "colab": {
     "base_uri": "https://localhost:8080/",
     "height": 34
    },
    "colab_type": "code",
    "executionInfo": {
     "elapsed": 709,
     "status": "ok",
     "timestamp": 1583477082798,
     "user": {
      "displayName": "Junichiro Mori",
      "photoUrl": "",
      "userId": "01008898198902510619"
     },
     "user_tz": -540
    },
    "id": "YXjkxSqDkE6U",
    "outputId": "0e4348b7-3200-4a19-e281-f2b64c31a434"
   },
   "outputs": [],
   "source": [
    "it"
   ]
  },
  {
   "cell_type": "code",
   "execution_count": null,
   "metadata": {
    "colab": {
     "base_uri": "https://localhost:8080/",
     "height": 34
    },
    "colab_type": "code",
    "executionInfo": {
     "elapsed": 733,
     "status": "ok",
     "timestamp": 1583477085084,
     "user": {
      "displayName": "Junichiro Mori",
      "photoUrl": "",
      "userId": "01008898198902510619"
     },
     "user_tz": -540
    },
    "id": "j2giviFXkE6X",
    "outputId": "db57965e-231b-40a1-bec5-8b0c8dc44696"
   },
   "outputs": [],
   "source": [
    "next(it)"
   ]
  },
  {
   "cell_type": "code",
   "execution_count": null,
   "metadata": {
    "colab": {
     "base_uri": "https://localhost:8080/",
     "height": 34
    },
    "colab_type": "code",
    "executionInfo": {
     "elapsed": 693,
     "status": "ok",
     "timestamp": 1583477087759,
     "user": {
      "displayName": "Junichiro Mori",
      "photoUrl": "",
      "userId": "01008898198902510619"
     },
     "user_tz": -540
    },
    "id": "Dm54VT11kE6a",
    "outputId": "cee93b1c-ebac-43ff-e119-ddff40be8e04"
   },
   "outputs": [],
   "source": [
    "next(it)"
   ]
  },
  {
   "cell_type": "code",
   "execution_count": null,
   "metadata": {
    "colab": {
     "base_uri": "https://localhost:8080/",
     "height": 34
    },
    "colab_type": "code",
    "executionInfo": {
     "elapsed": 720,
     "status": "ok",
     "timestamp": 1583477090261,
     "user": {
      "displayName": "Junichiro Mori",
      "photoUrl": "",
      "userId": "01008898198902510619"
     },
     "user_tz": -540
    },
    "id": "jaJew_0OkE6d",
    "outputId": "aa38a18d-2981-41b2-e309-558a7128a974"
   },
   "outputs": [],
   "source": [
    "next(it)"
   ]
  },
  {
   "cell_type": "code",
   "execution_count": null,
   "metadata": {
    "colab": {
     "base_uri": "https://localhost:8080/",
     "height": 166
    },
    "colab_type": "code",
    "executionInfo": {
     "elapsed": 747,
     "status": "error",
     "timestamp": 1583477092961,
     "user": {
      "displayName": "Junichiro Mori",
      "photoUrl": "",
      "userId": "01008898198902510619"
     },
     "user_tz": -540
    },
    "id": "_8HtEOJNkE6g",
    "outputId": "991468a7-7cbf-4351-abf6-432ab7374015",
    "tags": [
     "raises-exception"
    ]
   },
   "outputs": [],
   "source": [
    "next(it)"
   ]
  },
  {
   "cell_type": "markdown",
   "metadata": {
    "colab_type": "text",
    "id": "CBe4wmPXkE6k"
   },
   "source": [
    "ここで、もう一度イテレータを作り直しましょう。"
   ]
  },
  {
   "cell_type": "code",
   "execution_count": null,
   "metadata": {
    "colab": {},
    "colab_type": "code",
    "id": "Zn4KvdARkE6k"
   },
   "outputs": [],
   "source": [
    "it = iter([1,2,3])"
   ]
  },
  {
   "cell_type": "markdown",
   "metadata": {
    "colab_type": "text",
    "id": "ks62b9B2kE6n"
   },
   "source": [
    "このイテレータに対して以下のようにfor文を用いると、もとのリストの要素が網羅されます。"
   ]
  },
  {
   "cell_type": "code",
   "execution_count": null,
   "metadata": {
    "colab": {
     "base_uri": "https://localhost:8080/",
     "height": 67
    },
    "colab_type": "code",
    "executionInfo": {
     "elapsed": 753,
     "status": "ok",
     "timestamp": 1583477100257,
     "user": {
      "displayName": "Junichiro Mori",
      "photoUrl": "",
      "userId": "01008898198902510619"
     },
     "user_tz": -540
    },
    "id": "NwzPTVC6kE6o",
    "outputId": "42646c9a-1a6b-40d9-cf20-a5bb00ecbcb6"
   },
   "outputs": [],
   "source": [
    "for x in it:\n",
    "    print(x)"
   ]
  },
  {
   "cell_type": "markdown",
   "metadata": {
    "colab_type": "text",
    "id": "mDhgnMxIkE6r"
   },
   "source": [
    "ファイルの場合と同様に、もう一回for文を回しても何も出力されません。"
   ]
  },
  {
   "cell_type": "code",
   "execution_count": null,
   "metadata": {
    "colab": {},
    "colab_type": "code",
    "id": "9dCgmV4skE6r"
   },
   "outputs": [],
   "source": [
    "for x in it:\n",
    "    print(x)"
   ]
  },
  {
   "cell_type": "markdown",
   "metadata": {
    "colab_type": "text",
    "id": "eG3IHAAHkE6u"
   },
   "source": [
    "もう一度説明すると、for文の `in` の後に指定されたオブジェクトに対しては、\n",
    "必ず `iter` という組み込み関数が適用されて、イテレータが得られます。\n",
    "そして、そのイテレータに対して `next` が次々と呼ばれます。\n",
    "\n",
    "では、for文の `in` の後にイテレータが指定されるとどうなるでしょうか。\n",
    "やはり、`iter` が適用されるのですが、\n",
    "Pythonでは、イテレータに対して `iter` が適用されても、\n",
    "そのイテレータ自身が返ります。"
   ]
  },
  {
   "cell_type": "code",
   "execution_count": null,
   "metadata": {
    "colab": {
     "base_uri": "https://localhost:8080/",
     "height": 34
    },
    "colab_type": "code",
    "executionInfo": {
     "elapsed": 683,
     "status": "ok",
     "timestamp": 1583477147899,
     "user": {
      "displayName": "Junichiro Mori",
      "photoUrl": "",
      "userId": "01008898198902510619"
     },
     "user_tz": -540
    },
    "id": "OqFrzzkfkE6u",
    "outputId": "9768fc73-18a1-4078-87b3-fe65c2043feb"
   },
   "outputs": [],
   "source": [
    "with open('sample.txt', 'r') as f:\n",
    "    print(f is iter(f))"
   ]
  },
  {
   "cell_type": "markdown",
   "metadata": {
    "colab_type": "text",
    "id": "bCIij7LbkE6x"
   },
   "source": [
    "**`is`** は、2-2 に説明がありますが、その両辺が同じオブジェクトかどうかを調べる演算子です。"
   ]
  },
  {
   "cell_type": "markdown",
   "metadata": {
    "colab_type": "text",
    "id": "K1PcOkB1kE6x"
   },
   "source": [
    "## 練習\n",
    "\n",
    "リストをもらって、そのイテレータを作り、最初の要素だけ取り出した後、\n",
    "そのイテレータを返す関数 `but_first(ls)` を定義してください。"
   ]
  },
  {
   "cell_type": "code",
   "execution_count": null,
   "metadata": {
    "colab": {},
    "colab_type": "code",
    "id": "Mxf4atF1kE6y"
   },
   "outputs": [],
   "source": [
    "def but_first(ls):\n",
    "    ..."
   ]
  },
  {
   "cell_type": "markdown",
   "metadata": {
    "colab_type": "text",
    "id": "bVeebV6lkE61"
   },
   "source": [
    "上のセルで解答を作成した後、以下のセルを実行し、実行結果が `True` になることを確認してください。"
   ]
  },
  {
   "cell_type": "code",
   "execution_count": null,
   "metadata": {
    "colab": {},
    "colab_type": "code",
    "id": "z7lCwE7mkE62",
    "tags": [
     "raises-exception"
    ]
   },
   "outputs": [],
   "source": [
    "it = but_first([0,2,4,6,8])\n",
    "print(type(it) == type(iter([])))\n",
    "print(list(it) == [2,4,6,8])"
   ]
  },
  {
   "cell_type": "markdown",
   "metadata": {
    "colab_type": "text",
    "id": "1QQNmNnckE65"
   },
   "source": [
    "## イテラブル\n",
    "\n",
    "一般に、関数 `iter` が適用できるオブジェクトを**イテラブル**と呼びます。\n",
    "イテラブルは、for文の `in` の後に指定することができます。\n",
    "\n",
    "イテレータに `iter` を適用すると自分自身が返るので、イテレータはイテラブルでもあります。\n",
    "\n",
    "リストはイテラブルですが、イテレータではありません。"
   ]
  },
  {
   "cell_type": "code",
   "execution_count": null,
   "metadata": {
    "colab": {
     "base_uri": "https://localhost:8080/",
     "height": 118
    },
    "colab_type": "code",
    "executionInfo": {
     "elapsed": 833,
     "status": "ok",
     "timestamp": 1583477197519,
     "user": {
      "displayName": "Junichiro Mori",
      "photoUrl": "",
      "userId": "01008898198902510619"
     },
     "user_tz": -540
    },
    "id": "3YsHsdkqkE66",
    "outputId": "753333f1-6b88-44de-c560-0e46076eb383"
   },
   "outputs": [],
   "source": [
    "ln = [1,2,3]\n",
    "for x in ln:\n",
    "    print(x)\n",
    "for x in ln:\n",
    "    print(x)"
   ]
  },
  {
   "cell_type": "markdown",
   "metadata": {
    "colab_type": "text",
    "id": "gPSXUqfykE69"
   },
   "source": [
    "上の例では、二つのfor文ごとに、`ln` に `iter` が適用されて、別々のイテレータが作られたのです。\n",
    "\n",
    "関数 **`range`** が返すオブジェクトもイテラブルですが、イテレータではありません。"
   ]
  },
  {
   "cell_type": "code",
   "execution_count": null,
   "metadata": {
    "colab": {
     "base_uri": "https://localhost:8080/",
     "height": 118
    },
    "colab_type": "code",
    "executionInfo": {
     "elapsed": 1271,
     "status": "ok",
     "timestamp": 1583477205694,
     "user": {
      "displayName": "Junichiro Mori",
      "photoUrl": "",
      "userId": "01008898198902510619"
     },
     "user_tz": -540
    },
    "id": "4gHndKZokE69",
    "outputId": "546e19bd-af17-49e4-9d7c-28cb99c0278d"
   },
   "outputs": [],
   "source": [
    "r = range(3)\n",
    "for x in r:\n",
    "    print(x)\n",
    "for x in r:\n",
    "    print(x)"
   ]
  },
  {
   "cell_type": "markdown",
   "metadata": {
    "colab_type": "text",
    "id": "cBrLwo5wkE7B"
   },
   "source": [
    "## イテレータを返す `enumerate`\n",
    "3-2 で紹介した組み込み関数の**`enumerate()`**は、イテレータを返します。"
   ]
  },
  {
   "cell_type": "code",
   "execution_count": null,
   "metadata": {
    "colab": {},
    "colab_type": "code",
    "id": "MWQdzzwmkE7C"
   },
   "outputs": [],
   "source": [
    "it = enumerate([10,20,30])"
   ]
  },
  {
   "cell_type": "code",
   "execution_count": null,
   "metadata": {
    "colab": {
     "base_uri": "https://localhost:8080/",
     "height": 34
    },
    "colab_type": "code",
    "executionInfo": {
     "elapsed": 1267,
     "status": "ok",
     "timestamp": 1583477228471,
     "user": {
      "displayName": "Junichiro Mori",
      "photoUrl": "",
      "userId": "01008898198902510619"
     },
     "user_tz": -540
    },
    "id": "sS5GgkQDkE7F",
    "outputId": "419cca4e-3389-41e7-b847-19771e4c3fb5"
   },
   "outputs": [],
   "source": [
    "next(it)"
   ]
  },
  {
   "cell_type": "code",
   "execution_count": null,
   "metadata": {
    "colab": {
     "base_uri": "https://localhost:8080/",
     "height": 50
    },
    "colab_type": "code",
    "executionInfo": {
     "elapsed": 898,
     "status": "ok",
     "timestamp": 1583477232884,
     "user": {
      "displayName": "Junichiro Mori",
      "photoUrl": "",
      "userId": "01008898198902510619"
     },
     "user_tz": -540
    },
    "id": "kJQZf_H5kE7H",
    "outputId": "4c6b1df2-6da5-43c0-a7b6-7ee632fdd907"
   },
   "outputs": [],
   "source": [
    "for x in it:\n",
    "    print(x)"
   ]
  },
  {
   "cell_type": "code",
   "execution_count": null,
   "metadata": {
    "colab": {
     "base_uri": "https://localhost:8080/",
     "height": 84
    },
    "colab_type": "code",
    "executionInfo": {
     "elapsed": 788,
     "status": "ok",
     "timestamp": 1583477237826,
     "user": {
      "displayName": "Junichiro Mori",
      "photoUrl": "",
      "userId": "01008898198902510619"
     },
     "user_tz": -540
    },
    "id": "yQusyPuckE7K",
    "outputId": "83fd0d07-1611-4133-e8e9-6636ff2d90a7"
   },
   "outputs": [],
   "source": [
    "for i, c in enumerate('ACDB'):\n",
    "    print(i, '番目の文字 =', c)"
   ]
  },
  {
   "cell_type": "markdown",
   "metadata": {
    "colab_type": "text",
    "id": "G2rIaM2vkE7M"
   },
   "source": [
    "一方、`enumerate` はイテラブルを引数として受け取ります。上の例で、リストも文字列もイテラブルです。\n",
    "\n",
    "イテレータもイテラブルなので、`enumerate` の引数になり得ます。\n",
    "たとえば、ファイルオブジェクトはイテレータなので、以下のように `enumerate` の引数になります。"
   ]
  },
  {
   "cell_type": "code",
   "execution_count": null,
   "metadata": {
    "colab": {
     "base_uri": "https://localhost:8080/",
     "height": 188
    },
    "colab_type": "code",
    "executionInfo": {
     "elapsed": 882,
     "status": "ok",
     "timestamp": 1583477260692,
     "user": {
      "displayName": "Junichiro Mori",
      "photoUrl": "",
      "userId": "01008898198902510619"
     },
     "user_tz": -540
    },
    "id": "Cjw-MRNVkE7M",
    "outputId": "c98c38fd-6685-4664-cc2f-344209f5afaa"
   },
   "outputs": [],
   "source": [
    "with open('sample.txt', 'r') as f:\n",
    "    for i, s in enumerate(f):\n",
    "        print(i, '行目:')\n",
    "        print(s)"
   ]
  },
  {
   "cell_type": "markdown",
   "metadata": {
    "colab_type": "text",
    "id": "hSx7c4DtkE7Q"
   },
   "source": [
    "変数 `i` は 0 から順に増えていきます。変数 `s` には各行の文字列が代入されます。\n",
    "`i` は 0 から始まりますが、各行の行番号と考えられます。"
   ]
  },
  {
   "cell_type": "markdown",
   "metadata": {
    "colab_type": "text",
    "id": "rNI-YmkIkE7S"
   },
   "source": [
    "## 練習の解答"
   ]
  },
  {
   "cell_type": "code",
   "execution_count": null,
   "metadata": {
    "colab": {},
    "colab_type": "code",
    "id": "zOkAc7RDkE7T"
   },
   "outputs": [],
   "source": [
    "def last_line(name):\n",
    "    f = open(name, 'r')\n",
    "    for line in f:\n",
    "        pass\n",
    "    f.close()\n",
    "    return line"
   ]
  },
  {
   "cell_type": "code",
   "execution_count": null,
   "metadata": {
    "colab": {},
    "colab_type": "code",
    "id": "9itIs2q9kE7W"
   },
   "outputs": [],
   "source": [
    "def but_first(ls):\n",
    "    it = iter(ls)\n",
    "    next(it)\n",
    "    return it"
   ]
  },
  {
   "cell_type": "code",
   "execution_count": null,
   "metadata": {
    "colab": {},
    "colab_type": "code",
    "id": "FcSdjIM5kE7Y"
   },
   "outputs": [],
   "source": []
  }
 ],
 "metadata": {
  "colab": {
   "collapsed_sections": [],
   "name": "4-2.ipynb",
   "provenance": [],
   "toc_visible": true
  },
  "kernelspec": {
   "display_name": "Python 3",
   "language": "python",
   "name": "python3"
  },
  "language_info": {
   "codemirror_mode": {
    "name": "ipython",
    "version": 3
   },
   "file_extension": ".py",
   "mimetype": "text/x-python",
   "name": "python",
   "nbconvert_exporter": "python",
   "pygments_lexer": "ipython3",
   "version": "3.7.3"
  }
 },
 "nbformat": 4,
 "nbformat_minor": 1
}
