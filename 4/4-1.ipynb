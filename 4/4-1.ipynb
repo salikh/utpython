{
 "cells": [
  {
   "cell_type": "markdown",
   "metadata": {
    "colab_type": "text",
    "id": "zCtMD2y0eexG"
   },
   "source": [
    "# 4-1. ファイル入出力の基本\n",
    "ファイル入出力の基本について説明します。\n",
    "\n",
    "参考\n",
    "\n",
    "- https://docs.python.org/ja/3/tutorial/inputoutput.html#reading-and-writing-files\n",
    "\n",
    "## ファイルのオープン\n",
    "**ファイル**から文字列を読み込んだり、ファイルに書き込んだりするには、\n",
    "まず、**`open()`** という関数によってファイルを**オープン**する（開く）必要があります。"
   ]
  },
  {
   "cell_type": "code",
   "execution_count": null,
   "metadata": {
    "colab": {
     "base_uri": "https://localhost:8080/",
     "height": 202
    },
    "colab_type": "code",
    "executionInfo": {
     "elapsed": 1708,
     "status": "ok",
     "timestamp": 1583475615585,
     "user": {
      "displayName": "Junichiro Mori",
      "photoUrl": "",
      "userId": "01008898198902510619"
     },
     "user_tz": -540
    },
    "id": "ZdKBwN-ffU-T",
    "outputId": "b515fdae-bd89-4158-ac8a-32d344831735"
   },
   "outputs": [],
   "source": [
    "!wget https://raw.githubusercontent.com/UTokyo-IPP/utpython/master/4/sample.txt"
   ]
  },
  {
   "cell_type": "code",
   "execution_count": null,
   "metadata": {
    "colab": {},
    "colab_type": "code",
    "id": "dCdmTy6GeexK"
   },
   "outputs": [],
   "source": [
    "f = open('sample.txt', 'r')"
   ]
  },
  {
   "cell_type": "markdown",
   "metadata": {
    "colab_type": "text",
    "id": "_aNfKlVaeexP"
   },
   "source": [
    "変数 `f` には、ファイルを読み書きするためのデータが入ります。\n",
    "これを**ファイルオブジェクト**と呼びます。"
   ]
  },
  {
   "cell_type": "markdown",
   "metadata": {
    "colab_type": "text",
    "id": "wZXMQwHleexR"
   },
   "source": [
    "`'sample.txt'` はファイル名で、そのファイルの絶対パス名か、このノートブックからの相対パス名を指定します。\n",
    "\n",
    "ここでは、`sample.txt` という名前のファイルがこのノートブックと同じディレクトリにあることを想定しています。\n",
    "\n",
    "たとえば、`novel.txt` というファイルが、ノートブックの一段上のディレクトリ（このディレクトリが入っているディレクトリ）にあるならば、`'../novel.txt'` と指定します。\n",
    "ノートブックの一段上のディレクトリに置かれている `data` というディレクトリにあるならば、`'../data/novel.txt'` となります\n",
    "(4-3にもう少し詳しい解説があります）。"
   ]
  },
  {
   "cell_type": "markdown",
   "metadata": {
    "colab_type": "text",
    "id": "RA6Nk7PyeexT"
   },
   "source": [
    "`'r'` はファイルをどのモードで開くかを指しており、`'r'`は**読み込みモード**を意味します。\n",
    "このモードで開いたファイルに書き込みすることはできません。\n",
    "\n",
    "モードには次のような種類があります。\n",
    "\n",
    "記号| モード\n",
    "---|:---\n",
    "r | 読み込み\n",
    "w | 書き込み\n",
    "a | 追記\n",
    "+ | 読み書き両方を指定したい場合に使用\n",
    "\n",
    "書き込みについては後でも説明します。"
   ]
  },
  {
   "cell_type": "markdown",
   "metadata": {
    "colab_type": "text",
    "id": "uHE2HF06eexU"
   },
   "source": [
    "## ファイルのクローズ\n",
    "\n",
    "ファイルオブジェクトを使い終わったら、原則として、**`close()`**メソッドを呼び出して、**クローズ**する（閉じる）必要があります。"
   ]
  },
  {
   "cell_type": "code",
   "execution_count": null,
   "metadata": {
    "colab": {},
    "colab_type": "code",
    "id": "Y6LpXtmneexV"
   },
   "outputs": [],
   "source": [
    "f.close()"
   ]
  },
  {
   "cell_type": "markdown",
   "metadata": {
    "colab_type": "text",
    "id": "p90Dmuc-eexZ"
   },
   "source": [
    "`close()`を呼び出さずに放置すると、そのファイルがまだ使用中だと認識されてしまいます。\n",
    "これは、同じファイルを利用しようとする他のプログラムの働きを阻害します。（個室のトイレをイメージしてください。）\n",
    "\n",
    "`close()`の呼出しは重要ですが、忘れがちなものでもあります。\n",
    "後述するwith文を使うのが安全です。"
   ]
  },
  {
   "cell_type": "markdown",
   "metadata": {
    "colab_type": "text",
    "id": "2YNoYe66eexb"
   },
   "source": [
    "## ファイル全体の読み込み\n",
    "\n",
    "ファイル全体を一括で読み込んで、1つの文字列を取得したいときには、**`read()`**メソッドを利用します。"
   ]
  },
  {
   "cell_type": "code",
   "execution_count": null,
   "metadata": {
    "colab": {
     "base_uri": "https://localhost:8080/",
     "height": 54
    },
    "colab_type": "code",
    "executionInfo": {
     "elapsed": 458,
     "status": "ok",
     "timestamp": 1583475627113,
     "user": {
      "displayName": "Junichiro Mori",
      "photoUrl": "",
      "userId": "01008898198902510619"
     },
     "user_tz": -540
    },
    "id": "-y4Ew6YEeexc",
    "outputId": "38ccb973-2e56-4ee6-b02f-23873220aaff"
   },
   "outputs": [],
   "source": [
    "f = open('sample.txt', 'r')\n",
    "f.read()"
   ]
  },
  {
   "cell_type": "code",
   "execution_count": null,
   "metadata": {
    "colab": {},
    "colab_type": "code",
    "id": "mLo75scgeexh"
   },
   "outputs": [],
   "source": [
    "f.close()"
   ]
  },
  {
   "cell_type": "markdown",
   "metadata": {
    "colab_type": "text",
    "id": "5xXzH3aheexl"
   },
   "source": [
    "## 練習\n",
    "\n",
    "文字列 `name` をファイル名とするファイルをオープンして、\n",
    "`read()` のメソッドによってファイル全体を文字列として読み込み、\n",
    "その文字数を返す関数 `number_of_characters(name)` を作成してください。\n",
    "\n",
    "注意：`return` する前にファイルをクローズすることを忘れないようにしてください。"
   ]
  },
  {
   "cell_type": "code",
   "execution_count": null,
   "metadata": {
    "colab": {},
    "colab_type": "code",
    "id": "WLVMvWETeexm"
   },
   "outputs": [],
   "source": [
    "def  number_of_characters(name):\n",
    "    ..."
   ]
  },
  {
   "cell_type": "markdown",
   "metadata": {
    "colab_type": "text",
    "id": "yY4xIFCAeexx"
   },
   "source": [
    "上のセルで解答を作成した後、以下のセルを実行し、実行結果が `True` になることを確認してください。"
   ]
  },
  {
   "cell_type": "code",
   "execution_count": null,
   "metadata": {
    "colab": {},
    "colab_type": "code",
    "id": "GFUZTxLueexy",
    "tags": [
     "raises-exception"
    ]
   },
   "outputs": [],
   "source": [
    "print(number_of_characters('sample.txt') == 446)"
   ]
  },
  {
   "cell_type": "markdown",
   "metadata": {
    "colab_type": "text",
    "id": "DrI9M0Wyeex1"
   },
   "source": [
    "## 行の読み込み\n",
    "ファイルオブジェクトには、**`readline()`** というメソッドを適用することができます。\n",
    "ファイルから新たに一行を読んで文字列として返します。\n",
    "文字列の最後に改行文字が含まれます。\n",
    "\n",
    "ファイルの終わりに来たとき、`readline()` は `''` という空文字列を返します。\n",
    "\n",
    "以下のようにして `readline()` を使ってファイルを行単位で読んでみましょう。\n",
    "\n",
    "ファイルを読み終わると空文字列が返ることを確認してください。"
   ]
  },
  {
   "cell_type": "code",
   "execution_count": null,
   "metadata": {
    "colab": {},
    "colab_type": "code",
    "id": "YLnhwkuLeex2"
   },
   "outputs": [],
   "source": [
    "f = open('sample.txt', 'r')"
   ]
  },
  {
   "cell_type": "code",
   "execution_count": null,
   "metadata": {
    "colab": {
     "base_uri": "https://localhost:8080/",
     "height": 54
    },
    "colab_type": "code",
    "executionInfo": {
     "elapsed": 474,
     "status": "ok",
     "timestamp": 1583475662819,
     "user": {
      "displayName": "Junichiro Mori",
      "photoUrl": "",
      "userId": "01008898198902510619"
     },
     "user_tz": -540
    },
    "id": "HllnARGVeex6",
    "outputId": "5c5cf2f9-7b94-4f19-cc25-dee3f118ffd8"
   },
   "outputs": [],
   "source": [
    "f.readline()"
   ]
  },
  {
   "cell_type": "code",
   "execution_count": null,
   "metadata": {
    "colab": {
     "base_uri": "https://localhost:8080/",
     "height": 34
    },
    "colab_type": "code",
    "executionInfo": {
     "elapsed": 572,
     "status": "ok",
     "timestamp": 1583475666020,
     "user": {
      "displayName": "Junichiro Mori",
      "photoUrl": "",
      "userId": "01008898198902510619"
     },
     "user_tz": -540
    },
    "id": "7nGro_haeex9",
    "outputId": "3d510d25-23bb-4f03-c6de-ac8b91723721"
   },
   "outputs": [],
   "source": [
    "f.readline()"
   ]
  },
  {
   "cell_type": "code",
   "execution_count": null,
   "metadata": {
    "colab": {
     "base_uri": "https://localhost:8080/",
     "height": 34
    },
    "colab_type": "code",
    "executionInfo": {
     "elapsed": 494,
     "status": "ok",
     "timestamp": 1583475668361,
     "user": {
      "displayName": "Junichiro Mori",
      "photoUrl": "",
      "userId": "01008898198902510619"
     },
     "user_tz": -540
    },
    "id": "KQ47dpEveeyA",
    "outputId": "fecb0f08-f5ea-4851-addc-8301c77529b5"
   },
   "outputs": [],
   "source": [
    "f.readline()"
   ]
  },
  {
   "cell_type": "code",
   "execution_count": null,
   "metadata": {
    "colab": {
     "base_uri": "https://localhost:8080/",
     "height": 34
    },
    "colab_type": "code",
    "executionInfo": {
     "elapsed": 501,
     "status": "ok",
     "timestamp": 1583475673249,
     "user": {
      "displayName": "Junichiro Mori",
      "photoUrl": "",
      "userId": "01008898198902510619"
     },
     "user_tz": -540
    },
    "id": "YEXXN9b8eeyD",
    "outputId": "fbea00bb-ecac-47b9-dab2-af3597acb84d"
   },
   "outputs": [],
   "source": [
    "f.readline()"
   ]
  },
  {
   "cell_type": "code",
   "execution_count": null,
   "metadata": {
    "colab": {},
    "colab_type": "code",
    "id": "TM2Qh3hoeeyG"
   },
   "outputs": [],
   "source": [
    "f.close()"
   ]
  },
  {
   "cell_type": "markdown",
   "metadata": {
    "colab_type": "text",
    "id": "-J-RzVO6eeyK"
   },
   "source": [
    "## 練習\n",
    "文字列 `name` をファイル名とするファイルの最後の行を文字列として返す関数 `last_line(name)` を定義してください。"
   ]
  },
  {
   "cell_type": "code",
   "execution_count": null,
   "metadata": {
    "colab": {},
    "colab_type": "code",
    "id": "vQ4OSIImeeyL"
   },
   "outputs": [],
   "source": [
    "def last_line(name):\n",
    "    ..."
   ]
  },
  {
   "cell_type": "markdown",
   "metadata": {
    "colab_type": "text",
    "id": "4KvENwj0eeyP"
   },
   "source": [
    "上のセルで解答を作成した後、以下のセルを実行し、実行結果が `True` になることを確認してください。"
   ]
  },
  {
   "cell_type": "code",
   "execution_count": null,
   "metadata": {
    "colab": {},
    "colab_type": "code",
    "id": "z9SsHf26eeyQ",
    "scrolled": true,
    "tags": [
     "raises-exception"
    ]
   },
   "outputs": [],
   "source": [
    "print(last_line('sample.txt')==\"Excepteur sint occaecat cupidatat non proident, sunt in culpa qui officia deserunt mollit anim id est laborum.\\n\")"
   ]
  },
  {
   "cell_type": "markdown",
   "metadata": {
    "colab_type": "text",
    "id": "IBG-v7Tzeeyc"
   },
   "source": [
    "## ファイルに対するwith文"
   ]
  },
  {
   "cell_type": "markdown",
   "metadata": {
    "colab_type": "text",
    "id": "8q6A1Y-4eeyd"
   },
   "source": [
    "ファイルのオブジェクトは、with文に指定することができます。\n",
    "\n",
    "---\n",
    "```Python\n",
    "with ファイルオブジェクト as 変数:\n",
    "    ...\n",
    "\n",
    "```\n",
    "---\n",
    "\n",
    "**`with`** の次には、`open` によってファイルをオープンする式を書きます。\n",
    "\n",
    "また、**`as`** の次には、ファイルのオブジェクトが格納される変数を書きます。\n",
    "\n",
    "with文は処理後にファイルのクローズを自動的にやってくれますので、\n",
    "ファイルに対して `close()` を呼び出す必要がありません。"
   ]
  },
  {
   "cell_type": "code",
   "execution_count": null,
   "metadata": {
    "colab": {
     "base_uri": "https://localhost:8080/",
     "height": 104
    },
    "colab_type": "code",
    "executionInfo": {
     "elapsed": 454,
     "status": "ok",
     "timestamp": 1583475940630,
     "user": {
      "displayName": "Junichiro Mori",
      "photoUrl": "",
      "userId": "01008898198902510619"
     },
     "user_tz": -540
    },
    "id": "Uaq-oQkpeeyf",
    "outputId": "60a019a3-debd-46e2-ce30-5a977cc705a8"
   },
   "outputs": [],
   "source": [
    "with open('sample.txt', 'r') as f:\n",
    "    print(f.read())"
   ]
  },
  {
   "cell_type": "markdown",
   "metadata": {
    "colab_type": "text",
    "id": "8kMGhhRzeeyh"
   },
   "source": [
    "## ファイルへの書き込み\n",
    "\n",
    "ファイルへの書き込みは、`print`関数を使って行えます。\n",
    "`file`引数に書き込み先のファイルオブジェクトを指定します。\n",
    "`file`引数は 3.3 で説明されているキーワード引数ですので、\n",
    "以下のように `file=...` という形で指定します。"
   ]
  },
  {
   "cell_type": "code",
   "execution_count": null,
   "metadata": {
    "colab": {},
    "colab_type": "code",
    "id": "qosNpMVieeyi"
   },
   "outputs": [],
   "source": [
    "with open('print-test.txt', 'w') as f:\n",
    "    print('hello\\nworld', file=f)"
   ]
  },
  {
   "cell_type": "code",
   "execution_count": null,
   "metadata": {
    "colab": {
     "base_uri": "https://localhost:8080/",
     "height": 50
    },
    "colab_type": "code",
    "executionInfo": {
     "elapsed": 1597,
     "status": "ok",
     "timestamp": 1583476173206,
     "user": {
      "displayName": "Junichiro Mori",
      "photoUrl": "",
      "userId": "01008898198902510619"
     },
     "user_tz": -540
    },
    "id": "E2xcQydWh_kk",
    "outputId": "9f095151-875a-4b07-c201-431e11050994"
   },
   "outputs": [],
   "source": [
    "!cat print-test.txt"
   ]
  },
  {
   "cell_type": "markdown",
   "metadata": {
    "colab_type": "text",
    "id": "zS62s1Fseeyl"
   },
   "source": [
    "文字列の中の `\\n` は改行文字を表します。`\\n` は**エスケープシーケンス**（2-1に説明があります）の一種です。\n",
    "エスケープシーケンスには、この他に、復帰文字を表す `\\r` やタブを表す `\\t` などがあります。\n",
    "\n",
    "ファイルの読み書きのモードとしては、**書き込みモード**を意味する `'w'` を指定しています。既に同じ名前のファイルが存在する場合は上書きされます（以前の内容はなくなります）。ファイルがない場合は、新たに作成されます。\n",
    "\n",
    "`'a'` を指定すると、ファイルが存在する場合、既存の内容の後に追記されます。ファイルがない場合は、新たに作成されます。\n",
    "\n",
    "`print`関数は、デフォルトで、与えられた文字列の末尾に改行文字を加えて印字します。\n",
    "末尾に加える文字は、`end`引数で指定できます。"
   ]
  },
  {
   "cell_type": "code",
   "execution_count": null,
   "metadata": {
    "colab": {},
    "colab_type": "code",
    "id": "lvnFcFpPeeyl"
   },
   "outputs": [],
   "source": [
    "with open('print-test.txt', 'a') as f:\n",
    "    print('hello', 'world\\n', end='', file=f) # 改行文字を加えない"
   ]
  },
  {
   "cell_type": "code",
   "execution_count": null,
   "metadata": {
    "colab": {
     "base_uri": "https://localhost:8080/",
     "height": 67
    },
    "colab_type": "code",
    "executionInfo": {
     "elapsed": 1458,
     "status": "ok",
     "timestamp": 1583476176934,
     "user": {
      "displayName": "Junichiro Mori",
      "photoUrl": "",
      "userId": "01008898198902510619"
     },
     "user_tz": -540
    },
    "id": "sxzXsN6giC0s",
    "outputId": "706b2b13-5d92-46ba-dc60-39d56602de85"
   },
   "outputs": [],
   "source": [
    "!cat print-test.txt"
   ]
  },
  {
   "cell_type": "markdown",
   "metadata": {
    "colab_type": "text",
    "id": "1n-jLm5teeyn"
   },
   "source": [
    "また、複数の印字対象を渡すと、デフォルトで、空白文字で区切って印字します。\n",
    "この区切り文字は、`sep`引数で指定できます。"
   ]
  },
  {
   "cell_type": "code",
   "execution_count": null,
   "metadata": {
    "colab": {},
    "colab_type": "code",
    "id": "6XoI2gaJeeyo"
   },
   "outputs": [],
   "source": [
    "with open('print-test.txt', 'a') as f:\n",
    "    print('hello', 'world', sep=', ', file=f) # 'hello, world'が印字される"
   ]
  },
  {
   "cell_type": "code",
   "execution_count": null,
   "metadata": {
    "colab": {
     "base_uri": "https://localhost:8080/",
     "height": 84
    },
    "colab_type": "code",
    "executionInfo": {
     "elapsed": 1811,
     "status": "ok",
     "timestamp": 1583476196606,
     "user": {
      "displayName": "Junichiro Mori",
      "photoUrl": "",
      "userId": "01008898198902510619"
     },
     "user_tz": -540
    },
    "id": "qYP_XJS-iIyJ",
    "outputId": "c99cf8e2-bf15-4225-d769-cbe353bc7f42"
   },
   "outputs": [],
   "source": [
    "!cat print-test.txt"
   ]
  },
  {
   "cell_type": "markdown",
   "metadata": {
    "colab_type": "text",
    "id": "25SV1inbeeyr"
   },
   "source": [
    "この他にも、ファイルオブジェクトには、低水準の書き込み用メソッドが用意されています。\n",
    "**`write()`**メソッドは、与えられた1つの文字列を単に書き込みます。\n",
    "次に示すように、`write()`メソッドと`read()`メソッドは、対で使うことが良くあります。"
   ]
  },
  {
   "cell_type": "code",
   "execution_count": null,
   "metadata": {
    "colab": {},
    "colab_type": "code",
    "id": "qfJixTz4eeys"
   },
   "outputs": [],
   "source": [
    "with open('sample.txt') as src, open('sample.txt.bak', 'w') as dst:\n",
    "    dst.write(src.read())"
   ]
  },
  {
   "cell_type": "markdown",
   "metadata": {
    "colab_type": "text",
    "id": "8557jZaieeyv"
   },
   "source": [
    "このコードは、`sample.txt`を`sample.txt.bak`にコピーします。"
   ]
  },
  {
   "cell_type": "code",
   "execution_count": null,
   "metadata": {
    "colab": {
     "base_uri": "https://localhost:8080/",
     "height": 34
    },
    "colab_type": "code",
    "executionInfo": {
     "elapsed": 1590,
     "status": "ok",
     "timestamp": 1583476221947,
     "user": {
      "displayName": "Junichiro Mori",
      "photoUrl": "",
      "userId": "01008898198902510619"
     },
     "user_tz": -540
    },
    "id": "MZzMgKjzh4Wc",
    "outputId": "2c1d0c17-a2d4-4787-c7c6-0f2f1c66606c"
   },
   "outputs": [],
   "source": [
    "!ls"
   ]
  },
  {
   "cell_type": "markdown",
   "metadata": {
    "colab_type": "text",
    "id": "8NAv91d_eeyw"
   },
   "source": [
    "## 練習\n",
    "\n",
    "二つのファイル名 `infile`, `outfile` を引数として、`infile` の半角英文字をすべて大文字にした結果を `outfile` に書き込む `file_upper(infile, outfile)` という関数を作成してください。   \n",
    "\n",
    "なお、半角英文字の小文字を大文字に変換するには`.upper()`というメソッドが使えます。\n",
    "たとえば`line`という名前の変数に半角文字列が入っている場合、`line.upper()`とすれば小文字に変換した文字列を返します。"
   ]
  },
  {
   "cell_type": "code",
   "execution_count": null,
   "metadata": {
    "colab": {},
    "colab_type": "code",
    "id": "H1ajKV1Xeeyw"
   },
   "outputs": [],
   "source": [
    "def file_upper(infile,outfile):\n",
    "    ..."
   ]
  },
  {
   "cell_type": "markdown",
   "metadata": {
    "colab_type": "text",
    "id": "aAWUb7qReeyz"
   },
   "source": [
    "上のセルで解答を作成した後、以下のセルを実行し、実行結果が `True` になることを確認してください。"
   ]
  },
  {
   "cell_type": "code",
   "execution_count": null,
   "metadata": {
    "colab": {},
    "colab_type": "code",
    "id": "Q29pZCh5eey0",
    "tags": [
     "raises-exception"
    ]
   },
   "outputs": [],
   "source": [
    "with open('print-test.txt', 'w') as f:\n",
    "    print('hello', 'world', file=f)\n",
    "file_upper('print-test.txt', 'print-test-upper.txt')\n",
    "with open('print-test-upper.txt', 'r') as f:\n",
    "    print(f.read() == 'HELLO WORLD\\n')"
   ]
  },
  {
   "cell_type": "markdown",
   "metadata": {
    "colab_type": "text",
    "id": "uKXb_FHdeey3"
   },
   "source": [
    "## ファイルの読み書きにおける文字コード指定\n",
    "\n",
    "`open`でファイルを開くと、通常そのファイルをテキストモードで開きます（テキストモード以外にバイナリモードもあります）。\n",
    "\n",
    "テキストモードでファイルを開くときは、さらに特定の**文字コード**によってそのファイルを開こうとします。\n",
    "文字コードを指定しないと、デフォルトの文字コードでそのファイルを開こうとしますが、\n",
    "この文字コードがファイルを書き込む際に指定したものと異なる場合、エラーが出たり文字化けしてしまいます。\n",
    "\n",
    "デフォルトの文字コードは、WindowsはShift-JIS、MacOSやLinuxはUTF-8になっていることが多いです。\n",
    "UTF-8で文字を記録されたファイルをWindowsで、ただ``open('utf-8.txt', 'w')``のように文字コードを指定せずに開くとエラーが出ます。\n",
    "同じく、Shift-JISで文字を記録されたファイルをMacOSで``open('shift-jis.txt', 'w')``として開くとエラーが出ます。   \n",
    "\n",
    "なお、この教材の冒頭で`open('sample.txt', 'r')`と、文字コードを指定せずにファイルを開きましたがエラーは出ませんでしたね。\n",
    "これは、`sample.txt`では半角英数字しか使われておらず、半角英数字に関しては、シフトJISもUTF-8も共通のルールでエンコードされているためです。\n"
   ]
  },
  {
   "cell_type": "code",
   "execution_count": null,
   "metadata": {
    "colab": {
     "base_uri": "https://localhost:8080/",
     "height": 386
    },
    "colab_type": "code",
    "executionInfo": {
     "elapsed": 2799,
     "status": "ok",
     "timestamp": 1583476426673,
     "user": {
      "displayName": "Junichiro Mori",
      "photoUrl": "",
      "userId": "01008898198902510619"
     },
     "user_tz": -540
    },
    "id": "BD6Kl96rjBWO",
    "outputId": "b7c6cd3e-4e53-4737-ba74-301ed2d56069"
   },
   "outputs": [],
   "source": [
    "!wget https://raw.githubusercontent.com/UTokyo-IPP/utpython/master/4/shift-jis.txt\n",
    "!wget https://raw.githubusercontent.com/UTokyo-IPP/utpython/master/4/utf-8.txt"
   ]
  },
  {
   "cell_type": "code",
   "execution_count": null,
   "metadata": {
    "colab": {
     "base_uri": "https://localhost:8080/",
     "height": 351
    },
    "colab_type": "code",
    "executionInfo": {
     "elapsed": 468,
     "status": "error",
     "timestamp": 1583476429559,
     "user": {
      "displayName": "Junichiro Mori",
      "photoUrl": "",
      "userId": "01008898198902510619"
     },
     "user_tz": -540
    },
    "id": "nTASttiSeey4",
    "outputId": "f63fa251-9f56-492b-dde8-dba0756f3394",
    "tags": [
     "raises-exception"
    ]
   },
   "outputs": [],
   "source": [
    "# MacOSならこちらでエラー\n",
    "with open('shift-jis.txt', 'r') as f:\n",
    "    print(f.read())\n",
    "\n",
    "# Windowsならこちらでエラー\n",
    "with open('utf-8.txt', 'r') as f:\n",
    "    print(f.read())"
   ]
  },
  {
   "cell_type": "markdown",
   "metadata": {
    "colab_type": "text",
    "id": "SsE_-TJbeey7"
   },
   "source": [
    "特に半角英数以外の文字を記録する際は文字コードを指定すること、またそのようなファイルを開くときは、記録するときに指定した文字コードでファイルを開いてください。\n",
    "\n",
    "文字コードは、`open` のキーワード引数として\n",
    "`encoding='utf-8'`（文字コードにUTF-8を指定する場合）のように指定することができます。 \n",
    "\n",
    "なお、日本語の文字コードには `UTF-8`, `Shift-JIS`, `EUC-JP` などがありますが、PythonではOSの種類に限らず、UTF-8という文字コードがよくつかわれます。本授業でもUTF-8を推奨します。"
   ]
  },
  {
   "cell_type": "code",
   "execution_count": null,
   "metadata": {
    "colab": {
     "base_uri": "https://localhost:8080/",
     "height": 67
    },
    "colab_type": "code",
    "executionInfo": {
     "elapsed": 480,
     "status": "ok",
     "timestamp": 1583476452291,
     "user": {
      "displayName": "Junichiro Mori",
      "photoUrl": "",
      "userId": "01008898198902510619"
     },
     "user_tz": -540
    },
    "id": "9BDoD1o4eey8",
    "outputId": "17971c7c-a6e7-4295-92a7-b563ca2040ad",
    "tags": [
     "raises-exception"
    ]
   },
   "outputs": [],
   "source": [
    "# 文字コードを指定しないとMacOSならこちらでエラー\n",
    "with open('shift-jis.txt', 'r', encoding='shift-jis') as f:\n",
    "    print(f.read())\n",
    "\n",
    "# 文字コードを指定しないとWindowsならこちらでエラー\n",
    "with open('utf-8.txt', 'r', encoding='utf-8') as f:\n",
    "    print(f.read())\n",
    "\n",
    "# 文字コードを指定してファイルに書き込む場合\n",
    "with open('text.txt', 'w', encoding='utf-8') as f:\n",
    "    f.write('かきくけこ')\n",
    "with open('text.txt', 'r', encoding='utf-8') as f:\n",
    "    print(f.read())\n",
    "    "
   ]
  },
  {
   "cell_type": "markdown",
   "metadata": {
    "colab_type": "text",
    "id": "yJT-XNMQeey-"
   },
   "source": [
    "## 改行文字の削除\n",
    "\n",
    "ファイルをテキストモードで開いて `read()` や `readline()` を呼び出すと、\n",
    "`str` 型の文字列として読み込まれます。\n",
    "\n",
    "`str` 型の文字列の末尾にある改行文字が不要な場合は、\n",
    "文字列に対して **`rstrip`** というメソッドを\n",
    "`rstrip('\\n')` のようにして呼び出すことにより削除することができます。\n",
    "ここで、カッコ `()` の中にはそのテキストファイルで使われている改行文字を指定します。\n",
    "一般的に、Windowsでは`\\r\\n`、MacOSやLinuxでは`\\n`です。\n",
    "また、昔のMacOSで作られたテキストファイルは`\\r`となっているものもあります。"
   ]
  },
  {
   "cell_type": "code",
   "execution_count": null,
   "metadata": {
    "colab": {
     "base_uri": "https://localhost:8080/",
     "height": 202
    },
    "colab_type": "code",
    "executionInfo": {
     "elapsed": 1713,
     "status": "ok",
     "timestamp": 1583476587599,
     "user": {
      "displayName": "Junichiro Mori",
      "photoUrl": "",
      "userId": "01008898198902510619"
     },
     "user_tz": -540
    },
    "id": "Ew85T5fpjrVP",
    "outputId": "83de3238-16a9-4e4f-b4bd-267a4d406f3a"
   },
   "outputs": [],
   "source": [
    "!wget https://raw.githubusercontent.com/UTokyo-IPP/utpython/master/4/text/novel.txt"
   ]
  },
  {
   "cell_type": "code",
   "execution_count": null,
   "metadata": {
    "colab": {
     "base_uri": "https://localhost:8080/",
     "height": 205
    },
    "colab_type": "code",
    "executionInfo": {
     "elapsed": 475,
     "status": "ok",
     "timestamp": 1583476593180,
     "user": {
      "displayName": "Junichiro Mori",
      "photoUrl": "",
      "userId": "01008898198902510619"
     },
     "user_tz": -540
    },
    "id": "hctePQyFeey_",
    "outputId": "d57c6723-8e63-4ef1-af0c-0360a4c0b71b"
   },
   "outputs": [],
   "source": [
    "with open('novel.txt', 'r', encoding='utf-8') as f:\n",
    "    while True:\n",
    "        line = f.readline()\n",
    "        if line == '':\n",
    "            break\n",
    "        print(line)\n",
    "\n",
    "print('------ 末尾の改行文字を削除すると以下のようになります-------')\n",
    "with open('novel.txt', 'r', encoding='utf-8') as f:\n",
    "    while True:\n",
    "        line = f.readline()\n",
    "        if line == '':\n",
    "            break\n",
    "        print(line.rstrip('\\n'))"
   ]
  },
  {
   "cell_type": "markdown",
   "metadata": {
    "colab_type": "text",
    "id": "UaBCu31FeezB"
   },
   "source": [
    "## 練習の解答"
   ]
  },
  {
   "cell_type": "code",
   "execution_count": null,
   "metadata": {
    "colab": {},
    "colab_type": "code",
    "id": "yb9w4ExheezC"
   },
   "outputs": [],
   "source": [
    "def  number_of_characters(name):\n",
    "    f = open(name, 'r')\n",
    "    s = f.read()\n",
    "    f.close()\n",
    "    return len(s)"
   ]
  },
  {
   "cell_type": "code",
   "execution_count": null,
   "metadata": {
    "colab": {},
    "colab_type": "code",
    "id": "Fy8qJ0XIeezE"
   },
   "outputs": [],
   "source": [
    "def last_line(name):\n",
    "    last = ''\n",
    "    with open(name, 'r') as f:\n",
    "        while True:\n",
    "            line = f.readline()\n",
    "            if line == '':\n",
    "                return last\n",
    "            last = line"
   ]
  },
  {
   "cell_type": "code",
   "execution_count": null,
   "metadata": {
    "colab": {},
    "colab_type": "code",
    "id": "0n8UmWaseezH"
   },
   "outputs": [],
   "source": [
    "def file_upper(infile,outfile):\n",
    "    with open(infile, 'r') as f:\n",
    "        with open(outfile, 'w') as g:\n",
    "            g.write(f.read().upper())"
   ]
  },
  {
   "cell_type": "markdown",
   "metadata": {
    "colab_type": "text",
    "id": "6RsCshCHeezJ"
   },
   "source": [
    "以下のように一つのwith文に複数の `open` を書くこともできます。"
   ]
  },
  {
   "cell_type": "code",
   "execution_count": null,
   "metadata": {
    "colab": {},
    "colab_type": "code",
    "id": "pED0KBYReezK"
   },
   "outputs": [],
   "source": [
    "def file_upper(infile,outfile):\n",
    "    with open(infile, 'r') as f, open(outfile, 'w') as g:\n",
    "        g.write(f.read().upper())"
   ]
  },
  {
   "cell_type": "code",
   "execution_count": null,
   "metadata": {
    "colab": {},
    "colab_type": "code",
    "id": "0ZFNLGVUeezM"
   },
   "outputs": [],
   "source": []
  }
 ],
 "metadata": {
  "colab": {
   "collapsed_sections": [
    "8NAv91d_eeyw"
   ],
   "name": "4-1.ipynb",
   "provenance": [],
   "toc_visible": true
  },
  "kernelspec": {
   "display_name": "Python 3",
   "language": "python",
   "name": "python3"
  },
  "language_info": {
   "codemirror_mode": {
    "name": "ipython",
    "version": 3
   },
   "file_extension": ".py",
   "mimetype": "text/x-python",
   "name": "python",
   "nbconvert_exporter": "python",
   "pygments_lexer": "ipython3",
   "version": "3.7.3"
  }
 },
 "nbformat": 4,
 "nbformat_minor": 1
}
